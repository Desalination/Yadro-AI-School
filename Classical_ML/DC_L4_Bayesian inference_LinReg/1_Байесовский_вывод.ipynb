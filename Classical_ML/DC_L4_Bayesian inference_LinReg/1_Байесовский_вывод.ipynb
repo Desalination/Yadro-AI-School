{
  "nbformat": 4,
  "nbformat_minor": 0,
  "metadata": {
    "colab": {
      "provenance": []
    },
    "kernelspec": {
      "name": "python3",
      "display_name": "Python 3"
    },
    "language_info": {
      "name": "python"
    }
  },
  "cells": [
    {
      "cell_type": "markdown",
      "source": [
        "# Задача 1"
      ],
      "metadata": {
        "id": "vDjH5VgLMPCa"
      }
    },
    {
      "cell_type": "markdown",
      "source": [
        "Пусть $X_1, X_2, \\ldots, X_n$ — выборка из экспоненциального распределения с параметром $\\lambda$. Найти оценку максимального правдоподобия параметра $\\lambda$, сравнить ее с байесовской оценкой (MAP и математическое ожидание апостреорного распределения), подобрав сопряженное распределение. Сравнить полученные байесовские оценки с оценкой MLE. Найти предсказательное распределение"
      ],
      "metadata": {
        "id": "y8T7M9eQMRRn"
      }
    },
    {
      "cell_type": "markdown",
      "source": [
        "#Решение:"
      ],
      "metadata": {
        "id": "HbiCwjoivIT6"
      }
    },
    {
      "cell_type": "markdown",
      "source": [
        "##МLE\n",
        "$$\n",
        "MLE(Exp) = ∏\\limits_{i=1}^n λ e^{-λ x_i} = λ^n e^{-λ \\sum\\limits_{i=1}^n x_i}\n",
        "$$\n",
        "\n",
        "$$\n",
        "ln(MLE(Exp)) = n\\ln(λ) - λ \\sum\\limits_{i=1}^n x_i\n",
        "$$\n",
        "\n",
        "$$\n",
        "\\frac{\\partial \\ ln(MLE(Exp))}{\\partial \\lambda} = \\frac{n}{\\lambda} - \\sum\\limits_{i=1}^n x_i = 0 => λ = \\frac{n}{\\sum\\limits_{i=1}^n x_i} = \\frac{1}{\\bar{x}}\n",
        "$$"
      ],
      "metadata": {
        "id": "KsjaZTr9LJME"
      }
    },
    {
      "cell_type": "markdown",
      "source": [
        "##MAP\n",
        "\n",
        "Сопряженным распределением для экспоненциального распределения является Гамма распределение.\n",
        "\n",
        "\\\n",
        "###Апостериорное распределение:\n",
        "$$\n",
        "p(λ|D) = \\frac{p(λ)p(D|λ)}{p(D)} = \\frac{Gamma(λ, k, θ)  ∏\\limits_{i=1}^n λ e^{-λ x_i}}{∫\\limits_0^∞ Gamma(λ, k, θ)  ∏\\limits_{i=1}^n λ e^{-λ x_i} \\ dλ} = \\frac{ \\frac{ \\theta^k λ^{k-1} e^{-λ\\theta} } {Г(k)} λ^n e^{-λ \\sum\\limits_{i=1}^n x_i}} {∫\\limits_0^∞  \\frac{ \\theta^k λ^{k-1} e^{-λ \\theta}} {Г(k)} λ^n e^{-λ \\sum\\limits_{i=1}^n x_i} \\ dλ} = \\frac{λ^{n + k-1} e^{-λ ( \\theta + \\sum\\limits_{i=1}^n x_i)} } { ∫\\limits_0^∞ λ^{n + k-1} e^{-λ ( \\theta + \\sum\\limits_{i=1}^n x_i)} \\ dλ}\n",
        "$$\n",
        "\n",
        "Сделаем замены в интеграле $ n + k-1 = l,\\ \\theta + \\sum\\limits_{i=1}^n x_i = m,\\ \\lambda m = t,\\ dλ = dt/m$:\n",
        "\n",
        "$$\n",
        "∫\\limits_0^∞ λ^{n + k-1} e^{-λ ( \\theta + \\sum\\limits_{i=1}^n x_i)} \\ dλ = ∫\\limits_0^∞ λ^{l} e^{-λ m} \\ dλ = \\frac{1}{m^{l+1}} ∫\\limits_0^∞ t^l e^{-t} \\ dt = \\frac{Г(l+1)}{m^{l+1}} = \\frac{Г(n + k)}{(\\theta + \\sum\\limits_{i=1}^n x_i)^{n+k}}\n",
        "$$\n",
        "\n",
        "Получаем:\n",
        "$$\n",
        "p(λ|D) = \\frac{(\\theta + \\sum\\limits_{i=1}^n x_i)^{n+k} λ^{n + k-1} e^{-λ ( \\theta + \\sum\\limits_{i=1}^n x_i)} }{Г(n + k)} = Gamma(n+k, \\theta + \\sum\\limits_{i=1}^n x_i)\n",
        "$$\n",
        "\n",
        "\n",
        "###Матожидание Гамма-распределения:\n",
        "$$\n",
        "E_{p(λ|D)}(λ) = \\frac{n+k}{\\theta + \\sum\\limits_{i=1}^n x_i}\n",
        "$$\n",
        "\n",
        "###Предсказательное распределение:\n",
        "$$\n",
        "p(y|D) = \\int \\limits_0^∞ p(y|\\lambda)p(\\lambda|D) \\ d\\lambda = \\int \\limits_0^∞ \\lambda e^{-\\lambda y} \\ Gamma(n+k, \\theta + \\sum\\limits_{i=1}^n x_i) \\ d\\lambda = \\frac{( \\theta + \\sum\\limits_{i=1}^n x_i)^{n+k}}{Г(n+k)} ∫\\limits_0^∞ \\lambda^{n+k} e^{-\\lambda(\\theta + \\sum\\limits_{i=1}^n x_i + y)}  = \\frac{( \\theta + \\sum\\limits_{i=1}^n x_i)^{n+k}}{Г(n+k)}  \\frac{Г(n+k+1)}{(\\theta + \\sum\\limits_{i=1}^n x_i + y)^{n+k+1}} = \\frac{1}{\\theta + \\sum\\limits_{i=1}^n x_i + y} \\frac{Г(n+k+1)}{Г(n+k)} = \\frac{1}{\\theta + \\sum\\limits_{i=1}^n x_i + y} \\frac{(n+k) Г(n+k)}{Г(n+k)} = \\frac{n+k}{\\theta + \\sum\\limits_{i=1}^n x_i + y}\n",
        "$$"
      ],
      "metadata": {
        "id": "3aH1HtyeODxi"
      }
    },
    {
      "cell_type": "markdown",
      "source": [
        "# Задача 2"
      ],
      "metadata": {
        "id": "5WBXJuchMhzE"
      }
    },
    {
      "cell_type": "markdown",
      "source": [
        "**Мультиномиальное распределение**\n",
        "\n",
        "Пусть проводится серия из $n$ испытаний и в результате каждого испытания происходит ровно одно событие из набора $A_1, A_2, \\dots, A_m$, причем вероятности этих событий равны соответственно $\\mathsf{p}_1, \\mathsf{p}_2, \\dots, \\mathsf{p}_m$, причем\n",
        "$$\\sum_{i=1}^{m}\\mathsf{p}_i = 1.$$\n",
        "\n",
        "Тогда совместное распределение величин $X_1, X_2, \\dots, X_m$, где $X_k$ — число наступлений события $A_k$ в серии из $n$ испытаний, задается вероятностями\n",
        "\n",
        "$$\n",
        "\\mathsf{P}\\left(X_1 = n_1, \\dots, X_m = n_m, \\right) = \\frac{n!}{n_1!\\dots n_m!}\\mathsf{p}_1^{n_1}\\dots \\mathsf{p}_m^{n_m},\n",
        "$$\n",
        "\n",
        "где $n_1, n_2, \\dots, n_m$ — произвольный набор целых неотрицательных чисел, таких что\n",
        "\n",
        "$$\\sum_{i=1}^m n_i = n.$$"
      ],
      "metadata": {
        "id": "uYWArd6bMjkD"
      }
    },
    {
      "cell_type": "markdown",
      "source": [
        "Произведите байесовский вывод для мультиномиального распределения: найдите апостериорное распределение, используя в качестве сопоряженного распределения к правдоподобию [распределение Дирихле](https://ru.wikipedia.org/wiki/%D0%A0%D0%B0%D1%81%D0%BF%D1%80%D0%B5%D0%B4%D0%B5%D0%BB%D0%B5%D0%BD%D0%B8%D0%B5_%D0%94%D0%B8%D1%80%D0%B8%D1%85%D0%BB%D0%B5), найдите предсказательное распределение. Объясните результат."
      ],
      "metadata": {
        "id": "yOvNMoSHMrWR"
      }
    },
    {
      "cell_type": "markdown",
      "source": [
        "#Решение:\n",
        "###Апостериорное распределение:\n",
        "$$\n",
        "p( \\vec{\\theta} |D) = \\frac{p( \\vec{\\theta} ) p(D| \\vec{\\theta} )} {p(D)} =\\frac{∏\\limits_{i=1}^m \\theta_i^{a_i-1} \\frac{n!}{n_1! n_2!...n_m!} \\theta_1^{n_1} \\theta_2^{n_2} ... \\theta_m^{n_m}} { \\int \\limits_0^1 \\int \\limits_0^{1-\\theta_1} \\int \\limits_0^{1-\\theta_1...- \\theta_{m-1} }  ∏\\limits_{i=1}^m \\theta_i^{a_i-1} \\frac{n!}{n_1! n_2!...n_m!} \\theta_1^{n_1} \\theta_2^{n_2} ... \\theta_m^{n_m} d\\theta_1 d\\theta_2...d\\theta_m } = \\frac{ ∏\\limits_{i=1}^m \\theta_i^{a_i+x_i-1} }{B(\\vec{a}+\\vec{x})} = Dir(\\vec{a}+\\vec{x})\n",
        "$$\n",
        "###Матожидание - точечная оценка:\n",
        "$$\n",
        "E_{p( \\vec{\\theta} |D)}( \\vec{\\theta} ) = \\frac{\\vec{a} + \\vec{x}}{∑\\limits_{i=1}^m a_i + x_i}\n",
        "$$\n",
        "\n",
        "###Предсказательное распределение:\n",
        "$$\n",
        "p(\\tilde{X}|D) = \\int \\limits_\\vec{\\theta} p(\\tilde{X} | \\vec{\\theta})p( \\vec{\\theta} |D) \\ d\\vec{\\theta} = \\int\\limits_\\vec{\\theta} \\frac{t!}{t_1! t_2!...t_m!} \\theta_1^{t_1} \\theta_2^{t_2} ... \\theta_m^{t_m} \\ \\frac{ ∏\\limits_{i=1}^m \\theta_i^{a_i+x_i-1}}{B(\\vec{a}+\\vec{x})} \\ d\\vec{\\theta} = \\frac{t!}{t_1! t_2!...t_m! B(\\vec{a}+\\vec{x})} \\int\\limits_\\vec{\\theta} ∏\\limits_{i=1}^m \\theta_i^{a_i+x_i + t_i - 1} d\\vec{\\theta} = \\frac{t!}{t_1! t_2!...t_m! } \\frac {B(\\vec{a}+\\vec{x} + \\vec{t})} {B(\\vec{a}+\\vec{x})}  \n",
        "$$\n"
      ],
      "metadata": {
        "id": "ODCTS3WNTuIY"
      }
    }
  ]
}