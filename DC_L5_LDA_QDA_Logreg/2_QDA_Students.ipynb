{
  "nbformat": 4,
  "nbformat_minor": 0,
  "metadata": {
    "colab": {
      "provenance": []
    },
    "kernelspec": {
      "name": "python3",
      "display_name": "Python 3"
    },
    "language_info": {
      "name": "python"
    },
    "widgets": {
      "application/vnd.jupyter.widget-state+json": {
        "1d26b158434349a3890769dbd03bacac": {
          "model_module": "@jupyter-widgets/controls",
          "model_name": "HBoxModel",
          "model_module_version": "1.5.0",
          "state": {
            "_dom_classes": [],
            "_model_module": "@jupyter-widgets/controls",
            "_model_module_version": "1.5.0",
            "_model_name": "HBoxModel",
            "_view_count": null,
            "_view_module": "@jupyter-widgets/controls",
            "_view_module_version": "1.5.0",
            "_view_name": "HBoxView",
            "box_style": "",
            "children": [
              "IPY_MODEL_67b253220a354c40b66d373754156932",
              "IPY_MODEL_50b097d851b84d6fbae83df0ef490896",
              "IPY_MODEL_770f52cdfda14e7991ee75e86b858a2e"
            ],
            "layout": "IPY_MODEL_a0b9101fc5d042e9be4c0b4f5c2b6f4d"
          }
        },
        "67b253220a354c40b66d373754156932": {
          "model_module": "@jupyter-widgets/controls",
          "model_name": "HTMLModel",
          "model_module_version": "1.5.0",
          "state": {
            "_dom_classes": [],
            "_model_module": "@jupyter-widgets/controls",
            "_model_module_version": "1.5.0",
            "_model_name": "HTMLModel",
            "_view_count": null,
            "_view_module": "@jupyter-widgets/controls",
            "_view_module_version": "1.5.0",
            "_view_name": "HTMLView",
            "description": "",
            "description_tooltip": null,
            "layout": "IPY_MODEL_fdf463eec53043aebb933c7c201e9fa3",
            "placeholder": "​",
            "style": "IPY_MODEL_4993fdd1e50c4d248611371caaeaa123",
            "value": "100%"
          }
        },
        "50b097d851b84d6fbae83df0ef490896": {
          "model_module": "@jupyter-widgets/controls",
          "model_name": "FloatProgressModel",
          "model_module_version": "1.5.0",
          "state": {
            "_dom_classes": [],
            "_model_module": "@jupyter-widgets/controls",
            "_model_module_version": "1.5.0",
            "_model_name": "FloatProgressModel",
            "_view_count": null,
            "_view_module": "@jupyter-widgets/controls",
            "_view_module_version": "1.5.0",
            "_view_name": "ProgressView",
            "bar_style": "success",
            "description": "",
            "description_tooltip": null,
            "layout": "IPY_MODEL_d13345d95c194e0ca2a67d00e628fe62",
            "max": 200,
            "min": 0,
            "orientation": "horizontal",
            "style": "IPY_MODEL_8f5f35a91f34438cb716ced8c35e4f24",
            "value": 200
          }
        },
        "770f52cdfda14e7991ee75e86b858a2e": {
          "model_module": "@jupyter-widgets/controls",
          "model_name": "HTMLModel",
          "model_module_version": "1.5.0",
          "state": {
            "_dom_classes": [],
            "_model_module": "@jupyter-widgets/controls",
            "_model_module_version": "1.5.0",
            "_model_name": "HTMLModel",
            "_view_count": null,
            "_view_module": "@jupyter-widgets/controls",
            "_view_module_version": "1.5.0",
            "_view_name": "HTMLView",
            "description": "",
            "description_tooltip": null,
            "layout": "IPY_MODEL_48c9e42fa4294b0bb49c929b782adbac",
            "placeholder": "​",
            "style": "IPY_MODEL_580eb467e0e54dbf91a6eaad52a12575",
            "value": " 200/200 [00:05&lt;00:00, 28.35it/s]"
          }
        },
        "a0b9101fc5d042e9be4c0b4f5c2b6f4d": {
          "model_module": "@jupyter-widgets/base",
          "model_name": "LayoutModel",
          "model_module_version": "1.2.0",
          "state": {
            "_model_module": "@jupyter-widgets/base",
            "_model_module_version": "1.2.0",
            "_model_name": "LayoutModel",
            "_view_count": null,
            "_view_module": "@jupyter-widgets/base",
            "_view_module_version": "1.2.0",
            "_view_name": "LayoutView",
            "align_content": null,
            "align_items": null,
            "align_self": null,
            "border": null,
            "bottom": null,
            "display": null,
            "flex": null,
            "flex_flow": null,
            "grid_area": null,
            "grid_auto_columns": null,
            "grid_auto_flow": null,
            "grid_auto_rows": null,
            "grid_column": null,
            "grid_gap": null,
            "grid_row": null,
            "grid_template_areas": null,
            "grid_template_columns": null,
            "grid_template_rows": null,
            "height": null,
            "justify_content": null,
            "justify_items": null,
            "left": null,
            "margin": null,
            "max_height": null,
            "max_width": null,
            "min_height": null,
            "min_width": null,
            "object_fit": null,
            "object_position": null,
            "order": null,
            "overflow": null,
            "overflow_x": null,
            "overflow_y": null,
            "padding": null,
            "right": null,
            "top": null,
            "visibility": null,
            "width": null
          }
        },
        "fdf463eec53043aebb933c7c201e9fa3": {
          "model_module": "@jupyter-widgets/base",
          "model_name": "LayoutModel",
          "model_module_version": "1.2.0",
          "state": {
            "_model_module": "@jupyter-widgets/base",
            "_model_module_version": "1.2.0",
            "_model_name": "LayoutModel",
            "_view_count": null,
            "_view_module": "@jupyter-widgets/base",
            "_view_module_version": "1.2.0",
            "_view_name": "LayoutView",
            "align_content": null,
            "align_items": null,
            "align_self": null,
            "border": null,
            "bottom": null,
            "display": null,
            "flex": null,
            "flex_flow": null,
            "grid_area": null,
            "grid_auto_columns": null,
            "grid_auto_flow": null,
            "grid_auto_rows": null,
            "grid_column": null,
            "grid_gap": null,
            "grid_row": null,
            "grid_template_areas": null,
            "grid_template_columns": null,
            "grid_template_rows": null,
            "height": null,
            "justify_content": null,
            "justify_items": null,
            "left": null,
            "margin": null,
            "max_height": null,
            "max_width": null,
            "min_height": null,
            "min_width": null,
            "object_fit": null,
            "object_position": null,
            "order": null,
            "overflow": null,
            "overflow_x": null,
            "overflow_y": null,
            "padding": null,
            "right": null,
            "top": null,
            "visibility": null,
            "width": null
          }
        },
        "4993fdd1e50c4d248611371caaeaa123": {
          "model_module": "@jupyter-widgets/controls",
          "model_name": "DescriptionStyleModel",
          "model_module_version": "1.5.0",
          "state": {
            "_model_module": "@jupyter-widgets/controls",
            "_model_module_version": "1.5.0",
            "_model_name": "DescriptionStyleModel",
            "_view_count": null,
            "_view_module": "@jupyter-widgets/base",
            "_view_module_version": "1.2.0",
            "_view_name": "StyleView",
            "description_width": ""
          }
        },
        "d13345d95c194e0ca2a67d00e628fe62": {
          "model_module": "@jupyter-widgets/base",
          "model_name": "LayoutModel",
          "model_module_version": "1.2.0",
          "state": {
            "_model_module": "@jupyter-widgets/base",
            "_model_module_version": "1.2.0",
            "_model_name": "LayoutModel",
            "_view_count": null,
            "_view_module": "@jupyter-widgets/base",
            "_view_module_version": "1.2.0",
            "_view_name": "LayoutView",
            "align_content": null,
            "align_items": null,
            "align_self": null,
            "border": null,
            "bottom": null,
            "display": null,
            "flex": null,
            "flex_flow": null,
            "grid_area": null,
            "grid_auto_columns": null,
            "grid_auto_flow": null,
            "grid_auto_rows": null,
            "grid_column": null,
            "grid_gap": null,
            "grid_row": null,
            "grid_template_areas": null,
            "grid_template_columns": null,
            "grid_template_rows": null,
            "height": null,
            "justify_content": null,
            "justify_items": null,
            "left": null,
            "margin": null,
            "max_height": null,
            "max_width": null,
            "min_height": null,
            "min_width": null,
            "object_fit": null,
            "object_position": null,
            "order": null,
            "overflow": null,
            "overflow_x": null,
            "overflow_y": null,
            "padding": null,
            "right": null,
            "top": null,
            "visibility": null,
            "width": null
          }
        },
        "8f5f35a91f34438cb716ced8c35e4f24": {
          "model_module": "@jupyter-widgets/controls",
          "model_name": "ProgressStyleModel",
          "model_module_version": "1.5.0",
          "state": {
            "_model_module": "@jupyter-widgets/controls",
            "_model_module_version": "1.5.0",
            "_model_name": "ProgressStyleModel",
            "_view_count": null,
            "_view_module": "@jupyter-widgets/base",
            "_view_module_version": "1.2.0",
            "_view_name": "StyleView",
            "bar_color": null,
            "description_width": ""
          }
        },
        "48c9e42fa4294b0bb49c929b782adbac": {
          "model_module": "@jupyter-widgets/base",
          "model_name": "LayoutModel",
          "model_module_version": "1.2.0",
          "state": {
            "_model_module": "@jupyter-widgets/base",
            "_model_module_version": "1.2.0",
            "_model_name": "LayoutModel",
            "_view_count": null,
            "_view_module": "@jupyter-widgets/base",
            "_view_module_version": "1.2.0",
            "_view_name": "LayoutView",
            "align_content": null,
            "align_items": null,
            "align_self": null,
            "border": null,
            "bottom": null,
            "display": null,
            "flex": null,
            "flex_flow": null,
            "grid_area": null,
            "grid_auto_columns": null,
            "grid_auto_flow": null,
            "grid_auto_rows": null,
            "grid_column": null,
            "grid_gap": null,
            "grid_row": null,
            "grid_template_areas": null,
            "grid_template_columns": null,
            "grid_template_rows": null,
            "height": null,
            "justify_content": null,
            "justify_items": null,
            "left": null,
            "margin": null,
            "max_height": null,
            "max_width": null,
            "min_height": null,
            "min_width": null,
            "object_fit": null,
            "object_position": null,
            "order": null,
            "overflow": null,
            "overflow_x": null,
            "overflow_y": null,
            "padding": null,
            "right": null,
            "top": null,
            "visibility": null,
            "width": null
          }
        },
        "580eb467e0e54dbf91a6eaad52a12575": {
          "model_module": "@jupyter-widgets/controls",
          "model_name": "DescriptionStyleModel",
          "model_module_version": "1.5.0",
          "state": {
            "_model_module": "@jupyter-widgets/controls",
            "_model_module_version": "1.5.0",
            "_model_name": "DescriptionStyleModel",
            "_view_count": null,
            "_view_module": "@jupyter-widgets/base",
            "_view_module_version": "1.2.0",
            "_view_name": "StyleView",
            "description_width": ""
          }
        }
      }
    }
  },
  "cells": [
    {
      "cell_type": "markdown",
      "source": [
        "# Напоминание из теории"
      ],
      "metadata": {
        "id": "TglHVX_vRc0G"
      }
    },
    {
      "cell_type": "markdown",
      "source": [
        "В случае оптимального байесовского классификатора разделяющая поверхность будет задаваться уравнением\n",
        "\n",
        "$$\n",
        "\\mathbb{P}(C_1|x) = \\mathbb{P}(C_2|x) \\Longleftrightarrow \\mathbb{P}(x|C_1)\\mathbb{P}(C_1) = \\mathbb{P}(x|C_2)\\mathbb{P}(C_2).\n",
        "$$"
      ],
      "metadata": {
        "id": "3l0f2LerRym7"
      }
    },
    {
      "cell_type": "markdown",
      "source": [
        "Теперь обсудим пример построения порождающей модели. Естественно, на основе нормального распределения или гауссианов. Пусть\n",
        "\n",
        "$$\n",
        "\\mathbb{P}(x|C_i) = \\mathbb{N}(x|\\mu_i, \\Sigma_i).\n",
        "$$\n",
        "\n",
        "Разделяющая поверхность будет иметь вид\n",
        "\n",
        "$$\n",
        "\\ln \\mathbb{P}(C_1) - \\frac{1}{2}\\ln |\\Sigma_1| - \\frac{1}{2}(x-\\mu_1)^{T}\\Sigma_1^{-1}(x-\\mu_1) = \\ln \\mathbb{P}(C_2) - \\frac{1}{2}\\ln |\\Sigma_2| - \\frac{1}{2}(x-\\mu_2)^{T}\\Sigma_2^{-1}(x-\\mu_2).\n",
        "$$\n",
        "\n",
        "Понятно, что разделяющая поверхность квадратичная. Для оценки параметров $\\mu_i$ и $\\Sigma_i$ имеет смысл использовать соответствующие выборочные характеристики (выборочное среднее и выборочная ковариационная матрица). Оценить $\\mathbb{P}(C_i)$ можно долей числа элементов соответствующего класса."
      ],
      "metadata": {
        "id": "r3TcK_9PluJF"
      }
    },
    {
      "cell_type": "markdown",
      "source": [
        "# QDA"
      ],
      "metadata": {
        "id": "0ltKde4Q1Mon"
      }
    },
    {
      "cell_type": "markdown",
      "source": [
        "Напомним выражение для резделяющей поверхности:\n",
        "\n",
        "$$\n",
        "\\ln \\mathbb{P}(C_1) - \\frac{1}{2}\\ln |\\Sigma_1| - \\frac{1}{2}(x-\\mu_1)^{T}\\Sigma_1^{-1}(x-\\mu_1) = \\ln \\mathbb{P}(C_2) - \\frac{1}{2}\\ln |\\Sigma_2| - \\frac{1}{2}(x-\\mu_2)^{T}\\Sigma_2^{-1}(x-\\mu_2).\n",
        "$$\n",
        "\n",
        "Будем называть каждую из частей уравнения **дискриминантной функцией** класса $1$ и $2$ соответственно."
      ],
      "metadata": {
        "id": "rXf_eeCm1VRx"
      }
    },
    {
      "cell_type": "code",
      "source": [
        "import numpy as np\n",
        "import matplotlib.pyplot as plt\n",
        "\n",
        "# Генерация данных\n",
        "np.random.seed(42)\n",
        "\n",
        "class_1_size = 100\n",
        "class_2_size = 100\n",
        "\n",
        "class_1 = np.random.multivariate_normal(mean=[2, 2], cov=[[1, 0.5], [0.5, 1]], size=class_1_size)\n",
        "class_2 = np.random.multivariate_normal(mean=[5, 5], cov=[[1, -0.5], [-0.5, 1]], size=class_2_size)\n",
        "\n",
        "# Объединение данных\n",
        "X = np.vstack((class_1, class_2))\n",
        "y = np.hstack((np.zeros(100), np.ones(100)))\n",
        "\n",
        "# Визуализация данных\n",
        "plt.figure(figsize=(8,8))\n",
        "plt.scatter(class_1[:, 0], class_1[:, 1], label='Class 1', c='blue', alpha=0.7)\n",
        "plt.scatter(class_2[:, 0], class_2[:, 1], label='Class 2', c='red', alpha=0.7)\n",
        "plt.legend()\n",
        "plt.title('Исходные данные двух классов')\n",
        "plt.xlabel('Признак 1')\n",
        "plt.ylabel('Признак 2')\n",
        "plt.axis('scaled')\n",
        "plt.show()"
      ],
      "metadata": {
        "colab": {
          "base_uri": "https://localhost:8080/",
          "height": 718
        },
        "id": "YxgmAGRRk7ap",
        "outputId": "db6914b8-0dad-4e1f-a240-6ca86f5b8e4f"
      },
      "execution_count": null,
      "outputs": [
        {
          "output_type": "display_data",
          "data": {
            "text/plain": [
              "<Figure size 800x800 with 1 Axes>"
            ],
            "image/png": "[encoded data removed]"
          },
          "metadata": {}
        }
      ]
    },
    {
      "cell_type": "markdown",
      "source": [
        "## Вычисление параметров модели"
      ],
      "metadata": {
        "id": "T3pHxGYQlt6h"
      }
    },
    {
      "cell_type": "code",
      "source": [
        "# Оценка среднего\n",
        "\n",
        "def get_mu(class_objects):\n",
        "  \"\"\"\n",
        "  Параметры\n",
        "  ----------\n",
        "  class_objects : {array-like} формы (n_samples, n_features)\n",
        "      Объекты одного класса, где `n_samples` — число объектов\n",
        "      и `n_features` — число признаков.\n",
        "\n",
        "  Что возвращается\n",
        "  -------\n",
        "  mu : вектор из координат центроида класса\n",
        "  \"\"\"\n",
        "  mu = np.mean(class_objects, axis=0)\n",
        "  return mu\n",
        "\n",
        "mu_1 = get_mu(class_1)\n",
        "mu_2 = get_mu(class_2)\n",
        "\n",
        "assert np.isclose(mu_1, np.array([2.08307042, 2.11709274])).all() and np.isclose(mu_2, np.array([4.91067717, 5.13281048])).all()"
      ],
      "metadata": {
        "id": "D_IjMsebmBKS"
      },
      "execution_count": null,
      "outputs": []
    },
    {
      "cell_type": "code",
      "source": [
        "# Внутриклассовая матрица ковараций\n",
        "\n",
        "def get_Sigma(class_elements, mu):\n",
        "  \"\"\"\n",
        "  Параметры\n",
        "  ----------\n",
        "  class_elements : {array-like} формы (n_samples, n_features)\n",
        "      Объекты данного класса, где `n_samples` — число объектов\n",
        "      и `n_features` — число признаков.\n",
        "  mu : {numpy.ndarray} — вектор из координат центроида данного класса\n",
        "\n",
        "  Что возвращается\n",
        "  -------\n",
        "  Sigma : матрица ковариаций данного класса\n",
        "  \"\"\"\n",
        "  Sigma = ((class_elements - mu).T @ (class_elements - mu))/len(class_elements)\n",
        "  return Sigma\n",
        "\n",
        "Sigma_1 = get_Sigma(class_1, mu_1)\n",
        "Sigma_2 = get_Sigma(class_2, mu_2)\n",
        "\n",
        "assert np.isclose(Sigma_1, np.array([[0.8150929 , 0.29751939],[0.29751939, 0.76768711]])).all() and np.isclose(Sigma_2, np.array([[ 1.08836645, -0.58617111], [-0.58617111,  0.94906895]])).all()"
      ],
      "metadata": {
        "id": "U8-dYAtjl2t6"
      },
      "execution_count": null,
      "outputs": []
    },
    {
      "cell_type": "code",
      "source": [
        "# Оценка вероятностей классов\n",
        "\n",
        "def get_prior(class_1, class_2):\n",
        "  \"\"\"\n",
        "  Параметры\n",
        "  ----------\n",
        "  class_1 : {array-like} формы (n_samples, n_features)\n",
        "      Объекты класса 1, где `n_samples` — число объектов\n",
        "      и `n_features` — число признаков.\n",
        "  class_2 : {array-like} формы (n_samples, n_features)\n",
        "      Объекты класса 2, где `n_samples` — число объектов\n",
        "      и `n_features` — число признаков.\n",
        "\n",
        "  Что возвращается\n",
        "  -------\n",
        "  (prior_1, prior_2) : кортеж, состоящий из оценок вероятностей классов 1 и 2\n",
        "  \"\"\"\n",
        "  prior_1 = len(class_1)/(len(class_1)+len(class_2))\n",
        "  prior_2 = len(class_2)/(len(class_1)+len(class_2))\n",
        "  return (prior_1, prior_2)\n",
        "\n",
        "prior_1, prior_2 = get_prior(class_1, class_2)\n",
        "\n",
        "assert np.isclose(np.array([prior_1, prior_2]), np.array([0.5, 0.5])).all()"
      ],
      "metadata": {
        "id": "o7V1dB2Mm2pi"
      },
      "execution_count": null,
      "outputs": []
    },
    {
      "cell_type": "code",
      "source": [
        "# Вычисление дискриминантной функции\n",
        "\n",
        "def get_discriminant(x, Sigma, mu, prior):\n",
        "    \"\"\"\n",
        "    Параметры\n",
        "    ----------\n",
        "    x : {array-like} вектор n_features\n",
        "        Один объект данных, где `n_features` — число признаков.\n",
        "    Sigma : матрица ковариаций данного класса\n",
        "    mu : {numpy.ndarray} — вектор из координат центроида данного класса\n",
        "    prior : оценка вероятности данного класса\n",
        "\n",
        "    Что возвращается\n",
        "    -------\n",
        "    discriminant : значение дискриминантной функции для данного класса в точке x\n",
        "    \"\"\"\n",
        "    discriminant = np.log(prior) - 0.5*np.log(np.linalg.det(Sigma)) - 0.5*((x - mu).T@np.linalg.inv(Sigma)@(x - mu))\n",
        "    return discriminant\n",
        "\n",
        "assert np.isclose(get_discriminant(X[0], Sigma_1, mu_1, prior_1), -0.6600206493124732)"
      ],
      "metadata": {
        "id": "hbn5d08LpKTz"
      },
      "execution_count": null,
      "outputs": []
    },
    {
      "cell_type": "code",
      "source": [
        "from matplotlib.colors import ListedColormap\n",
        "from tqdm.notebook import tqdm\n",
        "\n",
        "# Создание сетки для визуализации разделяющей поверхности\n",
        "x_min, x_max = X[:, 0].min() - 1, X[:, 0].max() + 1\n",
        "y_min, y_max = X[:, 1].min() - 1, X[:, 1].max() + 1\n",
        "xx, yy = np.meshgrid(np.linspace(x_min, x_max, 200), np.linspace(y_min, y_max, 200))\n",
        "\n",
        "# Вычисление квадратичного уравнения для каждой точки сетки\n",
        "Z = np.zeros_like(xx)\n",
        "for i in tqdm(range(xx.shape[0])):\n",
        "    for j in range(xx.shape[1]):\n",
        "        x = np.array([xx[i, j], yy[i, j]])\n",
        "\n",
        "        # Разница дискриминантных функций\n",
        "        Z[i, j] = get_discriminant(x, Sigma_1, mu_1, prior_1) - get_discriminant(x, Sigma_2, mu_2, prior_2)\n",
        "\n",
        "# Построение графика разделяющей кривой\n",
        "plt.figure(figsize=(8,8))\n",
        "plt.contourf(xx, yy, Z, levels=0, cmap=ListedColormap(['#FFAAAA', '#AAAAFF']), alpha=0.5)\n",
        "plt.contour(xx, yy, Z, levels=[0], colors='black')\n",
        "plt.scatter(class_1[:, 0], class_1[:, 1], label='Class 1', c='blue', alpha=0.7)\n",
        "plt.scatter(class_2[:, 0], class_2[:, 1], label='Class 2', c='red', alpha=0.7)\n",
        "plt.legend()\n",
        "plt.title('Разделяющая поверхность: $\\Sigma_1 \\\\neq \\Sigma_2$')\n",
        "plt.xlabel('Признак 1')\n",
        "plt.ylabel('Признак 2')\n",
        "plt.show()"
      ],
      "metadata": {
        "colab": {
          "base_uri": "https://localhost:8080/",
          "height": 751,
          "referenced_widgets": [
            "1d26b158434349a3890769dbd03bacac",
            "67b253220a354c40b66d373754156932",
            "50b097d851b84d6fbae83df0ef490896",
            "770f52cdfda14e7991ee75e86b858a2e",
            "a0b9101fc5d042e9be4c0b4f5c2b6f4d",
            "fdf463eec53043aebb933c7c201e9fa3",
            "4993fdd1e50c4d248611371caaeaa123",
            "d13345d95c194e0ca2a67d00e628fe62",
            "8f5f35a91f34438cb716ced8c35e4f24",
            "48c9e42fa4294b0bb49c929b782adbac",
            "580eb467e0e54dbf91a6eaad52a12575"
          ]
        },
        "id": "CmUD9ozP4GKr",
        "outputId": "638cdfd0-8448-4384-abe0-13b667303489"
      },
      "execution_count": null,
      "outputs": [
        {
          "output_type": "display_data",
          "data": {
            "text/plain": [
              "  0%|          | 0/200 [00:00<?, ?it/s]"
            ],
            "application/vnd.jupyter.widget-view+json": {
              "version_major": 2,
              "version_minor": 0,
              "model_id": "1d26b158434349a3890769dbd03bacac"
            }
          },
          "metadata": {}
        },
        {
          "output_type": "display_data",
          "data": {
            "text/plain": [
              "<Figure size 800x800 with 1 Axes>"
            ],
            "image/png": "[encoded data removed]"
          },
          "metadata": {}
        }
      ]
    }
  ]
}