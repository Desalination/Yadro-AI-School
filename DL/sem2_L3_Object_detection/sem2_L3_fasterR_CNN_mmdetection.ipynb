{
  "nbformat": 4,
  "nbformat_minor": 0,
  "metadata": {
    "colab": {
      "provenance": [],
      "gpuType": "T4"
    },
    "kernelspec": {
      "name": "python3",
      "display_name": "Python 3"
    },
    "language_info": {
      "name": "python"
    },
    "accelerator": "GPU"
  },
  "cells": [
    {
      "cell_type": "code",
      "source": [
        "!pip install -q opendatasets\n",
        "import opendatasets as od\n",
        "od.download(\n",
        "    \"https://www.kaggle.com/competitions/wind-turbine-damage-challenges\")"
      ],
      "metadata": {
        "id": "P36HmRkfWkjc"
      },
      "execution_count": null,
      "outputs": []
    },
    {
      "cell_type": "code",
      "source": [
        "!pip install -U openmim\n",
        "!mim install mmengine\n",
        "!pip install mmcv==2.2.0 -f https://download.openmmlab.com/mmcv/dist/cu121/torch2.4/index.html"
      ],
      "metadata": {
        "id": "qxOGfyznFPPt"
      },
      "execution_count": null,
      "outputs": []
    },
    {
      "cell_type": "markdown",
      "source": [
        "1. Создать датасет в mmdet/datasets, поменять classes и palette, задать импорт в init.\n",
        "2. mmdetection/datasets/coco_detection - поменять пути, задать DefectDataset\n",
        "3. mmdetection/config/... - поменять число классов с 80 на 5\n",
        "4. mmdet - поменять макс. версию на 2.2.1\n",
        "5. /usr/local/lib/...mmengine - 347 - загрузить веса"
      ],
      "metadata": {
        "id": "Jor4HXuxGhJr"
      }
    },
    {
      "cell_type": "code",
      "source": [
        "# !cp /content/drive/MyDrive/mmdetection.zip /content/mmdetection.zip\n",
        "!unzip mmdetection.zip\n",
        "%cd mmdetection\n",
        "!pip install -v -e ."
      ],
      "metadata": {
        "id": "uVdxdywUPDv6"
      },
      "execution_count": null,
      "outputs": []
    },
    {
      "cell_type": "code",
      "source": [
        "!python mmdetection/tools/train.py /content/mmdetection/configs/faster_rcnn/faster-rcnn_r101_fpn_1x_coco.py"
      ],
      "metadata": {
        "id": "7jDgbkSvV5Ml"
      },
      "execution_count": null,
      "outputs": []
    },
    {
      "cell_type": "code",
      "source": [
        "# !cp '/content/drive/MyDrive/epoch_12 (1).pth' /content/epoch_12.pth"
      ],
      "metadata": {
        "id": "8cagEx10q8Ri"
      },
      "execution_count": null,
      "outputs": []
    },
    {
      "cell_type": "code",
      "source": [
        "!python tools/test.py configs/faster_rcnn/faster-rcnn_r101_fpn_1x_coco.py /content/epoch_12.pth --out /content/result.pkl --show --show-dir /content/show"
      ],
      "metadata": {
        "id": "E5wSADdkdUOT"
      },
      "execution_count": null,
      "outputs": []
    },
    {
      "cell_type": "code",
      "source": [
        "import glob\n",
        "dataset = glob.glob(\"/content/wind-turbine-damage-challenges/Wind Turbine damage/test/*.jpg\")"
      ],
      "metadata": {
        "id": "sg_dDdRR0bEv",
        "collapsed": true
      },
      "execution_count": null,
      "outputs": []
    },
    {
      "cell_type": "code",
      "source": [
        "from mmdet.apis import DetInferencer\n",
        "\n",
        "config_file = '/content/mmdetection/configs/faster_rcnn/faster-rcnn_r101_fpn_1x_coco.py'\n",
        "checkpoint_file = '/content/epoch_12.pth'\n",
        "\n",
        "inferencer = DetInferencer(model=config_file, weights=checkpoint_file, device='cuda:0')\n",
        "results = inferencer('/content/wind-turbine-damage-challenges/Wind Turbine damage/test/')"
      ],
      "metadata": {
        "id": "EaAqc9ohCcSU"
      },
      "execution_count": null,
      "outputs": []
    },
    {
      "cell_type": "code",
      "source": [
        "results['predictions']"
      ],
      "metadata": {
        "id": "8jYL4DvmMlXP"
      },
      "execution_count": null,
      "outputs": []
    },
    {
      "cell_type": "code",
      "source": [
        "import pickle\n",
        "\n",
        "\n",
        "with open('result.pkl', 'rb') as f:\n",
        "    data = pickle.load(f)"
      ],
      "metadata": {
        "id": "rFmaN_UmfrCx"
      },
      "execution_count": null,
      "outputs": []
    },
    {
      "cell_type": "code",
      "source": [
        "data"
      ],
      "metadata": {
        "id": "e4QpT_Lff7wJ"
      },
      "execution_count": null,
      "outputs": []
    },
    {
      "cell_type": "code",
      "source": [
        "!pip install ultralytics"
      ],
      "metadata": {
        "id": "5pLe0IcXFgKB"
      },
      "execution_count": null,
      "outputs": []
    },
    {
      "cell_type": "code",
      "source": [
        "import os\n",
        "import json\n",
        "from tqdm import tqdm\n",
        "\n",
        "def coco_to_yolo(coco_path, output_dir, images_dir):\n",
        "    with open(coco_path) as f:\n",
        "        coco = json.load(f)\n",
        "\n",
        "    os.makedirs(output_dir, exist_ok=True)\n",
        "\n",
        "    # Создаём словарь id → category_id\n",
        "    category_map = {cat['id']: idx for idx, cat in enumerate(coco['categories'])}\n",
        "\n",
        "    # Создаём словарь image_id → file_name, size\n",
        "    image_info = {img['id']: img for img in coco['images']}\n",
        "\n",
        "    for ann in tqdm(coco['annotations']):\n",
        "        img = image_info[ann['image_id']]\n",
        "        width, height = img['width'], img['height']\n",
        "        x, y, w, h = ann['bbox']\n",
        "        xc = (x + w / 2) / width\n",
        "        yc = (y + h / 2) / height\n",
        "        w /= width\n",
        "        h /= height\n",
        "        class_id = category_map[ann['category_id']]\n",
        "\n",
        "        label_path = os.path.join(output_dir, os.path.splitext(img['file_name'])[0] + \".txt\")\n",
        "        with open(label_path, 'a') as f:\n",
        "            f.write(f\"{class_id} {xc:.6f} {yc:.6f} {w:.6f} {h:.6f}\\n\")\n"
      ],
      "metadata": {
        "id": "f4v6GNK1Fdb7"
      },
      "execution_count": null,
      "outputs": []
    },
    {
      "cell_type": "code",
      "source": [
        "coco_to_yolo('/content/wind-turbine-damage-challenges/Wind Turbine damage/train/_annotations.coco.json', '/content/datasets/wind-turbine-damage-challenges/labels/train', '/content/wind-turbine-damage-challenges/Wind Turbine damage/train/')"
      ],
      "metadata": {
        "id": "y4qiJtRJdgsf"
      },
      "execution_count": null,
      "outputs": []
    },
    {
      "cell_type": "code",
      "source": [
        "coco_to_yolo('/content/wind-turbine-damage-challenges/Wind Turbine damage/valid/_annotations.coco.json', '/content/datasets/wind-turbine-damage-challenges/labels/valid', '/content/wind-turbine-damage-challenges/Wind Turbine damage/valid/')"
      ],
      "metadata": {
        "id": "sdFNnazzIuk-"
      },
      "execution_count": null,
      "outputs": []
    },
    {
      "cell_type": "code",
      "source": [
        "!cp -r 'wind-turbine-damage-challenges/Wind Turbine damage/train' '/content/datasets/wind-turbine-damage-challenges/images/train'"
      ],
      "metadata": {
        "id": "BxvJWN4ohTN1"
      },
      "execution_count": null,
      "outputs": []
    },
    {
      "cell_type": "code",
      "source": [
        "!cp -r 'wind-turbine-damage-challenges/Wind Turbine damage/valid' '/content/datasets/wind-turbine-damage-challenges/images/val'"
      ],
      "metadata": {
        "id": "MpVwl1R2iD-7"
      },
      "execution_count": null,
      "outputs": []
    },
    {
      "cell_type": "code",
      "source": [
        "!cp -r 'wind-turbine-damage-challenges/Wind Turbine damage/test' '/content/datasets/wind-turbine-damage-challenges/images/test'"
      ],
      "metadata": {
        "id": "mYN6IrlliHBa"
      },
      "execution_count": null,
      "outputs": []
    },
    {
      "cell_type": "code",
      "source": [
        "from ultralytics import YOLO\n",
        "\n",
        "model = YOLO('yolov8n.pt')  # или yolov8s.pt\n",
        "model.train(data='dataset.yaml', epochs=50, imgsz=640)\n"
      ],
      "metadata": {
        "id": "spfGuNESFj_5"
      },
      "execution_count": null,
      "outputs": []
    },
    {
      "cell_type": "code",
      "source": [
        "import pandas as pd\n",
        "\n",
        "results = model.predict(source='datasets/wind-turbine-damage-challenges/images/test', save=False)\n",
        "\n",
        "rows = []\n",
        "for r in results:\n",
        "    image_id = os.path.basename(r.path)\n",
        "    for box in r.boxes:\n",
        "        class_id = int(box.cls)\n",
        "        conf = float(box.conf)\n",
        "        x1, y1, x2, y2 = box.xyxy[0].tolist()\n",
        "        rows.append([image_id, x1, y1, x2, y2, class_id, conf])\n",
        "\n",
        "df = pd.DataFrame(rows, columns=['image_id', 'x1', 'y1', 'x2', 'y2', 'class_id', 'confidence'])\n",
        "df.to_csv(\"submission.csv\", index=False)\n"
      ],
      "metadata": {
        "id": "cEpL4K_FFmQL"
      },
      "execution_count": null,
      "outputs": []
    },
    {
      "cell_type": "code",
      "source": [
        "!zip -r * content.zip"
      ],
      "metadata": {
        "id": "ofMqMnBNeIGX"
      },
      "execution_count": null,
      "outputs": []
    },
    {
      "cell_type": "code",
      "source": [
        "!cp datasets.zip drive/MyDrive"
      ],
      "metadata": {
        "id": "Elc-W7Hoyrpm"
      },
      "execution_count": null,
      "outputs": []
    },
    {
      "cell_type": "code",
      "source": [
        "import json\n",
        "import pandas as pd\n",
        "\n",
        "# Путь к файлу с результатами инференса\n",
        "results_path = \"farazlar.txt\"  # или .json, если вы сохраняете в этом формате\n",
        "output_csv = \"submission.csv\"\n",
        "\n",
        "# Загрузка результатов\n",
        "with open(results_path, \"r\", encoding=\"utf-8\") as f:\n",
        "    results = json.load(f)\n",
        "\n",
        "# Составляем submission\n",
        "submission_data = []\n",
        "\n",
        "i = 0\n",
        "\n",
        "for image_id, result in enumerate(results):\n",
        "    labels = result.get(\"labels\", [])\n",
        "    scores = result.get(\"scores\", [])\n",
        "    bboxes = result.get(\"bboxes\", [])\n",
        "\n",
        "    for label, score, bbox in zip(labels, scores, bboxes):\n",
        "        xmin, ymin, xmax, ymax = bbox\n",
        "        submission_data.append({\n",
        "            \"image_id\": image_id,\n",
        "            \"xmin\": round(xmin, 2),\n",
        "            \"ymin\": round(ymin, 2),\n",
        "            \"xmax\": round(xmax, 2),\n",
        "            \"ymax\": round(ymax, 2),\n",
        "            \"label\": label,\n",
        "            \"score\": round(score, 4)\n",
        "        })\n",
        "\n",
        "# Преобразуем в DataFrame и сохраняем\n",
        "df = pd.DataFrame(submission_data)\n",
        "df.to_csv(output_csv, index=False)\n",
        "\n",
        "print(f\"Сабмит сохранён в {output_csv}\")"
      ],
      "metadata": {
        "colab": {
          "base_uri": "https://localhost:8080/"
        },
        "id": "nFTA1PxHeIgv",
        "outputId": "8fb27bc1-5372-4f15-cd73-59be84695ea0"
      },
      "execution_count": null,
      "outputs": [
        {
          "output_type": "stream",
          "name": "stdout",
          "text": [
            "Сабмит сохранён в submission.csv\n"
          ]
        }
      ]
    },
    {
      "cell_type": "code",
      "source": [
        "len(results)"
      ],
      "metadata": {
        "colab": {
          "base_uri": "https://localhost:8080/"
        },
        "id": "rGAojn0jePxg",
        "outputId": "8f525a48-eb21-440b-a516-5ce21646a79b"
      },
      "execution_count": null,
      "outputs": [
        {
          "output_type": "execute_result",
          "data": {
            "text/plain": [
              "151"
            ]
          },
          "metadata": {},
          "execution_count": 7
        }
      ]
    }
  ]
}