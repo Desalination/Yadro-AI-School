{
  "nbformat": 4,
  "nbformat_minor": 0,
  "metadata": {
    "colab": {
      "provenance": [],
      "gpuType": "T4"
    },
    "kernelspec": {
      "name": "python3",
      "display_name": "Python 3"
    },
    "language_info": {
      "name": "python"
    },
    "accelerator": "GPU",
    "widgets": {
      "application/vnd.jupyter.widget-state+json": {
        "820a8b3f6c0547ac8c15f644efb1f094": {
          "model_module": "@jupyter-widgets/output",
          "model_name": "OutputModel",
          "model_module_version": "1.0.0",
          "state": {
            "_dom_classes": [],
            "_model_module": "@jupyter-widgets/output",
            "_model_module_version": "1.0.0",
            "_model_name": "OutputModel",
            "_view_count": null,
            "_view_module": "@jupyter-widgets/output",
            "_view_module_version": "1.0.0",
            "_view_name": "OutputView",
            "layout": "IPY_MODEL_99c79e14a752433a8a4c196fab3a3276",
            "msg_id": "",
            "outputs": [
              {
                "output_type": "display_data",
                "data": {
                  "text/plain": "Inference \u001b[38;2;230;39;108m━\u001b[0m\u001b[38;2;209;42;102m━\u001b[0m\u001b[38;2;183;44;94m━\u001b[0m\u001b[38;2;153;48;86m━\u001b[0m\u001b[38;2;123;51;77m━\u001b[0m\u001b[38;2;97;53;69m━\u001b[0m\u001b[38;2;76;56;63m━\u001b[0m\u001b[38;2;62;57;59m━\u001b[0m\u001b[38;2;58;58;58m━\u001b[0m\u001b[38;2;62;57;59m━\u001b[0m\u001b[38;2;76;56;63m━\u001b[0m\u001b[38;2;97;53;69m━\u001b[0m\u001b[38;2;123;51;77m━\u001b[0m\u001b[38;2;153;48;86m━\u001b[0m\u001b[38;2;183;44;94m━\u001b[0m\u001b[38;2;209;42;102m━\u001b[0m\u001b[38;2;230;39;108m━\u001b[0m\u001b[38;2;244;38;112m━\u001b[0m\u001b[38;2;249;38;114m━\u001b[0m\u001b[38;2;244;38;112m━\u001b[0m\u001b[38;2;230;39;108m━\u001b[0m\u001b[38;2;209;42;102m━\u001b[0m\u001b[38;2;183;44;94m━\u001b[0m\u001b[38;2;153;48;86m━\u001b[0m\u001b[38;2;123;51;77m━\u001b[0m\u001b[38;2;97;53;69m━\u001b[0m\u001b[38;2;76;56;63m━\u001b[0m\u001b[38;2;62;57;59m━\u001b[0m\u001b[38;2;58;58;58m━\u001b[0m\u001b[38;2;62;57;59m━\u001b[0m\u001b[38;2;76;56;63m━\u001b[0m\u001b[38;2;97;53;69m━\u001b[0m\u001b[38;2;123;51;77m━\u001b[0m\u001b[38;2;153;48;86m━\u001b[0m\u001b[38;2;183;44;94m━\u001b[0m\u001b[38;2;209;42;102m━\u001b[0m\u001b[38;2;230;39;108m━\u001b[0m\u001b[38;2;244;38;112m━\u001b[0m\u001b[38;2;249;38;114m━\u001b[0m\u001b[38;2;244;38;112m━\u001b[0m \u001b[35m5.3 it/s\u001b[0m \u001b[36m \u001b[0m\n",
                  "text/html": "<pre style=\"white-space:pre;overflow-x:auto;line-height:normal;font-family:Menlo,'DejaVu Sans Mono',consolas,'Courier New',monospace\">Inference <span style=\"color: #e6276c; text-decoration-color: #e6276c\">━</span><span style=\"color: #d12a66; text-decoration-color: #d12a66\">━</span><span style=\"color: #b72c5e; text-decoration-color: #b72c5e\">━</span><span style=\"color: #993056; text-decoration-color: #993056\">━</span><span style=\"color: #7b334d; text-decoration-color: #7b334d\">━</span><span style=\"color: #613545; text-decoration-color: #613545\">━</span><span style=\"color: #4c383f; text-decoration-color: #4c383f\">━</span><span style=\"color: #3e393b; text-decoration-color: #3e393b\">━</span><span style=\"color: #3a3a3a; text-decoration-color: #3a3a3a\">━</span><span style=\"color: #3e393b; text-decoration-color: #3e393b\">━</span><span style=\"color: #4c383f; text-decoration-color: #4c383f\">━</span><span style=\"color: #613545; text-decoration-color: #613545\">━</span><span style=\"color: #7b334d; text-decoration-color: #7b334d\">━</span><span style=\"color: #993056; text-decoration-color: #993056\">━</span><span style=\"color: #b72c5e; text-decoration-color: #b72c5e\">━</span><span style=\"color: #d12a66; text-decoration-color: #d12a66\">━</span><span style=\"color: #e6276c; text-decoration-color: #e6276c\">━</span><span style=\"color: #f42670; text-decoration-color: #f42670\">━</span><span style=\"color: #f92672; text-decoration-color: #f92672\">━</span><span style=\"color: #f42670; text-decoration-color: #f42670\">━</span><span style=\"color: #e6276c; text-decoration-color: #e6276c\">━</span><span style=\"color: #d12a66; text-decoration-color: #d12a66\">━</span><span style=\"color: #b72c5e; text-decoration-color: #b72c5e\">━</span><span style=\"color: #993056; text-decoration-color: #993056\">━</span><span style=\"color: #7b334d; text-decoration-color: #7b334d\">━</span><span style=\"color: #613545; text-decoration-color: #613545\">━</span><span style=\"color: #4c383f; text-decoration-color: #4c383f\">━</span><span style=\"color: #3e393b; text-decoration-color: #3e393b\">━</span><span style=\"color: #3a3a3a; text-decoration-color: #3a3a3a\">━</span><span style=\"color: #3e393b; text-decoration-color: #3e393b\">━</span><span style=\"color: #4c383f; text-decoration-color: #4c383f\">━</span><span style=\"color: #613545; text-decoration-color: #613545\">━</span><span style=\"color: #7b334d; text-decoration-color: #7b334d\">━</span><span style=\"color: #993056; text-decoration-color: #993056\">━</span><span style=\"color: #b72c5e; text-decoration-color: #b72c5e\">━</span><span style=\"color: #d12a66; text-decoration-color: #d12a66\">━</span><span style=\"color: #e6276c; text-decoration-color: #e6276c\">━</span><span style=\"color: #f42670; text-decoration-color: #f42670\">━</span><span style=\"color: #f92672; text-decoration-color: #f92672\">━</span><span style=\"color: #f42670; text-decoration-color: #f42670\">━</span> <span style=\"color: #800080; text-decoration-color: #800080\">5.3 it/s</span> <span style=\"color: #008080; text-decoration-color: #008080\"> </span>\n</pre>\n"
                },
                "metadata": {}
              }
            ]
          }
        },
        "99c79e14a752433a8a4c196fab3a3276": {
          "model_module": "@jupyter-widgets/base",
          "model_name": "LayoutModel",
          "model_module_version": "1.2.0",
          "state": {
            "_model_module": "@jupyter-widgets/base",
            "_model_module_version": "1.2.0",
            "_model_name": "LayoutModel",
            "_view_count": null,
            "_view_module": "@jupyter-widgets/base",
            "_view_module_version": "1.2.0",
            "_view_name": "LayoutView",
            "align_content": null,
            "align_items": null,
            "align_self": null,
            "border": null,
            "bottom": null,
            "display": null,
            "flex": null,
            "flex_flow": null,
            "grid_area": null,
            "grid_auto_columns": null,
            "grid_auto_flow": null,
            "grid_auto_rows": null,
            "grid_column": null,
            "grid_gap": null,
            "grid_row": null,
            "grid_template_areas": null,
            "grid_template_columns": null,
            "grid_template_rows": null,
            "height": null,
            "justify_content": null,
            "justify_items": null,
            "left": null,
            "margin": null,
            "max_height": null,
            "max_width": null,
            "min_height": null,
            "min_width": null,
            "object_fit": null,
            "object_position": null,
            "order": null,
            "overflow": null,
            "overflow_x": null,
            "overflow_y": null,
            "padding": null,
            "right": null,
            "top": null,
            "visibility": null,
            "width": null
          }
        }
      }
    }
  },
  "cells": [
    {
      "cell_type": "code",
      "source": [
        "!pip install -q opendatasets\n",
        "import opendatasets as od\n",
        "od.download(\n",
        "    \"https://www.kaggle.com/competitions/wind-turbine-damage-challenges\")"
      ],
      "metadata": {
        "colab": {
          "base_uri": "https://localhost:8080/"
        },
        "id": "P36HmRkfWkjc",
        "outputId": "87a9fa23-d700-4945-9424-6948d775ce5d"
      },
      "execution_count": null,
      "outputs": [
        {
          "output_type": "stream",
          "name": "stdout",
          "text": [
            "Please provide your Kaggle credentials to download this dataset. Learn more: http://bit.ly/kaggle-creds\n",
            "Your Kaggle username: visvaldas\n",
            "Your Kaggle Key: ··········\n",
            "Extracting archive ./wind-turbine-damage-challenges/wind-turbine-damage-challenges.zip to ./wind-turbine-damage-challenges\n"
          ]
        }
      ]
    },
    {
      "cell_type": "code",
      "source": [
        "!pip install -U openmim\n",
        "!mim install mmengine\n",
        "!pip install mmcv==2.2.0 -f https://download.openmmlab.com/mmcv/dist/cu121/torch2.4/index.html"
      ],
      "metadata": {
        "colab": {
          "base_uri": "https://localhost:8080/"
        },
        "collapsed": true,
        "id": "qxOGfyznFPPt",
        "outputId": "30848d7e-088a-4d1c-ab51-7b1c1eaf58c7"
      },
      "execution_count": null,
      "outputs": [
        {
          "output_type": "stream",
          "name": "stdout",
          "text": [
            "Requirement already satisfied: openmim in /usr/local/lib/python3.11/dist-packages (0.3.9)\n",
            "Requirement already satisfied: Click in /usr/local/lib/python3.11/dist-packages (from openmim) (8.1.8)\n",
            "Requirement already satisfied: colorama in /usr/local/lib/python3.11/dist-packages (from openmim) (0.4.6)\n",
            "Requirement already satisfied: model-index in /usr/local/lib/python3.11/dist-packages (from openmim) (0.1.11)\n",
            "Requirement already satisfied: opendatalab in /usr/local/lib/python3.11/dist-packages (from openmim) (0.0.10)\n",
            "Requirement already satisfied: pandas in /usr/local/lib/python3.11/dist-packages (from openmim) (2.2.2)\n",
            "Requirement already satisfied: pip>=19.3 in /usr/local/lib/python3.11/dist-packages (from openmim) (24.1.2)\n",
            "Requirement already satisfied: requests in /usr/local/lib/python3.11/dist-packages (from openmim) (2.28.2)\n",
            "Requirement already satisfied: rich in /usr/local/lib/python3.11/dist-packages (from openmim) (13.4.2)\n",
            "Requirement already satisfied: tabulate in /usr/local/lib/python3.11/dist-packages (from openmim) (0.9.0)\n",
            "Requirement already satisfied: pyyaml in /usr/local/lib/python3.11/dist-packages (from model-index->openmim) (6.0.2)\n",
            "Requirement already satisfied: markdown in /usr/local/lib/python3.11/dist-packages (from model-index->openmim) (3.8)\n",
            "Requirement already satisfied: ordered-set in /usr/local/lib/python3.11/dist-packages (from model-index->openmim) (4.1.0)\n",
            "Requirement already satisfied: pycryptodome in /usr/local/lib/python3.11/dist-packages (from opendatalab->openmim) (3.22.0)\n",
            "Requirement already satisfied: tqdm in /usr/local/lib/python3.11/dist-packages (from opendatalab->openmim) (4.65.2)\n",
            "Requirement already satisfied: openxlab in /usr/local/lib/python3.11/dist-packages (from opendatalab->openmim) (0.1.2)\n",
            "Requirement already satisfied: charset-normalizer<4,>=2 in /usr/local/lib/python3.11/dist-packages (from requests->openmim) (3.4.1)\n",
            "Requirement already satisfied: idna<4,>=2.5 in /usr/local/lib/python3.11/dist-packages (from requests->openmim) (3.10)\n",
            "Requirement already satisfied: urllib3<1.27,>=1.21.1 in /usr/local/lib/python3.11/dist-packages (from requests->openmim) (1.26.20)\n",
            "Requirement already satisfied: certifi>=2017.4.17 in /usr/local/lib/python3.11/dist-packages (from requests->openmim) (2025.4.26)\n",
            "Requirement already satisfied: numpy>=1.23.2 in /usr/local/lib/python3.11/dist-packages (from pandas->openmim) (2.0.2)\n",
            "Requirement already satisfied: python-dateutil>=2.8.2 in /usr/local/lib/python3.11/dist-packages (from pandas->openmim) (2.9.0.post0)\n",
            "Requirement already satisfied: pytz>=2020.1 in /usr/local/lib/python3.11/dist-packages (from pandas->openmim) (2023.4)\n",
            "Requirement already satisfied: tzdata>=2022.7 in /usr/local/lib/python3.11/dist-packages (from pandas->openmim) (2025.2)\n",
            "Requirement already satisfied: markdown-it-py>=2.2.0 in /usr/local/lib/python3.11/dist-packages (from rich->openmim) (3.0.0)\n",
            "Requirement already satisfied: pygments<3.0.0,>=2.13.0 in /usr/local/lib/python3.11/dist-packages (from rich->openmim) (2.19.1)\n",
            "Requirement already satisfied: mdurl~=0.1 in /usr/local/lib/python3.11/dist-packages (from markdown-it-py>=2.2.0->rich->openmim) (0.1.2)\n",
            "Requirement already satisfied: six>=1.5 in /usr/local/lib/python3.11/dist-packages (from python-dateutil>=2.8.2->pandas->openmim) (1.17.0)\n",
            "Requirement already satisfied: filelock~=3.14.0 in /usr/local/lib/python3.11/dist-packages (from openxlab->opendatalab->openmim) (3.14.0)\n",
            "Requirement already satisfied: oss2~=2.17.0 in /usr/local/lib/python3.11/dist-packages (from openxlab->opendatalab->openmim) (2.17.0)\n",
            "Requirement already satisfied: packaging~=24.0 in /usr/local/lib/python3.11/dist-packages (from openxlab->opendatalab->openmim) (24.2)\n",
            "Requirement already satisfied: setuptools~=60.2.0 in /usr/local/lib/python3.11/dist-packages (from openxlab->opendatalab->openmim) (60.2.0)\n",
            "Requirement already satisfied: crcmod>=1.7 in /usr/local/lib/python3.11/dist-packages (from oss2~=2.17.0->openxlab->opendatalab->openmim) (1.7)\n",
            "Requirement already satisfied: aliyun-python-sdk-kms>=2.4.1 in /usr/local/lib/python3.11/dist-packages (from oss2~=2.17.0->openxlab->opendatalab->openmim) (2.16.5)\n",
            "Requirement already satisfied: aliyun-python-sdk-core>=2.13.12 in /usr/local/lib/python3.11/dist-packages (from oss2~=2.17.0->openxlab->opendatalab->openmim) (2.16.0)\n",
            "Requirement already satisfied: jmespath<1.0.0,>=0.9.3 in /usr/local/lib/python3.11/dist-packages (from aliyun-python-sdk-core>=2.13.12->oss2~=2.17.0->openxlab->opendatalab->openmim) (0.10.0)\n",
            "Requirement already satisfied: cryptography>=3.0.0 in /usr/local/lib/python3.11/dist-packages (from aliyun-python-sdk-core>=2.13.12->oss2~=2.17.0->openxlab->opendatalab->openmim) (43.0.3)\n",
            "Requirement already satisfied: cffi>=1.12 in /usr/local/lib/python3.11/dist-packages (from cryptography>=3.0.0->aliyun-python-sdk-core>=2.13.12->oss2~=2.17.0->openxlab->opendatalab->openmim) (1.17.1)\n",
            "Requirement already satisfied: pycparser in /usr/local/lib/python3.11/dist-packages (from cffi>=1.12->cryptography>=3.0.0->aliyun-python-sdk-core>=2.13.12->oss2~=2.17.0->openxlab->opendatalab->openmim) (2.22)\n",
            "Looking in links: https://download.openmmlab.com/mmcv/dist/cu124/torch2.6.0/index.html\n",
            "Collecting mmengine\n",
            "  Using cached mmengine-0.10.7-py3-none-any.whl.metadata (20 kB)\n",
            "Collecting addict (from mmengine)\n",
            "  Downloading addict-2.4.0-py3-none-any.whl.metadata (1.0 kB)\n",
            "Requirement already satisfied: matplotlib in /usr/local/lib/python3.11/dist-packages (from mmengine) (3.10.0)\n",
            "Requirement already satisfied: numpy in /usr/local/lib/python3.11/dist-packages (from mmengine) (2.0.2)\n",
            "Requirement already satisfied: pyyaml in /usr/local/lib/python3.11/dist-packages (from mmengine) (6.0.2)\n",
            "Requirement already satisfied: rich in /usr/local/lib/python3.11/dist-packages (from mmengine) (13.4.2)\n",
            "Requirement already satisfied: termcolor in /usr/local/lib/python3.11/dist-packages (from mmengine) (3.1.0)\n",
            "Collecting yapf (from mmengine)\n",
            "  Downloading yapf-0.43.0-py3-none-any.whl.metadata (46 kB)\n",
            "\u001b[2K     \u001b[90m━━━━━━━━━━━━━━━━━━━━━━━━━━━━━━━━━━━━━━━━\u001b[0m \u001b[32m46.8/46.8 kB\u001b[0m \u001b[31m3.0 MB/s\u001b[0m eta \u001b[36m0:00:00\u001b[0m\n",
            "\u001b[?25hRequirement already satisfied: opencv-python>=3 in /usr/local/lib/python3.11/dist-packages (from mmengine) (4.11.0.86)\n",
            "Requirement already satisfied: contourpy>=1.0.1 in /usr/local/lib/python3.11/dist-packages (from matplotlib->mmengine) (1.3.2)\n",
            "Requirement already satisfied: cycler>=0.10 in /usr/local/lib/python3.11/dist-packages (from matplotlib->mmengine) (0.12.1)\n",
            "Requirement already satisfied: fonttools>=4.22.0 in /usr/local/lib/python3.11/dist-packages (from matplotlib->mmengine) (4.57.0)\n",
            "Requirement already satisfied: kiwisolver>=1.3.1 in /usr/local/lib/python3.11/dist-packages (from matplotlib->mmengine) (1.4.8)\n",
            "Requirement already satisfied: packaging>=20.0 in /usr/local/lib/python3.11/dist-packages (from matplotlib->mmengine) (24.2)\n",
            "Requirement already satisfied: pillow>=8 in /usr/local/lib/python3.11/dist-packages (from matplotlib->mmengine) (11.2.1)\n",
            "Requirement already satisfied: pyparsing>=2.3.1 in /usr/local/lib/python3.11/dist-packages (from matplotlib->mmengine) (3.2.3)\n",
            "Requirement already satisfied: python-dateutil>=2.7 in /usr/local/lib/python3.11/dist-packages (from matplotlib->mmengine) (2.9.0.post0)\n",
            "Requirement already satisfied: markdown-it-py>=2.2.0 in /usr/local/lib/python3.11/dist-packages (from rich->mmengine) (3.0.0)\n",
            "Requirement already satisfied: pygments<3.0.0,>=2.13.0 in /usr/local/lib/python3.11/dist-packages (from rich->mmengine) (2.19.1)\n",
            "Requirement already satisfied: platformdirs>=3.5.1 in /usr/local/lib/python3.11/dist-packages (from yapf->mmengine) (4.3.7)\n",
            "Requirement already satisfied: mdurl~=0.1 in /usr/local/lib/python3.11/dist-packages (from markdown-it-py>=2.2.0->rich->mmengine) (0.1.2)\n",
            "Requirement already satisfied: six>=1.5 in /usr/local/lib/python3.11/dist-packages (from python-dateutil>=2.7->matplotlib->mmengine) (1.17.0)\n",
            "Downloading mmengine-0.10.7-py3-none-any.whl (452 kB)\n",
            "\u001b[2K   \u001b[90m━━━━━━━━━━━━━━━━━━━━━━━━━━━━━━━━━━━━━━━━\u001b[0m \u001b[32m452.7/452.7 kB\u001b[0m \u001b[31m11.2 MB/s\u001b[0m eta \u001b[36m0:00:00\u001b[0m\n",
            "\u001b[?25hDownloading addict-2.4.0-py3-none-any.whl (3.8 kB)\n",
            "Downloading yapf-0.43.0-py3-none-any.whl (256 kB)\n",
            "\u001b[2K   \u001b[90m━━━━━━━━━━━━━━━━━━━━━━━━━━━━━━━━━━━━━━━━\u001b[0m \u001b[32m256.2/256.2 kB\u001b[0m \u001b[31m25.5 MB/s\u001b[0m eta \u001b[36m0:00:00\u001b[0m\n",
            "\u001b[?25hInstalling collected packages: addict, yapf, mmengine\n",
            "Successfully installed addict-2.4.0 mmengine-0.10.7 yapf-0.43.0\n",
            "Looking in links: https://download.openmmlab.com/mmcv/dist/cu121/torch2.4/index.html\n",
            "Collecting mmcv==2.2.0\n",
            "  Downloading https://download.openmmlab.com/mmcv/dist/cu121/torch2.4.0/mmcv-2.2.0-cp311-cp311-manylinux1_x86_64.whl (98.7 MB)\n",
            "\u001b[2K     \u001b[90m━━━━━━━━━━━━━━━━━━━━━━━━━━━━━━━━━━━━━━━━\u001b[0m \u001b[32m98.7/98.7 MB\u001b[0m \u001b[31m6.6 MB/s\u001b[0m eta \u001b[36m0:00:00\u001b[0m\n",
            "\u001b[?25hRequirement already satisfied: addict in /usr/local/lib/python3.11/dist-packages (from mmcv==2.2.0) (2.4.0)\n",
            "Requirement already satisfied: mmengine>=0.3.0 in /usr/local/lib/python3.11/dist-packages (from mmcv==2.2.0) (0.10.7)\n",
            "Requirement already satisfied: numpy in /usr/local/lib/python3.11/dist-packages (from mmcv==2.2.0) (2.0.2)\n",
            "Requirement already satisfied: packaging in /usr/local/lib/python3.11/dist-packages (from mmcv==2.2.0) (24.2)\n",
            "Requirement already satisfied: Pillow in /usr/local/lib/python3.11/dist-packages (from mmcv==2.2.0) (11.2.1)\n",
            "Requirement already satisfied: pyyaml in /usr/local/lib/python3.11/dist-packages (from mmcv==2.2.0) (6.0.2)\n",
            "Requirement already satisfied: yapf in /usr/local/lib/python3.11/dist-packages (from mmcv==2.2.0) (0.43.0)\n",
            "Requirement already satisfied: opencv-python>=3 in /usr/local/lib/python3.11/dist-packages (from mmcv==2.2.0) (4.11.0.86)\n",
            "Requirement already satisfied: matplotlib in /usr/local/lib/python3.11/dist-packages (from mmengine>=0.3.0->mmcv==2.2.0) (3.10.0)\n",
            "Requirement already satisfied: rich in /usr/local/lib/python3.11/dist-packages (from mmengine>=0.3.0->mmcv==2.2.0) (13.4.2)\n",
            "Requirement already satisfied: termcolor in /usr/local/lib/python3.11/dist-packages (from mmengine>=0.3.0->mmcv==2.2.0) (3.1.0)\n",
            "Requirement already satisfied: platformdirs>=3.5.1 in /usr/local/lib/python3.11/dist-packages (from yapf->mmcv==2.2.0) (4.3.7)\n",
            "Requirement already satisfied: contourpy>=1.0.1 in /usr/local/lib/python3.11/dist-packages (from matplotlib->mmengine>=0.3.0->mmcv==2.2.0) (1.3.2)\n",
            "Requirement already satisfied: cycler>=0.10 in /usr/local/lib/python3.11/dist-packages (from matplotlib->mmengine>=0.3.0->mmcv==2.2.0) (0.12.1)\n",
            "Requirement already satisfied: fonttools>=4.22.0 in /usr/local/lib/python3.11/dist-packages (from matplotlib->mmengine>=0.3.0->mmcv==2.2.0) (4.57.0)\n",
            "Requirement already satisfied: kiwisolver>=1.3.1 in /usr/local/lib/python3.11/dist-packages (from matplotlib->mmengine>=0.3.0->mmcv==2.2.0) (1.4.8)\n",
            "Requirement already satisfied: pyparsing>=2.3.1 in /usr/local/lib/python3.11/dist-packages (from matplotlib->mmengine>=0.3.0->mmcv==2.2.0) (3.2.3)\n",
            "Requirement already satisfied: python-dateutil>=2.7 in /usr/local/lib/python3.11/dist-packages (from matplotlib->mmengine>=0.3.0->mmcv==2.2.0) (2.9.0.post0)\n",
            "Requirement already satisfied: markdown-it-py>=2.2.0 in /usr/local/lib/python3.11/dist-packages (from rich->mmengine>=0.3.0->mmcv==2.2.0) (3.0.0)\n",
            "Requirement already satisfied: pygments<3.0.0,>=2.13.0 in /usr/local/lib/python3.11/dist-packages (from rich->mmengine>=0.3.0->mmcv==2.2.0) (2.19.1)\n",
            "Requirement already satisfied: mdurl~=0.1 in /usr/local/lib/python3.11/dist-packages (from markdown-it-py>=2.2.0->rich->mmengine>=0.3.0->mmcv==2.2.0) (0.1.2)\n",
            "Requirement already satisfied: six>=1.5 in /usr/local/lib/python3.11/dist-packages (from python-dateutil>=2.7->matplotlib->mmengine>=0.3.0->mmcv==2.2.0) (1.17.0)\n",
            "Installing collected packages: mmcv\n",
            "Successfully installed mmcv-2.2.0\n"
          ]
        }
      ]
    },
    {
      "cell_type": "markdown",
      "source": [
        "1. Создать датасет в mmdet/datasets, поменять classes и palette, задать импорт в init.\n",
        "2. mmdetection/datasets/coco_detection - поменять пути, задать DefectDataset\n",
        "3. mmdetection/config/... - поменять число классов с 80 на 5\n",
        "4. mmdet - поменять макс. версию на 2.2.1\n",
        "5. /usr/local/lib/...mmengine - 347 - загрузить веса"
      ],
      "metadata": {
        "id": "Jor4HXuxGhJr"
      }
    },
    {
      "cell_type": "code",
      "source": [
        "from google.colab import drive\n",
        "drive.mount('/content/drive')"
      ],
      "metadata": {
        "colab": {
          "base_uri": "https://localhost:8080/"
        },
        "id": "qW8cePkUqyui",
        "outputId": "07beb961-c34c-471b-9441-7e85ef360894"
      },
      "execution_count": null,
      "outputs": [
        {
          "output_type": "stream",
          "name": "stdout",
          "text": [
            "Mounted at /content/drive\n"
          ]
        }
      ]
    },
    {
      "cell_type": "code",
      "source": [
        "# !cp /content/drive/MyDrive/mmdetection.zip /content/mmdetection.zip\n",
        "!unzip mmdetection.zip\n",
        "%cd mmdetection\n",
        "!pip install -v -e ."
      ],
      "metadata": {
        "colab": {
          "base_uri": "https://localhost:8080/"
        },
        "collapsed": true,
        "id": "uVdxdywUPDv6",
        "outputId": "0745380e-52a6-498f-9564-96209a42ab44"
      },
      "execution_count": null,
      "outputs": [
        {
          "output_type": "stream",
          "name": "stdout",
          "text": [
            "Archive:  mmdetection.zip\n",
            "   creating: mmdetection/\n",
            "   creating: mmdetection/.circleci/\n",
            "  inflating: mmdetection/.circleci/config.yml  \n",
            "   creating: mmdetection/.circleci/docker/\n",
            "  inflating: mmdetection/.circleci/docker/Dockerfile  \n",
            "  inflating: mmdetection/.circleci/test.yml  \n",
            "   creating: mmdetection/.dev_scripts/\n",
            "  inflating: mmdetection/.dev_scripts/batch_test_list.py  \n",
            "  inflating: mmdetection/.dev_scripts/batch_train_list.txt  \n",
            "  inflating: mmdetection/.dev_scripts/benchmark_filter.py  \n",
            "  inflating: mmdetection/.dev_scripts/benchmark_full_models.txt  \n",
            "  inflating: mmdetection/.dev_scripts/benchmark_inference_fps.py  \n",
            "  inflating: mmdetection/.dev_scripts/benchmark_options.py  \n",
            "  inflating: mmdetection/.dev_scripts/benchmark_test.py  \n",
            "  inflating: mmdetection/.dev_scripts/benchmark_test_image.py  \n",
            "  inflating: mmdetection/.dev_scripts/benchmark_train.py  \n",
            "  inflating: mmdetection/.dev_scripts/benchmark_train_models.txt  \n",
            "  inflating: mmdetection/.dev_scripts/benchmark_valid_flops.py  \n",
            "  inflating: mmdetection/.dev_scripts/check_links.py  \n",
            "  inflating: mmdetection/.dev_scripts/convert_test_benchmark_script.py  \n",
            "  inflating: mmdetection/.dev_scripts/convert_train_benchmark_script.py  \n",
            "  inflating: mmdetection/.dev_scripts/covignore.cfg  \n",
            "  inflating: mmdetection/.dev_scripts/diff_coverage_test.sh  \n",
            "  inflating: mmdetection/.dev_scripts/download_checkpoints.py  \n",
            "  inflating: mmdetection/.dev_scripts/gather_models.py  \n",
            "  inflating: mmdetection/.dev_scripts/gather_test_benchmark_metric.py  \n",
            "  inflating: mmdetection/.dev_scripts/gather_train_benchmark_metric.py  \n",
            "  inflating: mmdetection/.dev_scripts/linter.sh  \n",
            "  inflating: mmdetection/.dev_scripts/test_benchmark.sh  \n",
            "  inflating: mmdetection/.dev_scripts/test_init_backbone.py  \n",
            "  inflating: mmdetection/.dev_scripts/train_benchmark.sh  \n",
            "   creating: mmdetection/.git/\n",
            " extracting: mmdetection/.git/HEAD   \n",
            "  inflating: mmdetection/.git/config  \n",
            "  inflating: mmdetection/.git/description  \n",
            "   creating: mmdetection/.git/hooks/\n",
            "  inflating: mmdetection/.git/hooks/applypatch-msg.sample  \n",
            "  inflating: mmdetection/.git/hooks/commit-msg.sample  \n",
            "  inflating: mmdetection/.git/hooks/fsmonitor-watchman.sample  \n",
            "  inflating: mmdetection/.git/hooks/post-update.sample  \n",
            "  inflating: mmdetection/.git/hooks/pre-applypatch.sample  \n",
            "  inflating: mmdetection/.git/hooks/pre-commit.sample  \n",
            "  inflating: mmdetection/.git/hooks/pre-merge-commit.sample  \n",
            "  inflating: mmdetection/.git/hooks/pre-push.sample  \n",
            "  inflating: mmdetection/.git/hooks/pre-rebase.sample  \n",
            "  inflating: mmdetection/.git/hooks/pre-receive.sample  \n",
            "  inflating: mmdetection/.git/hooks/prepare-commit-msg.sample  \n",
            "  inflating: mmdetection/.git/hooks/push-to-checkout.sample  \n",
            "  inflating: mmdetection/.git/hooks/sendemail-validate.sample  \n",
            "  inflating: mmdetection/.git/hooks/update.sample  \n",
            "  inflating: mmdetection/.git/index  \n",
            "   creating: mmdetection/.git/info/\n",
            "  inflating: mmdetection/.git/info/exclude  \n",
            "   creating: mmdetection/.git/logs/\n",
            "  inflating: mmdetection/.git/logs/HEAD  \n",
            "   creating: mmdetection/.git/logs/refs/\n",
            "   creating: mmdetection/.git/logs/refs/heads/\n",
            "  inflating: mmdetection/.git/logs/refs/heads/main  \n",
            "   creating: mmdetection/.git/logs/refs/remotes/\n",
            "   creating: mmdetection/.git/logs/refs/remotes/origin/\n",
            "  inflating: mmdetection/.git/logs/refs/remotes/origin/HEAD  \n",
            "   creating: mmdetection/.git/objects/\n",
            "   creating: mmdetection/.git/objects/info/\n",
            "   creating: mmdetection/.git/objects/pack/\n",
            "  inflating: mmdetection/.git/objects/pack/pack-b83cce15fddce9a8b0c340f706306f36dec0700f.idx  \n",
            "  inflating: mmdetection/.git/objects/pack/pack-b83cce15fddce9a8b0c340f706306f36dec0700f.pack  \n",
            "  inflating: mmdetection/.git/objects/pack/pack-b83cce15fddce9a8b0c340f706306f36dec0700f.rev  \n",
            "  inflating: mmdetection/.git/packed-refs  \n",
            "   creating: mmdetection/.git/refs/\n",
            "   creating: mmdetection/.git/refs/heads/\n",
            " extracting: mmdetection/.git/refs/heads/main  \n",
            "   creating: mmdetection/.git/refs/remotes/\n",
            "   creating: mmdetection/.git/refs/remotes/origin/\n",
            " extracting: mmdetection/.git/refs/remotes/origin/HEAD  \n",
            "   creating: mmdetection/.git/refs/tags/\n",
            "   creating: mmdetection/.github/\n",
            "  inflating: mmdetection/.github/CODE_OF_CONDUCT.md  \n",
            "  inflating: mmdetection/.github/CONTRIBUTING.md  \n",
            "   creating: mmdetection/.github/ISSUE_TEMPLATE/\n",
            "  inflating: mmdetection/.github/ISSUE_TEMPLATE/config.yml  \n",
            "  inflating: mmdetection/.github/ISSUE_TEMPLATE/error-report.md  \n",
            "  inflating: mmdetection/.github/ISSUE_TEMPLATE/feature_request.md  \n",
            "  inflating: mmdetection/.github/ISSUE_TEMPLATE/general_questions.md  \n",
            "  inflating: mmdetection/.github/ISSUE_TEMPLATE/reimplementation_questions.md  \n",
            "  inflating: mmdetection/.github/pull_request_template.md  \n",
            "   creating: mmdetection/.github/workflows/\n",
            "  inflating: mmdetection/.github/workflows/deploy.yml  \n",
            "  inflating: mmdetection/.gitignore  \n",
            "  inflating: mmdetection/.owners.yml  \n",
            "  inflating: mmdetection/.pre-commit-config-zh-cn.yaml  \n",
            "  inflating: mmdetection/.pre-commit-config.yaml  \n",
            "  inflating: mmdetection/.readthedocs.yml  \n",
            "  inflating: mmdetection/CITATION.cff  \n",
            "  inflating: mmdetection/LICENSE     \n",
            "  inflating: mmdetection/MANIFEST.in  \n",
            "  inflating: mmdetection/README.md   \n",
            "  inflating: mmdetection/README_zh-CN.md  \n",
            "   creating: mmdetection/configs/\n",
            "   creating: mmdetection/configs/_base_/\n",
            "   creating: mmdetection/configs/_base_/datasets/\n",
            "  inflating: mmdetection/configs/_base_/datasets/ade20k_instance.py  \n",
            "  inflating: mmdetection/configs/_base_/datasets/ade20k_panoptic.py  \n",
            "  inflating: mmdetection/configs/_base_/datasets/ade20k_semantic.py  \n",
            "  inflating: mmdetection/configs/_base_/datasets/cityscapes_detection.py  \n",
            "  inflating: mmdetection/configs/_base_/datasets/cityscapes_instance.py  \n",
            "  inflating: mmdetection/configs/_base_/datasets/coco_caption.py  \n",
            "  inflating: mmdetection/configs/_base_/datasets/coco_detection.py  \n",
            "  inflating: mmdetection/configs/_base_/datasets/coco_instance.py  \n",
            "  inflating: mmdetection/configs/_base_/datasets/coco_instance_semantic.py  \n",
            "  inflating: mmdetection/configs/_base_/datasets/coco_panoptic.py  \n",
            "  inflating: mmdetection/configs/_base_/datasets/coco_semantic.py  \n",
            "  inflating: mmdetection/configs/_base_/datasets/deepfashion.py  \n",
            "  inflating: mmdetection/configs/_base_/datasets/dsdl.py  \n",
            "  inflating: mmdetection/configs/_base_/datasets/isaid_instance.py  \n",
            "  inflating: mmdetection/configs/_base_/datasets/lvis_v0.5_instance.py  \n",
            "  inflating: mmdetection/configs/_base_/datasets/lvis_v1_instance.py  \n",
            "  inflating: mmdetection/configs/_base_/datasets/mot_challenge.py  \n",
            "  inflating: mmdetection/configs/_base_/datasets/mot_challenge_det.py  \n",
            "  inflating: mmdetection/configs/_base_/datasets/mot_challenge_reid.py  \n",
            "  inflating: mmdetection/configs/_base_/datasets/objects365v1_detection.py  \n",
            "  inflating: mmdetection/configs/_base_/datasets/objects365v2_detection.py  \n",
            "  inflating: mmdetection/configs/_base_/datasets/openimages_detection.py  \n",
            "  inflating: mmdetection/configs/_base_/datasets/refcoco+.py  \n",
            "  inflating: mmdetection/configs/_base_/datasets/refcoco.py  \n",
            "  inflating: mmdetection/configs/_base_/datasets/refcocog.py  \n",
            "  inflating: mmdetection/configs/_base_/datasets/semi_coco_detection.py  \n",
            "  inflating: mmdetection/configs/_base_/datasets/v3det.py  \n",
            "  inflating: mmdetection/configs/_base_/datasets/voc0712.py  \n",
            "  inflating: mmdetection/configs/_base_/datasets/wider_face.py  \n",
            "  inflating: mmdetection/configs/_base_/datasets/youtube_vis.py  \n",
            "  inflating: mmdetection/configs/_base_/default_runtime.py  \n",
            "   creating: mmdetection/configs/_base_/models/\n",
            "  inflating: mmdetection/configs/_base_/models/cascade-mask-rcnn_r50_fpn.py  \n",
            "  inflating: mmdetection/configs/_base_/models/cascade-rcnn_r50_fpn.py  \n",
            "  inflating: mmdetection/configs/_base_/models/fast-rcnn_r50_fpn.py  \n",
            "  inflating: mmdetection/configs/_base_/models/faster-rcnn_r50-caffe-c4.py  \n",
            "  inflating: mmdetection/configs/_base_/models/faster-rcnn_r50-caffe-dc5.py  \n",
            "  inflating: mmdetection/configs/_base_/models/faster-rcnn_r50_fpn.py  \n",
            "  inflating: mmdetection/configs/_base_/models/mask-rcnn_r50-caffe-c4.py  \n",
            "  inflating: mmdetection/configs/_base_/models/mask-rcnn_r50_fpn.py  \n",
            "  inflating: mmdetection/configs/_base_/models/retinanet_r50_fpn.py  \n",
            "  inflating: mmdetection/configs/_base_/models/rpn_r50-caffe-c4.py  \n",
            "  inflating: mmdetection/configs/_base_/models/rpn_r50_fpn.py  \n",
            "  inflating: mmdetection/configs/_base_/models/ssd300.py  \n",
            "   creating: mmdetection/configs/_base_/schedules/\n",
            "  inflating: mmdetection/configs/_base_/schedules/schedule_1x.py  \n",
            "  inflating: mmdetection/configs/_base_/schedules/schedule_20e.py  \n",
            "  inflating: mmdetection/configs/_base_/schedules/schedule_2x.py  \n",
            "   creating: mmdetection/configs/albu_example/\n",
            "  inflating: mmdetection/configs/albu_example/README.md  \n",
            "  inflating: mmdetection/configs/albu_example/mask-rcnn_r50_fpn_albu-1x_coco.py  \n",
            "  inflating: mmdetection/configs/albu_example/metafile.yml  \n",
            "   creating: mmdetection/configs/atss/\n",
            "  inflating: mmdetection/configs/atss/README.md  \n",
            "  inflating: mmdetection/configs/atss/atss_r101_fpn_1x_coco.py  \n",
            "  inflating: mmdetection/configs/atss/atss_r101_fpn_8xb8-amp-lsj-200e_coco.py  \n",
            "  inflating: mmdetection/configs/atss/atss_r18_fpn_8xb8-amp-lsj-200e_coco.py  \n",
            "  inflating: mmdetection/configs/atss/atss_r50_fpn_1x_coco.py  \n",
            "  inflating: mmdetection/configs/atss/atss_r50_fpn_8xb8-amp-lsj-200e_coco.py  \n",
            "  inflating: mmdetection/configs/atss/metafile.yml  \n",
            "   creating: mmdetection/configs/autoassign/\n",
            "  inflating: mmdetection/configs/autoassign/README.md  \n",
            "  inflating: mmdetection/configs/autoassign/autoassign_r50-caffe_fpn_1x_coco.py  \n",
            "  inflating: mmdetection/configs/autoassign/metafile.yml  \n",
            "   creating: mmdetection/configs/boxinst/\n",
            "  inflating: mmdetection/configs/boxinst/README.md  \n",
            "  inflating: mmdetection/configs/boxinst/boxinst_r101_fpn_ms-90k_coco.py  \n",
            "  inflating: mmdetection/configs/boxinst/boxinst_r50_fpn_ms-90k_coco.py  \n",
            "  inflating: mmdetection/configs/boxinst/metafile.yml  \n",
            "   creating: mmdetection/configs/bytetrack/\n",
            "  inflating: mmdetection/configs/bytetrack/README.md  \n",
            "  inflating: mmdetection/configs/bytetrack/bytetrack_yolox_x_8xb4-80e_crowdhuman-mot17halftrain_test-mot17halfval.py  \n",
            "  inflating: mmdetection/configs/bytetrack/bytetrack_yolox_x_8xb4-80e_crowdhuman-mot20train_test-mot20test.py  \n",
            "  inflating: mmdetection/configs/bytetrack/bytetrack_yolox_x_8xb4-amp-80e_crowdhuman-mot17halftrain_test-mot17halfval.py  \n",
            "  inflating: mmdetection/configs/bytetrack/bytetrack_yolox_x_8xb4-amp-80e_crowdhuman-mot17halftrain_test-mot17test.py  \n",
            "  inflating: mmdetection/configs/bytetrack/bytetrack_yolox_x_8xb4-amp-80e_crowdhuman-mot20train_test-mot20test.py  \n",
            "  inflating: mmdetection/configs/bytetrack/metafile.yml  \n",
            "  inflating: mmdetection/configs/bytetrack/yolox_x_8xb4-amp-80e_crowdhuman-mot17halftrain_test-mot17halfval.py  \n",
            "   creating: mmdetection/configs/carafe/\n",
            "  inflating: mmdetection/configs/carafe/README.md  \n",
            "  inflating: mmdetection/configs/carafe/faster-rcnn_r50_fpn-carafe_1x_coco.py  \n",
            "  inflating: mmdetection/configs/carafe/mask-rcnn_r50_fpn-carafe_1x_coco.py  \n",
            "  inflating: mmdetection/configs/carafe/metafile.yml  \n",
            "   creating: mmdetection/configs/cascade_rcnn/\n",
            "  inflating: mmdetection/configs/cascade_rcnn/README.md  \n",
            "  inflating: mmdetection/configs/cascade_rcnn/cascade-mask-rcnn_r101-caffe_fpn_1x_coco.py  \n",
            "  inflating: mmdetection/configs/cascade_rcnn/cascade-mask-rcnn_r101-caffe_fpn_ms-3x_coco.py  \n",
            "  inflating: mmdetection/configs/cascade_rcnn/cascade-mask-rcnn_r101_fpn_1x_coco.py  \n",
            "  inflating: mmdetection/configs/cascade_rcnn/cascade-mask-rcnn_r101_fpn_20e_coco.py  \n",
            "  inflating: mmdetection/configs/cascade_rcnn/cascade-mask-rcnn_r101_fpn_ms-3x_coco.py  \n",
            "  inflating: mmdetection/configs/cascade_rcnn/cascade-mask-rcnn_r50-caffe_fpn_1x_coco.py  \n",
            "  inflating: mmdetection/configs/cascade_rcnn/cascade-mask-rcnn_r50-caffe_fpn_ms-3x_coco.py  \n",
            "  inflating: mmdetection/configs/cascade_rcnn/cascade-mask-rcnn_r50_fpn_1x_coco.py  \n",
            "  inflating: mmdetection/configs/cascade_rcnn/cascade-mask-rcnn_r50_fpn_20e_coco.py  \n",
            "  inflating: mmdetection/configs/cascade_rcnn/cascade-mask-rcnn_r50_fpn_ms-3x_coco.py  \n",
            "  inflating: mmdetection/configs/cascade_rcnn/cascade-mask-rcnn_x101-32x4d_fpn_1x_coco.py  \n",
            "  inflating: mmdetection/configs/cascade_rcnn/cascade-mask-rcnn_x101-32x4d_fpn_20e_coco.py  \n",
            "  inflating: mmdetection/configs/cascade_rcnn/cascade-mask-rcnn_x101-32x4d_fpn_ms-3x_coco.py  \n",
            "  inflating: mmdetection/configs/cascade_rcnn/cascade-mask-rcnn_x101-32x8d_fpn_ms-3x_coco.py  \n",
            "  inflating: mmdetection/configs/cascade_rcnn/cascade-mask-rcnn_x101-64x4d_fpn_1x_coco.py  \n",
            "  inflating: mmdetection/configs/cascade_rcnn/cascade-mask-rcnn_x101-64x4d_fpn_20e_coco.py  \n",
            "  inflating: mmdetection/configs/cascade_rcnn/cascade-mask-rcnn_x101-64x4d_fpn_ms-3x_coco.py  \n",
            "  inflating: mmdetection/configs/cascade_rcnn/cascade-rcnn_r101-caffe_fpn_1x_coco.py  \n",
            "  inflating: mmdetection/configs/cascade_rcnn/cascade-rcnn_r101_fpn_1x_coco.py  \n",
            "  inflating: mmdetection/configs/cascade_rcnn/cascade-rcnn_r101_fpn_20e_coco.py  \n",
            "  inflating: mmdetection/configs/cascade_rcnn/cascade-rcnn_r101_fpn_8xb8-amp-lsj-200e_coco.py  \n",
            "  inflating: mmdetection/configs/cascade_rcnn/cascade-rcnn_r18_fpn_8xb8-amp-lsj-200e_coco.py  \n",
            "  inflating: mmdetection/configs/cascade_rcnn/cascade-rcnn_r50-caffe_fpn_1x_coco.py  \n",
            "  inflating: mmdetection/configs/cascade_rcnn/cascade-rcnn_r50_fpn_1x_coco.py  \n",
            "  inflating: mmdetection/configs/cascade_rcnn/cascade-rcnn_r50_fpn_20e_coco.py  \n",
            "  inflating: mmdetection/configs/cascade_rcnn/cascade-rcnn_r50_fpn_8xb8-amp-lsj-200e_coco.py  \n",
            "  inflating: mmdetection/configs/cascade_rcnn/cascade-rcnn_x101-32x4d_fpn_1x_coco.py  \n",
            "  inflating: mmdetection/configs/cascade_rcnn/cascade-rcnn_x101-32x4d_fpn_20e_coco.py  \n",
            "  inflating: mmdetection/configs/cascade_rcnn/cascade-rcnn_x101-64x4d_fpn_1x_coco.py  \n",
            "  inflating: mmdetection/configs/cascade_rcnn/cascade-rcnn_x101_64x4d_fpn_20e_coco.py  \n",
            "  inflating: mmdetection/configs/cascade_rcnn/metafile.yml  \n",
            "   creating: mmdetection/configs/cascade_rpn/\n",
            "  inflating: mmdetection/configs/cascade_rpn/README.md  \n",
            "  inflating: mmdetection/configs/cascade_rpn/cascade-rpn_fast-rcnn_r50-caffe_fpn_1x_coco.py  \n",
            "  inflating: mmdetection/configs/cascade_rpn/cascade-rpn_faster-rcnn_r50-caffe_fpn_1x_coco.py  \n",
            "  inflating: mmdetection/configs/cascade_rpn/cascade-rpn_r50-caffe_fpn_1x_coco.py  \n",
            "  inflating: mmdetection/configs/cascade_rpn/metafile.yml  \n",
            "   creating: mmdetection/configs/centernet/\n",
            "  inflating: mmdetection/configs/centernet/README.md  \n",
            "  inflating: mmdetection/configs/centernet/centernet-update_r101_fpn_8xb8-amp-lsj-200e_coco.py  \n",
            "  inflating: mmdetection/configs/centernet/centernet-update_r18_fpn_8xb8-amp-lsj-200e_coco.py  \n",
            "  inflating: mmdetection/configs/centernet/centernet-update_r50-caffe_fpn_ms-1x_coco.py  \n",
            "  inflating: mmdetection/configs/centernet/centernet-update_r50_fpn_8xb8-amp-lsj-200e_coco.py  \n",
            "  inflating: mmdetection/configs/centernet/centernet_r18-dcnv2_8xb16-crop512-140e_coco.py  \n",
            "  inflating: mmdetection/configs/centernet/centernet_r18_8xb16-crop512-140e_coco.py  \n",
            "  inflating: mmdetection/configs/centernet/centernet_tta.py  \n",
            "  inflating: mmdetection/configs/centernet/metafile.yml  \n",
            "   creating: mmdetection/configs/centripetalnet/\n",
            "  inflating: mmdetection/configs/centripetalnet/README.md  \n",
            "  inflating: mmdetection/configs/centripetalnet/centripetalnet_hourglass104_16xb6-crop511-210e-mstest_coco.py  \n",
            "  inflating: mmdetection/configs/centripetalnet/metafile.yml  \n",
            "   creating: mmdetection/configs/cityscapes/\n",
            "  inflating: mmdetection/configs/cityscapes/README.md  \n",
            "  inflating: mmdetection/configs/cityscapes/faster-rcnn_r50_fpn_1x_cityscapes.py  \n",
            "  inflating: mmdetection/configs/cityscapes/mask-rcnn_r50_fpn_1x_cityscapes.py  \n",
            "   creating: mmdetection/configs/common/\n",
            "  inflating: mmdetection/configs/common/lsj-100e_coco-detection.py  \n",
            "  inflating: mmdetection/configs/common/lsj-100e_coco-instance.py  \n",
            "  inflating: mmdetection/configs/common/lsj-200e_coco-detection.py  \n",
            "  inflating: mmdetection/configs/common/lsj-200e_coco-instance.py  \n",
            "  inflating: mmdetection/configs/common/ms-90k_coco.py  \n",
            "  inflating: mmdetection/configs/common/ms-poly-90k_coco-instance.py  \n",
            "  inflating: mmdetection/configs/common/ms-poly_3x_coco-instance.py  \n",
            "  inflating: mmdetection/configs/common/ms_3x_coco-instance.py  \n",
            "  inflating: mmdetection/configs/common/ms_3x_coco.py  \n",
            "  inflating: mmdetection/configs/common/ssj_270k_coco-instance.py  \n",
            "  inflating: mmdetection/configs/common/ssj_scp_270k_coco-instance.py  \n",
            "   creating: mmdetection/configs/condinst/\n",
            "  inflating: mmdetection/configs/condinst/README.md  \n",
            "  inflating: mmdetection/configs/condinst/condinst_r50_fpn_ms-poly-90k_coco_instance.py  \n",
            "  inflating: mmdetection/configs/condinst/metafile.yml  \n",
            "   creating: mmdetection/configs/conditional_detr/\n",
            "  inflating: mmdetection/configs/conditional_detr/README.md  \n",
            "  inflating: mmdetection/configs/conditional_detr/conditional-detr_r50_8xb2-50e_coco.py  \n",
            "  inflating: mmdetection/configs/conditional_detr/metafile.yml  \n",
            "   creating: mmdetection/configs/convnext/\n",
            "  inflating: mmdetection/configs/convnext/README.md  \n",
            "  inflating: mmdetection/configs/convnext/cascade-mask-rcnn_convnext-s-p4-w7_fpn_4conv1fc-giou_amp-ms-crop-3x_coco.py  \n",
            "  inflating: mmdetection/configs/convnext/cascade-mask-rcnn_convnext-t-p4-w7_fpn_4conv1fc-giou_amp-ms-crop-3x_coco.py  \n",
            "  inflating: mmdetection/configs/convnext/mask-rcnn_convnext-t-p4-w7_fpn_amp-ms-crop-3x_coco.py  \n",
            "  inflating: mmdetection/configs/convnext/metafile.yml  \n",
            "   creating: mmdetection/configs/cornernet/\n",
            "  inflating: mmdetection/configs/cornernet/README.md  \n",
            "  inflating: mmdetection/configs/cornernet/cornernet_hourglass104_10xb5-crop511-210e-mstest_coco.py  \n",
            "  inflating: mmdetection/configs/cornernet/cornernet_hourglass104_32xb3-210e-mstest_coco.py  \n",
            "  inflating: mmdetection/configs/cornernet/cornernet_hourglass104_8xb6-210e-mstest_coco.py  \n",
            "  inflating: mmdetection/configs/cornernet/metafile.yml  \n",
            "   creating: mmdetection/configs/crowddet/\n",
            "  inflating: mmdetection/configs/crowddet/README.md  \n",
            "  inflating: mmdetection/configs/crowddet/crowddet-rcnn_r50_fpn_8xb2-30e_crowdhuman.py  \n",
            "  inflating: mmdetection/configs/crowddet/crowddet-rcnn_refine_r50_fpn_8xb2-30e_crowdhuman.py  \n",
            "  inflating: mmdetection/configs/crowddet/metafile.yml  \n",
            "   creating: mmdetection/configs/dab_detr/\n",
            "  inflating: mmdetection/configs/dab_detr/README.md  \n",
            "  inflating: mmdetection/configs/dab_detr/dab-detr_r50_8xb2-50e_coco.py  \n",
            "  inflating: mmdetection/configs/dab_detr/metafile.yml  \n",
            "   creating: mmdetection/configs/dcn/\n",
            "  inflating: mmdetection/configs/dcn/README.md  \n",
            "  inflating: mmdetection/configs/dcn/cascade-mask-rcnn_r101-dconv-c3-c5_fpn_1x_coco.py  \n",
            "  inflating: mmdetection/configs/dcn/cascade-mask-rcnn_r50-dconv-c3-c5_fpn_1x_coco.py  \n",
            "  inflating: mmdetection/configs/dcn/cascade-mask-rcnn_x101-32x4d-dconv-c3-c5_fpn_1x_coco.py  \n",
            "  inflating: mmdetection/configs/dcn/cascade-rcnn_r101-dconv-c3-c5_fpn_1x_coco.py  \n",
            "  inflating: mmdetection/configs/dcn/cascade-rcnn_r50-dconv-c3-c5_fpn_1x_coco.py  \n",
            "  inflating: mmdetection/configs/dcn/faster-rcnn_r101-dconv-c3-c5_fpn_1x_coco.py  \n",
            "  inflating: mmdetection/configs/dcn/faster-rcnn_r50-dconv-c3-c5_fpn_1x_coco.py  \n",
            "  inflating: mmdetection/configs/dcn/faster-rcnn_r50_fpn_dpool_1x_coco.py  \n",
            "  inflating: mmdetection/configs/dcn/faster-rcnn_x101-32x4d-dconv-c3-c5_fpn_1x_coco.py  \n",
            "  inflating: mmdetection/configs/dcn/mask-rcnn_r101-dconv-c3-c5_fpn_1x_coco.py  \n",
            "  inflating: mmdetection/configs/dcn/mask-rcnn_r50-dconv-c3-c5_fpn_1x_coco.py  \n",
            "  inflating: mmdetection/configs/dcn/mask-rcnn_r50-dconv-c3-c5_fpn_amp-1x_coco.py  \n",
            "  inflating: mmdetection/configs/dcn/metafile.yml  \n",
            "   creating: mmdetection/configs/dcnv2/\n",
            "  inflating: mmdetection/configs/dcnv2/README.md  \n",
            "  inflating: mmdetection/configs/dcnv2/faster-rcnn_r50-mdconv-c3-c5_fpn_1x_coco.py  \n",
            "  inflating: mmdetection/configs/dcnv2/faster-rcnn_r50-mdconv-group4-c3-c5_fpn_1x_coco.py  \n",
            "  inflating: mmdetection/configs/dcnv2/faster-rcnn_r50_fpn_mdpool_1x_coco.py  \n",
            "  inflating: mmdetection/configs/dcnv2/mask-rcnn_r50-mdconv-c3-c5_fpn_1x_coco.py  \n",
            "  inflating: mmdetection/configs/dcnv2/mask-rcnn_r50-mdconv-c3-c5_fpn_amp-1x_coco.py  \n",
            "  inflating: mmdetection/configs/dcnv2/metafile.yml  \n",
            "   creating: mmdetection/configs/ddod/\n",
            "  inflating: mmdetection/configs/ddod/README.md  \n",
            "  inflating: mmdetection/configs/ddod/ddod_r50_fpn_1x_coco.py  \n",
            "  inflating: mmdetection/configs/ddod/metafile.yml  \n",
            "   creating: mmdetection/configs/ddq/\n",
            "  inflating: mmdetection/configs/ddq/README.md  \n",
            "  inflating: mmdetection/configs/ddq/ddq-detr-4scale_r50_8xb2-12e_coco.py  \n",
            "  inflating: mmdetection/configs/ddq/ddq-detr-4scale_swinl_8xb2-30e_coco.py  \n",
            "  inflating: mmdetection/configs/ddq/ddq-detr-5scale_r50_8xb2-12e_coco.py  \n",
            "  inflating: mmdetection/configs/ddq/metafile.yml  \n",
            "   creating: mmdetection/configs/deepfashion/\n",
            "  inflating: mmdetection/configs/deepfashion/README.md  \n",
            "  inflating: mmdetection/configs/deepfashion/mask-rcnn_r50_fpn_15e_deepfashion.py  \n",
            "   creating: mmdetection/configs/deepsort/\n",
            "  inflating: mmdetection/configs/deepsort/README.md  \n",
            "  inflating: mmdetection/configs/deepsort/deepsort_faster-rcnn_r50_fpn_8xb2-4e_mot17halftrain_test-mot17halfval.py  \n",
            "  inflating: mmdetection/configs/deepsort/deepsort_faster-rcnn_r50_fpn_8xb2-4e_mot17train_test-mot17test.py  \n",
            "  inflating: mmdetection/configs/deepsort/metafile.yml  \n",
            "   creating: mmdetection/configs/deformable_detr/\n",
            "  inflating: mmdetection/configs/deformable_detr/README.md  \n",
            "  inflating: mmdetection/configs/deformable_detr/deformable-detr-refine-twostage_r50_16xb2-50e_coco.py  \n",
            " extracting: mmdetection/configs/deformable_detr/deformable-detr-refine_r50_16xb2-50e_coco.py  \n",
            "  inflating: mmdetection/configs/deformable_detr/deformable-detr_r50_16xb2-50e_coco.py  \n",
            "  inflating: mmdetection/configs/deformable_detr/metafile.yml  \n",
            "   creating: mmdetection/configs/detectors/\n",
            "  inflating: mmdetection/configs/detectors/README.md  \n",
            "  inflating: mmdetection/configs/detectors/cascade-rcnn_r50-rfp_1x_coco.py  \n",
            "  inflating: mmdetection/configs/detectors/cascade-rcnn_r50-sac_1x_coco.py  \n",
            "  inflating: mmdetection/configs/detectors/detectors_cascade-rcnn_r50_1x_coco.py  \n",
            "  inflating: mmdetection/configs/detectors/detectors_htc-r101_20e_coco.py  \n",
            "  inflating: mmdetection/configs/detectors/detectors_htc-r50_1x_coco.py  \n",
            "  inflating: mmdetection/configs/detectors/htc_r50-rfp_1x_coco.py  \n",
            "  inflating: mmdetection/configs/detectors/htc_r50-sac_1x_coco.py  \n",
            "  inflating: mmdetection/configs/detectors/metafile.yml  \n",
            "   creating: mmdetection/configs/detr/\n",
            "  inflating: mmdetection/configs/detr/README.md  \n",
            "  inflating: mmdetection/configs/detr/detr_r101_8xb2-500e_coco.py  \n",
            "  inflating: mmdetection/configs/detr/detr_r18_8xb2-500e_coco.py  \n",
            "  inflating: mmdetection/configs/detr/detr_r50_8xb2-150e_coco.py  \n",
            "  inflating: mmdetection/configs/detr/detr_r50_8xb2-500e_coco.py  \n",
            "  inflating: mmdetection/configs/detr/metafile.yml  \n",
            "   creating: mmdetection/configs/dino/\n",
            "  inflating: mmdetection/configs/dino/README.md  \n",
            "  inflating: mmdetection/configs/dino/dino-4scale_r50_8xb2-12e_coco.py  \n",
            "  inflating: mmdetection/configs/dino/dino-4scale_r50_8xb2-24e_coco.py  \n",
            "  inflating: mmdetection/configs/dino/dino-4scale_r50_8xb2-36e_coco.py  \n",
            "  inflating: mmdetection/configs/dino/dino-4scale_r50_improved_8xb2-12e_coco.py  \n",
            "  inflating: mmdetection/configs/dino/dino-5scale_swin-l_8xb2-12e_coco.py  \n",
            "  inflating: mmdetection/configs/dino/dino-5scale_swin-l_8xb2-36e_coco.py  \n",
            "  inflating: mmdetection/configs/dino/metafile.yml  \n",
            "   creating: mmdetection/configs/double_heads/\n",
            "  inflating: mmdetection/configs/double_heads/README.md  \n",
            "  inflating: mmdetection/configs/double_heads/dh-faster-rcnn_r50_fpn_1x_coco.py  \n",
            "  inflating: mmdetection/configs/double_heads/metafile.yml  \n",
            "   creating: mmdetection/configs/dsdl/\n",
            "  inflating: mmdetection/configs/dsdl/README.md  \n",
            "  inflating: mmdetection/configs/dsdl/coco.py  \n",
            "  inflating: mmdetection/configs/dsdl/coco_instance.py  \n",
            "  inflating: mmdetection/configs/dsdl/objects365v2.py  \n",
            "  inflating: mmdetection/configs/dsdl/openimagesv6.py  \n",
            "  inflating: mmdetection/configs/dsdl/voc07.py  \n",
            "  inflating: mmdetection/configs/dsdl/voc0712.py  \n",
            "   creating: mmdetection/configs/dyhead/\n",
            "  inflating: mmdetection/configs/dyhead/README.md  \n",
            "  inflating: mmdetection/configs/dyhead/atss_r50-caffe_fpn_dyhead_1x_coco.py  \n",
            "  inflating: mmdetection/configs/dyhead/atss_r50_fpn_dyhead_1x_coco.py  \n",
            "  inflating: mmdetection/configs/dyhead/atss_swin-l-p4-w12_fpn_dyhead_ms-2x_coco.py  \n",
            "  inflating: mmdetection/configs/dyhead/metafile.yml  \n",
            "   creating: mmdetection/configs/dynamic_rcnn/\n",
            "  inflating: mmdetection/configs/dynamic_rcnn/README.md  \n",
            "  inflating: mmdetection/configs/dynamic_rcnn/dynamic-rcnn_r50_fpn_1x_coco.py  \n",
            "  inflating: mmdetection/configs/dynamic_rcnn/metafile.yml  \n",
            "   creating: mmdetection/configs/efficientnet/\n",
            "  inflating: mmdetection/configs/efficientnet/README.md  \n",
            "  inflating: mmdetection/configs/efficientnet/metafile.yml  \n",
            "  inflating: mmdetection/configs/efficientnet/retinanet_effb3_fpn_8xb4-crop896-1x_coco.py  \n",
            "   creating: mmdetection/configs/empirical_attention/\n",
            "  inflating: mmdetection/configs/empirical_attention/README.md  \n",
            "  inflating: mmdetection/configs/empirical_attention/faster-rcnn_r50-attn0010-dcn_fpn_1x_coco.py  \n",
            "  inflating: mmdetection/configs/empirical_attention/faster-rcnn_r50-attn0010_fpn_1x_coco.py  \n",
            "  inflating: mmdetection/configs/empirical_attention/faster-rcnn_r50-attn1111-dcn_fpn_1x_coco.py  \n",
            "  inflating: mmdetection/configs/empirical_attention/faster-rcnn_r50-attn1111_fpn_1x_coco.py  \n",
            "  inflating: mmdetection/configs/empirical_attention/metafile.yml  \n",
            "   creating: mmdetection/configs/fast_rcnn/\n",
            "  inflating: mmdetection/configs/fast_rcnn/README.md  \n",
            "  inflating: mmdetection/configs/fast_rcnn/fast-rcnn_r101-caffe_fpn_1x_coco.py  \n",
            "  inflating: mmdetection/configs/fast_rcnn/fast-rcnn_r101_fpn_1x_coco.py  \n",
            "  inflating: mmdetection/configs/fast_rcnn/fast-rcnn_r101_fpn_2x_coco.py  \n",
            "  inflating: mmdetection/configs/fast_rcnn/fast-rcnn_r50-caffe_fpn_1x_coco.py  \n",
            "  inflating: mmdetection/configs/fast_rcnn/fast-rcnn_r50_fpn_1x_coco.py  \n",
            "  inflating: mmdetection/configs/fast_rcnn/fast-rcnn_r50_fpn_2x_coco.py  \n",
            "   creating: mmdetection/configs/faster_rcnn/\n",
            "  inflating: mmdetection/configs/faster_rcnn/README.md  \n",
            "  inflating: mmdetection/configs/faster_rcnn/faster-rcnn_r101-caffe_fpn_1x_coco.py  \n",
            "  inflating: mmdetection/configs/faster_rcnn/faster-rcnn_r101-caffe_fpn_ms-3x_coco.py  \n",
            "  inflating: mmdetection/configs/faster_rcnn/faster-rcnn_r101_fpn_1x_coco.py  \n",
            "  inflating: mmdetection/configs/faster_rcnn/faster-rcnn_r101_fpn_2x_coco.py  \n",
            "  inflating: mmdetection/configs/faster_rcnn/faster-rcnn_r101_fpn_8xb8-amp-lsj-200e_coco.py  \n",
            "  inflating: mmdetection/configs/faster_rcnn/faster-rcnn_r101_fpn_ms-3x_coco.py  \n",
            "  inflating: mmdetection/configs/faster_rcnn/faster-rcnn_r18_fpn_8xb8-amp-lsj-200e_coco.py  \n",
            "  inflating: mmdetection/configs/faster_rcnn/faster-rcnn_r50-caffe-c4_ms-1x_coco.py  \n",
            "  inflating: mmdetection/configs/faster_rcnn/faster-rcnn_r50-caffe-dc5_1x_coco.py  \n",
            "  inflating: mmdetection/configs/faster_rcnn/faster-rcnn_r50-caffe-dc5_ms-1x_coco.py  \n",
            "  inflating: mmdetection/configs/faster_rcnn/faster-rcnn_r50-caffe-dc5_ms-3x_coco.py  \n",
            "  inflating: mmdetection/configs/faster_rcnn/faster-rcnn_r50-caffe_c4-1x_coco.py  \n",
            "  inflating: mmdetection/configs/faster_rcnn/faster-rcnn_r50-caffe_fpn_1x_coco.py  \n",
            "  inflating: mmdetection/configs/faster_rcnn/faster-rcnn_r50-caffe_fpn_90k_coco.py  \n",
            "  inflating: mmdetection/configs/faster_rcnn/faster-rcnn_r50-caffe_fpn_ms-1x_coco-person-bicycle-car.py  \n",
            "  inflating: mmdetection/configs/faster_rcnn/faster-rcnn_r50-caffe_fpn_ms-1x_coco-person.py  \n",
            "  inflating: mmdetection/configs/faster_rcnn/faster-rcnn_r50-caffe_fpn_ms-1x_coco.py  \n",
            "  inflating: mmdetection/configs/faster_rcnn/faster-rcnn_r50-caffe_fpn_ms-2x_coco.py  \n",
            "  inflating: mmdetection/configs/faster_rcnn/faster-rcnn_r50-caffe_fpn_ms-3x_coco.py  \n",
            "  inflating: mmdetection/configs/faster_rcnn/faster-rcnn_r50-caffe_fpn_ms-90k_coco.py  \n",
            "  inflating: mmdetection/configs/faster_rcnn/faster-rcnn_r50-tnr-pre_fpn_1x_coco.py  \n",
            "  inflating: mmdetection/configs/faster_rcnn/faster-rcnn_r50_fpn_1x_coco.py  \n",
            "  inflating: mmdetection/configs/faster_rcnn/faster-rcnn_r50_fpn_2x_coco.py  \n",
            "  inflating: mmdetection/configs/faster_rcnn/faster-rcnn_r50_fpn_8xb8-amp-lsj-200e_coco.py  \n",
            "  inflating: mmdetection/configs/faster_rcnn/faster-rcnn_r50_fpn_amp-1x_coco.py  \n",
            "  inflating: mmdetection/configs/faster_rcnn/faster-rcnn_r50_fpn_bounded-iou_1x_coco.py  \n",
            "  inflating: mmdetection/configs/faster_rcnn/faster-rcnn_r50_fpn_ciou_1x_coco.py  \n",
            "  inflating: mmdetection/configs/faster_rcnn/faster-rcnn_r50_fpn_fcos-rpn_1x_coco.py  \n",
            "  inflating: mmdetection/configs/faster_rcnn/faster-rcnn_r50_fpn_giou_1x_coco.py  \n",
            "  inflating: mmdetection/configs/faster_rcnn/faster-rcnn_r50_fpn_iou_1x_coco.py  \n",
            "  inflating: mmdetection/configs/faster_rcnn/faster-rcnn_r50_fpn_ms-3x_coco.py  \n",
            "  inflating: mmdetection/configs/faster_rcnn/faster-rcnn_r50_fpn_ohem_1x_coco.py  \n",
            "  inflating: mmdetection/configs/faster_rcnn/faster-rcnn_r50_fpn_soft-nms_1x_coco.py  \n",
            "  inflating: mmdetection/configs/faster_rcnn/faster-rcnn_x101-32x4d_fpn_1x_coco.py  \n",
            "  inflating: mmdetection/configs/faster_rcnn/faster-rcnn_x101-32x4d_fpn_2x_coco.py  \n",
            "  inflating: mmdetection/configs/faster_rcnn/faster-rcnn_x101-32x4d_fpn_ms-3x_coco.py  \n",
            "  inflating: mmdetection/configs/faster_rcnn/faster-rcnn_x101-32x8d_fpn_ms-3x_coco.py  \n",
            "  inflating: mmdetection/configs/faster_rcnn/faster-rcnn_x101-64x4d_fpn_1x_coco.py  \n",
            "  inflating: mmdetection/configs/faster_rcnn/faster-rcnn_x101-64x4d_fpn_2x_coco.py  \n",
            "  inflating: mmdetection/configs/faster_rcnn/faster-rcnn_x101-64x4d_fpn_ms-3x_coco.py  \n",
            "  inflating: mmdetection/configs/faster_rcnn/metafile.yml  \n",
            "   creating: mmdetection/configs/fcos/\n",
            "  inflating: mmdetection/configs/fcos/README.md  \n",
            "  inflating: mmdetection/configs/fcos/fcos_r101-caffe_fpn_gn-head-1x_coco.py  \n",
            "  inflating: mmdetection/configs/fcos/fcos_r101-caffe_fpn_gn-head_ms-640-800-2x_coco.py  \n",
            "  inflating: mmdetection/configs/fcos/fcos_r101_fpn_gn-head-center-normbbox-centeronreg-giou_8xb8-amp-lsj-200e_coco.py  \n",
            "  inflating: mmdetection/configs/fcos/fcos_r18_fpn_gn-head-center-normbbox-centeronreg-giou_8xb8-amp-lsj-200e_coco.py  \n",
            "  inflating: mmdetection/configs/fcos/fcos_r50-caffe_fpn_gn-head-center-normbbox-centeronreg-giou_1x_coco.py  \n",
            "  inflating: mmdetection/configs/fcos/fcos_r50-caffe_fpn_gn-head-center_1x_coco.py  \n",
            "  inflating: mmdetection/configs/fcos/fcos_r50-caffe_fpn_gn-head_1x_coco.py  \n",
            "  inflating: mmdetection/configs/fcos/fcos_r50-caffe_fpn_gn-head_4xb4-1x_coco.py  \n",
            "  inflating: mmdetection/configs/fcos/fcos_r50-caffe_fpn_gn-head_ms-640-800-2x_coco.py  \n",
            "  inflating: mmdetection/configs/fcos/fcos_r50-dcn-caffe_fpn_gn-head-center-normbbox-centeronreg-giou_1x_coco.py  \n",
            "  inflating: mmdetection/configs/fcos/fcos_r50_fpn_gn-head-center-normbbox-centeronreg-giou_8xb8-amp-lsj-200e_coco.py  \n",
            "  inflating: mmdetection/configs/fcos/fcos_x101-64x4d_fpn_gn-head_ms-640-800-2x_coco.py  \n",
            "  inflating: mmdetection/configs/fcos/metafile.yml  \n",
            "   creating: mmdetection/configs/foveabox/\n",
            "  inflating: mmdetection/configs/foveabox/README.md  \n",
            "  inflating: mmdetection/configs/foveabox/fovea_r101_fpn_4xb4-1x_coco.py  \n",
            "  inflating: mmdetection/configs/foveabox/fovea_r101_fpn_4xb4-2x_coco.py  \n",
            "  inflating: mmdetection/configs/foveabox/fovea_r101_fpn_gn-head-align_4xb4-2x_coco.py  \n",
            "  inflating: mmdetection/configs/foveabox/fovea_r101_fpn_gn-head-align_ms-640-800-4xb4-2x_coco.py  \n",
            "  inflating: mmdetection/configs/foveabox/fovea_r50_fpn_4xb4-1x_coco.py  \n",
            "  inflating: mmdetection/configs/foveabox/fovea_r50_fpn_4xb4-2x_coco.py  \n",
            "  inflating: mmdetection/configs/foveabox/fovea_r50_fpn_gn-head-align_4xb4-2x_coco.py  \n",
            "  inflating: mmdetection/configs/foveabox/fovea_r50_fpn_gn-head-align_ms-640-800-4xb4-2x_coco.py  \n",
            "  inflating: mmdetection/configs/foveabox/metafile.yml  \n",
            "   creating: mmdetection/configs/fpg/\n",
            "  inflating: mmdetection/configs/fpg/README.md  \n",
            "  inflating: mmdetection/configs/fpg/faster-rcnn_r50_fpg-chn128_crop640-50e_coco.py  \n",
            "  inflating: mmdetection/configs/fpg/faster-rcnn_r50_fpg_crop640-50e_coco.py  \n",
            "  inflating: mmdetection/configs/fpg/faster-rcnn_r50_fpn_crop640-50e_coco.py  \n",
            "  inflating: mmdetection/configs/fpg/mask-rcnn_r50_fpg-chn128_crop640-50e_coco.py  \n",
            "  inflating: mmdetection/configs/fpg/mask-rcnn_r50_fpg_crop640-50e_coco.py  \n",
            "  inflating: mmdetection/configs/fpg/mask-rcnn_r50_fpn_crop640-50e_coco.py  \n",
            "  inflating: mmdetection/configs/fpg/metafile.yml  \n",
            "  inflating: mmdetection/configs/fpg/retinanet_r50_fpg-chn128_crop640_50e_coco.py  \n",
            "  inflating: mmdetection/configs/fpg/retinanet_r50_fpg_crop640_50e_coco.py  \n",
            "   creating: mmdetection/configs/free_anchor/\n",
            "  inflating: mmdetection/configs/free_anchor/README.md  \n",
            "  inflating: mmdetection/configs/free_anchor/freeanchor_r101_fpn_1x_coco.py  \n",
            "  inflating: mmdetection/configs/free_anchor/freeanchor_r50_fpn_1x_coco.py  \n",
            "  inflating: mmdetection/configs/free_anchor/freeanchor_x101-32x4d_fpn_1x_coco.py  \n",
            "  inflating: mmdetection/configs/free_anchor/metafile.yml  \n",
            "   creating: mmdetection/configs/fsaf/\n",
            "  inflating: mmdetection/configs/fsaf/README.md  \n",
            "  inflating: mmdetection/configs/fsaf/fsaf_r101_fpn_1x_coco.py  \n",
            "  inflating: mmdetection/configs/fsaf/fsaf_r50_fpn_1x_coco.py  \n",
            "  inflating: mmdetection/configs/fsaf/fsaf_x101-64x4d_fpn_1x_coco.py  \n",
            "  inflating: mmdetection/configs/fsaf/metafile.yml  \n",
            "   creating: mmdetection/configs/gcnet/\n",
            "  inflating: mmdetection/configs/gcnet/README.md  \n",
            "  inflating: mmdetection/configs/gcnet/cascade-mask-rcnn_x101-32x4d-syncbn-dconv-c3-c5-r16-gcb-c3-c5_fpn_1x_coco.py  \n",
            "  inflating: mmdetection/configs/gcnet/cascade-mask-rcnn_x101-32x4d-syncbn-dconv-c3-c5-r4-gcb-c3-c5_fpn_1x_coco.py  \n",
            "  inflating: mmdetection/configs/gcnet/cascade-mask-rcnn_x101-32x4d-syncbn-dconv-c3-c5_fpn_1x_coco.py  \n",
            "  inflating: mmdetection/configs/gcnet/cascade-mask-rcnn_x101-32x4d-syncbn-r16-gcb-c3-c5_fpn_1x_coco.py  \n",
            "  inflating: mmdetection/configs/gcnet/cascade-mask-rcnn_x101-32x4d-syncbn-r4-gcb-c3-c5_fpn_1x_coco.py  \n",
            "  inflating: mmdetection/configs/gcnet/cascade-mask-rcnn_x101-32x4d-syncbn_fpn_1x_coco.py  \n",
            "  inflating: mmdetection/configs/gcnet/mask-rcnn_r101-gcb-r16-c3-c5_fpn_1x_coco.py  \n",
            "  inflating: mmdetection/configs/gcnet/mask-rcnn_r101-gcb-r4-c3-c5_fpn_1x_coco.py  \n",
            "  inflating: mmdetection/configs/gcnet/mask-rcnn_r101-syncbn-gcb-r16-c3-c5_fpn_1x_coco.py  \n",
            "  inflating: mmdetection/configs/gcnet/mask-rcnn_r101-syncbn-gcb-r4-c3-c5_fpn_1x_coco.py  \n",
            "  inflating: mmdetection/configs/gcnet/mask-rcnn_r101-syncbn_fpn_1x_coco.py  \n",
            "  inflating: mmdetection/configs/gcnet/mask-rcnn_r50-gcb-r16-c3-c5_fpn_1x_coco.py  \n",
            "  inflating: mmdetection/configs/gcnet/mask-rcnn_r50-gcb-r4-c3-c5_fpn_1x_coco.py  \n",
            "  inflating: mmdetection/configs/gcnet/mask-rcnn_r50-syncbn-gcb-r16-c3-c5_fpn_1x_coco.py  \n",
            "  inflating: mmdetection/configs/gcnet/mask-rcnn_r50-syncbn-gcb-r4-c3-c5_fpn_1x_coco.py  \n",
            "  inflating: mmdetection/configs/gcnet/mask-rcnn_r50-syncbn_fpn_1x_coco.py  \n",
            "  inflating: mmdetection/configs/gcnet/mask-rcnn_x101-32x4d-syncbn-gcb-r16-c3-c5_fpn_1x_coco.py  \n",
            "  inflating: mmdetection/configs/gcnet/mask-rcnn_x101-32x4d-syncbn-gcb-r4-c3-c5_fpn_1x_coco.py  \n",
            "  inflating: mmdetection/configs/gcnet/mask-rcnn_x101-32x4d-syncbn_fpn_1x_coco.py  \n",
            "  inflating: mmdetection/configs/gcnet/metafile.yml  \n",
            "   creating: mmdetection/configs/gfl/\n",
            "  inflating: mmdetection/configs/gfl/README.md  \n",
            "  inflating: mmdetection/configs/gfl/gfl_r101-dconv-c3-c5_fpn_ms-2x_coco.py  \n",
            "  inflating: mmdetection/configs/gfl/gfl_r101_fpn_ms-2x_coco.py  \n",
            "  inflating: mmdetection/configs/gfl/gfl_r50_fpn_1x_coco.py  \n",
            "  inflating: mmdetection/configs/gfl/gfl_r50_fpn_ms-2x_coco.py  \n",
            "  inflating: mmdetection/configs/gfl/gfl_x101-32x4d-dconv-c4-c5_fpn_ms-2x_coco.py  \n",
            "  inflating: mmdetection/configs/gfl/gfl_x101-32x4d_fpn_ms-2x_coco.py  \n",
            "  inflating: mmdetection/configs/gfl/metafile.yml  \n",
            "   creating: mmdetection/configs/ghm/\n",
            "  inflating: mmdetection/configs/ghm/README.md  \n",
            "  inflating: mmdetection/configs/ghm/metafile.yml  \n",
            "  inflating: mmdetection/configs/ghm/retinanet_r101_fpn_ghm-1x_coco.py  \n",
            "  inflating: mmdetection/configs/ghm/retinanet_r50_fpn_ghm-1x_coco.py  \n",
            "  inflating: mmdetection/configs/ghm/retinanet_x101-32x4d_fpn_ghm-1x_coco.py  \n",
            "  inflating: mmdetection/configs/ghm/retinanet_x101-64x4d_fpn_ghm-1x_coco.py  \n",
            "   creating: mmdetection/configs/glip/\n",
            "  inflating: mmdetection/configs/glip/README.md  \n",
            "   creating: mmdetection/configs/glip/flickr30k/\n",
            "  inflating: mmdetection/configs/glip/flickr30k/glip_atss_swin-t_c_fpn_dyhead_pretrain_obj365-goldg_zeroshot_flickr30k.py  \n",
            "  inflating: mmdetection/configs/glip/glip_atss_swin-l_fpn_dyhead_16xb2_ms-2x_funtune_coco.py  \n",
            "  inflating: mmdetection/configs/glip/glip_atss_swin-l_fpn_dyhead_pretrain_mixeddata.py  \n",
            "  inflating: mmdetection/configs/glip/glip_atss_swin-t_a_fpn_dyhead_16xb2_ms-2x_funtune_coco.py  \n",
            "  inflating: mmdetection/configs/glip/glip_atss_swin-t_a_fpn_dyhead_pretrain_obj365.py  \n",
            "  inflating: mmdetection/configs/glip/glip_atss_swin-t_b_fpn_dyhead_16xb2_ms-2x_funtune_coco.py  \n",
            "  inflating: mmdetection/configs/glip/glip_atss_swin-t_b_fpn_dyhead_pretrain_obj365.py  \n",
            "  inflating: mmdetection/configs/glip/glip_atss_swin-t_c_fpn_dyhead_16xb2_ms-2x_funtune_coco.py  \n",
            " extracting: mmdetection/configs/glip/glip_atss_swin-t_c_fpn_dyhead_pretrain_obj365-goldg.py  \n",
            "  inflating: mmdetection/configs/glip/glip_atss_swin-t_fpn_dyhead_16xb2_ms-2x_funtune_coco.py  \n",
            " extracting: mmdetection/configs/glip/glip_atss_swin-t_fpn_dyhead_pretrain_obj365-goldg-cc3m-sub.py  \n",
            "   creating: mmdetection/configs/glip/lvis/\n",
            "  inflating: mmdetection/configs/glip/lvis/glip_atss_swin-l_fpn_dyhead_pretrain_zeroshot_lvis.py  \n",
            "  inflating: mmdetection/configs/glip/lvis/glip_atss_swin-l_fpn_dyhead_pretrain_zeroshot_mini-lvis.py  \n",
            "  inflating: mmdetection/configs/glip/lvis/glip_atss_swin-t_a_fpn_dyhead_pretrain_zeroshot_lvis.py  \n",
            "  inflating: mmdetection/configs/glip/lvis/glip_atss_swin-t_a_fpn_dyhead_pretrain_zeroshot_mini-lvis.py  \n",
            "  inflating: mmdetection/configs/glip/lvis/glip_atss_swin-t_bc_fpn_dyhead_pretrain_zeroshot_lvis.py  \n",
            "  inflating: mmdetection/configs/glip/lvis/glip_atss_swin-t_bc_fpn_dyhead_pretrain_zeroshot_mini-lvis.py  \n",
            "  inflating: mmdetection/configs/glip/metafile.yml  \n",
            "   creating: mmdetection/configs/glip/odinw/\n",
            "  inflating: mmdetection/configs/glip/odinw/glip_atss_swin-t_a_fpn_dyhead_pretrain_odinw13.py  \n",
            "  inflating: mmdetection/configs/glip/odinw/glip_atss_swin-t_a_fpn_dyhead_pretrain_odinw35.py  \n",
            "  inflating: mmdetection/configs/glip/odinw/glip_atss_swin-t_bc_fpn_dyhead_pretrain_odinw13.py  \n",
            "  inflating: mmdetection/configs/glip/odinw/glip_atss_swin-t_bc_fpn_dyhead_pretrain_odinw35.py  \n",
            "  inflating: mmdetection/configs/glip/odinw/override_category.py  \n",
            "   creating: mmdetection/configs/gn/\n",
            "  inflating: mmdetection/configs/gn/README.md  \n",
            "  inflating: mmdetection/configs/gn/mask-rcnn_r101_fpn_gn-all_2x_coco.py  \n",
            "  inflating: mmdetection/configs/gn/mask-rcnn_r101_fpn_gn-all_3x_coco.py  \n",
            "  inflating: mmdetection/configs/gn/mask-rcnn_r50-contrib_fpn_gn-all_2x_coco.py  \n",
            "  inflating: mmdetection/configs/gn/mask-rcnn_r50-contrib_fpn_gn-all_3x_coco.py  \n",
            "  inflating: mmdetection/configs/gn/mask-rcnn_r50_fpn_gn-all_2x_coco.py  \n",
            "  inflating: mmdetection/configs/gn/mask-rcnn_r50_fpn_gn-all_3x_coco.py  \n",
            "  inflating: mmdetection/configs/gn/metafile.yml  \n",
            "   creating: mmdetection/configs/gn+ws/\n",
            "  inflating: mmdetection/configs/gn+ws/README.md  \n",
            "  inflating: mmdetection/configs/gn+ws/faster-rcnn_r101_fpn_gn-ws-all_1x_coco.py  \n",
            "  inflating: mmdetection/configs/gn+ws/faster-rcnn_r50_fpn_gn-ws-all_1x_coco.py  \n",
            "  inflating: mmdetection/configs/gn+ws/faster-rcnn_x101-32x4d_fpn_gn-ws-all_1x_coco.py  \n",
            "  inflating: mmdetection/configs/gn+ws/faster-rcnn_x50-32x4d_fpn_gn-ws-all_1x_coco.py  \n",
            "  inflating: mmdetection/configs/gn+ws/mask-rcnn_r101_fpn_gn-ws-all_20-23-24e_coco.py  \n",
            "  inflating: mmdetection/configs/gn+ws/mask-rcnn_r101_fpn_gn-ws-all_2x_coco.py  \n",
            "  inflating: mmdetection/configs/gn+ws/mask-rcnn_r50_fpn_gn-ws-all_20-23-24e_coco.py  \n",
            "  inflating: mmdetection/configs/gn+ws/mask-rcnn_r50_fpn_gn-ws-all_2x_coco.py  \n",
            "  inflating: mmdetection/configs/gn+ws/mask-rcnn_x101-32x4d_fpn_gn-ws-all_20-23-24e_coco.py  \n",
            "  inflating: mmdetection/configs/gn+ws/mask-rcnn_x101-32x4d_fpn_gn-ws-all_2x_coco.py  \n",
            "  inflating: mmdetection/configs/gn+ws/mask-rcnn_x50-32x4d_fpn_gn-ws-all_20-23-24e_coco.py  \n",
            "  inflating: mmdetection/configs/gn+ws/mask-rcnn_x50-32x4d_fpn_gn-ws-all_2x_coco.py  \n",
            "  inflating: mmdetection/configs/gn+ws/metafile.yml  \n",
            "   creating: mmdetection/configs/grid_rcnn/\n",
            "  inflating: mmdetection/configs/grid_rcnn/README.md  \n",
            "  inflating: mmdetection/configs/grid_rcnn/grid-rcnn_r101_fpn_gn-head_2x_coco.py  \n",
            "  inflating: mmdetection/configs/grid_rcnn/grid-rcnn_r50_fpn_gn-head_1x_coco.py  \n",
            "  inflating: mmdetection/configs/grid_rcnn/grid-rcnn_r50_fpn_gn-head_2x_coco.py  \n",
            "  inflating: mmdetection/configs/grid_rcnn/grid-rcnn_x101-32x4d_fpn_gn-head_2x_coco.py  \n",
            "  inflating: mmdetection/configs/grid_rcnn/grid-rcnn_x101-64x4d_fpn_gn-head_2x_coco.py  \n",
            "  inflating: mmdetection/configs/grid_rcnn/metafile.yml  \n",
            "   creating: mmdetection/configs/groie/\n",
            "  inflating: mmdetection/configs/groie/README.md  \n",
            "  inflating: mmdetection/configs/groie/faste-rcnn_r50_fpn_groie_1x_coco.py  \n",
            "  inflating: mmdetection/configs/groie/grid-rcnn_r50_fpn_gn-head-groie_1x_coco.py  \n",
            "  inflating: mmdetection/configs/groie/mask-rcnn_r101_fpn_syncbn-r4-gcb_c3-c5-groie_1x_coco.py  \n",
            "  inflating: mmdetection/configs/groie/mask-rcnn_r50_fpn_groie_1x_coco.py  \n",
            "  inflating: mmdetection/configs/groie/mask-rcnn_r50_fpn_syncbn-r4-gcb-c3-c5-groie_1x_coco.py  \n",
            "  inflating: mmdetection/configs/groie/metafile.yml  \n",
            "   creating: mmdetection/configs/grounding_dino/\n",
            "  inflating: mmdetection/configs/grounding_dino/README.md  \n",
            "   creating: mmdetection/configs/grounding_dino/dod/\n",
            "  inflating: mmdetection/configs/grounding_dino/dod/grounding_dino_swin-b_pretrain_zeroshot_concat_dod.py  \n",
            "  inflating: mmdetection/configs/grounding_dino/dod/grounding_dino_swin-b_pretrain_zeroshot_parallel_dod.py  \n",
            "  inflating: mmdetection/configs/grounding_dino/dod/grounding_dino_swin-t_pretrain_zeroshot_concat_dod.py  \n",
            "  inflating: mmdetection/configs/grounding_dino/dod/grounding_dino_swin-t_pretrain_zeroshot_parallel_dod.py  \n",
            "   creating: mmdetection/configs/grounding_dino/flickr30k/\n",
            "  inflating: mmdetection/configs/grounding_dino/flickr30k/grounding_dino_swin-t-pretrain_zeroshot_flickr30k.py  \n",
            "  inflating: mmdetection/configs/grounding_dino/grounding_dino_r50_scratch_8xb2_1x_coco.py  \n",
            "  inflating: mmdetection/configs/grounding_dino/grounding_dino_swin-b_finetune_16xb2_1x_coco.py  \n",
            "  inflating: mmdetection/configs/grounding_dino/grounding_dino_swin-b_pretrain_mixeddata.py  \n",
            "  inflating: mmdetection/configs/grounding_dino/grounding_dino_swin-t_finetune_16xb2_1x_coco.py  \n",
            "  inflating: mmdetection/configs/grounding_dino/grounding_dino_swin-t_finetune_8xb2_20e_cat.py  \n",
            "  inflating: mmdetection/configs/grounding_dino/grounding_dino_swin-t_pretrain_obj365_goldg_cap4m.py  \n",
            "   creating: mmdetection/configs/grounding_dino/lvis/\n",
            "  inflating: mmdetection/configs/grounding_dino/lvis/grounding_dino_swin-b_pretrain_zeroshot_lvis.py  \n",
            "  inflating: mmdetection/configs/grounding_dino/lvis/grounding_dino_swin-b_pretrain_zeroshot_mini-lvis.py  \n",
            "  inflating: mmdetection/configs/grounding_dino/lvis/grounding_dino_swin-t_pretrain_zeroshot_lvis.py  \n",
            "  inflating: mmdetection/configs/grounding_dino/lvis/grounding_dino_swin-t_pretrain_zeroshot_mini-lvis.py  \n",
            "  inflating: mmdetection/configs/grounding_dino/metafile.yml  \n",
            "   creating: mmdetection/configs/grounding_dino/odinw/\n",
            "  inflating: mmdetection/configs/grounding_dino/odinw/grounding_dino_swin-b_pretrain_odinw13.py  \n",
            "  inflating: mmdetection/configs/grounding_dino/odinw/grounding_dino_swin-b_pretrain_odinw35.py  \n",
            "  inflating: mmdetection/configs/grounding_dino/odinw/grounding_dino_swin-t_pretrain_odinw13.py  \n",
            "  inflating: mmdetection/configs/grounding_dino/odinw/grounding_dino_swin-t_pretrain_odinw35.py  \n",
            "  inflating: mmdetection/configs/grounding_dino/odinw/override_category.py  \n",
            "   creating: mmdetection/configs/grounding_dino/refcoco/\n",
            "  inflating: mmdetection/configs/grounding_dino/refcoco/grounding_dino_swin-b_pretrain_zeroshot_refexp.py  \n",
            "  inflating: mmdetection/configs/grounding_dino/refcoco/grounding_dino_swin-t_pretrain_zeroshot_refexp.py  \n",
            "   creating: mmdetection/configs/guided_anchoring/\n",
            "  inflating: mmdetection/configs/guided_anchoring/README.md  \n",
            "  inflating: mmdetection/configs/guided_anchoring/ga-fast-rcnn_r50-caffe_fpn_1x_coco.py  \n",
            "  inflating: mmdetection/configs/guided_anchoring/ga-faster-rcnn_r101-caffe_fpn_1x_coco.py  \n",
            "  inflating: mmdetection/configs/guided_anchoring/ga-faster-rcnn_r50-caffe_fpn_1x_coco.py  \n",
            "  inflating: mmdetection/configs/guided_anchoring/ga-faster-rcnn_r50_fpn_1x_coco.py  \n",
            "  inflating: mmdetection/configs/guided_anchoring/ga-faster-rcnn_x101-32x4d_fpn_1x_coco.py  \n",
            "  inflating: mmdetection/configs/guided_anchoring/ga-faster-rcnn_x101-64x4d_fpn_1x_coco.py  \n",
            "  inflating: mmdetection/configs/guided_anchoring/ga-retinanet_r101-caffe_fpn_1x_coco.py  \n",
            "  inflating: mmdetection/configs/guided_anchoring/ga-retinanet_r101-caffe_fpn_ms-2x.py  \n",
            "  inflating: mmdetection/configs/guided_anchoring/ga-retinanet_r50-caffe_fpn_1x_coco.py  \n",
            "  inflating: mmdetection/configs/guided_anchoring/ga-retinanet_r50_fpn_1x_coco.py  \n",
            "  inflating: mmdetection/configs/guided_anchoring/ga-retinanet_x101-32x4d_fpn_1x_coco.py  \n",
            "  inflating: mmdetection/configs/guided_anchoring/ga-retinanet_x101-64x4d_fpn_1x_coco.py  \n",
            "  inflating: mmdetection/configs/guided_anchoring/ga-rpn_r101-caffe_fpn_1x_coco.py  \n",
            "  inflating: mmdetection/configs/guided_anchoring/ga-rpn_r50-caffe_fpn_1x_coco.py  \n",
            "  inflating: mmdetection/configs/guided_anchoring/ga-rpn_r50_fpn_1x_coco.py  \n",
            "  inflating: mmdetection/configs/guided_anchoring/ga-rpn_x101-32x4d_fpn_1x_coco.py  \n",
            "  inflating: mmdetection/configs/guided_anchoring/ga-rpn_x101-64x4d_fpn_1x_coco.py  \n",
            "  inflating: mmdetection/configs/guided_anchoring/metafile.yml  \n",
            "   creating: mmdetection/configs/hrnet/\n",
            "  inflating: mmdetection/configs/hrnet/README.md  \n",
            "  inflating: mmdetection/configs/hrnet/cascade-mask-rcnn_hrnetv2p-w18_20e_coco.py  \n",
            "  inflating: mmdetection/configs/hrnet/cascade-mask-rcnn_hrnetv2p-w32_20e_coco.py  \n",
            "  inflating: mmdetection/configs/hrnet/cascade-mask-rcnn_hrnetv2p-w40-20e_coco.py  \n",
            "  inflating: mmdetection/configs/hrnet/cascade-rcnn_hrnetv2p-w18-20e_coco.py  \n",
            "  inflating: mmdetection/configs/hrnet/cascade-rcnn_hrnetv2p-w32-20e_coco.py  \n",
            "  inflating: mmdetection/configs/hrnet/cascade-rcnn_hrnetv2p-w40-20e_coco.py  \n",
            "  inflating: mmdetection/configs/hrnet/faster-rcnn_hrnetv2p-w18-1x_coco.py  \n",
            "  inflating: mmdetection/configs/hrnet/faster-rcnn_hrnetv2p-w18-2x_coco.py  \n",
            "  inflating: mmdetection/configs/hrnet/faster-rcnn_hrnetv2p-w32-1x_coco.py  \n",
            "  inflating: mmdetection/configs/hrnet/faster-rcnn_hrnetv2p-w32_2x_coco.py  \n",
            "  inflating: mmdetection/configs/hrnet/faster-rcnn_hrnetv2p-w40-1x_coco.py  \n",
            "  inflating: mmdetection/configs/hrnet/faster-rcnn_hrnetv2p-w40_2x_coco.py  \n",
            "  inflating: mmdetection/configs/hrnet/fcos_hrnetv2p-w18-gn-head_4xb4-1x_coco.py  \n",
            "  inflating: mmdetection/configs/hrnet/fcos_hrnetv2p-w18-gn-head_4xb4-2x_coco.py  \n",
            "  inflating: mmdetection/configs/hrnet/fcos_hrnetv2p-w18-gn-head_ms-640-800-4xb4-2x_coco.py  \n",
            "  inflating: mmdetection/configs/hrnet/fcos_hrnetv2p-w32-gn-head_4xb4-1x_coco.py  \n",
            "  inflating: mmdetection/configs/hrnet/fcos_hrnetv2p-w32-gn-head_4xb4-2x_coco.py  \n",
            "  inflating: mmdetection/configs/hrnet/fcos_hrnetv2p-w32-gn-head_ms-640-800-4xb4-2x_coco.py  \n",
            "  inflating: mmdetection/configs/hrnet/fcos_hrnetv2p-w40-gn-head_ms-640-800-4xb4-2x_coco.py  \n",
            "  inflating: mmdetection/configs/hrnet/htc_hrnetv2p-w18_20e_coco.py  \n",
            "  inflating: mmdetection/configs/hrnet/htc_hrnetv2p-w32_20e_coco.py  \n",
            "  inflating: mmdetection/configs/hrnet/htc_hrnetv2p-w40_20e_coco.py  \n",
            "  inflating: mmdetection/configs/hrnet/htc_hrnetv2p-w40_28e_coco.py  \n",
            "  inflating: mmdetection/configs/hrnet/htc_x101-64x4d_fpn_16xb1-28e_coco.py  \n",
            "  inflating: mmdetection/configs/hrnet/mask-rcnn_hrnetv2p-w18-1x_coco.py  \n",
            "  inflating: mmdetection/configs/hrnet/mask-rcnn_hrnetv2p-w18-2x_coco.py  \n",
            "  inflating: mmdetection/configs/hrnet/mask-rcnn_hrnetv2p-w32-1x_coco.py  \n",
            "  inflating: mmdetection/configs/hrnet/mask-rcnn_hrnetv2p-w32-2x_coco.py  \n",
            "  inflating: mmdetection/configs/hrnet/mask-rcnn_hrnetv2p-w40-2x_coco.py  \n",
            "  inflating: mmdetection/configs/hrnet/mask-rcnn_hrnetv2p-w40_1x_coco.py  \n",
            "  inflating: mmdetection/configs/hrnet/metafile.yml  \n",
            "   creating: mmdetection/configs/htc/\n",
            "  inflating: mmdetection/configs/htc/README.md  \n",
            "  inflating: mmdetection/configs/htc/htc-without-semantic_r50_fpn_1x_coco.py  \n",
            "  inflating: mmdetection/configs/htc/htc_r101_fpn_20e_coco.py  \n",
            "  inflating: mmdetection/configs/htc/htc_r50_fpn_1x_coco.py  \n",
            "  inflating: mmdetection/configs/htc/htc_r50_fpn_20e_coco.py  \n",
            "  inflating: mmdetection/configs/htc/htc_x101-32x4d_fpn_16xb1-20e_coco.py  \n",
            "  inflating: mmdetection/configs/htc/htc_x101-64x4d-dconv-c3-c5_fpn_ms-400-1400-16xb1-20e_coco.py  \n",
            "  inflating: mmdetection/configs/htc/htc_x101-64x4d_fpn_16xb1-20e_coco.py  \n",
            "  inflating: mmdetection/configs/htc/metafile.yml  \n",
            "   creating: mmdetection/configs/instaboost/\n",
            "  inflating: mmdetection/configs/instaboost/README.md  \n",
            "  inflating: mmdetection/configs/instaboost/cascade-mask-rcnn_r101_fpn_instaboost-4x_coco.py  \n",
            "  inflating: mmdetection/configs/instaboost/cascade-mask-rcnn_r50_fpn_instaboost-4x_coco.py  \n",
            "  inflating: mmdetection/configs/instaboost/cascade-mask-rcnn_x101-64x4d_fpn_instaboost-4x_coco.py  \n",
            "  inflating: mmdetection/configs/instaboost/mask-rcnn_r101_fpn_instaboost-4x_coco.py  \n",
            "  inflating: mmdetection/configs/instaboost/mask-rcnn_r50_fpn_instaboost-4x_coco.py  \n",
            "  inflating: mmdetection/configs/instaboost/mask-rcnn_x101-64x4d_fpn_instaboost-4x_coco.py  \n",
            "  inflating: mmdetection/configs/instaboost/metafile.yml  \n",
            "   creating: mmdetection/configs/lad/\n",
            "  inflating: mmdetection/configs/lad/README.md  \n",
            "  inflating: mmdetection/configs/lad/lad_r101-paa-r50_fpn_2xb8_coco_1x.py  \n",
            "  inflating: mmdetection/configs/lad/lad_r50-paa-r101_fpn_2xb8_coco_1x.py  \n",
            "  inflating: mmdetection/configs/lad/metafile.yml  \n",
            "   creating: mmdetection/configs/ld/\n",
            "  inflating: mmdetection/configs/ld/README.md  \n",
            "  inflating: mmdetection/configs/ld/ld_r101-gflv1-r101-dcn_fpn_2x_coco.py  \n",
            "  inflating: mmdetection/configs/ld/ld_r18-gflv1-r101_fpn_1x_coco.py  \n",
            "  inflating: mmdetection/configs/ld/ld_r34-gflv1-r101_fpn_1x_coco.py  \n",
            "  inflating: mmdetection/configs/ld/ld_r50-gflv1-r101_fpn_1x_coco.py  \n",
            "  inflating: mmdetection/configs/ld/metafile.yml  \n",
            "   creating: mmdetection/configs/legacy_1.x/\n",
            "  inflating: mmdetection/configs/legacy_1.x/README.md  \n",
            "  inflating: mmdetection/configs/legacy_1.x/cascade-mask-rcnn_r50_fpn_1x_coco_v1.py  \n",
            "  inflating: mmdetection/configs/legacy_1.x/faster-rcnn_r50_fpn_1x_coco_v1.py  \n",
            "  inflating: mmdetection/configs/legacy_1.x/mask-rcnn_r50_fpn_1x_coco_v1.py  \n",
            "  inflating: mmdetection/configs/legacy_1.x/retinanet_r50-caffe_fpn_1x_coco_v1.py  \n",
            "  inflating: mmdetection/configs/legacy_1.x/retinanet_r50_fpn_1x_coco_v1.py  \n",
            "  inflating: mmdetection/configs/legacy_1.x/ssd300_coco_v1.py  \n",
            "   creating: mmdetection/configs/libra_rcnn/\n",
            "  inflating: mmdetection/configs/libra_rcnn/README.md  \n",
            "  inflating: mmdetection/configs/libra_rcnn/libra-fast-rcnn_r50_fpn_1x_coco.py  \n",
            "  inflating: mmdetection/configs/libra_rcnn/libra-faster-rcnn_r101_fpn_1x_coco.py  \n",
            "  inflating: mmdetection/configs/libra_rcnn/libra-faster-rcnn_r50_fpn_1x_coco.py  \n",
            "  inflating: mmdetection/configs/libra_rcnn/libra-faster-rcnn_x101-64x4d_fpn_1x_coco.py  \n",
            "  inflating: mmdetection/configs/libra_rcnn/libra-retinanet_r50_fpn_1x_coco.py  \n",
            "  inflating: mmdetection/configs/libra_rcnn/metafile.yml  \n",
            "   creating: mmdetection/configs/lvis/\n",
            "  inflating: mmdetection/configs/lvis/README.md  \n",
            "  inflating: mmdetection/configs/lvis/mask-rcnn_r101_fpn_sample1e-3_ms-1x_lvis-v1.py  \n",
            "  inflating: mmdetection/configs/lvis/mask-rcnn_r101_fpn_sample1e-3_ms-2x_lvis-v0.5.py  \n",
            "  inflating: mmdetection/configs/lvis/mask-rcnn_r50_fpn_sample1e-3_ms-1x_lvis-v1.py  \n",
            "  inflating: mmdetection/configs/lvis/mask-rcnn_r50_fpn_sample1e-3_ms-2x_lvis-v0.5.py  \n",
            "  inflating: mmdetection/configs/lvis/mask-rcnn_x101-32x4d_fpn_sample1e-3_ms-1x_lvis-v1.py  \n",
            "  inflating: mmdetection/configs/lvis/mask-rcnn_x101-32x4d_fpn_sample1e-3_ms-2x_lvis-v0.5.py  \n",
            "  inflating: mmdetection/configs/lvis/mask-rcnn_x101-64x4d_fpn_sample1e-3_ms-1x_lvis-v1.py  \n",
            "  inflating: mmdetection/configs/lvis/mask-rcnn_x101-64x4d_fpn_sample1e-3_ms-2x_lvis-v0.5.py  \n",
            "  inflating: mmdetection/configs/lvis/metafile.yml  \n",
            "   creating: mmdetection/configs/mask2former/\n",
            "  inflating: mmdetection/configs/mask2former/README.md  \n",
            "  inflating: mmdetection/configs/mask2former/mask2former_r101_8xb2-lsj-50e_coco-panoptic.py  \n",
            "  inflating: mmdetection/configs/mask2former/mask2former_r101_8xb2-lsj-50e_coco.py  \n",
            "  inflating: mmdetection/configs/mask2former/mask2former_r50_8xb2-lsj-50e_coco-panoptic.py  \n",
            "  inflating: mmdetection/configs/mask2former/mask2former_r50_8xb2-lsj-50e_coco.py  \n",
            "  inflating: mmdetection/configs/mask2former/mask2former_swin-b-p4-w12-384-in21k_8xb2-lsj-50e_coco-panoptic.py  \n",
            "  inflating: mmdetection/configs/mask2former/mask2former_swin-b-p4-w12-384_8xb2-lsj-50e_coco-panoptic.py  \n",
            "  inflating: mmdetection/configs/mask2former/mask2former_swin-l-p4-w12-384-in21k_16xb1-lsj-100e_coco-panoptic.py  \n",
            "  inflating: mmdetection/configs/mask2former/mask2former_swin-s-p4-w7-224_8xb2-lsj-50e_coco-panoptic.py  \n",
            "  inflating: mmdetection/configs/mask2former/mask2former_swin-s-p4-w7-224_8xb2-lsj-50e_coco.py  \n",
            "  inflating: mmdetection/configs/mask2former/mask2former_swin-t-p4-w7-224_8xb2-lsj-50e_coco-panoptic.py  \n",
            "  inflating: mmdetection/configs/mask2former/mask2former_swin-t-p4-w7-224_8xb2-lsj-50e_coco.py  \n",
            "  inflating: mmdetection/configs/mask2former/metafile.yml  \n",
            "   creating: mmdetection/configs/mask2former_vis/\n",
            "  inflating: mmdetection/configs/mask2former_vis/README.md  \n",
            "  inflating: mmdetection/configs/mask2former_vis/mask2former_r101_8xb2-8e_youtubevis2019.py  \n",
            "  inflating: mmdetection/configs/mask2former_vis/mask2former_r101_8xb2-8e_youtubevis2021.py  \n",
            "  inflating: mmdetection/configs/mask2former_vis/mask2former_r50_8xb2-8e_youtubevis2019.py  \n",
            "  inflating: mmdetection/configs/mask2former_vis/mask2former_r50_8xb2-8e_youtubevis2021.py  \n",
            "  inflating: mmdetection/configs/mask2former_vis/mask2former_swin-l-p4-w12-384-in21k_8xb2-8e_youtubevis2021.py  \n",
            "  inflating: mmdetection/configs/mask2former_vis/metafile.yml  \n",
            "   creating: mmdetection/configs/mask_rcnn/\n",
            "  inflating: mmdetection/configs/mask_rcnn/README.md  \n",
            "  inflating: mmdetection/configs/mask_rcnn/mask-rcnn_r101-caffe_fpn_1x_coco.py  \n",
            "  inflating: mmdetection/configs/mask_rcnn/mask-rcnn_r101-caffe_fpn_ms-poly-3x_coco.py  \n",
            "  inflating: mmdetection/configs/mask_rcnn/mask-rcnn_r101_fpn_1x_coco.py  \n",
            "  inflating: mmdetection/configs/mask_rcnn/mask-rcnn_r101_fpn_2x_coco.py  \n",
            "  inflating: mmdetection/configs/mask_rcnn/mask-rcnn_r101_fpn_8xb8-amp-lsj-200e_coco.py  \n",
            "  inflating: mmdetection/configs/mask_rcnn/mask-rcnn_r101_fpn_ms-poly-3x_coco.py  \n",
            "  inflating: mmdetection/configs/mask_rcnn/mask-rcnn_r18_fpn_8xb8-amp-lsj-200e_coco.py  \n",
            "  inflating: mmdetection/configs/mask_rcnn/mask-rcnn_r50-caffe-c4_1x_coco.py  \n",
            "  inflating: mmdetection/configs/mask_rcnn/mask-rcnn_r50-caffe_fpn_1x_coco.py  \n",
            "  inflating: mmdetection/configs/mask_rcnn/mask-rcnn_r50-caffe_fpn_ms-1x_coco.py  \n",
            "  inflating: mmdetection/configs/mask_rcnn/mask-rcnn_r50-caffe_fpn_ms-poly-1x_coco.py  \n",
            "  inflating: mmdetection/configs/mask_rcnn/mask-rcnn_r50-caffe_fpn_ms-poly-2x_coco.py  \n",
            "  inflating: mmdetection/configs/mask_rcnn/mask-rcnn_r50-caffe_fpn_ms-poly-3x_coco.py  \n",
            "  inflating: mmdetection/configs/mask_rcnn/mask-rcnn_r50-caffe_fpn_poly-1x_coco_v1.py  \n",
            "  inflating: mmdetection/configs/mask_rcnn/mask-rcnn_r50_fpn_1x-wandb_coco.py  \n",
            "  inflating: mmdetection/configs/mask_rcnn/mask-rcnn_r50_fpn_1x_coco.py  \n",
            "  inflating: mmdetection/configs/mask_rcnn/mask-rcnn_r50_fpn_2x_coco.py  \n",
            "  inflating: mmdetection/configs/mask_rcnn/mask-rcnn_r50_fpn_8xb8-amp-lsj-200e_coco.py  \n",
            "  inflating: mmdetection/configs/mask_rcnn/mask-rcnn_r50_fpn_amp-1x_coco.py  \n",
            "  inflating: mmdetection/configs/mask_rcnn/mask-rcnn_r50_fpn_ms-poly-3x_coco.py  \n",
            "  inflating: mmdetection/configs/mask_rcnn/mask-rcnn_r50_fpn_poly-1x_coco.py  \n",
            "  inflating: mmdetection/configs/mask_rcnn/mask-rcnn_x101-32x4d_fpn_1x_coco.py  \n",
            "  inflating: mmdetection/configs/mask_rcnn/mask-rcnn_x101-32x4d_fpn_2x_coco.py  \n",
            "  inflating: mmdetection/configs/mask_rcnn/mask-rcnn_x101-32x4d_fpn_ms-poly-3x_coco.py  \n",
            "  inflating: mmdetection/configs/mask_rcnn/mask-rcnn_x101-32x8d_fpn_1x_coco.py  \n",
            "  inflating: mmdetection/configs/mask_rcnn/mask-rcnn_x101-32x8d_fpn_ms-poly-1x_coco.py  \n",
            "  inflating: mmdetection/configs/mask_rcnn/mask-rcnn_x101-32x8d_fpn_ms-poly-3x_coco.py  \n",
            "  inflating: mmdetection/configs/mask_rcnn/mask-rcnn_x101-64x4d_fpn_1x_coco.py  \n",
            "  inflating: mmdetection/configs/mask_rcnn/mask-rcnn_x101-64x4d_fpn_2x_coco.py  \n",
            "  inflating: mmdetection/configs/mask_rcnn/mask-rcnn_x101-64x4d_fpn_ms-poly_3x_coco.py  \n",
            "  inflating: mmdetection/configs/mask_rcnn/metafile.yml  \n",
            "   creating: mmdetection/configs/maskformer/\n",
            "  inflating: mmdetection/configs/maskformer/README.md  \n",
            "  inflating: mmdetection/configs/maskformer/maskformer_r50_ms-16xb1-75e_coco.py  \n",
            "  inflating: mmdetection/configs/maskformer/maskformer_swin-l-p4-w12_64xb1-ms-300e_coco.py  \n",
            "  inflating: mmdetection/configs/maskformer/metafile.yml  \n",
            "   creating: mmdetection/configs/masktrack_rcnn/\n",
            "  inflating: mmdetection/configs/masktrack_rcnn/README.md  \n",
            "  inflating: mmdetection/configs/masktrack_rcnn/masktrack-rcnn_mask-rcnn_r101_fpn_8xb1-12e_youtubevis2019.py  \n",
            "  inflating: mmdetection/configs/masktrack_rcnn/masktrack-rcnn_mask-rcnn_r101_fpn_8xb1-12e_youtubevis2021.py  \n",
            "  inflating: mmdetection/configs/masktrack_rcnn/masktrack-rcnn_mask-rcnn_r50_fpn_8xb1-12e_youtubevis2019.py  \n",
            "  inflating: mmdetection/configs/masktrack_rcnn/masktrack-rcnn_mask-rcnn_r50_fpn_8xb1-12e_youtubevis2021.py  \n",
            "  inflating: mmdetection/configs/masktrack_rcnn/masktrack-rcnn_mask-rcnn_x101_fpn_8xb1-12e_youtubevis2019.py  \n",
            "  inflating: mmdetection/configs/masktrack_rcnn/masktrack-rcnn_mask-rcnn_x101_fpn_8xb1-12e_youtubevis2021.py  \n",
            "  inflating: mmdetection/configs/masktrack_rcnn/metafile.yml  \n",
            "   creating: mmdetection/configs/misc/\n",
            "  inflating: mmdetection/configs/misc/d2_faster-rcnn_r50-caffe_fpn_ms-90k_coco.py  \n",
            "  inflating: mmdetection/configs/misc/d2_mask-rcnn_r50-caffe_fpn_ms-90k_coco.py  \n",
            "  inflating: mmdetection/configs/misc/d2_retinanet_r50-caffe_fpn_ms-90k_coco.py  \n",
            "   creating: mmdetection/configs/mm_grounding_dino/\n",
            "  inflating: mmdetection/configs/mm_grounding_dino/README.md  \n",
            "   creating: mmdetection/configs/mm_grounding_dino/brain_tumor/\n",
            "  inflating: mmdetection/configs/mm_grounding_dino/brain_tumor/grounding_dino_swin-t_finetune_8xb4_50e_brain_tumor.py  \n",
            "   creating: mmdetection/configs/mm_grounding_dino/cityscapes/\n",
            "  inflating: mmdetection/configs/mm_grounding_dino/cityscapes/grounding_dino_swin-t_finetune_8xb4_50e_cityscapes.py  \n",
            "   creating: mmdetection/configs/mm_grounding_dino/coco/\n",
            "  inflating: mmdetection/configs/mm_grounding_dino/coco/grounding_dino_swin-t_finetune_16xb4_1x_coco.py  \n",
            "  inflating: mmdetection/configs/mm_grounding_dino/coco/grounding_dino_swin-t_finetune_16xb4_1x_coco_48_17.py  \n",
            "  inflating: mmdetection/configs/mm_grounding_dino/coco/grounding_dino_swin-t_finetune_16xb4_1x_sft_coco.py  \n",
            "  inflating: mmdetection/configs/mm_grounding_dino/dataset_prepare.md  \n",
            "  inflating: mmdetection/configs/mm_grounding_dino/dataset_prepare_zh-CN.md  \n",
            "   creating: mmdetection/configs/mm_grounding_dino/dod/\n",
            "  inflating: mmdetection/configs/mm_grounding_dino/dod/grounding_dino_swin-t_pretrain_zeroshot_concat_dod.py  \n",
            "  inflating: mmdetection/configs/mm_grounding_dino/dod/grounding_dino_swin-t_pretrain_zeroshot_parallel_dod.py  \n",
            "   creating: mmdetection/configs/mm_grounding_dino/flickr30k/\n",
            "  inflating: mmdetection/configs/mm_grounding_dino/flickr30k/grounding_dino_swin-t-pretrain_flickr30k.py  \n",
            "  inflating: mmdetection/configs/mm_grounding_dino/grounding_dino_swin-b_pretrain_all.py  \n",
            "  inflating: mmdetection/configs/mm_grounding_dino/grounding_dino_swin-b_pretrain_obj365_goldg_v3det.py  \n",
            "  inflating: mmdetection/configs/mm_grounding_dino/grounding_dino_swin-l_pretrain_all.py  \n",
            "  inflating: mmdetection/configs/mm_grounding_dino/grounding_dino_swin-l_pretrain_obj365_goldg.py  \n",
            "  inflating: mmdetection/configs/mm_grounding_dino/grounding_dino_swin-t_finetune_8xb4_20e_cat.py  \n",
            "  inflating: mmdetection/configs/mm_grounding_dino/grounding_dino_swin-t_pretrain_obj365.py  \n",
            "  inflating: mmdetection/configs/mm_grounding_dino/grounding_dino_swin-t_pretrain_obj365_goldg.py  \n",
            "  inflating: mmdetection/configs/mm_grounding_dino/grounding_dino_swin-t_pretrain_obj365_goldg_grit9m.py  \n",
            "  inflating: mmdetection/configs/mm_grounding_dino/grounding_dino_swin-t_pretrain_obj365_goldg_grit9m_v3det.py  \n",
            "  inflating: mmdetection/configs/mm_grounding_dino/grounding_dino_swin-t_pretrain_obj365_goldg_v3det.py  \n",
            "  inflating: mmdetection/configs/mm_grounding_dino/grounding_dino_swin-t_pretrain_pseudo-labeling_cat.py  \n",
            "  inflating: mmdetection/configs/mm_grounding_dino/grounding_dino_swin-t_pretrain_pseudo-labeling_flickr30k.py  \n",
            "   creating: mmdetection/configs/mm_grounding_dino/lvis/\n",
            "  inflating: mmdetection/configs/mm_grounding_dino/lvis/grounding_dino_swin-t_finetune_16xb4_1x_lvis.py  \n",
            "  inflating: mmdetection/configs/mm_grounding_dino/lvis/grounding_dino_swin-t_finetune_16xb4_1x_lvis_866_337.py  \n",
            "  inflating: mmdetection/configs/mm_grounding_dino/lvis/grounding_dino_swin-t_pretrain_zeroshot_lvis.py  \n",
            "  inflating: mmdetection/configs/mm_grounding_dino/lvis/grounding_dino_swin-t_pretrain_zeroshot_mini-lvis.py  \n",
            "  inflating: mmdetection/configs/mm_grounding_dino/metafile.yml  \n",
            "   creating: mmdetection/configs/mm_grounding_dino/odinw/\n",
            "  inflating: mmdetection/configs/mm_grounding_dino/odinw/grounding_dino_swin-t_pretrain_odinw13.py  \n",
            "  inflating: mmdetection/configs/mm_grounding_dino/odinw/grounding_dino_swin-t_pretrain_odinw35.py  \n",
            "  inflating: mmdetection/configs/mm_grounding_dino/odinw/override_category.py  \n",
            "   creating: mmdetection/configs/mm_grounding_dino/people_in_painting/\n",
            "  inflating: mmdetection/configs/mm_grounding_dino/people_in_painting/grounding_dino_swin-t_finetune_8xb4_50e_people_in_painting.py  \n",
            "   creating: mmdetection/configs/mm_grounding_dino/refcoco/\n",
            "  inflating: mmdetection/configs/mm_grounding_dino/refcoco/grounding_dino_swin-t_finetune_8xb4_5e_grefcoco.py  \n",
            "  inflating: mmdetection/configs/mm_grounding_dino/refcoco/grounding_dino_swin-t_finetune_8xb4_5e_refcoco.py  \n",
            "  inflating: mmdetection/configs/mm_grounding_dino/refcoco/grounding_dino_swin-t_finetune_8xb4_5e_refcoco_plus.py  \n",
            "  inflating: mmdetection/configs/mm_grounding_dino/refcoco/grounding_dino_swin-t_finetune_8xb4_5e_refcocog.py  \n",
            "  inflating: mmdetection/configs/mm_grounding_dino/refcoco/grounding_dino_swin-t_pretrain_zeroshot_refexp.py  \n",
            "   creating: mmdetection/configs/mm_grounding_dino/rtts/\n",
            "  inflating: mmdetection/configs/mm_grounding_dino/rtts/grounding_dino_swin-t_finetune_8xb4_1x_rtts.py  \n",
            "   creating: mmdetection/configs/mm_grounding_dino/ruod/\n",
            "  inflating: mmdetection/configs/mm_grounding_dino/ruod/grounding_dino_swin-t_finetune_8xb4_1x_ruod.py  \n",
            "  inflating: mmdetection/configs/mm_grounding_dino/usage.md  \n",
            "  inflating: mmdetection/configs/mm_grounding_dino/usage_zh-CN.md  \n",
            "   creating: mmdetection/configs/ms_rcnn/\n",
            "  inflating: mmdetection/configs/ms_rcnn/README.md  \n",
            "  inflating: mmdetection/configs/ms_rcnn/metafile.yml  \n",
            "  inflating: mmdetection/configs/ms_rcnn/ms-rcnn_r101-caffe_fpn_1x_coco.py  \n",
            "  inflating: mmdetection/configs/ms_rcnn/ms-rcnn_r101-caffe_fpn_2x_coco.py  \n",
            "  inflating: mmdetection/configs/ms_rcnn/ms-rcnn_r50-caffe_fpn_1x_coco.py  \n",
            "  inflating: mmdetection/configs/ms_rcnn/ms-rcnn_r50-caffe_fpn_2x_coco.py  \n",
            "  inflating: mmdetection/configs/ms_rcnn/ms-rcnn_r50_fpn_1x_coco.py  \n",
            "  inflating: mmdetection/configs/ms_rcnn/ms-rcnn_x101-32x4d_fpn_1x_coco.py  \n",
            "  inflating: mmdetection/configs/ms_rcnn/ms-rcnn_x101-64x4d_fpn_1x_coco.py  \n",
            "  inflating: mmdetection/configs/ms_rcnn/ms-rcnn_x101-64x4d_fpn_2x_coco.py  \n",
            "   creating: mmdetection/configs/nas_fcos/\n",
            "  inflating: mmdetection/configs/nas_fcos/README.md  \n",
            "  inflating: mmdetection/configs/nas_fcos/metafile.yml  \n",
            "  inflating: mmdetection/configs/nas_fcos/nas-fcos_r50-caffe_fpn_fcoshead-gn-head_4xb4-1x_coco.py  \n",
            "  inflating: mmdetection/configs/nas_fcos/nas-fcos_r50-caffe_fpn_nashead-gn-head_4xb4-1x_coco.py  \n",
            "   creating: mmdetection/configs/nas_fpn/\n",
            "  inflating: mmdetection/configs/nas_fpn/README.md  \n",
            "  inflating: mmdetection/configs/nas_fpn/metafile.yml  \n",
            "  inflating: mmdetection/configs/nas_fpn/retinanet_r50_fpn_crop640-50e_coco.py  \n",
            "  inflating: mmdetection/configs/nas_fpn/retinanet_r50_nasfpn_crop640-50e_coco.py  \n",
            "   creating: mmdetection/configs/objects365/\n",
            "  inflating: mmdetection/configs/objects365/README.md  \n",
            "  inflating: mmdetection/configs/objects365/faster-rcnn_r50-syncbn_fpn_1350k_objects365v1.py  \n",
            "  inflating: mmdetection/configs/objects365/faster-rcnn_r50_fpn_16xb4-1x_objects365v1.py  \n",
            "  inflating: mmdetection/configs/objects365/faster-rcnn_r50_fpn_16xb4-1x_objects365v2.py  \n",
            "  inflating: mmdetection/configs/objects365/metafile.yml  \n",
            "  inflating: mmdetection/configs/objects365/retinanet_r50-syncbn_fpn_1350k_objects365v1.py  \n",
            "  inflating: mmdetection/configs/objects365/retinanet_r50_fpn_1x_objects365v1.py  \n",
            "  inflating: mmdetection/configs/objects365/retinanet_r50_fpn_1x_objects365v2.py  \n",
            "   creating: mmdetection/configs/ocsort/\n",
            "  inflating: mmdetection/configs/ocsort/README.md  \n",
            "  inflating: mmdetection/configs/ocsort/metafile.yml  \n",
            "  inflating: mmdetection/configs/ocsort/ocsort_yolox_x_8xb4-amp-80e_crowdhuman-mot17halftrain_test-mot17halfval.py  \n",
            "  inflating: mmdetection/configs/ocsort/ocsort_yolox_x_8xb4-amp-80e_crowdhuman-mot20train_test-mot20test.py  \n",
            "   creating: mmdetection/configs/openimages/\n",
            "  inflating: mmdetection/configs/openimages/README.md  \n",
            "  inflating: mmdetection/configs/openimages/faster-rcnn_r50_fpn_32xb2-1x_openimages-challenge.py  \n",
            "  inflating: mmdetection/configs/openimages/faster-rcnn_r50_fpn_32xb2-1x_openimages.py  \n",
            "  inflating: mmdetection/configs/openimages/faster-rcnn_r50_fpn_32xb2-cas-1x_openimages-challenge.py  \n",
            "  inflating: mmdetection/configs/openimages/faster-rcnn_r50_fpn_32xb2-cas-1x_openimages.py  \n",
            "  inflating: mmdetection/configs/openimages/metafile.yml  \n",
            "  inflating: mmdetection/configs/openimages/retinanet_r50_fpn_32xb2-1x_openimages.py  \n",
            "  inflating: mmdetection/configs/openimages/ssd300_32xb8-36e_openimages.py  \n",
            "   creating: mmdetection/configs/paa/\n",
            "  inflating: mmdetection/configs/paa/README.md  \n",
            "  inflating: mmdetection/configs/paa/metafile.yml  \n",
            "  inflating: mmdetection/configs/paa/paa_r101_fpn_1x_coco.py  \n",
            "  inflating: mmdetection/configs/paa/paa_r101_fpn_2x_coco.py  \n",
            "  inflating: mmdetection/configs/paa/paa_r101_fpn_ms-3x_coco.py  \n",
            "  inflating: mmdetection/configs/paa/paa_r50_fpn_1.5x_coco.py  \n",
            "  inflating: mmdetection/configs/paa/paa_r50_fpn_1x_coco.py  \n",
            "  inflating: mmdetection/configs/paa/paa_r50_fpn_2x_coco.py  \n",
            "  inflating: mmdetection/configs/paa/paa_r50_fpn_ms-3x_coco.py  \n",
            "   creating: mmdetection/configs/pafpn/\n",
            "  inflating: mmdetection/configs/pafpn/README.md  \n",
            "  inflating: mmdetection/configs/pafpn/faster-rcnn_r50_pafpn_1x_coco.py  \n",
            "  inflating: mmdetection/configs/pafpn/metafile.yml  \n",
            "   creating: mmdetection/configs/panoptic_fpn/\n",
            "  inflating: mmdetection/configs/panoptic_fpn/README.md  \n",
            "  inflating: mmdetection/configs/panoptic_fpn/metafile.yml  \n",
            "  inflating: mmdetection/configs/panoptic_fpn/panoptic-fpn_r101_fpn_1x_coco.py  \n",
            "  inflating: mmdetection/configs/panoptic_fpn/panoptic-fpn_r101_fpn_ms-3x_coco.py  \n",
            "  inflating: mmdetection/configs/panoptic_fpn/panoptic-fpn_r50_fpn_1x_coco.py  \n",
            "  inflating: mmdetection/configs/panoptic_fpn/panoptic-fpn_r50_fpn_ms-3x_coco.py  \n",
            "   creating: mmdetection/configs/pascal_voc/\n",
            "  inflating: mmdetection/configs/pascal_voc/README.md  \n",
            "  inflating: mmdetection/configs/pascal_voc/faster-rcnn_r50-caffe-c4_ms-18k_voc0712.py  \n",
            "  inflating: mmdetection/configs/pascal_voc/faster-rcnn_r50_fpn_1x_voc0712-cocofmt.py  \n",
            "  inflating: mmdetection/configs/pascal_voc/faster-rcnn_r50_fpn_1x_voc0712.py  \n",
            "  inflating: mmdetection/configs/pascal_voc/retinanet_r50_fpn_1x_voc0712.py  \n",
            "  inflating: mmdetection/configs/pascal_voc/ssd300_voc0712.py  \n",
            "  inflating: mmdetection/configs/pascal_voc/ssd512_voc0712.py  \n",
            "   creating: mmdetection/configs/pisa/\n",
            "  inflating: mmdetection/configs/pisa/README.md  \n",
            "  inflating: mmdetection/configs/pisa/faster-rcnn_r50_fpn_pisa_1x_coco.py  \n",
            "  inflating: mmdetection/configs/pisa/faster-rcnn_x101-32x4d_fpn_pisa_1x_coco.py  \n",
            "  inflating: mmdetection/configs/pisa/mask-rcnn_r50_fpn_pisa_1x_coco.py  \n",
            "  inflating: mmdetection/configs/pisa/mask-rcnn_x101-32x4d_fpn_pisa_1x_coco.py  \n",
            "  inflating: mmdetection/configs/pisa/metafile.yml  \n",
            "  inflating: mmdetection/configs/pisa/retinanet-r50_fpn_pisa_1x_coco.py  \n",
            "  inflating: mmdetection/configs/pisa/retinanet_x101-32x4d_fpn_pisa_1x_coco.py  \n",
            "  inflating: mmdetection/configs/pisa/ssd300_pisa_coco.py  \n",
            "  inflating: mmdetection/configs/pisa/ssd512_pisa_coco.py  \n",
            "   creating: mmdetection/configs/point_rend/\n",
            "  inflating: mmdetection/configs/point_rend/README.md  \n",
            "  inflating: mmdetection/configs/point_rend/metafile.yml  \n",
            "  inflating: mmdetection/configs/point_rend/point-rend_r50-caffe_fpn_ms-1x_coco.py  \n",
            "  inflating: mmdetection/configs/point_rend/point-rend_r50-caffe_fpn_ms-3x_coco.py  \n",
            "   creating: mmdetection/configs/pvt/\n",
            "  inflating: mmdetection/configs/pvt/README.md  \n",
            "  inflating: mmdetection/configs/pvt/metafile.yml  \n",
            "  inflating: mmdetection/configs/pvt/retinanet_pvt-l_fpn_1x_coco.py  \n",
            "  inflating: mmdetection/configs/pvt/retinanet_pvt-m_fpn_1x_coco.py  \n",
            "  inflating: mmdetection/configs/pvt/retinanet_pvt-s_fpn_1x_coco.py  \n",
            "  inflating: mmdetection/configs/pvt/retinanet_pvt-t_fpn_1x_coco.py  \n",
            "  inflating: mmdetection/configs/pvt/retinanet_pvtv2-b0_fpn_1x_coco.py  \n",
            "  inflating: mmdetection/configs/pvt/retinanet_pvtv2-b1_fpn_1x_coco.py  \n",
            "  inflating: mmdetection/configs/pvt/retinanet_pvtv2-b2_fpn_1x_coco.py  \n",
            "  inflating: mmdetection/configs/pvt/retinanet_pvtv2-b3_fpn_1x_coco.py  \n",
            "  inflating: mmdetection/configs/pvt/retinanet_pvtv2-b4_fpn_1x_coco.py  \n",
            "  inflating: mmdetection/configs/pvt/retinanet_pvtv2-b5_fpn_1x_coco.py  \n",
            "   creating: mmdetection/configs/qdtrack/\n",
            "  inflating: mmdetection/configs/qdtrack/README.md  \n",
            "  inflating: mmdetection/configs/qdtrack/metafile.yml  \n",
            "  inflating: mmdetection/configs/qdtrack/qdtrack_faster-rcnn_r50_fpn_4e_base.py  \n",
            "  inflating: mmdetection/configs/qdtrack/qdtrack_faster-rcnn_r50_fpn_8xb2-4e_mot17halftrain_test-mot17halfval.py  \n",
            "   creating: mmdetection/configs/queryinst/\n",
            "  inflating: mmdetection/configs/queryinst/README.md  \n",
            "  inflating: mmdetection/configs/queryinst/metafile.yml  \n",
            "  inflating: mmdetection/configs/queryinst/queryinst_r101_fpn_300-proposals_crop-ms-480-800-3x_coco.py  \n",
            "  inflating: mmdetection/configs/queryinst/queryinst_r101_fpn_ms-480-800-3x_coco.py  \n",
            "  inflating: mmdetection/configs/queryinst/queryinst_r50_fpn_1x_coco.py  \n",
            "  inflating: mmdetection/configs/queryinst/queryinst_r50_fpn_300-proposals_crop-ms-480-800-3x_coco.py  \n",
            "  inflating: mmdetection/configs/queryinst/queryinst_r50_fpn_ms-480-800-3x_coco.py  \n",
            "   creating: mmdetection/configs/regnet/\n",
            "  inflating: mmdetection/configs/regnet/README.md  \n",
            "  inflating: mmdetection/configs/regnet/cascade-mask-rcnn_regnetx-1.6GF_fpn_ms-3x_coco.py  \n",
            "  inflating: mmdetection/configs/regnet/cascade-mask-rcnn_regnetx-3.2GF_fpn_ms-3x_coco.py  \n",
            "  inflating: mmdetection/configs/regnet/cascade-mask-rcnn_regnetx-400MF_fpn_ms-3x_coco.py  \n",
            "  inflating: mmdetection/configs/regnet/cascade-mask-rcnn_regnetx-4GF_fpn_ms-3x_coco.py  \n",
            "  inflating: mmdetection/configs/regnet/cascade-mask-rcnn_regnetx-800MF_fpn_ms-3x_coco.py  \n",
            "  inflating: mmdetection/configs/regnet/faster-rcnn_regnetx-1.6GF_fpn_ms-3x_coco.py  \n",
            "  inflating: mmdetection/configs/regnet/faster-rcnn_regnetx-3.2GF_fpn_1x_coco.py  \n",
            "  inflating: mmdetection/configs/regnet/faster-rcnn_regnetx-3.2GF_fpn_2x_coco.py  \n",
            "  inflating: mmdetection/configs/regnet/faster-rcnn_regnetx-3.2GF_fpn_ms-3x_coco.py  \n",
            "  inflating: mmdetection/configs/regnet/faster-rcnn_regnetx-400MF_fpn_ms-3x_coco.py  \n",
            "  inflating: mmdetection/configs/regnet/faster-rcnn_regnetx-4GF_fpn_ms-3x_coco.py  \n",
            "  inflating: mmdetection/configs/regnet/faster-rcnn_regnetx-800MF_fpn_ms-3x_coco.py  \n",
            "  inflating: mmdetection/configs/regnet/mask-rcnn_regnetx-1.6GF_fpn_ms-poly-3x_coco.py  \n",
            "  inflating: mmdetection/configs/regnet/mask-rcnn_regnetx-12GF_fpn_1x_coco.py  \n",
            "  inflating: mmdetection/configs/regnet/mask-rcnn_regnetx-3.2GF-mdconv-c3-c5_fpn_1x_coco.py  \n",
            "  inflating: mmdetection/configs/regnet/mask-rcnn_regnetx-3.2GF_fpn_1x_coco.py  \n",
            "  inflating: mmdetection/configs/regnet/mask-rcnn_regnetx-3.2GF_fpn_ms-3x_coco.py  \n",
            "  inflating: mmdetection/configs/regnet/mask-rcnn_regnetx-400MF_fpn_ms-poly-3x_coco.py  \n",
            "  inflating: mmdetection/configs/regnet/mask-rcnn_regnetx-4GF_fpn_1x_coco.py  \n",
            "  inflating: mmdetection/configs/regnet/mask-rcnn_regnetx-4GF_fpn_ms-poly-3x_coco.py  \n",
            "  inflating: mmdetection/configs/regnet/mask-rcnn_regnetx-6.4GF_fpn_1x_coco.py  \n",
            "  inflating: mmdetection/configs/regnet/mask-rcnn_regnetx-800MF_fpn_ms-poly-3x_coco.py  \n",
            "  inflating: mmdetection/configs/regnet/mask-rcnn_regnetx-8GF_fpn_1x_coco.py  \n",
            "  inflating: mmdetection/configs/regnet/metafile.yml  \n",
            "  inflating: mmdetection/configs/regnet/retinanet_regnetx-1.6GF_fpn_1x_coco.py  \n",
            "  inflating: mmdetection/configs/regnet/retinanet_regnetx-3.2GF_fpn_1x_coco.py  \n",
            "  inflating: mmdetection/configs/regnet/retinanet_regnetx-800MF_fpn_1x_coco.py  \n",
            "   creating: mmdetection/configs/reid/\n",
            "  inflating: mmdetection/configs/reid/README.md  \n",
            "  inflating: mmdetection/configs/reid/reid_r50_8xb32-6e_mot15train80_test-mot15val20.py  \n",
            "  inflating: mmdetection/configs/reid/reid_r50_8xb32-6e_mot16train80_test-mot16val20.py  \n",
            "  inflating: mmdetection/configs/reid/reid_r50_8xb32-6e_mot17train80_test-mot17val20.py  \n",
            "  inflating: mmdetection/configs/reid/reid_r50_8xb32-6e_mot20train80_test-mot20val20.py  \n",
            "   creating: mmdetection/configs/reppoints/\n",
            "  inflating: mmdetection/configs/reppoints/README.md  \n",
            "  inflating: mmdetection/configs/reppoints/metafile.yml  \n",
            "  inflating: mmdetection/configs/reppoints/reppoints-bbox_r50-center_fpn-gn_head-gn-grid_1x_coco.py  \n",
            "  inflating: mmdetection/configs/reppoints/reppoints-bbox_r50_fpn-gn_head-gn-grid_1x_coco.py  \n",
            "  inflating: mmdetection/configs/reppoints/reppoints-minmax_r50_fpn-gn_head-gn_1x_coco.py  \n",
            "  inflating: mmdetection/configs/reppoints/reppoints-moment_r101-dconv-c3-c5_fpn-gn_head-gn_2x_coco.py  \n",
            "  inflating: mmdetection/configs/reppoints/reppoints-moment_r101_fpn-gn_head-gn_2x_coco.py  \n",
            "  inflating: mmdetection/configs/reppoints/reppoints-moment_r50_fpn-gn_head-gn_1x_coco.py  \n",
            "  inflating: mmdetection/configs/reppoints/reppoints-moment_r50_fpn-gn_head-gn_2x_coco.py  \n",
            "  inflating: mmdetection/configs/reppoints/reppoints-moment_r50_fpn_1x_coco.py  \n",
            "  inflating: mmdetection/configs/reppoints/reppoints-moment_x101-dconv-c3-c5_fpn-gn_head-gn_2x_coco.py  \n",
            "  inflating: mmdetection/configs/reppoints/reppoints-partial-minmax_r50_fpn-gn_head-gn_1x_coco.py  \n",
            "  inflating: mmdetection/configs/reppoints/reppoints.png  \n",
            "   creating: mmdetection/configs/res2net/\n",
            "  inflating: mmdetection/configs/res2net/README.md  \n",
            "  inflating: mmdetection/configs/res2net/cascade-mask-rcnn_res2net-101_fpn_20e_coco.py  \n",
            "  inflating: mmdetection/configs/res2net/cascade-rcnn_res2net-101_fpn_20e_coco.py  \n",
            "  inflating: mmdetection/configs/res2net/faster-rcnn_res2net-101_fpn_2x_coco.py  \n",
            "  inflating: mmdetection/configs/res2net/htc_res2net-101_fpn_20e_coco.py  \n",
            "  inflating: mmdetection/configs/res2net/mask-rcnn_res2net-101_fpn_2x_coco.py  \n",
            "  inflating: mmdetection/configs/res2net/metafile.yml  \n",
            "   creating: mmdetection/configs/resnest/\n",
            "  inflating: mmdetection/configs/resnest/README.md  \n",
            "  inflating: mmdetection/configs/resnest/cascade-mask-rcnn_s101_fpn_syncbn-backbone+head_ms-1x_coco.py  \n",
            "  inflating: mmdetection/configs/resnest/cascade-mask-rcnn_s50_fpn_syncbn-backbone+head_ms-1x_coco.py  \n",
            "  inflating: mmdetection/configs/resnest/cascade-rcnn_s101_fpn_syncbn-backbone+head_ms-range-1x_coco.py  \n",
            "  inflating: mmdetection/configs/resnest/cascade-rcnn_s50_fpn_syncbn-backbone+head_ms-range-1x_coco.py  \n",
            "  inflating: mmdetection/configs/resnest/faster-rcnn_s101_fpn_syncbn-backbone+head_ms-range-1x_coco.py  \n",
            "  inflating: mmdetection/configs/resnest/faster-rcnn_s50_fpn_syncbn-backbone+head_ms-range-1x_coco.py  \n",
            "  inflating: mmdetection/configs/resnest/mask-rcnn_s101_fpn_syncbn-backbone+head_ms-1x_coco.py  \n",
            "  inflating: mmdetection/configs/resnest/mask-rcnn_s50_fpn_syncbn-backbone+head_ms-1x_coco.py  \n",
            "  inflating: mmdetection/configs/resnest/metafile.yml  \n",
            "   creating: mmdetection/configs/resnet_strikes_back/\n",
            "  inflating: mmdetection/configs/resnet_strikes_back/README.md  \n",
            "  inflating: mmdetection/configs/resnet_strikes_back/cascade-mask-rcnn_r50-rsb-pre_fpn_1x_coco.py  \n",
            "  inflating: mmdetection/configs/resnet_strikes_back/faster-rcnn_r50-rsb-pre_fpn_1x_coco.py  \n",
            "  inflating: mmdetection/configs/resnet_strikes_back/mask-rcnn_r50-rsb-pre_fpn_1x_coco.py  \n",
            "  inflating: mmdetection/configs/resnet_strikes_back/metafile.yml  \n",
            "  inflating: mmdetection/configs/resnet_strikes_back/retinanet_r50-rsb-pre_fpn_1x_coco.py  \n",
            "   creating: mmdetection/configs/retinanet/\n",
            "  inflating: mmdetection/configs/retinanet/README.md  \n",
            "  inflating: mmdetection/configs/retinanet/metafile.yml  \n",
            "  inflating: mmdetection/configs/retinanet/retinanet_r101-caffe_fpn_1x_coco.py  \n",
            "  inflating: mmdetection/configs/retinanet/retinanet_r101-caffe_fpn_ms-3x_coco.py  \n",
            "  inflating: mmdetection/configs/retinanet/retinanet_r101_fpn_1x_coco.py  \n",
            "  inflating: mmdetection/configs/retinanet/retinanet_r101_fpn_2x_coco.py  \n",
            "  inflating: mmdetection/configs/retinanet/retinanet_r101_fpn_8xb8-amp-lsj-200e_coco.py  \n",
            "  inflating: mmdetection/configs/retinanet/retinanet_r101_fpn_ms-640-800-3x_coco.py  \n",
            "  inflating: mmdetection/configs/retinanet/retinanet_r18_fpn_1x_coco.py  \n",
            "  inflating: mmdetection/configs/retinanet/retinanet_r18_fpn_1xb8-1x_coco.py  \n",
            "  inflating: mmdetection/configs/retinanet/retinanet_r18_fpn_8xb8-amp-lsj-200e_coco.py  \n",
            "  inflating: mmdetection/configs/retinanet/retinanet_r50-caffe_fpn_1x_coco.py  \n",
            "  inflating: mmdetection/configs/retinanet/retinanet_r50-caffe_fpn_ms-1x_coco.py  \n",
            "  inflating: mmdetection/configs/retinanet/retinanet_r50-caffe_fpn_ms-2x_coco.py  \n",
            "  inflating: mmdetection/configs/retinanet/retinanet_r50-caffe_fpn_ms-3x_coco.py  \n",
            "  inflating: mmdetection/configs/retinanet/retinanet_r50_fpn_1x_coco.py  \n",
            "  inflating: mmdetection/configs/retinanet/retinanet_r50_fpn_2x_coco.py  \n",
            "  inflating: mmdetection/configs/retinanet/retinanet_r50_fpn_8xb8-amp-lsj-200e_coco.py  \n",
            "  inflating: mmdetection/configs/retinanet/retinanet_r50_fpn_90k_coco.py  \n",
            "  inflating: mmdetection/configs/retinanet/retinanet_r50_fpn_amp-1x_coco.py  \n",
            "  inflating: mmdetection/configs/retinanet/retinanet_r50_fpn_ms-640-800-3x_coco.py  \n",
            "  inflating: mmdetection/configs/retinanet/retinanet_tta.py  \n",
            "  inflating: mmdetection/configs/retinanet/retinanet_x101-32x4d_fpn_1x_coco.py  \n",
            "  inflating: mmdetection/configs/retinanet/retinanet_x101-32x4d_fpn_2x_coco.py  \n",
            "  inflating: mmdetection/configs/retinanet/retinanet_x101-64x4d_fpn_1x_coco.py  \n",
            "  inflating: mmdetection/configs/retinanet/retinanet_x101-64x4d_fpn_2x_coco.py  \n",
            "  inflating: mmdetection/configs/retinanet/retinanet_x101-64x4d_fpn_ms-640-800-3x_coco.py  \n",
            "   creating: mmdetection/configs/rpn/\n",
            "  inflating: mmdetection/configs/rpn/README.md  \n",
            "  inflating: mmdetection/configs/rpn/metafile.yml  \n",
            "  inflating: mmdetection/configs/rpn/rpn_r101-caffe_fpn_1x_coco.py  \n",
            "  inflating: mmdetection/configs/rpn/rpn_r101_fpn_1x_coco.py  \n",
            "  inflating: mmdetection/configs/rpn/rpn_r101_fpn_2x_coco.py  \n",
            "  inflating: mmdetection/configs/rpn/rpn_r50-caffe-c4_1x_coco.py  \n",
            "  inflating: mmdetection/configs/rpn/rpn_r50-caffe_fpn_1x_coco.py  \n",
            "  inflating: mmdetection/configs/rpn/rpn_r50_fpn_1x_coco.py  \n",
            "  inflating: mmdetection/configs/rpn/rpn_r50_fpn_2x_coco.py  \n",
            "  inflating: mmdetection/configs/rpn/rpn_x101-32x4d_fpn_1x_coco.py  \n",
            "  inflating: mmdetection/configs/rpn/rpn_x101-32x4d_fpn_2x_coco.py  \n",
            "  inflating: mmdetection/configs/rpn/rpn_x101-64x4d_fpn_1x_coco.py  \n",
            "  inflating: mmdetection/configs/rpn/rpn_x101-64x4d_fpn_2x_coco.py  \n",
            "   creating: mmdetection/configs/rtmdet/\n",
            "  inflating: mmdetection/configs/rtmdet/README.md  \n",
            "   creating: mmdetection/configs/rtmdet/classification/\n",
            "  inflating: mmdetection/configs/rtmdet/classification/README.md  \n",
            "  inflating: mmdetection/configs/rtmdet/classification/cspnext-l_8xb256-rsb-a1-600e_in1k.py  \n",
            "  inflating: mmdetection/configs/rtmdet/classification/cspnext-m_8xb256-rsb-a1-600e_in1k.py  \n",
            "  inflating: mmdetection/configs/rtmdet/classification/cspnext-s_8xb256-rsb-a1-600e_in1k.py  \n",
            "  inflating: mmdetection/configs/rtmdet/classification/cspnext-tiny_8xb256-rsb-a1-600e_in1k.py  \n",
            "  inflating: mmdetection/configs/rtmdet/classification/cspnext-x_8xb256-rsb-a1-600e_in1k.py  \n",
            "  inflating: mmdetection/configs/rtmdet/metafile.yml  \n",
            "  inflating: mmdetection/configs/rtmdet/rtmdet-ins_l_8xb32-300e_coco.py  \n",
            "  inflating: mmdetection/configs/rtmdet/rtmdet-ins_m_8xb32-300e_coco.py  \n",
            "  inflating: mmdetection/configs/rtmdet/rtmdet-ins_s_8xb32-300e_coco.py  \n",
            "  inflating: mmdetection/configs/rtmdet/rtmdet-ins_tiny_8xb32-300e_coco.py  \n",
            "  inflating: mmdetection/configs/rtmdet/rtmdet-ins_x_8xb16-300e_coco.py  \n",
            "  inflating: mmdetection/configs/rtmdet/rtmdet_l_8xb32-300e_coco.py  \n",
            "  inflating: mmdetection/configs/rtmdet/rtmdet_l_convnext_b_4xb32-100e_coco.py  \n",
            "  inflating: mmdetection/configs/rtmdet/rtmdet_l_swin_b_4xb32-100e_coco.py  \n",
            "  inflating: mmdetection/configs/rtmdet/rtmdet_l_swin_b_p6_4xb16-100e_coco.py  \n",
            "  inflating: mmdetection/configs/rtmdet/rtmdet_m_8xb32-300e_coco.py  \n",
            "  inflating: mmdetection/configs/rtmdet/rtmdet_s_8xb32-300e_coco.py  \n",
            "  inflating: mmdetection/configs/rtmdet/rtmdet_tiny_8xb32-300e_coco.py  \n",
            "  inflating: mmdetection/configs/rtmdet/rtmdet_tta.py  \n",
            "  inflating: mmdetection/configs/rtmdet/rtmdet_x_8xb32-300e_coco.py  \n",
            "  inflating: mmdetection/configs/rtmdet/rtmdet_x_p6_4xb8-300e_coco.py  \n",
            "   creating: mmdetection/configs/sabl/\n",
            "  inflating: mmdetection/configs/sabl/README.md  \n",
            "  inflating: mmdetection/configs/sabl/metafile.yml  \n",
            "  inflating: mmdetection/configs/sabl/sabl-cascade-rcnn_r101_fpn_1x_coco.py  \n",
            "  inflating: mmdetection/configs/sabl/sabl-cascade-rcnn_r50_fpn_1x_coco.py  \n",
            "  inflating: mmdetection/configs/sabl/sabl-faster-rcnn_r101_fpn_1x_coco.py  \n",
            "  inflating: mmdetection/configs/sabl/sabl-faster-rcnn_r50_fpn_1x_coco.py  \n",
            "  inflating: mmdetection/configs/sabl/sabl-retinanet_r101-gn_fpn_1x_coco.py  \n",
            "  inflating: mmdetection/configs/sabl/sabl-retinanet_r101-gn_fpn_ms-480-960-2x_coco.py  \n",
            "  inflating: mmdetection/configs/sabl/sabl-retinanet_r101-gn_fpn_ms-640-800-2x_coco.py  \n",
            "  inflating: mmdetection/configs/sabl/sabl-retinanet_r101_fpn_1x_coco.py  \n",
            "  inflating: mmdetection/configs/sabl/sabl-retinanet_r50-gn_fpn_1x_coco.py  \n",
            "  inflating: mmdetection/configs/sabl/sabl-retinanet_r50_fpn_1x_coco.py  \n",
            "   creating: mmdetection/configs/scnet/\n",
            "  inflating: mmdetection/configs/scnet/README.md  \n",
            "  inflating: mmdetection/configs/scnet/metafile.yml  \n",
            "  inflating: mmdetection/configs/scnet/scnet_r101_fpn_20e_coco.py  \n",
            "  inflating: mmdetection/configs/scnet/scnet_r50_fpn_1x_coco.py  \n",
            "  inflating: mmdetection/configs/scnet/scnet_r50_fpn_20e_coco.py  \n",
            "  inflating: mmdetection/configs/scnet/scnet_x101-64x4d_fpn_20e_coco.py  \n",
            "  inflating: mmdetection/configs/scnet/scnet_x101-64x4d_fpn_8xb1-20e_coco.py  \n",
            "   creating: mmdetection/configs/scratch/\n",
            "  inflating: mmdetection/configs/scratch/README.md  \n",
            "  inflating: mmdetection/configs/scratch/faster-rcnn_r50-scratch_fpn_gn-all_6x_coco.py  \n",
            "  inflating: mmdetection/configs/scratch/mask-rcnn_r50-scratch_fpn_gn-all_6x_coco.py  \n",
            "  inflating: mmdetection/configs/scratch/metafile.yml  \n",
            "   creating: mmdetection/configs/seesaw_loss/\n",
            "  inflating: mmdetection/configs/seesaw_loss/README.md  \n",
            "  inflating: mmdetection/configs/seesaw_loss/cascade-mask-rcnn_r101_fpn_seesaw-loss-normed-mask_random-ms-2x_lvis-v1.py  \n",
            "  inflating: mmdetection/configs/seesaw_loss/cascade-mask-rcnn_r101_fpn_seesaw-loss-normed-mask_sample1e-3-ms-2x_lvis-v1.py  \n",
            "  inflating: mmdetection/configs/seesaw_loss/cascade-mask-rcnn_r101_fpn_seesaw-loss_random-ms-2x_lvis-v1.py  \n",
            "  inflating: mmdetection/configs/seesaw_loss/cascade-mask-rcnn_r101_fpn_seesaw-loss_sample1e-3-ms-2x_lvis-v1.py  \n",
            "  inflating: mmdetection/configs/seesaw_loss/mask-rcnn_r101_fpn_seesaw-loss-normed-mask_random-ms-2x_lvis-v1.py  \n",
            "  inflating: mmdetection/configs/seesaw_loss/mask-rcnn_r101_fpn_seesaw-loss-normed-mask_sample1e-3-ms-2x_lvis-v1.py  \n",
            "  inflating: mmdetection/configs/seesaw_loss/mask-rcnn_r101_fpn_seesaw-loss_random-ms-2x_lvis-v1.py  \n",
            "  inflating: mmdetection/configs/seesaw_loss/mask-rcnn_r101_fpn_seesaw-loss_sample1e-3-ms-2x_lvis-v1.py  \n",
            "  inflating: mmdetection/configs/seesaw_loss/mask-rcnn_r50_fpn_seesaw-loss-normed-mask_random-ms-2x_lvis-v1.py  \n",
            "  inflating: mmdetection/configs/seesaw_loss/mask-rcnn_r50_fpn_seesaw-loss-normed-mask_sample1e-3-ms-2x_lvis-v1.py  \n",
            "  inflating: mmdetection/configs/seesaw_loss/mask-rcnn_r50_fpn_seesaw-loss_random-ms-2x_lvis-v1.py  \n",
            "  inflating: mmdetection/configs/seesaw_loss/mask-rcnn_r50_fpn_seesaw-loss_sample1e-3-ms-2x_lvis-v1.py  \n",
            "  inflating: mmdetection/configs/seesaw_loss/metafile.yml  \n",
            "   creating: mmdetection/configs/selfsup_pretrain/\n",
            "  inflating: mmdetection/configs/selfsup_pretrain/README.md  \n",
            "  inflating: mmdetection/configs/selfsup_pretrain/mask-rcnn_r50-mocov2-pre_fpn_1x_coco.py  \n",
            "  inflating: mmdetection/configs/selfsup_pretrain/mask-rcnn_r50-mocov2-pre_fpn_ms-2x_coco.py  \n",
            "  inflating: mmdetection/configs/selfsup_pretrain/mask-rcnn_r50-swav-pre_fpn_1x_coco.py  \n",
            "  inflating: mmdetection/configs/selfsup_pretrain/mask-rcnn_r50-swav-pre_fpn_ms-2x_coco.py  \n",
            "   creating: mmdetection/configs/simple_copy_paste/\n",
            "  inflating: mmdetection/configs/simple_copy_paste/README.md  \n",
            "  inflating: mmdetection/configs/simple_copy_paste/mask-rcnn_r50_fpn_rpn-2conv_4conv1fc_syncbn-all_32xb2-ssj-270k_coco.py  \n",
            "  inflating: mmdetection/configs/simple_copy_paste/mask-rcnn_r50_fpn_rpn-2conv_4conv1fc_syncbn-all_32xb2-ssj-90k_coco.py  \n",
            "  inflating: mmdetection/configs/simple_copy_paste/mask-rcnn_r50_fpn_rpn-2conv_4conv1fc_syncbn-all_32xb2-ssj-scp-270k_coco.py  \n",
            "  inflating: mmdetection/configs/simple_copy_paste/mask-rcnn_r50_fpn_rpn-2conv_4conv1fc_syncbn-all_32xb2-ssj-scp-90k_coco.py  \n",
            "  inflating: mmdetection/configs/simple_copy_paste/metafile.yml  \n",
            "   creating: mmdetection/configs/soft_teacher/\n",
            "  inflating: mmdetection/configs/soft_teacher/README.md  \n",
            "  inflating: mmdetection/configs/soft_teacher/metafile.yml  \n",
            "  inflating: mmdetection/configs/soft_teacher/soft-teacher_faster-rcnn_r50-caffe_fpn_180k_semi-0.01-coco.py  \n",
            "  inflating: mmdetection/configs/soft_teacher/soft-teacher_faster-rcnn_r50-caffe_fpn_180k_semi-0.02-coco.py  \n",
            "  inflating: mmdetection/configs/soft_teacher/soft-teacher_faster-rcnn_r50-caffe_fpn_180k_semi-0.05-coco.py  \n",
            "  inflating: mmdetection/configs/soft_teacher/soft-teacher_faster-rcnn_r50-caffe_fpn_180k_semi-0.1-coco.py  \n",
            "   creating: mmdetection/configs/solo/\n",
            "  inflating: mmdetection/configs/solo/README.md  \n",
            "  inflating: mmdetection/configs/solo/decoupled-solo-light_r50_fpn_3x_coco.py  \n",
            "  inflating: mmdetection/configs/solo/decoupled-solo_r50_fpn_1x_coco.py  \n",
            "  inflating: mmdetection/configs/solo/decoupled-solo_r50_fpn_3x_coco.py  \n",
            "  inflating: mmdetection/configs/solo/metafile.yml  \n",
            "  inflating: mmdetection/configs/solo/solo_r101_fpn_8xb8-lsj-200e_coco.py  \n",
            "  inflating: mmdetection/configs/solo/solo_r18_fpn_8xb8-lsj-200e_coco.py  \n",
            "  inflating: mmdetection/configs/solo/solo_r50_fpn_1x_coco.py  \n",
            "  inflating: mmdetection/configs/solo/solo_r50_fpn_3x_coco.py  \n",
            "  inflating: mmdetection/configs/solo/solo_r50_fpn_8xb8-lsj-200e_coco.py  \n",
            "   creating: mmdetection/configs/solov2/\n",
            "  inflating: mmdetection/configs/solov2/README.md  \n",
            "  inflating: mmdetection/configs/solov2/metafile.yml  \n",
            "  inflating: mmdetection/configs/solov2/solov2-light_r18_fpn_ms-3x_coco.py  \n",
            "  inflating: mmdetection/configs/solov2/solov2-light_r34_fpn_ms-3x_coco.py  \n",
            "  inflating: mmdetection/configs/solov2/solov2-light_r50-dcn_fpn_ms-3x_coco.py  \n",
            "  inflating: mmdetection/configs/solov2/solov2-light_r50_fpn_ms-3x_coco.py  \n",
            "  inflating: mmdetection/configs/solov2/solov2_r101-dcn_fpn_ms-3x_coco.py  \n",
            "  inflating: mmdetection/configs/solov2/solov2_r101_fpn_ms-3x_coco.py  \n",
            "  inflating: mmdetection/configs/solov2/solov2_r50_fpn_1x_coco.py  \n",
            "  inflating: mmdetection/configs/solov2/solov2_r50_fpn_ms-3x_coco.py  \n",
            "  inflating: mmdetection/configs/solov2/solov2_x101-dcn_fpn_ms-3x_coco.py  \n",
            "   creating: mmdetection/configs/sort/\n",
            "  inflating: mmdetection/configs/sort/README.md  \n",
            "  inflating: mmdetection/configs/sort/faster-rcnn_r50_fpn_8xb2-4e_mot17halftrain_test-mot17halfval.py  \n",
            "  inflating: mmdetection/configs/sort/faster-rcnn_r50_fpn_8xb2-4e_mot17train_test-mot17train.py  \n",
            "  inflating: mmdetection/configs/sort/faster-rcnn_r50_fpn_8xb2-8e_mot20halftrain_test-mot20halfval.py  \n",
            "  inflating: mmdetection/configs/sort/faster-rcnn_r50_fpn_8xb2-8e_mot20train_test-mot20train.py  \n",
            "  inflating: mmdetection/configs/sort/metafile.yml  \n",
            "  inflating: mmdetection/configs/sort/sort_faster-rcnn_r50_fpn_8xb2-4e_mot17halftrain_test-mot17halfval.py  \n",
            "  inflating: mmdetection/configs/sort/sort_faster-rcnn_r50_fpn_8xb2-4e_mot17train_test-mot17test.py  \n",
            "   creating: mmdetection/configs/sparse_rcnn/\n",
            "  inflating: mmdetection/configs/sparse_rcnn/README.md  \n",
            "  inflating: mmdetection/configs/sparse_rcnn/metafile.yml  \n",
            "  inflating: mmdetection/configs/sparse_rcnn/sparse-rcnn_r101_fpn_300-proposals_crop-ms-480-800-3x_coco.py  \n",
            "  inflating: mmdetection/configs/sparse_rcnn/sparse-rcnn_r101_fpn_ms-480-800-3x_coco.py  \n",
            "  inflating: mmdetection/configs/sparse_rcnn/sparse-rcnn_r50_fpn_1x_coco.py  \n",
            "  inflating: mmdetection/configs/sparse_rcnn/sparse-rcnn_r50_fpn_300-proposals_crop-ms-480-800-3x_coco.py  \n",
            "  inflating: mmdetection/configs/sparse_rcnn/sparse-rcnn_r50_fpn_ms-480-800-3x_coco.py  \n",
            "   creating: mmdetection/configs/ssd/\n",
            "  inflating: mmdetection/configs/ssd/README.md  \n",
            "  inflating: mmdetection/configs/ssd/metafile.yml  \n",
            "  inflating: mmdetection/configs/ssd/ssd300_coco.py  \n",
            "  inflating: mmdetection/configs/ssd/ssd512_coco.py  \n",
            "  inflating: mmdetection/configs/ssd/ssdlite_mobilenetv2-scratch_8xb24-600e_coco.py  \n",
            "   creating: mmdetection/configs/strong_baselines/\n",
            "  inflating: mmdetection/configs/strong_baselines/README.md  \n",
            "  inflating: mmdetection/configs/strong_baselines/mask-rcnn_r50-caffe_fpn_rpn-2conv_4conv1fc_syncbn-all_amp-lsj-100e_coco.py  \n",
            "  inflating: mmdetection/configs/strong_baselines/mask-rcnn_r50-caffe_fpn_rpn-2conv_4conv1fc_syncbn-all_lsj-100e_coco.py  \n",
            "  inflating: mmdetection/configs/strong_baselines/mask-rcnn_r50-caffe_fpn_rpn-2conv_4conv1fc_syncbn-all_lsj-400e_coco.py  \n",
            "  inflating: mmdetection/configs/strong_baselines/mask-rcnn_r50_fpn_rpn-2conv_4conv1fc_syncbn-all_amp-lsj-100e_coco.py  \n",
            "  inflating: mmdetection/configs/strong_baselines/mask-rcnn_r50_fpn_rpn-2conv_4conv1fc_syncbn-all_lsj-100e_coco.py  \n",
            "  inflating: mmdetection/configs/strong_baselines/mask-rcnn_r50_fpn_rpn-2conv_4conv1fc_syncbn-all_lsj-50e_coco.py  \n",
            "  inflating: mmdetection/configs/strong_baselines/metafile.yml  \n",
            "   creating: mmdetection/configs/strongsort/\n",
            "  inflating: mmdetection/configs/strongsort/README.md  \n",
            "  inflating: mmdetection/configs/strongsort/metafile.yml  \n",
            "  inflating: mmdetection/configs/strongsort/strongsort_yolox_x_8xb4-80e_crowdhuman-mot17halftrain_test-mot17halfval.py  \n",
            "  inflating: mmdetection/configs/strongsort/strongsort_yolox_x_8xb4-80e_crowdhuman-mot20train_test-mot20test.py  \n",
            "  inflating: mmdetection/configs/strongsort/yolox_x_8xb4-80e_crowdhuman-mot17halftrain_test-mot17halfval.py  \n",
            "  inflating: mmdetection/configs/strongsort/yolox_x_8xb4-80e_crowdhuman-mot20train_test-mot20test.py  \n",
            "   creating: mmdetection/configs/swin/\n",
            "  inflating: mmdetection/configs/swin/README.md  \n",
            "  inflating: mmdetection/configs/swin/mask-rcnn_swin-s-p4-w7_fpn_amp-ms-crop-3x_coco.py  \n",
            "  inflating: mmdetection/configs/swin/mask-rcnn_swin-t-p4-w7_fpn_1x_coco.py  \n",
            "  inflating: mmdetection/configs/swin/mask-rcnn_swin-t-p4-w7_fpn_amp-ms-crop-3x_coco.py  \n",
            "  inflating: mmdetection/configs/swin/mask-rcnn_swin-t-p4-w7_fpn_ms-crop-3x_coco.py  \n",
            "  inflating: mmdetection/configs/swin/metafile.yml  \n",
            "  inflating: mmdetection/configs/swin/retinanet_swin-t-p4-w7_fpn_1x_coco.py  \n",
            "   creating: mmdetection/configs/timm_example/\n",
            "  inflating: mmdetection/configs/timm_example/README.md  \n",
            "  inflating: mmdetection/configs/timm_example/retinanet_timm-efficientnet-b1_fpn_1x_coco.py  \n",
            "  inflating: mmdetection/configs/timm_example/retinanet_timm-tv-resnet50_fpn_1x_coco.py  \n",
            "   creating: mmdetection/configs/tood/\n",
            "  inflating: mmdetection/configs/tood/README.md  \n",
            "  inflating: mmdetection/configs/tood/metafile.yml  \n",
            "  inflating: mmdetection/configs/tood/tood_r101-dconv-c3-c5_fpn_ms-2x_coco.py  \n",
            "  inflating: mmdetection/configs/tood/tood_r101_fpn_ms-2x_coco.py  \n",
            "  inflating: mmdetection/configs/tood/tood_r50_fpn_1x_coco.py  \n",
            "  inflating: mmdetection/configs/tood/tood_r50_fpn_anchor-based_1x_coco.py  \n",
            "  inflating: mmdetection/configs/tood/tood_r50_fpn_ms-2x_coco.py  \n",
            "  inflating: mmdetection/configs/tood/tood_x101-64x4d-dconv-c4-c5_fpn_ms-2x_coco.py  \n",
            "  inflating: mmdetection/configs/tood/tood_x101-64x4d_fpn_ms-2x_coco.py  \n",
            "   creating: mmdetection/configs/tridentnet/\n",
            "  inflating: mmdetection/configs/tridentnet/README.md  \n",
            "  inflating: mmdetection/configs/tridentnet/metafile.yml  \n",
            "  inflating: mmdetection/configs/tridentnet/tridentnet_r50-caffe_1x_coco.py  \n",
            "  inflating: mmdetection/configs/tridentnet/tridentnet_r50-caffe_ms-1x_coco.py  \n",
            "  inflating: mmdetection/configs/tridentnet/tridentnet_r50-caffe_ms-3x_coco.py  \n",
            "   creating: mmdetection/configs/v3det/\n",
            "  inflating: mmdetection/configs/v3det/README.md  \n",
            "  inflating: mmdetection/configs/v3det/cascade_rcnn_r50_fpn_8x4_sample1e-3_mstrain_v3det_2x.py  \n",
            "  inflating: mmdetection/configs/v3det/cascade_rcnn_swinb_fpn_8x4_sample1e-3_mstrain_v3det_2x.py  \n",
            "  inflating: mmdetection/configs/v3det/deformable-detr-refine-twostage_r50_8xb4_sample1e-3_v3det_50e.py  \n",
            "  inflating: mmdetection/configs/v3det/deformable-detr-refine-twostage_swin_16xb2_sample1e-3_v3det_50e.py  \n",
            "  inflating: mmdetection/configs/v3det/dino-4scale_r50_8xb2_sample1e-3_v3det_36e.py  \n",
            "  inflating: mmdetection/configs/v3det/dino-4scale_swin_16xb1_sample1e-3_v3det_36e.py  \n",
            "  inflating: mmdetection/configs/v3det/faster_rcnn_r50_fpn_8x4_sample1e-3_mstrain_v3det_2x.py  \n",
            "  inflating: mmdetection/configs/v3det/faster_rcnn_swinb_fpn_8x4_sample1e-3_mstrain_v3det_2x.py  \n",
            "  inflating: mmdetection/configs/v3det/fcos_r50_fpn_8x4_sample1e-3_mstrain_v3det_2x.py  \n",
            "  inflating: mmdetection/configs/v3det/fcos_swinb_fpn_8x4_sample1e-3_mstrain_v3det_2x.py  \n",
            "  inflating: mmdetection/configs/v3det/v3det_icon.jpg  \n",
            "   creating: mmdetection/configs/vfnet/\n",
            "  inflating: mmdetection/configs/vfnet/README.md  \n",
            "  inflating: mmdetection/configs/vfnet/metafile.yml  \n",
            "  inflating: mmdetection/configs/vfnet/vfnet_r101-mdconv-c3-c5_fpn_ms-2x_coco.py  \n",
            "  inflating: mmdetection/configs/vfnet/vfnet_r101_fpn_1x_coco.py  \n",
            "  inflating: mmdetection/configs/vfnet/vfnet_r101_fpn_2x_coco.py  \n",
            "  inflating: mmdetection/configs/vfnet/vfnet_r101_fpn_ms-2x_coco.py  \n",
            "  inflating: mmdetection/configs/vfnet/vfnet_r50-mdconv-c3-c5_fpn_ms-2x_coco.py  \n",
            "  inflating: mmdetection/configs/vfnet/vfnet_r50_fpn_1x_coco.py  \n",
            "  inflating: mmdetection/configs/vfnet/vfnet_r50_fpn_ms-2x_coco.py  \n",
            "  inflating: mmdetection/configs/vfnet/vfnet_res2net-101_fpn_ms-2x_coco.py  \n",
            "  inflating: mmdetection/configs/vfnet/vfnet_res2net101-mdconv-c3-c5_fpn_ms-2x_coco.py  \n",
            "  inflating: mmdetection/configs/vfnet/vfnet_x101-32x4d-mdconv-c3-c5_fpn_ms-2x_coco.py  \n",
            "  inflating: mmdetection/configs/vfnet/vfnet_x101-32x4d_fpn_ms-2x_coco.py  \n",
            "  inflating: mmdetection/configs/vfnet/vfnet_x101-64x4d-mdconv-c3-c5_fpn_ms-2x_coco.py  \n",
            "  inflating: mmdetection/configs/vfnet/vfnet_x101-64x4d_fpn_ms-2x_coco.py  \n",
            "   creating: mmdetection/configs/wider_face/\n",
            "  inflating: mmdetection/configs/wider_face/README.md  \n",
            "  inflating: mmdetection/configs/wider_face/retinanet_r50_fpn_1x_widerface.py  \n",
            "  inflating: mmdetection/configs/wider_face/ssd300_8xb32-24e_widerface.py  \n",
            "   creating: mmdetection/configs/yolact/\n",
            "  inflating: mmdetection/configs/yolact/README.md  \n",
            "  inflating: mmdetection/configs/yolact/metafile.yml  \n",
            "  inflating: mmdetection/configs/yolact/yolact_r101_1xb8-55e_coco.py  \n",
            "  inflating: mmdetection/configs/yolact/yolact_r50_1xb8-55e_coco.py  \n",
            "  inflating: mmdetection/configs/yolact/yolact_r50_8xb8-55e_coco.py  \n",
            "   creating: mmdetection/configs/yolo/\n",
            "  inflating: mmdetection/configs/yolo/README.md  \n",
            "  inflating: mmdetection/configs/yolo/metafile.yml  \n",
            "  inflating: mmdetection/configs/yolo/yolov3_d53_8xb8-320-273e_coco.py  \n",
            "  inflating: mmdetection/configs/yolo/yolov3_d53_8xb8-amp-ms-608-273e_coco.py  \n",
            "  inflating: mmdetection/configs/yolo/yolov3_d53_8xb8-ms-416-273e_coco.py  \n",
            "  inflating: mmdetection/configs/yolo/yolov3_d53_8xb8-ms-608-273e_coco.py  \n",
            "  inflating: mmdetection/configs/yolo/yolov3_mobilenetv2_8xb24-320-300e_coco.py  \n",
            "  inflating: mmdetection/configs/yolo/yolov3_mobilenetv2_8xb24-ms-416-300e_coco.py  \n",
            "   creating: mmdetection/configs/yolof/\n",
            "  inflating: mmdetection/configs/yolof/README.md  \n",
            "  inflating: mmdetection/configs/yolof/metafile.yml  \n",
            "  inflating: mmdetection/configs/yolof/yolof_r50-c5_8xb8-1x_coco.py  \n",
            "  inflating: mmdetection/configs/yolof/yolof_r50-c5_8xb8-iter-1x_coco.py  \n",
            "   creating: mmdetection/configs/yolox/\n",
            "  inflating: mmdetection/configs/yolox/README.md  \n",
            "  inflating: mmdetection/configs/yolox/metafile.yml  \n",
            "  inflating: mmdetection/configs/yolox/yolox_l_8xb8-300e_coco.py  \n",
            "  inflating: mmdetection/configs/yolox/yolox_m_8xb8-300e_coco.py  \n",
            "  inflating: mmdetection/configs/yolox/yolox_nano_8xb8-300e_coco.py  \n",
            "  inflating: mmdetection/configs/yolox/yolox_s_8xb8-300e_coco.py  \n",
            "  inflating: mmdetection/configs/yolox/yolox_tiny_8xb8-300e_coco.py  \n",
            "  inflating: mmdetection/configs/yolox/yolox_tta.py  \n",
            "  inflating: mmdetection/configs/yolox/yolox_x_8xb8-300e_coco.py  \n",
            "  inflating: mmdetection/dataset-index.yml  \n",
            "   creating: mmdetection/demo/\n",
            "  inflating: mmdetection/demo/MMDet_InstanceSeg_Tutorial.ipynb  \n",
            "  inflating: mmdetection/demo/MMDet_Tutorial.ipynb  \n",
            "  inflating: mmdetection/demo/create_result_gif.py  \n",
            " extracting: mmdetection/demo/demo.jpg  \n",
            "  inflating: mmdetection/demo/demo.mp4  \n",
            "  inflating: mmdetection/demo/demo_mot.mp4  \n",
            "  inflating: mmdetection/demo/demo_multi_model.py  \n",
            "  inflating: mmdetection/demo/image_demo.py  \n",
            "  inflating: mmdetection/demo/inference_demo.ipynb  \n",
            "  inflating: mmdetection/demo/large_image.jpg  \n",
            "  inflating: mmdetection/demo/large_image_demo.py  \n",
            "  inflating: mmdetection/demo/mot_demo.py  \n",
            "  inflating: mmdetection/demo/video_demo.py  \n",
            "  inflating: mmdetection/demo/video_gpuaccel_demo.py  \n",
            "  inflating: mmdetection/demo/webcam_demo.py  \n",
            "   creating: mmdetection/docker/\n",
            "  inflating: mmdetection/docker/Dockerfile  \n",
            "   creating: mmdetection/docker/serve/\n",
            "  inflating: mmdetection/docker/serve/Dockerfile  \n",
            "  inflating: mmdetection/docker/serve/config.properties  \n",
            "  inflating: mmdetection/docker/serve/entrypoint.sh  \n",
            "   creating: mmdetection/docker/serve_cn/\n",
            "  inflating: mmdetection/docker/serve_cn/Dockerfile  \n",
            "   creating: mmdetection/docs/\n",
            "   creating: mmdetection/docs/en/\n",
            "  inflating: mmdetection/docs/en/Makefile  \n",
            "   creating: mmdetection/docs/en/_static/\n",
            "   creating: mmdetection/docs/en/_static/css/\n",
            "  inflating: mmdetection/docs/en/_static/css/readthedocs.css  \n",
            "   creating: mmdetection/docs/en/_static/image/\n",
            "  inflating: mmdetection/docs/en/_static/image/mmdet-logo.png  \n",
            "   creating: mmdetection/docs/en/advanced_guides/\n",
            "  inflating: mmdetection/docs/en/advanced_guides/conventions.md  \n",
            "  inflating: mmdetection/docs/en/advanced_guides/customize_dataset.md  \n",
            "  inflating: mmdetection/docs/en/advanced_guides/customize_losses.md  \n",
            "  inflating: mmdetection/docs/en/advanced_guides/customize_models.md  \n",
            "  inflating: mmdetection/docs/en/advanced_guides/customize_runtime.md  \n",
            "  inflating: mmdetection/docs/en/advanced_guides/customize_transforms.md  \n",
            " extracting: mmdetection/docs/en/advanced_guides/data_flow.md  \n",
            " extracting: mmdetection/docs/en/advanced_guides/datasets.md  \n",
            " extracting: mmdetection/docs/en/advanced_guides/engine.md  \n",
            " extracting: mmdetection/docs/en/advanced_guides/evaluation.md  \n",
            "  inflating: mmdetection/docs/en/advanced_guides/how_to.md  \n",
            "  inflating: mmdetection/docs/en/advanced_guides/index.rst  \n",
            " extracting: mmdetection/docs/en/advanced_guides/models.md  \n",
            " extracting: mmdetection/docs/en/advanced_guides/structures.md  \n",
            "  inflating: mmdetection/docs/en/advanced_guides/transforms.md  \n",
            "  inflating: mmdetection/docs/en/api.rst  \n",
            "  inflating: mmdetection/docs/en/conf.py  \n",
            " extracting: mmdetection/docs/en/dataset_zoo.md  \n",
            "  inflating: mmdetection/docs/en/get_started.md  \n",
            "  inflating: mmdetection/docs/en/index.rst  \n",
            "  inflating: mmdetection/docs/en/make.bat  \n",
            "   creating: mmdetection/docs/en/migration/\n",
            " extracting: mmdetection/docs/en/migration/api_and_registry_migration.md  \n",
            "  inflating: mmdetection/docs/en/migration/config_migration.md  \n",
            " extracting: mmdetection/docs/en/migration/dataset_migration.md  \n",
            "  inflating: mmdetection/docs/en/migration/migration.md  \n",
            " extracting: mmdetection/docs/en/migration/migration_faq.md  \n",
            " extracting: mmdetection/docs/en/migration/model_migration.md  \n",
            " extracting: mmdetection/docs/en/migration.md  \n",
            "  inflating: mmdetection/docs/en/model_zoo.md  \n",
            "   creating: mmdetection/docs/en/notes/\n",
            "  inflating: mmdetection/docs/en/notes/changelog.md  \n",
            "  inflating: mmdetection/docs/en/notes/changelog_v2.x.md  \n",
            "  inflating: mmdetection/docs/en/notes/compatibility.md  \n",
            " extracting: mmdetection/docs/en/notes/contribution_guide.md  \n",
            "  inflating: mmdetection/docs/en/notes/faq.md  \n",
            "  inflating: mmdetection/docs/en/notes/projects.md  \n",
            "  inflating: mmdetection/docs/en/overview.md  \n",
            "  inflating: mmdetection/docs/en/stat.py  \n",
            "  inflating: mmdetection/docs/en/switch_language.md  \n",
            "   creating: mmdetection/docs/en/user_guides/\n",
            "  inflating: mmdetection/docs/en/user_guides/config.md  \n",
            "  inflating: mmdetection/docs/en/user_guides/dataset_prepare.md  \n",
            "  inflating: mmdetection/docs/en/user_guides/deploy.md  \n",
            "  inflating: mmdetection/docs/en/user_guides/finetune.md  \n",
            "  inflating: mmdetection/docs/en/user_guides/index.rst  \n",
            "  inflating: mmdetection/docs/en/user_guides/inference.md  \n",
            "  inflating: mmdetection/docs/en/user_guides/init_cfg.md  \n",
            "  inflating: mmdetection/docs/en/user_guides/label_studio.md  \n",
            "  inflating: mmdetection/docs/en/user_guides/new_model.md  \n",
            "  inflating: mmdetection/docs/en/user_guides/robustness_benchmarking.md  \n",
            "  inflating: mmdetection/docs/en/user_guides/semi_det.md  \n",
            "  inflating: mmdetection/docs/en/user_guides/single_stage_as_rpn.md  \n",
            "  inflating: mmdetection/docs/en/user_guides/test.md  \n",
            "  inflating: mmdetection/docs/en/user_guides/test_results_submission.md  \n",
            "  inflating: mmdetection/docs/en/user_guides/tracking_analysis_tools.md  \n",
            "  inflating: mmdetection/docs/en/user_guides/tracking_config.md  \n",
            "  inflating: mmdetection/docs/en/user_guides/tracking_dataset_prepare.md  \n",
            "  inflating: mmdetection/docs/en/user_guides/tracking_inference.md  \n",
            "  inflating: mmdetection/docs/en/user_guides/tracking_train_test.md  \n",
            "  inflating: mmdetection/docs/en/user_guides/tracking_visualization.md  \n",
            "  inflating: mmdetection/docs/en/user_guides/train.md  \n",
            "  inflating: mmdetection/docs/en/user_guides/useful_hooks.md  \n",
            "  inflating: mmdetection/docs/en/user_guides/useful_tools.md  \n",
            "  inflating: mmdetection/docs/en/user_guides/visualization.md  \n",
            "   creating: mmdetection/docs/zh_cn/\n",
            "  inflating: mmdetection/docs/zh_cn/Makefile  \n",
            "   creating: mmdetection/docs/zh_cn/_static/\n",
            "   creating: mmdetection/docs/zh_cn/_static/css/\n",
            "  inflating: mmdetection/docs/zh_cn/_static/css/readthedocs.css  \n",
            "   creating: mmdetection/docs/zh_cn/_static/image/\n",
            "  inflating: mmdetection/docs/zh_cn/_static/image/mmdet-logo.png  \n",
            "   creating: mmdetection/docs/zh_cn/advanced_guides/\n",
            "  inflating: mmdetection/docs/zh_cn/advanced_guides/conventions.md  \n",
            "  inflating: mmdetection/docs/zh_cn/advanced_guides/customize_dataset.md  \n",
            "  inflating: mmdetection/docs/zh_cn/advanced_guides/customize_losses.md  \n",
            "  inflating: mmdetection/docs/zh_cn/advanced_guides/customize_models.md  \n",
            "  inflating: mmdetection/docs/zh_cn/advanced_guides/customize_runtime.md  \n",
            "  inflating: mmdetection/docs/zh_cn/advanced_guides/customize_transforms.md  \n",
            " extracting: mmdetection/docs/zh_cn/advanced_guides/data_flow.md  \n",
            " extracting: mmdetection/docs/zh_cn/advanced_guides/datasets.md  \n",
            " extracting: mmdetection/docs/zh_cn/advanced_guides/engine.md  \n",
            " extracting: mmdetection/docs/zh_cn/advanced_guides/evaluation.md  \n",
            "  inflating: mmdetection/docs/zh_cn/advanced_guides/how_to.md  \n",
            "  inflating: mmdetection/docs/zh_cn/advanced_guides/index.rst  \n",
            " extracting: mmdetection/docs/zh_cn/advanced_guides/models.md  \n",
            " extracting: mmdetection/docs/zh_cn/advanced_guides/structures.md  \n",
            "  inflating: mmdetection/docs/zh_cn/advanced_guides/transforms.md  \n",
            "  inflating: mmdetection/docs/zh_cn/api.rst  \n",
            "  inflating: mmdetection/docs/zh_cn/article.md  \n",
            "  inflating: mmdetection/docs/zh_cn/conf.py  \n",
            "  inflating: mmdetection/docs/zh_cn/get_started.md  \n",
            "  inflating: mmdetection/docs/zh_cn/index.rst  \n",
            "  inflating: mmdetection/docs/zh_cn/make.bat  \n",
            "   creating: mmdetection/docs/zh_cn/migration/\n",
            " extracting: mmdetection/docs/zh_cn/migration/api_and_registry_migration.md  \n",
            "  inflating: mmdetection/docs/zh_cn/migration/config_migration.md  \n",
            " extracting: mmdetection/docs/zh_cn/migration/dataset_migration.md  \n",
            "  inflating: mmdetection/docs/zh_cn/migration/migration.md  \n",
            " extracting: mmdetection/docs/zh_cn/migration/migration_faq.md  \n",
            " extracting: mmdetection/docs/zh_cn/migration/model_migration.md  \n",
            "  inflating: mmdetection/docs/zh_cn/model_zoo.md  \n",
            "   creating: mmdetection/docs/zh_cn/notes/\n",
            "  inflating: mmdetection/docs/zh_cn/notes/compatibility.md  \n",
            "  inflating: mmdetection/docs/zh_cn/notes/faq.md  \n",
            "  inflating: mmdetection/docs/zh_cn/notes/projects.md  \n",
            "  inflating: mmdetection/docs/zh_cn/overview.md  \n",
            "  inflating: mmdetection/docs/zh_cn/stat.py  \n",
            "  inflating: mmdetection/docs/zh_cn/switch_language.md  \n",
            "   creating: mmdetection/docs/zh_cn/user_guides/\n",
            "  inflating: mmdetection/docs/zh_cn/user_guides/config.md  \n",
            "  inflating: mmdetection/docs/zh_cn/user_guides/dataset_prepare.md  \n",
            "  inflating: mmdetection/docs/zh_cn/user_guides/deploy.md  \n",
            "  inflating: mmdetection/docs/zh_cn/user_guides/finetune.md  \n",
            "  inflating: mmdetection/docs/zh_cn/user_guides/index.rst  \n",
            "  inflating: mmdetection/docs/zh_cn/user_guides/inference.md  \n",
            "  inflating: mmdetection/docs/zh_cn/user_guides/init_cfg.md  \n",
            "  inflating: mmdetection/docs/zh_cn/user_guides/label_studio.md  \n",
            "  inflating: mmdetection/docs/zh_cn/user_guides/new_model.md  \n",
            "  inflating: mmdetection/docs/zh_cn/user_guides/robustness_benchmarking.md  \n",
            "  inflating: mmdetection/docs/zh_cn/user_guides/semi_det.md  \n",
            "  inflating: mmdetection/docs/zh_cn/user_guides/single_stage_as_rpn.md  \n",
            "  inflating: mmdetection/docs/zh_cn/user_guides/test.md  \n",
            "  inflating: mmdetection/docs/zh_cn/user_guides/test_results_submission.md  \n",
            "  inflating: mmdetection/docs/zh_cn/user_guides/tracking_analysis_tools.md  \n",
            "  inflating: mmdetection/docs/zh_cn/user_guides/tracking_config.md  \n",
            "  inflating: mmdetection/docs/zh_cn/user_guides/tracking_dataset_prepare.md  \n",
            "  inflating: mmdetection/docs/zh_cn/user_guides/tracking_interference.md  \n",
            "  inflating: mmdetection/docs/zh_cn/user_guides/tracking_train_test_zh_cn.md  \n",
            "  inflating: mmdetection/docs/zh_cn/user_guides/tracking_visualization.md  \n",
            "  inflating: mmdetection/docs/zh_cn/user_guides/train.md  \n",
            "  inflating: mmdetection/docs/zh_cn/user_guides/useful_hooks.md  \n",
            "  inflating: mmdetection/docs/zh_cn/user_guides/useful_tools.md  \n",
            "  inflating: mmdetection/docs/zh_cn/user_guides/visualization.md  \n",
            "   creating: mmdetection/mmdet/\n",
            "  inflating: mmdetection/mmdet/__init__.py  \n",
            "   creating: mmdetection/mmdet/apis/\n",
            "  inflating: mmdetection/mmdet/apis/__init__.py  \n",
            "  inflating: mmdetection/mmdet/apis/det_inferencer.py  \n",
            "  inflating: mmdetection/mmdet/apis/inference.py  \n",
            "   creating: mmdetection/mmdet/configs/\n",
            "   creating: mmdetection/mmdet/configs/_base_/\n",
            "   creating: mmdetection/mmdet/configs/_base_/datasets/\n",
            "  inflating: mmdetection/mmdet/configs/_base_/datasets/coco_detection.py  \n",
            "  inflating: mmdetection/mmdet/configs/_base_/datasets/coco_instance.py  \n",
            "  inflating: mmdetection/mmdet/configs/_base_/datasets/coco_instance_semantic.py  \n",
            "  inflating: mmdetection/mmdet/configs/_base_/datasets/coco_panoptic.py  \n",
            "  inflating: mmdetection/mmdet/configs/_base_/datasets/mot_challenge.py  \n",
            "  inflating: mmdetection/mmdet/configs/_base_/default_runtime.py  \n",
            "   creating: mmdetection/mmdet/configs/_base_/models/\n",
            "  inflating: mmdetection/mmdet/configs/_base_/models/cascade_mask_rcnn_r50_fpn.py  \n",
            "  inflating: mmdetection/mmdet/configs/_base_/models/cascade_rcnn_r50_fpn.py  \n",
            "  inflating: mmdetection/mmdet/configs/_base_/models/faster_rcnn_r50_fpn.py  \n",
            "  inflating: mmdetection/mmdet/configs/_base_/models/mask_rcnn_r50_caffe_c4.py  \n",
            "  inflating: mmdetection/mmdet/configs/_base_/models/mask_rcnn_r50_fpn.py  \n",
            "  inflating: mmdetection/mmdet/configs/_base_/models/retinanet_r50_fpn.py  \n",
            "   creating: mmdetection/mmdet/configs/_base_/schedules/\n",
            "  inflating: mmdetection/mmdet/configs/_base_/schedules/schedule_1x.py  \n",
            "  inflating: mmdetection/mmdet/configs/_base_/schedules/schedule_2x.py  \n",
            "   creating: mmdetection/mmdet/configs/cascade_rcnn/\n",
            "  inflating: mmdetection/mmdet/configs/cascade_rcnn/cascade_mask_rcnn_r50_fpn_1x_coco.py  \n",
            "  inflating: mmdetection/mmdet/configs/cascade_rcnn/cascade_rcnn_r50_fpn_1x_coco.py  \n",
            "   creating: mmdetection/mmdet/configs/common/\n",
            "  inflating: mmdetection/mmdet/configs/common/lsj_100e_coco_detection.py  \n",
            "  inflating: mmdetection/mmdet/configs/common/lsj_100e_coco_instance.py  \n",
            "  inflating: mmdetection/mmdet/configs/common/lsj_200e_coco_detection.py  \n",
            "  inflating: mmdetection/mmdet/configs/common/lsj_200e_coco_instance.py  \n",
            "  inflating: mmdetection/mmdet/configs/common/ms_3x_coco.py  \n",
            "  inflating: mmdetection/mmdet/configs/common/ms_3x_coco_instance.py  \n",
            "  inflating: mmdetection/mmdet/configs/common/ms_90k_coco.py  \n",
            "  inflating: mmdetection/mmdet/configs/common/ms_poly_3x_coco_instance.py  \n",
            "  inflating: mmdetection/mmdet/configs/common/ms_poly_90k_coco_instance.py  \n",
            "  inflating: mmdetection/mmdet/configs/common/ssj_270_coco_instance.py  \n",
            "  inflating: mmdetection/mmdet/configs/common/ssj_scp_270k_coco_instance.py  \n",
            "   creating: mmdetection/mmdet/configs/deformable_detr/\n",
            "  inflating: mmdetection/mmdet/configs/deformable_detr/deformable_detr_r50_16xb2_50e_coco.py  \n",
            "  inflating: mmdetection/mmdet/configs/deformable_detr/deformable_detr_refine_r50_16xb2_50e_coco.py  \n",
            "  inflating: mmdetection/mmdet/configs/deformable_detr/deformable_detr_refine_twostage_r50_16xb2_50e_coco.py  \n",
            "   creating: mmdetection/mmdet/configs/detr/\n",
            "  inflating: mmdetection/mmdet/configs/detr/detr_r101_8xb2_500e_coco.py  \n",
            "  inflating: mmdetection/mmdet/configs/detr/detr_r18_8xb2_500e_coco.py  \n",
            "  inflating: mmdetection/mmdet/configs/detr/detr_r50_8xb2_150e_coco.py  \n",
            "  inflating: mmdetection/mmdet/configs/detr/detr_r50_8xb2_500e_coco.py  \n",
            "   creating: mmdetection/mmdet/configs/dino/\n",
            "  inflating: mmdetection/mmdet/configs/dino/dino_4scale_r50_8xb2_12e_coco.py  \n",
            "  inflating: mmdetection/mmdet/configs/dino/dino_4scale_r50_8xb2_24e_coco.py  \n",
            "  inflating: mmdetection/mmdet/configs/dino/dino_4scale_r50_8xb2_36e_coco.py  \n",
            "  inflating: mmdetection/mmdet/configs/dino/dino_4scale_r50_improved_8xb2_12e_coco.py  \n",
            "  inflating: mmdetection/mmdet/configs/dino/dino_5scale_swin_l_8xb2_12e_coco.py  \n",
            "  inflating: mmdetection/mmdet/configs/dino/dino_5scale_swin_l_8xb2_36e_coco.py  \n",
            "   creating: mmdetection/mmdet/configs/faster_rcnn/\n",
            "  inflating: mmdetection/mmdet/configs/faster_rcnn/faster_rcnn_r50_fpn_1x_coco.py  \n",
            "   creating: mmdetection/mmdet/configs/mask_rcnn/\n",
            "  inflating: mmdetection/mmdet/configs/mask_rcnn/mask_rcnn_r101_caffe_fpn_1x_coco.py  \n",
            "  inflating: mmdetection/mmdet/configs/mask_rcnn/mask_rcnn_r101_caffe_fpn_ms_poly_3x_coco.py  \n",
            "  inflating: mmdetection/mmdet/configs/mask_rcnn/mask_rcnn_r101_fpn_1x_coco.py  \n",
            "  inflating: mmdetection/mmdet/configs/mask_rcnn/mask_rcnn_r101_fpn_2x_coco.py  \n",
            "  inflating: mmdetection/mmdet/configs/mask_rcnn/mask_rcnn_r101_fpn_8xb8_amp_lsj_200e_coco.py  \n",
            "  inflating: mmdetection/mmdet/configs/mask_rcnn/mask_rcnn_r101_fpn_ms_poly_3x_coco.py  \n",
            "  inflating: mmdetection/mmdet/configs/mask_rcnn/mask_rcnn_r18_fpn_8xb8_amp_lsj_200e_coco.py  \n",
            "  inflating: mmdetection/mmdet/configs/mask_rcnn/mask_rcnn_r50_caffe_c4_1x_coco.py  \n",
            "  inflating: mmdetection/mmdet/configs/mask_rcnn/mask_rcnn_r50_caffe_fpn_1x_coco.py  \n",
            "  inflating: mmdetection/mmdet/configs/mask_rcnn/mask_rcnn_r50_caffe_fpn_ms_1x_coco.py  \n",
            "  inflating: mmdetection/mmdet/configs/mask_rcnn/mask_rcnn_r50_caffe_fpn_ms_poly_1x_coco.py  \n",
            "  inflating: mmdetection/mmdet/configs/mask_rcnn/mask_rcnn_r50_caffe_fpn_ms_poly_2x_coco.py  \n",
            "  inflating: mmdetection/mmdet/configs/mask_rcnn/mask_rcnn_r50_caffe_fpn_ms_poly_3x_coco.py  \n",
            "  inflating: mmdetection/mmdet/configs/mask_rcnn/mask_rcnn_r50_caffe_fpn_poly_1x_coco_v1.py  \n",
            "  inflating: mmdetection/mmdet/configs/mask_rcnn/mask_rcnn_r50_fpn_1x_coco.py  \n",
            "  inflating: mmdetection/mmdet/configs/mask_rcnn/mask_rcnn_r50_fpn_1x_wandb_coco.py  \n",
            "  inflating: mmdetection/mmdet/configs/mask_rcnn/mask_rcnn_r50_fpn_2x_coco.py  \n",
            "  inflating: mmdetection/mmdet/configs/mask_rcnn/mask_rcnn_r50_fpn_8xb8_amp_lsj_200e_coco.py  \n",
            "  inflating: mmdetection/mmdet/configs/mask_rcnn/mask_rcnn_r50_fpn_amp_1x_coco.py  \n",
            "  inflating: mmdetection/mmdet/configs/mask_rcnn/mask_rcnn_r50_fpn_ms_poly_-3x_coco.py  \n",
            "  inflating: mmdetection/mmdet/configs/mask_rcnn/mask_rcnn_r50_fpn_poly_1x_coco.py  \n",
            "  inflating: mmdetection/mmdet/configs/mask_rcnn/mask_rcnn_x101_32x4d_fpn_1x_coco.py  \n",
            "  inflating: mmdetection/mmdet/configs/mask_rcnn/mask_rcnn_x101_32x4d_fpn_2x_coco.py  \n",
            "  inflating: mmdetection/mmdet/configs/mask_rcnn/mask_rcnn_x101_32x4d_fpn_ms_poly_3x_coco.py  \n",
            "  inflating: mmdetection/mmdet/configs/mask_rcnn/mask_rcnn_x101_32x8d_fpn_1x_coco.py  \n",
            "  inflating: mmdetection/mmdet/configs/mask_rcnn/mask_rcnn_x101_32x8d_fpn_ms_poly_1x_coco.py  \n",
            "  inflating: mmdetection/mmdet/configs/mask_rcnn/mask_rcnn_x101_32x8d_fpn_ms_poly_3x_coco.py  \n",
            "  inflating: mmdetection/mmdet/configs/mask_rcnn/mask_rcnn_x101_64_4d_fpn_1x_coco.py  \n",
            "  inflating: mmdetection/mmdet/configs/mask_rcnn/mask_rcnn_x101_64x4d_fpn_2x_coco.py  \n",
            "  inflating: mmdetection/mmdet/configs/mask_rcnn/mask_rcnn_x101_64x4d_fpn_ms_poly_3x_coco.py  \n",
            "   creating: mmdetection/mmdet/configs/maskformer/\n",
            "  inflating: mmdetection/mmdet/configs/maskformer/maskformer_r50_ms_16xb1_75e_coco.py  \n",
            "  inflating: mmdetection/mmdet/configs/maskformer/maskformer_swin_l_p4_w12_64xb1_ms_300e_coco.py  \n",
            "   creating: mmdetection/mmdet/configs/panoptic_fpn/\n",
            "  inflating: mmdetection/mmdet/configs/panoptic_fpn/panoptic_fpn_r101_fpn_1x_coco.py  \n",
            "  inflating: mmdetection/mmdet/configs/panoptic_fpn/panoptic_fpn_r101_fpn_ms_3x_coco.py  \n",
            "  inflating: mmdetection/mmdet/configs/panoptic_fpn/panoptic_fpn_r50_fpn_1x_coco.py  \n",
            "  inflating: mmdetection/mmdet/configs/panoptic_fpn/panoptic_fpn_r50_fpn_ms_3x_coco.py  \n",
            "   creating: mmdetection/mmdet/configs/qdtrack/\n",
            "  inflating: mmdetection/mmdet/configs/qdtrack/qdtrack_faster_rcnn_r50_fpn_4e_base.py  \n",
            "  inflating: mmdetection/mmdet/configs/qdtrack/qdtrack_faster_rcnn_r50_fpn_8xb2-4e_mot17halftrain_test-mot17halfval.py  \n",
            "   creating: mmdetection/mmdet/configs/retinanet/\n",
            "  inflating: mmdetection/mmdet/configs/retinanet/retinanet_r50_fpn_1x_coco.py  \n",
            "  inflating: mmdetection/mmdet/configs/retinanet/retinanet_tta.py  \n",
            "   creating: mmdetection/mmdet/configs/rtmdet/\n",
            "  inflating: mmdetection/mmdet/configs/rtmdet/rtmdet_ins_l_8xb32_300e_coco.py  \n",
            "  inflating: mmdetection/mmdet/configs/rtmdet/rtmdet_ins_m_8xb32_300e_coco.py  \n",
            "  inflating: mmdetection/mmdet/configs/rtmdet/rtmdet_ins_s_8xb32_300e_coco.py  \n",
            "  inflating: mmdetection/mmdet/configs/rtmdet/rtmdet_ins_tiny_8xb32_300e_coco.py  \n",
            "  inflating: mmdetection/mmdet/configs/rtmdet/rtmdet_ins_x_8xb16_300e_coco.py  \n",
            "  inflating: mmdetection/mmdet/configs/rtmdet/rtmdet_l_8xb32_300e_coco.py  \n",
            "  inflating: mmdetection/mmdet/configs/rtmdet/rtmdet_m_8xb32_300e_coco.py  \n",
            "  inflating: mmdetection/mmdet/configs/rtmdet/rtmdet_s_8xb32_300e_coco.py  \n",
            "  inflating: mmdetection/mmdet/configs/rtmdet/rtmdet_tiny_8xb32_300e_coco.py  \n",
            "  inflating: mmdetection/mmdet/configs/rtmdet/rtmdet_tta.py  \n",
            "  inflating: mmdetection/mmdet/configs/rtmdet/rtmdet_x_8xb32_300e_coco.py  \n",
            "   creating: mmdetection/mmdet/datasets/\n",
            "  inflating: mmdetection/mmdet/datasets/__init__.py  \n",
            "  inflating: mmdetection/mmdet/datasets/ade20k.py  \n",
            "   creating: mmdetection/mmdet/datasets/api_wrappers/\n",
            "  inflating: mmdetection/mmdet/datasets/api_wrappers/__init__.py  \n",
            "  inflating: mmdetection/mmdet/datasets/api_wrappers/coco_api.py  \n",
            "  inflating: mmdetection/mmdet/datasets/api_wrappers/cocoeval_mp.py  \n",
            "  inflating: mmdetection/mmdet/datasets/base_det_dataset.py  \n",
            "  inflating: mmdetection/mmdet/datasets/base_semseg_dataset.py  \n",
            "  inflating: mmdetection/mmdet/datasets/base_video_dataset.py  \n",
            "  inflating: mmdetection/mmdet/datasets/cityscapes.py  \n",
            "  inflating: mmdetection/mmdet/datasets/coco.py  \n",
            "  inflating: mmdetection/mmdet/datasets/coco_caption.py  \n",
            "  inflating: mmdetection/mmdet/datasets/coco_panoptic.py  \n",
            "  inflating: mmdetection/mmdet/datasets/coco_semantic.py  \n",
            "  inflating: mmdetection/mmdet/datasets/crowdhuman.py  \n",
            "  inflating: mmdetection/mmdet/datasets/dataset_wrappers.py  \n",
            "  inflating: mmdetection/mmdet/datasets/deepfashion.py  \n",
            "  inflating: mmdetection/mmdet/datasets/defect_dataset.py  \n",
            "  inflating: mmdetection/mmdet/datasets/dod.py  \n",
            "  inflating: mmdetection/mmdet/datasets/dsdl.py  \n",
            "  inflating: mmdetection/mmdet/datasets/flickr30k.py  \n",
            "  inflating: mmdetection/mmdet/datasets/isaid.py  \n",
            "  inflating: mmdetection/mmdet/datasets/lvis.py  \n",
            "  inflating: mmdetection/mmdet/datasets/mdetr_style_refcoco.py  \n",
            "  inflating: mmdetection/mmdet/datasets/mot_challenge_dataset.py  \n",
            "  inflating: mmdetection/mmdet/datasets/objects365.py  \n",
            "  inflating: mmdetection/mmdet/datasets/odvg.py  \n",
            "  inflating: mmdetection/mmdet/datasets/openimages.py  \n",
            "  inflating: mmdetection/mmdet/datasets/refcoco.py  \n",
            "  inflating: mmdetection/mmdet/datasets/reid_dataset.py  \n",
            "   creating: mmdetection/mmdet/datasets/samplers/\n",
            "  inflating: mmdetection/mmdet/datasets/samplers/__init__.py  \n",
            "  inflating: mmdetection/mmdet/datasets/samplers/batch_sampler.py  \n",
            "  inflating: mmdetection/mmdet/datasets/samplers/class_aware_sampler.py  \n",
            "  inflating: mmdetection/mmdet/datasets/samplers/custom_sample_size_sampler.py  \n",
            "  inflating: mmdetection/mmdet/datasets/samplers/multi_data_sampler.py  \n",
            "  inflating: mmdetection/mmdet/datasets/samplers/multi_source_sampler.py  \n",
            "  inflating: mmdetection/mmdet/datasets/samplers/track_img_sampler.py  \n",
            "   creating: mmdetection/mmdet/datasets/transforms/\n",
            "  inflating: mmdetection/mmdet/datasets/transforms/__init__.py  \n",
            "  inflating: mmdetection/mmdet/datasets/transforms/augment_wrappers.py  \n",
            "  inflating: mmdetection/mmdet/datasets/transforms/colorspace.py  \n",
            "  inflating: mmdetection/mmdet/datasets/transforms/formatting.py  \n",
            "  inflating: mmdetection/mmdet/datasets/transforms/frame_sampling.py  \n",
            "  inflating: mmdetection/mmdet/datasets/transforms/geometric.py  \n",
            "  inflating: mmdetection/mmdet/datasets/transforms/instaboost.py  \n",
            "  inflating: mmdetection/mmdet/datasets/transforms/loading.py  \n",
            "  inflating: mmdetection/mmdet/datasets/transforms/text_transformers.py  \n",
            "  inflating: mmdetection/mmdet/datasets/transforms/transformers_glip.py  \n",
            "  inflating: mmdetection/mmdet/datasets/transforms/transforms.py  \n",
            "  inflating: mmdetection/mmdet/datasets/transforms/wrappers.py  \n",
            "  inflating: mmdetection/mmdet/datasets/utils.py  \n",
            "  inflating: mmdetection/mmdet/datasets/v3det.py  \n",
            "  inflating: mmdetection/mmdet/datasets/voc.py  \n",
            "  inflating: mmdetection/mmdet/datasets/wider_face.py  \n",
            "  inflating: mmdetection/mmdet/datasets/xml_style.py  \n",
            "  inflating: mmdetection/mmdet/datasets/youtube_vis_dataset.py  \n",
            "   creating: mmdetection/mmdet/engine/\n",
            "  inflating: mmdetection/mmdet/engine/__init__.py  \n",
            "   creating: mmdetection/mmdet/engine/hooks/\n",
            "  inflating: mmdetection/mmdet/engine/hooks/__init__.py  \n",
            "  inflating: mmdetection/mmdet/engine/hooks/checkloss_hook.py  \n",
            "  inflating: mmdetection/mmdet/engine/hooks/mean_teacher_hook.py  \n",
            "  inflating: mmdetection/mmdet/engine/hooks/memory_profiler_hook.py  \n",
            "  inflating: mmdetection/mmdet/engine/hooks/num_class_check_hook.py  \n",
            "  inflating: mmdetection/mmdet/engine/hooks/pipeline_switch_hook.py  \n",
            "  inflating: mmdetection/mmdet/engine/hooks/set_epoch_info_hook.py  \n",
            "  inflating: mmdetection/mmdet/engine/hooks/sync_norm_hook.py  \n",
            "  inflating: mmdetection/mmdet/engine/hooks/utils.py  \n",
            "  inflating: mmdetection/mmdet/engine/hooks/visualization_hook.py  \n",
            "  inflating: mmdetection/mmdet/engine/hooks/yolox_mode_switch_hook.py  \n",
            "   creating: mmdetection/mmdet/engine/optimizers/\n",
            "  inflating: mmdetection/mmdet/engine/optimizers/__init__.py  \n",
            "  inflating: mmdetection/mmdet/engine/optimizers/layer_decay_optimizer_constructor.py  \n",
            "   creating: mmdetection/mmdet/engine/runner/\n",
            "  inflating: mmdetection/mmdet/engine/runner/__init__.py  \n",
            "  inflating: mmdetection/mmdet/engine/runner/loops.py  \n",
            "   creating: mmdetection/mmdet/engine/schedulers/\n",
            "  inflating: mmdetection/mmdet/engine/schedulers/__init__.py  \n",
            "  inflating: mmdetection/mmdet/engine/schedulers/quadratic_warmup.py  \n",
            "   creating: mmdetection/mmdet/evaluation/\n",
            "  inflating: mmdetection/mmdet/evaluation/__init__.py  \n",
            "   creating: mmdetection/mmdet/evaluation/evaluator/\n",
            "  inflating: mmdetection/mmdet/evaluation/evaluator/__init__.py  \n",
            "  inflating: mmdetection/mmdet/evaluation/evaluator/multi_datasets_evaluator.py  \n",
            "   creating: mmdetection/mmdet/evaluation/functional/\n",
            "  inflating: mmdetection/mmdet/evaluation/functional/__init__.py  \n",
            "  inflating: mmdetection/mmdet/evaluation/functional/bbox_overlaps.py  \n",
            "  inflating: mmdetection/mmdet/evaluation/functional/cityscapes_utils.py  \n",
            "  inflating: mmdetection/mmdet/evaluation/functional/class_names.py  \n",
            "  inflating: mmdetection/mmdet/evaluation/functional/mean_ap.py  \n",
            "  inflating: mmdetection/mmdet/evaluation/functional/panoptic_utils.py  \n",
            "  inflating: mmdetection/mmdet/evaluation/functional/recall.py  \n",
            "  inflating: mmdetection/mmdet/evaluation/functional/ytvis.py  \n",
            "  inflating: mmdetection/mmdet/evaluation/functional/ytviseval.py  \n",
            "   creating: mmdetection/mmdet/evaluation/metrics/\n",
            "  inflating: mmdetection/mmdet/evaluation/metrics/__init__.py  \n",
            "  inflating: mmdetection/mmdet/evaluation/metrics/base_video_metric.py  \n",
            "  inflating: mmdetection/mmdet/evaluation/metrics/cityscapes_metric.py  \n",
            "  inflating: mmdetection/mmdet/evaluation/metrics/coco_caption_metric.py  \n",
            "  inflating: mmdetection/mmdet/evaluation/metrics/coco_metric.py  \n",
            "  inflating: mmdetection/mmdet/evaluation/metrics/coco_occluded_metric.py  \n",
            "  inflating: mmdetection/mmdet/evaluation/metrics/coco_panoptic_metric.py  \n",
            "  inflating: mmdetection/mmdet/evaluation/metrics/coco_video_metric.py  \n",
            "  inflating: mmdetection/mmdet/evaluation/metrics/crowdhuman_metric.py  \n",
            "  inflating: mmdetection/mmdet/evaluation/metrics/dod_metric.py  \n",
            "  inflating: mmdetection/mmdet/evaluation/metrics/dump_det_results.py  \n",
            "  inflating: mmdetection/mmdet/evaluation/metrics/dump_odvg_results.py  \n",
            "  inflating: mmdetection/mmdet/evaluation/metrics/dump_proposals_metric.py  \n",
            "  inflating: mmdetection/mmdet/evaluation/metrics/flickr30k_metric.py  \n",
            "  inflating: mmdetection/mmdet/evaluation/metrics/grefcoco_metric.py  \n",
            "  inflating: mmdetection/mmdet/evaluation/metrics/lvis_metric.py  \n",
            "  inflating: mmdetection/mmdet/evaluation/metrics/mot_challenge_metric.py  \n",
            "  inflating: mmdetection/mmdet/evaluation/metrics/openimages_metric.py  \n",
            "  inflating: mmdetection/mmdet/evaluation/metrics/ov_coco_metric.py  \n",
            "  inflating: mmdetection/mmdet/evaluation/metrics/refexp_metric.py  \n",
            "  inflating: mmdetection/mmdet/evaluation/metrics/refseg_metric.py  \n",
            "  inflating: mmdetection/mmdet/evaluation/metrics/reid_metric.py  \n",
            "  inflating: mmdetection/mmdet/evaluation/metrics/semseg_metric.py  \n",
            "  inflating: mmdetection/mmdet/evaluation/metrics/voc_metric.py  \n",
            "  inflating: mmdetection/mmdet/evaluation/metrics/youtube_vis_metric.py  \n",
            "   creating: mmdetection/mmdet/models/\n",
            "  inflating: mmdetection/mmdet/models/__init__.py  \n",
            "   creating: mmdetection/mmdet/models/backbones/\n",
            "  inflating: mmdetection/mmdet/models/backbones/__init__.py  \n",
            "  inflating: mmdetection/mmdet/models/backbones/csp_darknet.py  \n",
            "  inflating: mmdetection/mmdet/models/backbones/cspnext.py  \n",
            "  inflating: mmdetection/mmdet/models/backbones/darknet.py  \n",
            "  inflating: mmdetection/mmdet/models/backbones/detectors_resnet.py  \n",
            "  inflating: mmdetection/mmdet/models/backbones/detectors_resnext.py  \n",
            "  inflating: mmdetection/mmdet/models/backbones/efficientnet.py  \n",
            "  inflating: mmdetection/mmdet/models/backbones/hourglass.py  \n",
            "  inflating: mmdetection/mmdet/models/backbones/hrnet.py  \n",
            "  inflating: mmdetection/mmdet/models/backbones/mobilenet_v2.py  \n",
            "  inflating: mmdetection/mmdet/models/backbones/pvt.py  \n",
            "  inflating: mmdetection/mmdet/models/backbones/regnet.py  \n",
            "  inflating: mmdetection/mmdet/models/backbones/res2net.py  \n",
            "  inflating: mmdetection/mmdet/models/backbones/resnest.py  \n",
            "  inflating: mmdetection/mmdet/models/backbones/resnet.py  \n",
            "  inflating: mmdetection/mmdet/models/backbones/resnext.py  \n",
            "  inflating: mmdetection/mmdet/models/backbones/ssd_vgg.py  \n",
            "  inflating: mmdetection/mmdet/models/backbones/swin.py  \n",
            "  inflating: mmdetection/mmdet/models/backbones/trident_resnet.py  \n",
            "   creating: mmdetection/mmdet/models/data_preprocessors/\n",
            "  inflating: mmdetection/mmdet/models/data_preprocessors/__init__.py  \n",
            "  inflating: mmdetection/mmdet/models/data_preprocessors/data_preprocessor.py  \n",
            "  inflating: mmdetection/mmdet/models/data_preprocessors/reid_data_preprocessor.py  \n",
            "  inflating: mmdetection/mmdet/models/data_preprocessors/track_data_preprocessor.py  \n",
            "   creating: mmdetection/mmdet/models/dense_heads/\n",
            "  inflating: mmdetection/mmdet/models/dense_heads/__init__.py  \n",
            "  inflating: mmdetection/mmdet/models/dense_heads/anchor_free_head.py  \n",
            "  inflating: mmdetection/mmdet/models/dense_heads/anchor_head.py  \n",
            "  inflating: mmdetection/mmdet/models/dense_heads/atss_head.py  \n",
            "  inflating: mmdetection/mmdet/models/dense_heads/atss_vlfusion_head.py  \n",
            "  inflating: mmdetection/mmdet/models/dense_heads/autoassign_head.py  \n",
            "  inflating: mmdetection/mmdet/models/dense_heads/base_dense_head.py  \n",
            "  inflating: mmdetection/mmdet/models/dense_heads/base_mask_head.py  \n",
            "  inflating: mmdetection/mmdet/models/dense_heads/boxinst_head.py  \n",
            "  inflating: mmdetection/mmdet/models/dense_heads/cascade_rpn_head.py  \n",
            "  inflating: mmdetection/mmdet/models/dense_heads/centernet_head.py  \n",
            "  inflating: mmdetection/mmdet/models/dense_heads/centernet_update_head.py  \n",
            "  inflating: mmdetection/mmdet/models/dense_heads/centripetal_head.py  \n",
            "  inflating: mmdetection/mmdet/models/dense_heads/condinst_head.py  \n",
            "  inflating: mmdetection/mmdet/models/dense_heads/conditional_detr_head.py  \n",
            "  inflating: mmdetection/mmdet/models/dense_heads/corner_head.py  \n",
            "  inflating: mmdetection/mmdet/models/dense_heads/dab_detr_head.py  \n",
            "  inflating: mmdetection/mmdet/models/dense_heads/ddod_head.py  \n",
            "  inflating: mmdetection/mmdet/models/dense_heads/ddq_detr_head.py  \n",
            "  inflating: mmdetection/mmdet/models/dense_heads/deformable_detr_head.py  \n",
            "  inflating: mmdetection/mmdet/models/dense_heads/dense_test_mixins.py  \n",
            "  inflating: mmdetection/mmdet/models/dense_heads/detr_head.py  \n",
            "  inflating: mmdetection/mmdet/models/dense_heads/dino_head.py  \n",
            "  inflating: mmdetection/mmdet/models/dense_heads/embedding_rpn_head.py  \n",
            "  inflating: mmdetection/mmdet/models/dense_heads/fcos_head.py  \n",
            "  inflating: mmdetection/mmdet/models/dense_heads/fovea_head.py  \n",
            "  inflating: mmdetection/mmdet/models/dense_heads/free_anchor_retina_head.py  \n",
            "  inflating: mmdetection/mmdet/models/dense_heads/fsaf_head.py  \n",
            "  inflating: mmdetection/mmdet/models/dense_heads/ga_retina_head.py  \n",
            "  inflating: mmdetection/mmdet/models/dense_heads/ga_rpn_head.py  \n",
            "  inflating: mmdetection/mmdet/models/dense_heads/gfl_head.py  \n",
            "  inflating: mmdetection/mmdet/models/dense_heads/grounding_dino_head.py  \n",
            "  inflating: mmdetection/mmdet/models/dense_heads/guided_anchor_head.py  \n",
            "  inflating: mmdetection/mmdet/models/dense_heads/lad_head.py  \n",
            "  inflating: mmdetection/mmdet/models/dense_heads/ld_head.py  \n",
            "  inflating: mmdetection/mmdet/models/dense_heads/mask2former_head.py  \n",
            "  inflating: mmdetection/mmdet/models/dense_heads/maskformer_head.py  \n",
            "  inflating: mmdetection/mmdet/models/dense_heads/nasfcos_head.py  \n",
            "  inflating: mmdetection/mmdet/models/dense_heads/paa_head.py  \n",
            "  inflating: mmdetection/mmdet/models/dense_heads/pisa_retinanet_head.py  \n",
            "  inflating: mmdetection/mmdet/models/dense_heads/pisa_ssd_head.py  \n",
            "  inflating: mmdetection/mmdet/models/dense_heads/reppoints_head.py  \n",
            "  inflating: mmdetection/mmdet/models/dense_heads/retina_head.py  \n",
            "  inflating: mmdetection/mmdet/models/dense_heads/retina_sepbn_head.py  \n",
            "  inflating: mmdetection/mmdet/models/dense_heads/rpn_head.py  \n",
            "  inflating: mmdetection/mmdet/models/dense_heads/rtmdet_head.py  \n",
            "  inflating: mmdetection/mmdet/models/dense_heads/rtmdet_ins_head.py  \n",
            "  inflating: mmdetection/mmdet/models/dense_heads/sabl_retina_head.py  \n",
            "  inflating: mmdetection/mmdet/models/dense_heads/solo_head.py  \n",
            "  inflating: mmdetection/mmdet/models/dense_heads/solov2_head.py  \n",
            "  inflating: mmdetection/mmdet/models/dense_heads/ssd_head.py  \n",
            "  inflating: mmdetection/mmdet/models/dense_heads/tood_head.py  \n",
            "  inflating: mmdetection/mmdet/models/dense_heads/vfnet_head.py  \n",
            "  inflating: mmdetection/mmdet/models/dense_heads/yolact_head.py  \n",
            "  inflating: mmdetection/mmdet/models/dense_heads/yolo_head.py  \n",
            "  inflating: mmdetection/mmdet/models/dense_heads/yolof_head.py  \n",
            "  inflating: mmdetection/mmdet/models/dense_heads/yolox_head.py  \n",
            "   creating: mmdetection/mmdet/models/detectors/\n",
            "  inflating: mmdetection/mmdet/models/detectors/__init__.py  \n",
            "  inflating: mmdetection/mmdet/models/detectors/atss.py  \n",
            "  inflating: mmdetection/mmdet/models/detectors/autoassign.py  \n",
            "  inflating: mmdetection/mmdet/models/detectors/base.py  \n",
            "  inflating: mmdetection/mmdet/models/detectors/base_detr.py  \n",
            "  inflating: mmdetection/mmdet/models/detectors/boxinst.py  \n",
            "  inflating: mmdetection/mmdet/models/detectors/cascade_rcnn.py  \n",
            "  inflating: mmdetection/mmdet/models/detectors/centernet.py  \n",
            "  inflating: mmdetection/mmdet/models/detectors/condinst.py  \n",
            "  inflating: mmdetection/mmdet/models/detectors/conditional_detr.py  \n",
            "  inflating: mmdetection/mmdet/models/detectors/cornernet.py  \n",
            "  inflating: mmdetection/mmdet/models/detectors/crowddet.py  \n",
            "  inflating: mmdetection/mmdet/models/detectors/d2_wrapper.py  \n",
            "  inflating: mmdetection/mmdet/models/detectors/dab_detr.py  \n",
            "  inflating: mmdetection/mmdet/models/detectors/ddod.py  \n",
            "  inflating: mmdetection/mmdet/models/detectors/ddq_detr.py  \n",
            "  inflating: mmdetection/mmdet/models/detectors/deformable_detr.py  \n",
            "  inflating: mmdetection/mmdet/models/detectors/detr.py  \n",
            "  inflating: mmdetection/mmdet/models/detectors/dino.py  \n",
            "  inflating: mmdetection/mmdet/models/detectors/fast_rcnn.py  \n",
            "  inflating: mmdetection/mmdet/models/detectors/faster_rcnn.py  \n",
            "  inflating: mmdetection/mmdet/models/detectors/fcos.py  \n",
            "  inflating: mmdetection/mmdet/models/detectors/fovea.py  \n",
            "  inflating: mmdetection/mmdet/models/detectors/fsaf.py  \n",
            "  inflating: mmdetection/mmdet/models/detectors/gfl.py  \n",
            "  inflating: mmdetection/mmdet/models/detectors/glip.py  \n",
            "  inflating: mmdetection/mmdet/models/detectors/grid_rcnn.py  \n",
            "  inflating: mmdetection/mmdet/models/detectors/grounding_dino.py  \n",
            "  inflating: mmdetection/mmdet/models/detectors/htc.py  \n",
            "  inflating: mmdetection/mmdet/models/detectors/kd_one_stage.py  \n",
            "  inflating: mmdetection/mmdet/models/detectors/lad.py  \n",
            "  inflating: mmdetection/mmdet/models/detectors/mask2former.py  \n",
            "  inflating: mmdetection/mmdet/models/detectors/mask_rcnn.py  \n",
            "  inflating: mmdetection/mmdet/models/detectors/mask_scoring_rcnn.py  \n",
            "  inflating: mmdetection/mmdet/models/detectors/maskformer.py  \n",
            "  inflating: mmdetection/mmdet/models/detectors/nasfcos.py  \n",
            "  inflating: mmdetection/mmdet/models/detectors/paa.py  \n",
            "  inflating: mmdetection/mmdet/models/detectors/panoptic_fpn.py  \n",
            "  inflating: mmdetection/mmdet/models/detectors/panoptic_two_stage_segmentor.py  \n",
            "  inflating: mmdetection/mmdet/models/detectors/point_rend.py  \n",
            "  inflating: mmdetection/mmdet/models/detectors/queryinst.py  \n",
            "  inflating: mmdetection/mmdet/models/detectors/reppoints_detector.py  \n",
            "  inflating: mmdetection/mmdet/models/detectors/retinanet.py  \n",
            "  inflating: mmdetection/mmdet/models/detectors/rpn.py  \n",
            "  inflating: mmdetection/mmdet/models/detectors/rtmdet.py  \n",
            "  inflating: mmdetection/mmdet/models/detectors/scnet.py  \n",
            "  inflating: mmdetection/mmdet/models/detectors/semi_base.py  \n",
            "  inflating: mmdetection/mmdet/models/detectors/single_stage.py  \n",
            "  inflating: mmdetection/mmdet/models/detectors/single_stage_instance_seg.py  \n",
            "  inflating: mmdetection/mmdet/models/detectors/soft_teacher.py  \n",
            "  inflating: mmdetection/mmdet/models/detectors/solo.py  \n",
            "  inflating: mmdetection/mmdet/models/detectors/solov2.py  \n",
            "  inflating: mmdetection/mmdet/models/detectors/sparse_rcnn.py  \n",
            "  inflating: mmdetection/mmdet/models/detectors/tood.py  \n",
            "  inflating: mmdetection/mmdet/models/detectors/trident_faster_rcnn.py  \n",
            "  inflating: mmdetection/mmdet/models/detectors/two_stage.py  \n",
            "  inflating: mmdetection/mmdet/models/detectors/vfnet.py  \n",
            "  inflating: mmdetection/mmdet/models/detectors/yolact.py  \n",
            "  inflating: mmdetection/mmdet/models/detectors/yolo.py  \n",
            "  inflating: mmdetection/mmdet/models/detectors/yolof.py  \n",
            "  inflating: mmdetection/mmdet/models/detectors/yolox.py  \n",
            "   creating: mmdetection/mmdet/models/language_models/\n",
            "  inflating: mmdetection/mmdet/models/language_models/__init__.py  \n",
            "  inflating: mmdetection/mmdet/models/language_models/bert.py  \n",
            "   creating: mmdetection/mmdet/models/layers/\n",
            "  inflating: mmdetection/mmdet/models/layers/__init__.py  \n",
            "  inflating: mmdetection/mmdet/models/layers/activations.py  \n",
            "  inflating: mmdetection/mmdet/models/layers/bbox_nms.py  \n",
            "  inflating: mmdetection/mmdet/models/layers/brick_wrappers.py  \n",
            "  inflating: mmdetection/mmdet/models/layers/conv_upsample.py  \n",
            "  inflating: mmdetection/mmdet/models/layers/csp_layer.py  \n",
            "  inflating: mmdetection/mmdet/models/layers/dropblock.py  \n",
            "  inflating: mmdetection/mmdet/models/layers/ema.py  \n",
            "  inflating: mmdetection/mmdet/models/layers/inverted_residual.py  \n",
            "  inflating: mmdetection/mmdet/models/layers/matrix_nms.py  \n",
            "  inflating: mmdetection/mmdet/models/layers/msdeformattn_pixel_decoder.py  \n",
            "  inflating: mmdetection/mmdet/models/layers/normed_predictor.py  \n",
            "  inflating: mmdetection/mmdet/models/layers/pixel_decoder.py  \n",
            "  inflating: mmdetection/mmdet/models/layers/positional_encoding.py  \n",
            "  inflating: mmdetection/mmdet/models/layers/res_layer.py  \n",
            "  inflating: mmdetection/mmdet/models/layers/se_layer.py  \n",
            "   creating: mmdetection/mmdet/models/layers/transformer/\n",
            "  inflating: mmdetection/mmdet/models/layers/transformer/__init__.py  \n",
            "  inflating: mmdetection/mmdet/models/layers/transformer/conditional_detr_layers.py  \n",
            "  inflating: mmdetection/mmdet/models/layers/transformer/dab_detr_layers.py  \n",
            "  inflating: mmdetection/mmdet/models/layers/transformer/ddq_detr_layers.py  \n",
            "  inflating: mmdetection/mmdet/models/layers/transformer/deformable_detr_layers.py  \n",
            "  inflating: mmdetection/mmdet/models/layers/transformer/detr_layers.py  \n",
            "  inflating: mmdetection/mmdet/models/layers/transformer/dino_layers.py  \n",
            "  inflating: mmdetection/mmdet/models/layers/transformer/grounding_dino_layers.py  \n",
            "  inflating: mmdetection/mmdet/models/layers/transformer/mask2former_layers.py  \n",
            "  inflating: mmdetection/mmdet/models/layers/transformer/utils.py  \n",
            "   creating: mmdetection/mmdet/models/losses/\n",
            "  inflating: mmdetection/mmdet/models/losses/__init__.py  \n",
            "  inflating: mmdetection/mmdet/models/losses/accuracy.py  \n",
            "  inflating: mmdetection/mmdet/models/losses/ae_loss.py  \n",
            "  inflating: mmdetection/mmdet/models/losses/balanced_l1_loss.py  \n",
            "  inflating: mmdetection/mmdet/models/losses/cross_entropy_loss.py  \n",
            "  inflating: mmdetection/mmdet/models/losses/ddq_detr_aux_loss.py  \n",
            "  inflating: mmdetection/mmdet/models/losses/dice_loss.py  \n",
            "  inflating: mmdetection/mmdet/models/losses/eqlv2_loss.py  \n",
            "  inflating: mmdetection/mmdet/models/losses/focal_loss.py  \n",
            "  inflating: mmdetection/mmdet/models/losses/gaussian_focal_loss.py  \n",
            "  inflating: mmdetection/mmdet/models/losses/gfocal_loss.py  \n",
            "  inflating: mmdetection/mmdet/models/losses/ghm_loss.py  \n",
            "  inflating: mmdetection/mmdet/models/losses/iou_loss.py  \n",
            "  inflating: mmdetection/mmdet/models/losses/kd_loss.py  \n",
            "  inflating: mmdetection/mmdet/models/losses/l2_loss.py  \n",
            "  inflating: mmdetection/mmdet/models/losses/margin_loss.py  \n",
            "  inflating: mmdetection/mmdet/models/losses/mse_loss.py  \n",
            "  inflating: mmdetection/mmdet/models/losses/multipos_cross_entropy_loss.py  \n",
            "  inflating: mmdetection/mmdet/models/losses/pisa_loss.py  \n",
            "  inflating: mmdetection/mmdet/models/losses/seesaw_loss.py  \n",
            "  inflating: mmdetection/mmdet/models/losses/smooth_l1_loss.py  \n",
            "  inflating: mmdetection/mmdet/models/losses/triplet_loss.py  \n",
            "  inflating: mmdetection/mmdet/models/losses/utils.py  \n",
            "  inflating: mmdetection/mmdet/models/losses/varifocal_loss.py  \n",
            "   creating: mmdetection/mmdet/models/mot/\n",
            "  inflating: mmdetection/mmdet/models/mot/__init__.py  \n",
            "  inflating: mmdetection/mmdet/models/mot/base.py  \n",
            "  inflating: mmdetection/mmdet/models/mot/bytetrack.py  \n",
            "  inflating: mmdetection/mmdet/models/mot/deep_sort.py  \n",
            "  inflating: mmdetection/mmdet/models/mot/ocsort.py  \n",
            "  inflating: mmdetection/mmdet/models/mot/qdtrack.py  \n",
            "  inflating: mmdetection/mmdet/models/mot/strongsort.py  \n",
            "   creating: mmdetection/mmdet/models/necks/\n",
            "  inflating: mmdetection/mmdet/models/necks/__init__.py  \n",
            "  inflating: mmdetection/mmdet/models/necks/bfp.py  \n",
            "  inflating: mmdetection/mmdet/models/necks/channel_mapper.py  \n",
            "  inflating: mmdetection/mmdet/models/necks/cspnext_pafpn.py  \n",
            "  inflating: mmdetection/mmdet/models/necks/ct_resnet_neck.py  \n",
            "  inflating: mmdetection/mmdet/models/necks/dilated_encoder.py  \n",
            "  inflating: mmdetection/mmdet/models/necks/dyhead.py  \n",
            "  inflating: mmdetection/mmdet/models/necks/fpg.py  \n",
            "  inflating: mmdetection/mmdet/models/necks/fpn.py  \n",
            "  inflating: mmdetection/mmdet/models/necks/fpn_carafe.py  \n",
            "  inflating: mmdetection/mmdet/models/necks/fpn_dropblock.py  \n",
            "  inflating: mmdetection/mmdet/models/necks/hrfpn.py  \n",
            "  inflating: mmdetection/mmdet/models/necks/nas_fpn.py  \n",
            "  inflating: mmdetection/mmdet/models/necks/nasfcos_fpn.py  \n",
            "  inflating: mmdetection/mmdet/models/necks/pafpn.py  \n",
            "  inflating: mmdetection/mmdet/models/necks/rfp.py  \n",
            "  inflating: mmdetection/mmdet/models/necks/ssd_neck.py  \n",
            "  inflating: mmdetection/mmdet/models/necks/ssh.py  \n",
            "  inflating: mmdetection/mmdet/models/necks/yolo_neck.py  \n",
            "  inflating: mmdetection/mmdet/models/necks/yolox_pafpn.py  \n",
            "   creating: mmdetection/mmdet/models/reid/\n",
            "  inflating: mmdetection/mmdet/models/reid/__init__.py  \n",
            "  inflating: mmdetection/mmdet/models/reid/base_reid.py  \n",
            "  inflating: mmdetection/mmdet/models/reid/fc_module.py  \n",
            "  inflating: mmdetection/mmdet/models/reid/gap.py  \n",
            "  inflating: mmdetection/mmdet/models/reid/linear_reid_head.py  \n",
            "   creating: mmdetection/mmdet/models/roi_heads/\n",
            "  inflating: mmdetection/mmdet/models/roi_heads/__init__.py  \n",
            "  inflating: mmdetection/mmdet/models/roi_heads/base_roi_head.py  \n",
            "   creating: mmdetection/mmdet/models/roi_heads/bbox_heads/\n",
            "  inflating: mmdetection/mmdet/models/roi_heads/bbox_heads/__init__.py  \n",
            "  inflating: mmdetection/mmdet/models/roi_heads/bbox_heads/bbox_head.py  \n",
            "  inflating: mmdetection/mmdet/models/roi_heads/bbox_heads/convfc_bbox_head.py  \n",
            "  inflating: mmdetection/mmdet/models/roi_heads/bbox_heads/dii_head.py  \n",
            "  inflating: mmdetection/mmdet/models/roi_heads/bbox_heads/double_bbox_head.py  \n",
            "  inflating: mmdetection/mmdet/models/roi_heads/bbox_heads/multi_instance_bbox_head.py  \n",
            "  inflating: mmdetection/mmdet/models/roi_heads/bbox_heads/sabl_head.py  \n",
            "  inflating: mmdetection/mmdet/models/roi_heads/bbox_heads/scnet_bbox_head.py  \n",
            "  inflating: mmdetection/mmdet/models/roi_heads/cascade_roi_head.py  \n",
            "  inflating: mmdetection/mmdet/models/roi_heads/double_roi_head.py  \n",
            "  inflating: mmdetection/mmdet/models/roi_heads/dynamic_roi_head.py  \n",
            "  inflating: mmdetection/mmdet/models/roi_heads/grid_roi_head.py  \n",
            "  inflating: mmdetection/mmdet/models/roi_heads/htc_roi_head.py  \n",
            "   creating: mmdetection/mmdet/models/roi_heads/mask_heads/\n",
            "  inflating: mmdetection/mmdet/models/roi_heads/mask_heads/__init__.py  \n",
            "  inflating: mmdetection/mmdet/models/roi_heads/mask_heads/coarse_mask_head.py  \n",
            "  inflating: mmdetection/mmdet/models/roi_heads/mask_heads/dynamic_mask_head.py  \n",
            "  inflating: mmdetection/mmdet/models/roi_heads/mask_heads/fcn_mask_head.py  \n",
            "  inflating: mmdetection/mmdet/models/roi_heads/mask_heads/feature_relay_head.py  \n",
            "  inflating: mmdetection/mmdet/models/roi_heads/mask_heads/fused_semantic_head.py  \n",
            "  inflating: mmdetection/mmdet/models/roi_heads/mask_heads/global_context_head.py  \n",
            "  inflating: mmdetection/mmdet/models/roi_heads/mask_heads/grid_head.py  \n",
            "  inflating: mmdetection/mmdet/models/roi_heads/mask_heads/htc_mask_head.py  \n",
            "  inflating: mmdetection/mmdet/models/roi_heads/mask_heads/mask_point_head.py  \n",
            "  inflating: mmdetection/mmdet/models/roi_heads/mask_heads/maskiou_head.py  \n",
            "  inflating: mmdetection/mmdet/models/roi_heads/mask_heads/scnet_mask_head.py  \n",
            "  inflating: mmdetection/mmdet/models/roi_heads/mask_heads/scnet_semantic_head.py  \n",
            "  inflating: mmdetection/mmdet/models/roi_heads/mask_scoring_roi_head.py  \n",
            "  inflating: mmdetection/mmdet/models/roi_heads/multi_instance_roi_head.py  \n",
            "  inflating: mmdetection/mmdet/models/roi_heads/pisa_roi_head.py  \n",
            "  inflating: mmdetection/mmdet/models/roi_heads/point_rend_roi_head.py  \n",
            "   creating: mmdetection/mmdet/models/roi_heads/roi_extractors/\n",
            "  inflating: mmdetection/mmdet/models/roi_heads/roi_extractors/__init__.py  \n",
            "  inflating: mmdetection/mmdet/models/roi_heads/roi_extractors/base_roi_extractor.py  \n",
            "  inflating: mmdetection/mmdet/models/roi_heads/roi_extractors/generic_roi_extractor.py  \n",
            "  inflating: mmdetection/mmdet/models/roi_heads/roi_extractors/single_level_roi_extractor.py  \n",
            "  inflating: mmdetection/mmdet/models/roi_heads/scnet_roi_head.py  \n",
            "   creating: mmdetection/mmdet/models/roi_heads/shared_heads/\n",
            "  inflating: mmdetection/mmdet/models/roi_heads/shared_heads/__init__.py  \n",
            "  inflating: mmdetection/mmdet/models/roi_heads/shared_heads/res_layer.py  \n",
            "  inflating: mmdetection/mmdet/models/roi_heads/sparse_roi_head.py  \n",
            "  inflating: mmdetection/mmdet/models/roi_heads/standard_roi_head.py  \n",
            "  inflating: mmdetection/mmdet/models/roi_heads/test_mixins.py  \n",
            "  inflating: mmdetection/mmdet/models/roi_heads/trident_roi_head.py  \n",
            "   creating: mmdetection/mmdet/models/seg_heads/\n",
            "  inflating: mmdetection/mmdet/models/seg_heads/__init__.py  \n",
            "  inflating: mmdetection/mmdet/models/seg_heads/base_semantic_head.py  \n",
            "  inflating: mmdetection/mmdet/models/seg_heads/panoptic_fpn_head.py  \n",
            "   creating: mmdetection/mmdet/models/seg_heads/panoptic_fusion_heads/\n",
            "  inflating: mmdetection/mmdet/models/seg_heads/panoptic_fusion_heads/__init__.py  \n",
            "  inflating: mmdetection/mmdet/models/seg_heads/panoptic_fusion_heads/base_panoptic_fusion_head.py  \n",
            "  inflating: mmdetection/mmdet/models/seg_heads/panoptic_fusion_heads/heuristic_fusion_head.py  \n",
            "  inflating: mmdetection/mmdet/models/seg_heads/panoptic_fusion_heads/maskformer_fusion_head.py  \n",
            "   creating: mmdetection/mmdet/models/task_modules/\n",
            "  inflating: mmdetection/mmdet/models/task_modules/__init__.py  \n",
            "   creating: mmdetection/mmdet/models/task_modules/assigners/\n",
            "  inflating: mmdetection/mmdet/models/task_modules/assigners/__init__.py  \n",
            "  inflating: mmdetection/mmdet/models/task_modules/assigners/approx_max_iou_assigner.py  \n",
            "  inflating: mmdetection/mmdet/models/task_modules/assigners/assign_result.py  \n",
            "  inflating: mmdetection/mmdet/models/task_modules/assigners/atss_assigner.py  \n",
            "  inflating: mmdetection/mmdet/models/task_modules/assigners/base_assigner.py  \n",
            "  inflating: mmdetection/mmdet/models/task_modules/assigners/center_region_assigner.py  \n",
            "  inflating: mmdetection/mmdet/models/task_modules/assigners/dynamic_soft_label_assigner.py  \n",
            "  inflating: mmdetection/mmdet/models/task_modules/assigners/grid_assigner.py  \n",
            "  inflating: mmdetection/mmdet/models/task_modules/assigners/hungarian_assigner.py  \n",
            "  inflating: mmdetection/mmdet/models/task_modules/assigners/iou2d_calculator.py  \n",
            "  inflating: mmdetection/mmdet/models/task_modules/assigners/match_cost.py  \n",
            "  inflating: mmdetection/mmdet/models/task_modules/assigners/max_iou_assigner.py  \n",
            "  inflating: mmdetection/mmdet/models/task_modules/assigners/multi_instance_assigner.py  \n",
            "  inflating: mmdetection/mmdet/models/task_modules/assigners/point_assigner.py  \n",
            "  inflating: mmdetection/mmdet/models/task_modules/assigners/region_assigner.py  \n",
            "  inflating: mmdetection/mmdet/models/task_modules/assigners/sim_ota_assigner.py  \n",
            "  inflating: mmdetection/mmdet/models/task_modules/assigners/task_aligned_assigner.py  \n",
            "  inflating: mmdetection/mmdet/models/task_modules/assigners/topk_hungarian_assigner.py  \n",
            "  inflating: mmdetection/mmdet/models/task_modules/assigners/uniform_assigner.py  \n",
            "  inflating: mmdetection/mmdet/models/task_modules/builder.py  \n",
            "   creating: mmdetection/mmdet/models/task_modules/coders/\n",
            "  inflating: mmdetection/mmdet/models/task_modules/coders/__init__.py  \n",
            "  inflating: mmdetection/mmdet/models/task_modules/coders/base_bbox_coder.py  \n",
            "  inflating: mmdetection/mmdet/models/task_modules/coders/bucketing_bbox_coder.py  \n",
            "  inflating: mmdetection/mmdet/models/task_modules/coders/delta_xywh_bbox_coder.py  \n",
            "  inflating: mmdetection/mmdet/models/task_modules/coders/distance_point_bbox_coder.py  \n",
            "  inflating: mmdetection/mmdet/models/task_modules/coders/legacy_delta_xywh_bbox_coder.py  \n",
            "  inflating: mmdetection/mmdet/models/task_modules/coders/pseudo_bbox_coder.py  \n",
            "  inflating: mmdetection/mmdet/models/task_modules/coders/tblr_bbox_coder.py  \n",
            "  inflating: mmdetection/mmdet/models/task_modules/coders/yolo_bbox_coder.py  \n",
            "   creating: mmdetection/mmdet/models/task_modules/prior_generators/\n",
            "  inflating: mmdetection/mmdet/models/task_modules/prior_generators/__init__.py  \n",
            "  inflating: mmdetection/mmdet/models/task_modules/prior_generators/anchor_generator.py  \n",
            "  inflating: mmdetection/mmdet/models/task_modules/prior_generators/point_generator.py  \n",
            "  inflating: mmdetection/mmdet/models/task_modules/prior_generators/utils.py  \n",
            "   creating: mmdetection/mmdet/models/task_modules/samplers/\n",
            "  inflating: mmdetection/mmdet/models/task_modules/samplers/__init__.py  \n",
            "  inflating: mmdetection/mmdet/models/task_modules/samplers/base_sampler.py  \n",
            "  inflating: mmdetection/mmdet/models/task_modules/samplers/combined_sampler.py  \n",
            "  inflating: mmdetection/mmdet/models/task_modules/samplers/instance_balanced_pos_sampler.py  \n",
            "  inflating: mmdetection/mmdet/models/task_modules/samplers/iou_balanced_neg_sampler.py  \n",
            "  inflating: mmdetection/mmdet/models/task_modules/samplers/mask_pseudo_sampler.py  \n",
            "  inflating: mmdetection/mmdet/models/task_modules/samplers/mask_sampling_result.py  \n",
            "  inflating: mmdetection/mmdet/models/task_modules/samplers/multi_instance_random_sampler.py  \n",
            "  inflating: mmdetection/mmdet/models/task_modules/samplers/multi_instance_sampling_result.py  \n",
            "  inflating: mmdetection/mmdet/models/task_modules/samplers/ohem_sampler.py  \n",
            "  inflating: mmdetection/mmdet/models/task_modules/samplers/pseudo_sampler.py  \n",
            "  inflating: mmdetection/mmdet/models/task_modules/samplers/random_sampler.py  \n",
            "  inflating: mmdetection/mmdet/models/task_modules/samplers/sampling_result.py  \n",
            "  inflating: mmdetection/mmdet/models/task_modules/samplers/score_hlr_sampler.py  \n",
            "   creating: mmdetection/mmdet/models/task_modules/tracking/\n",
            "  inflating: mmdetection/mmdet/models/task_modules/tracking/__init__.py  \n",
            "  inflating: mmdetection/mmdet/models/task_modules/tracking/aflink.py  \n",
            "  inflating: mmdetection/mmdet/models/task_modules/tracking/camera_motion_compensation.py  \n",
            "  inflating: mmdetection/mmdet/models/task_modules/tracking/interpolation.py  \n",
            "  inflating: mmdetection/mmdet/models/task_modules/tracking/kalman_filter.py  \n",
            "  inflating: mmdetection/mmdet/models/task_modules/tracking/similarity.py  \n",
            "   creating: mmdetection/mmdet/models/test_time_augs/\n",
            "  inflating: mmdetection/mmdet/models/test_time_augs/__init__.py  \n",
            "  inflating: mmdetection/mmdet/models/test_time_augs/det_tta.py  \n",
            "  inflating: mmdetection/mmdet/models/test_time_augs/merge_augs.py  \n",
            "   creating: mmdetection/mmdet/models/trackers/\n",
            "  inflating: mmdetection/mmdet/models/trackers/__init__.py  \n",
            "  inflating: mmdetection/mmdet/models/trackers/base_tracker.py  \n",
            "  inflating: mmdetection/mmdet/models/trackers/byte_tracker.py  \n",
            "  inflating: mmdetection/mmdet/models/trackers/masktrack_rcnn_tracker.py  \n",
            "  inflating: mmdetection/mmdet/models/trackers/ocsort_tracker.py  \n",
            "  inflating: mmdetection/mmdet/models/trackers/quasi_dense_tracker.py  \n",
            "  inflating: mmdetection/mmdet/models/trackers/sort_tracker.py  \n",
            "  inflating: mmdetection/mmdet/models/trackers/strongsort_tracker.py  \n",
            "   creating: mmdetection/mmdet/models/tracking_heads/\n",
            "  inflating: mmdetection/mmdet/models/tracking_heads/__init__.py  \n",
            "  inflating: mmdetection/mmdet/models/tracking_heads/mask2former_track_head.py  \n",
            "  inflating: mmdetection/mmdet/models/tracking_heads/quasi_dense_embed_head.py  \n",
            "  inflating: mmdetection/mmdet/models/tracking_heads/quasi_dense_track_head.py  \n",
            "  inflating: mmdetection/mmdet/models/tracking_heads/roi_embed_head.py  \n",
            "  inflating: mmdetection/mmdet/models/tracking_heads/roi_track_head.py  \n",
            "   creating: mmdetection/mmdet/models/utils/\n",
            "  inflating: mmdetection/mmdet/models/utils/__init__.py  \n",
            "  inflating: mmdetection/mmdet/models/utils/gaussian_target.py  \n",
            "  inflating: mmdetection/mmdet/models/utils/image.py  \n",
            "  inflating: mmdetection/mmdet/models/utils/make_divisible.py  \n",
            "  inflating: mmdetection/mmdet/models/utils/misc.py  \n",
            "  inflating: mmdetection/mmdet/models/utils/panoptic_gt_processing.py  \n",
            "  inflating: mmdetection/mmdet/models/utils/point_sample.py  \n",
            "  inflating: mmdetection/mmdet/models/utils/vlfuse_helper.py  \n",
            "  inflating: mmdetection/mmdet/models/utils/wbf.py  \n",
            "   creating: mmdetection/mmdet/models/vis/\n",
            "  inflating: mmdetection/mmdet/models/vis/__init__.py  \n",
            "  inflating: mmdetection/mmdet/models/vis/mask2former_vis.py  \n",
            "  inflating: mmdetection/mmdet/models/vis/masktrack_rcnn.py  \n",
            "  inflating: mmdetection/mmdet/registry.py  \n",
            "   creating: mmdetection/mmdet/structures/\n",
            "  inflating: mmdetection/mmdet/structures/__init__.py  \n",
            "   creating: mmdetection/mmdet/structures/bbox/\n",
            "  inflating: mmdetection/mmdet/structures/bbox/__init__.py  \n",
            "  inflating: mmdetection/mmdet/structures/bbox/base_boxes.py  \n",
            "  inflating: mmdetection/mmdet/structures/bbox/bbox_overlaps.py  \n",
            "  inflating: mmdetection/mmdet/structures/bbox/box_type.py  \n",
            "  inflating: mmdetection/mmdet/structures/bbox/horizontal_boxes.py  \n",
            "  inflating: mmdetection/mmdet/structures/bbox/transforms.py  \n",
            "  inflating: mmdetection/mmdet/structures/det_data_sample.py  \n",
            "   creating: mmdetection/mmdet/structures/mask/\n",
            "  inflating: mmdetection/mmdet/structures/mask/__init__.py  \n",
            "  inflating: mmdetection/mmdet/structures/mask/mask_target.py  \n",
            "  inflating: mmdetection/mmdet/structures/mask/structures.py  \n",
            "  inflating: mmdetection/mmdet/structures/mask/utils.py  \n",
            "  inflating: mmdetection/mmdet/structures/reid_data_sample.py  \n",
            "  inflating: mmdetection/mmdet/structures/track_data_sample.py  \n",
            "   creating: mmdetection/mmdet/testing/\n",
            "  inflating: mmdetection/mmdet/testing/__init__.py  \n",
            "  inflating: mmdetection/mmdet/testing/_fast_stop_training_hook.py  \n",
            "  inflating: mmdetection/mmdet/testing/_utils.py  \n",
            "   creating: mmdetection/mmdet/utils/\n",
            "  inflating: mmdetection/mmdet/utils/__init__.py  \n",
            "  inflating: mmdetection/mmdet/utils/benchmark.py  \n",
            "  inflating: mmdetection/mmdet/utils/collect_env.py  \n",
            "  inflating: mmdetection/mmdet/utils/compat_config.py  \n",
            "  inflating: mmdetection/mmdet/utils/contextmanagers.py  \n",
            "  inflating: mmdetection/mmdet/utils/dist_utils.py  \n",
            "  inflating: mmdetection/mmdet/utils/large_image.py  \n",
            "  inflating: mmdetection/mmdet/utils/logger.py  \n",
            "  inflating: mmdetection/mmdet/utils/memory.py  \n",
            "  inflating: mmdetection/mmdet/utils/misc.py  \n",
            "  inflating: mmdetection/mmdet/utils/mot_error_visualize.py  \n",
            "  inflating: mmdetection/mmdet/utils/profiling.py  \n",
            "  inflating: mmdetection/mmdet/utils/replace_cfg_vals.py  \n",
            "  inflating: mmdetection/mmdet/utils/setup_env.py  \n",
            "  inflating: mmdetection/mmdet/utils/split_batch.py  \n",
            "  inflating: mmdetection/mmdet/utils/typing_utils.py  \n",
            "  inflating: mmdetection/mmdet/utils/util_mixins.py  \n",
            "  inflating: mmdetection/mmdet/utils/util_random.py  \n",
            "  inflating: mmdetection/mmdet/version.py  \n",
            "   creating: mmdetection/mmdet/visualization/\n",
            "  inflating: mmdetection/mmdet/visualization/__init__.py  \n",
            "  inflating: mmdetection/mmdet/visualization/local_visualizer.py  \n",
            "  inflating: mmdetection/mmdet/visualization/palette.py  \n",
            "  inflating: mmdetection/model-index.yml  \n",
            "   creating: mmdetection/projects/\n",
            "   creating: mmdetection/projects/AlignDETR/\n",
            "  inflating: mmdetection/projects/AlignDETR/README.md  \n",
            "   creating: mmdetection/projects/AlignDETR/align_detr/\n",
            "  inflating: mmdetection/projects/AlignDETR/align_detr/__init__.py  \n",
            "  inflating: mmdetection/projects/AlignDETR/align_detr/align_detr_head.py  \n",
            "  inflating: mmdetection/projects/AlignDETR/align_detr/mixed_hungarian_assigner.py  \n",
            "  inflating: mmdetection/projects/AlignDETR/align_detr/utils.py  \n",
            "   creating: mmdetection/projects/AlignDETR/configs/\n",
            "  inflating: mmdetection/projects/AlignDETR/configs/align_detr-4scale_r50_8xb2-12e_coco.py  \n",
            "  inflating: mmdetection/projects/AlignDETR/configs/align_detr-4scale_r50_8xb2-24e_coco.py  \n",
            "   creating: mmdetection/projects/CO-DETR/\n",
            "  inflating: mmdetection/projects/CO-DETR/README.md  \n",
            "   creating: mmdetection/projects/CO-DETR/codetr/\n",
            "  inflating: mmdetection/projects/CO-DETR/codetr/__init__.py  \n",
            "  inflating: mmdetection/projects/CO-DETR/codetr/co_atss_head.py  \n",
            "  inflating: mmdetection/projects/CO-DETR/codetr/co_dino_head.py  \n",
            "  inflating: mmdetection/projects/CO-DETR/codetr/co_roi_head.py  \n",
            "  inflating: mmdetection/projects/CO-DETR/codetr/codetr.py  \n",
            "  inflating: mmdetection/projects/CO-DETR/codetr/transformer.py  \n",
            "   creating: mmdetection/projects/CO-DETR/configs/\n",
            "   creating: mmdetection/projects/CO-DETR/configs/codino/\n",
            "  inflating: mmdetection/projects/CO-DETR/configs/codino/co_dino_5scale_r50_8xb2_1x_coco.py  \n",
            "  inflating: mmdetection/projects/CO-DETR/configs/codino/co_dino_5scale_r50_lsj_8xb2_1x_coco.py  \n",
            "  inflating: mmdetection/projects/CO-DETR/configs/codino/co_dino_5scale_r50_lsj_8xb2_3x_coco.py  \n",
            "  inflating: mmdetection/projects/CO-DETR/configs/codino/co_dino_5scale_swin_l_16xb1_16e_o365tococo.py  \n",
            "  inflating: mmdetection/projects/CO-DETR/configs/codino/co_dino_5scale_swin_l_16xb1_1x_coco.py  \n",
            "  inflating: mmdetection/projects/CO-DETR/configs/codino/co_dino_5scale_swin_l_16xb1_3x_coco.py  \n",
            "  inflating: mmdetection/projects/CO-DETR/configs/codino/co_dino_5scale_swin_l_lsj_16xb1_1x_coco.py  \n",
            "  inflating: mmdetection/projects/CO-DETR/configs/codino/co_dino_5scale_swin_l_lsj_16xb1_3x_coco.py  \n",
            "   creating: mmdetection/projects/ConvNeXt-V2/\n",
            "  inflating: mmdetection/projects/ConvNeXt-V2/README.md  \n",
            "   creating: mmdetection/projects/ConvNeXt-V2/configs/\n",
            "  inflating: mmdetection/projects/ConvNeXt-V2/configs/mask-rcnn_convnext-v2-b_fpn_lsj-3x-fcmae_coco.py  \n",
            "   creating: mmdetection/projects/Detic/\n",
            "  inflating: mmdetection/projects/Detic/README.md  \n",
            "   creating: mmdetection/projects/Detic/configs/\n",
            "  inflating: mmdetection/projects/Detic/configs/detic_centernet2_swin-b_fpn_4x_lvis-coco-in21k.py  \n",
            "  inflating: mmdetection/projects/Detic/demo.py  \n",
            "   creating: mmdetection/projects/Detic/detic/\n",
            "  inflating: mmdetection/projects/Detic/detic/__init__.py  \n",
            "  inflating: mmdetection/projects/Detic/detic/centernet_rpn_head.py  \n",
            "  inflating: mmdetection/projects/Detic/detic/detic_bbox_head.py  \n",
            "  inflating: mmdetection/projects/Detic/detic/detic_roi_head.py  \n",
            "  inflating: mmdetection/projects/Detic/detic/text_encoder.py  \n",
            "  inflating: mmdetection/projects/Detic/detic/utils.py  \n",
            "  inflating: mmdetection/projects/Detic/detic/zero_shot_classifier.py  \n",
            "   creating: mmdetection/projects/Detic_new/\n",
            "  inflating: mmdetection/projects/Detic_new/README.md  \n",
            "   creating: mmdetection/projects/Detic_new/configs/\n",
            "  inflating: mmdetection/projects/Detic_new/configs/detic_centernet2_r50_fpn_4x_lvis-base_boxsup.py  \n",
            "  inflating: mmdetection/projects/Detic_new/configs/detic_centernet2_r50_fpn_4x_lvis-base_in21k-lvis.py  \n",
            "  inflating: mmdetection/projects/Detic_new/configs/detic_centernet2_r50_fpn_4x_lvis_boxsup.py  \n",
            "  inflating: mmdetection/projects/Detic_new/configs/detic_centernet2_r50_fpn_4x_lvis_in21k-lvis.py  \n",
            "  inflating: mmdetection/projects/Detic_new/configs/detic_centernet2_swin-b_fpn_4x_lvis-base_boxsup.py  \n",
            "  inflating: mmdetection/projects/Detic_new/configs/detic_centernet2_swin-b_fpn_4x_lvis-base_in21k-lvis.py  \n",
            "  inflating: mmdetection/projects/Detic_new/configs/detic_centernet2_swin-b_fpn_4x_lvis_boxsup.py  \n",
            "  inflating: mmdetection/projects/Detic_new/configs/detic_centernet2_swin-b_fpn_4x_lvis_coco_in21k.py  \n",
            "  inflating: mmdetection/projects/Detic_new/configs/detic_centernet2_swin-b_fpn_4x_lvis_in21k-lvis.py  \n",
            "   creating: mmdetection/projects/Detic_new/detic/\n",
            "  inflating: mmdetection/projects/Detic_new/detic/__init__.py  \n",
            "  inflating: mmdetection/projects/Detic_new/detic/centernet_rpn_head.py  \n",
            "  inflating: mmdetection/projects/Detic_new/detic/detic.py  \n",
            "  inflating: mmdetection/projects/Detic_new/detic/detic_bbox_head.py  \n",
            "  inflating: mmdetection/projects/Detic_new/detic/detic_roi_head.py  \n",
            "  inflating: mmdetection/projects/Detic_new/detic/heatmap_focal_loss.py  \n",
            "  inflating: mmdetection/projects/Detic_new/detic/imagenet_lvis.py  \n",
            "  inflating: mmdetection/projects/Detic_new/detic/iou_loss.py  \n",
            "  inflating: mmdetection/projects/Detic_new/detic/zero_shot_classifier.py  \n",
            "   creating: mmdetection/projects/DiffusionDet/\n",
            "  inflating: mmdetection/projects/DiffusionDet/README.md  \n",
            "   creating: mmdetection/projects/DiffusionDet/configs/\n",
            "  inflating: mmdetection/projects/DiffusionDet/configs/diffusiondet_r50_fpn_500-proposals_1-step_crop-ms-480-800-450k_coco.py  \n",
            "   creating: mmdetection/projects/DiffusionDet/diffusiondet/\n",
            "  inflating: mmdetection/projects/DiffusionDet/diffusiondet/__init__.py  \n",
            "  inflating: mmdetection/projects/DiffusionDet/diffusiondet/diffusiondet.py  \n",
            "  inflating: mmdetection/projects/DiffusionDet/diffusiondet/head.py  \n",
            "  inflating: mmdetection/projects/DiffusionDet/diffusiondet/loss.py  \n",
            "   creating: mmdetection/projects/DiffusionDet/model_converters/\n",
            "  inflating: mmdetection/projects/DiffusionDet/model_converters/diffusiondet_resnet_to_mmdet.py  \n",
            "   creating: mmdetection/projects/EfficientDet/\n",
            "  inflating: mmdetection/projects/EfficientDet/README.md  \n",
            "   creating: mmdetection/projects/EfficientDet/configs/\n",
            "  inflating: mmdetection/projects/EfficientDet/configs/efficientdet_effb0_bifpn_8xb16-crop512-300e_coco.py  \n",
            "  inflating: mmdetection/projects/EfficientDet/configs/efficientdet_effb3_bifpn_8xb16-crop896-300e_coco-90cls.py  \n",
            "  inflating: mmdetection/projects/EfficientDet/configs/efficientdet_effb3_bifpn_8xb16-crop896-300e_coco.py  \n",
            "   creating: mmdetection/projects/EfficientDet/configs/tensorflow/\n",
            "  inflating: mmdetection/projects/EfficientDet/configs/tensorflow/efficientdet_effb0_bifpn_8xb16-crop512-300e_coco_tf.py  \n",
            "  inflating: mmdetection/projects/EfficientDet/convert_tf_to_pt.py  \n",
            "   creating: mmdetection/projects/EfficientDet/efficientdet/\n",
            "  inflating: mmdetection/projects/EfficientDet/efficientdet/__init__.py  \n",
            "  inflating: mmdetection/projects/EfficientDet/efficientdet/bifpn.py  \n",
            "  inflating: mmdetection/projects/EfficientDet/efficientdet/efficientdet.py  \n",
            "  inflating: mmdetection/projects/EfficientDet/efficientdet/efficientdet_head.py  \n",
            "  inflating: mmdetection/projects/EfficientDet/efficientdet/huber_loss.py  \n",
            "   creating: mmdetection/projects/EfficientDet/efficientdet/tensorflow/\n",
            "  inflating: mmdetection/projects/EfficientDet/efficientdet/tensorflow/anchor_generator.py  \n",
            "   creating: mmdetection/projects/EfficientDet/efficientdet/tensorflow/api_wrappers/\n",
            "  inflating: mmdetection/projects/EfficientDet/efficientdet/tensorflow/api_wrappers/__init__.py  \n",
            "  inflating: mmdetection/projects/EfficientDet/efficientdet/tensorflow/api_wrappers/coco_api.py  \n",
            "  inflating: mmdetection/projects/EfficientDet/efficientdet/tensorflow/coco_90class.py  \n",
            "  inflating: mmdetection/projects/EfficientDet/efficientdet/tensorflow/coco_90metric.py  \n",
            "  inflating: mmdetection/projects/EfficientDet/efficientdet/tensorflow/trans_max_iou_assigner.py  \n",
            "  inflating: mmdetection/projects/EfficientDet/efficientdet/tensorflow/yxyx_bbox_coder.py  \n",
            "  inflating: mmdetection/projects/EfficientDet/efficientdet/utils.py  \n",
            "   creating: mmdetection/projects/HDINO/\n",
            "  inflating: mmdetection/projects/HDINO/README.md  \n",
            "  inflating: mmdetection/projects/HDINO/__init__.py  \n",
            "  inflating: mmdetection/projects/HDINO/h-dino-4scale_r50_8xb2-12e_coco.py  \n",
            "  inflating: mmdetection/projects/HDINO/h_dino.py  \n",
            "  inflating: mmdetection/projects/HDINO/h_dino_head.py  \n",
            "   creating: mmdetection/projects/LabelStudio/\n",
            "   creating: mmdetection/projects/LabelStudio/backend_template/\n",
            "  inflating: mmdetection/projects/LabelStudio/backend_template/_wsgi.py  \n",
            "  inflating: mmdetection/projects/LabelStudio/backend_template/mmdetection.py  \n",
            "  inflating: mmdetection/projects/LabelStudio/readme.md  \n",
            "   creating: mmdetection/projects/RF100-Benchmark/\n",
            "  inflating: mmdetection/projects/RF100-Benchmark/README.md  \n",
            "  inflating: mmdetection/projects/RF100-Benchmark/README_zh-CN.md  \n",
            "  inflating: mmdetection/projects/RF100-Benchmark/__init__.py  \n",
            "  inflating: mmdetection/projects/RF100-Benchmark/coco.py  \n",
            "  inflating: mmdetection/projects/RF100-Benchmark/coco_metric.py  \n",
            "   creating: mmdetection/projects/RF100-Benchmark/configs/\n",
            "  inflating: mmdetection/projects/RF100-Benchmark/configs/dino_r50_fpn_ms_8xb8_tweeter-profile.py  \n",
            "  inflating: mmdetection/projects/RF100-Benchmark/configs/faster-rcnn_r50_fpn_ms_8xb8_tweeter-profile.py  \n",
            "  inflating: mmdetection/projects/RF100-Benchmark/configs/tood_r50_fpn_ms_8xb8_tweeter-profile.py  \n",
            "   creating: mmdetection/projects/RF100-Benchmark/scripts/\n",
            "  inflating: mmdetection/projects/RF100-Benchmark/scripts/create_new_config.py  \n",
            "  inflating: mmdetection/projects/RF100-Benchmark/scripts/datasets_links_640.txt  \n",
            "  inflating: mmdetection/projects/RF100-Benchmark/scripts/dist_train.sh  \n",
            "  inflating: mmdetection/projects/RF100-Benchmark/scripts/download_dataset.py  \n",
            "  inflating: mmdetection/projects/RF100-Benchmark/scripts/download_datasets.sh  \n",
            "  inflating: mmdetection/projects/RF100-Benchmark/scripts/labels_names.json  \n",
            "  inflating: mmdetection/projects/RF100-Benchmark/scripts/log_extract.py  \n",
            "  inflating: mmdetection/projects/RF100-Benchmark/scripts/parse_dataset_link.py  \n",
            "  inflating: mmdetection/projects/RF100-Benchmark/scripts/slurm_train.sh  \n",
            "   creating: mmdetection/projects/SparseInst/\n",
            "  inflating: mmdetection/projects/SparseInst/README.md  \n",
            "   creating: mmdetection/projects/SparseInst/configs/\n",
            "  inflating: mmdetection/projects/SparseInst/configs/sparseinst_r50_iam_8xb8-ms-270k_coco.py  \n",
            "   creating: mmdetection/projects/SparseInst/sparseinst/\n",
            "  inflating: mmdetection/projects/SparseInst/sparseinst/__init__.py  \n",
            "  inflating: mmdetection/projects/SparseInst/sparseinst/decoder.py  \n",
            "  inflating: mmdetection/projects/SparseInst/sparseinst/encoder.py  \n",
            "  inflating: mmdetection/projects/SparseInst/sparseinst/loss.py  \n",
            "  inflating: mmdetection/projects/SparseInst/sparseinst/sparseinst.py  \n",
            "   creating: mmdetection/projects/VISION-Datasets/\n",
            "  inflating: mmdetection/projects/VISION-Datasets/README.md  \n",
            "  inflating: mmdetection/projects/VISION-Datasets/README_zh-CN.md  \n",
            "   creating: mmdetection/projects/ViTDet/\n",
            "  inflating: mmdetection/projects/ViTDet/README.md  \n",
            "   creating: mmdetection/projects/ViTDet/configs/\n",
            "  inflating: mmdetection/projects/ViTDet/configs/lsj-100e_coco-instance.py  \n",
            "  inflating: mmdetection/projects/ViTDet/configs/vitdet_mask-rcnn_vit-b-mae_lsj-100e.py  \n",
            "   creating: mmdetection/projects/ViTDet/vitdet/\n",
            "  inflating: mmdetection/projects/ViTDet/vitdet/__init__.py  \n",
            "  inflating: mmdetection/projects/ViTDet/vitdet/fp16_compression_hook.py  \n",
            "  inflating: mmdetection/projects/ViTDet/vitdet/layer_decay_optimizer_constructor.py  \n",
            "  inflating: mmdetection/projects/ViTDet/vitdet/simple_fpn.py  \n",
            "  inflating: mmdetection/projects/ViTDet/vitdet/vit.py  \n",
            "   creating: mmdetection/projects/XDecoder/\n",
            "  inflating: mmdetection/projects/XDecoder/README.md  \n",
            "   creating: mmdetection/projects/XDecoder/configs/\n",
            "   creating: mmdetection/projects/XDecoder/configs/_base_/\n",
            "  inflating: mmdetection/projects/XDecoder/configs/_base_/xdecoder-tiny_caption.py  \n",
            "  inflating: mmdetection/projects/XDecoder/configs/_base_/xdecoder-tiny_open-vocab-instance.py  \n",
            "  inflating: mmdetection/projects/XDecoder/configs/_base_/xdecoder-tiny_open-vocab-panoptic.py  \n",
            "  inflating: mmdetection/projects/XDecoder/configs/_base_/xdecoder-tiny_open-vocab-semseg.py  \n",
            "  inflating: mmdetection/projects/XDecoder/configs/_base_/xdecoder-tiny_ref-seg.py  \n",
            "  inflating: mmdetection/projects/XDecoder/configs/xdecoder-tiny_zeroshot_caption_coco2014.py  \n",
            "  inflating: mmdetection/projects/XDecoder/configs/xdecoder-tiny_zeroshot_open-vocab-instance_ade20k.py  \n",
            "  inflating: mmdetection/projects/XDecoder/configs/xdecoder-tiny_zeroshot_open-vocab-instance_coco.py  \n",
            "  inflating: mmdetection/projects/XDecoder/configs/xdecoder-tiny_zeroshot_open-vocab-panoptic_ade20k.py  \n",
            "  inflating: mmdetection/projects/XDecoder/configs/xdecoder-tiny_zeroshot_open-vocab-panoptic_coco.py  \n",
            "  inflating: mmdetection/projects/XDecoder/configs/xdecoder-tiny_zeroshot_open-vocab-ref-seg_refcoco+.py  \n",
            "  inflating: mmdetection/projects/XDecoder/configs/xdecoder-tiny_zeroshot_open-vocab-ref-seg_refcoco.py  \n",
            "  inflating: mmdetection/projects/XDecoder/configs/xdecoder-tiny_zeroshot_open-vocab-ref-seg_refcocog.py  \n",
            "  inflating: mmdetection/projects/XDecoder/configs/xdecoder-tiny_zeroshot_open-vocab-semseg_ade20k.py  \n",
            "  inflating: mmdetection/projects/XDecoder/configs/xdecoder-tiny_zeroshot_open-vocab-semseg_coco.py  \n",
            "  inflating: mmdetection/projects/XDecoder/configs/xdecoder-tiny_zeroshot_ref-caption.py  \n",
            "  inflating: mmdetection/projects/XDecoder/configs/xdecoder-tiny_zeroshot_text-image-retrieval.py  \n",
            "  inflating: mmdetection/projects/XDecoder/demo.py  \n",
            "   creating: mmdetection/projects/XDecoder/xdecoder/\n",
            "  inflating: mmdetection/projects/XDecoder/xdecoder/__init__.py  \n",
            "  inflating: mmdetection/projects/XDecoder/xdecoder/focalnet.py  \n",
            "   creating: mmdetection/projects/XDecoder/xdecoder/inference/\n",
            "  inflating: mmdetection/projects/XDecoder/xdecoder/inference/__init__.py  \n",
            "  inflating: mmdetection/projects/XDecoder/xdecoder/inference/image_caption.py  \n",
            "  inflating: mmdetection/projects/XDecoder/xdecoder/inference/texttoimage_regionretrieval_inferencer.py  \n",
            "  inflating: mmdetection/projects/XDecoder/xdecoder/language_model.py  \n",
            "  inflating: mmdetection/projects/XDecoder/xdecoder/pixel_decoder.py  \n",
            "  inflating: mmdetection/projects/XDecoder/xdecoder/transformer_blocks.py  \n",
            "  inflating: mmdetection/projects/XDecoder/xdecoder/transformer_decoder.py  \n",
            "  inflating: mmdetection/projects/XDecoder/xdecoder/unified_head.py  \n",
            "  inflating: mmdetection/projects/XDecoder/xdecoder/utils.py  \n",
            "  inflating: mmdetection/projects/XDecoder/xdecoder/xdecoder.py  \n",
            "   creating: mmdetection/projects/example_largemodel/\n",
            "  inflating: mmdetection/projects/example_largemodel/README.md  \n",
            "  inflating: mmdetection/projects/example_largemodel/README_zh-CN.md  \n",
            "  inflating: mmdetection/projects/example_largemodel/__init__.py  \n",
            "  inflating: mmdetection/projects/example_largemodel/dino-5scale_swin-l_deepspeed_8xb2-12e_coco.py  \n",
            "  inflating: mmdetection/projects/example_largemodel/dino-5scale_swin-l_fsdp_8xb2-12e_coco.py  \n",
            "  inflating: mmdetection/projects/example_largemodel/fsdp_utils.py  \n",
            "   creating: mmdetection/projects/example_project/\n",
            "  inflating: mmdetection/projects/example_project/README.md  \n",
            "   creating: mmdetection/projects/example_project/configs/\n",
            "  inflating: mmdetection/projects/example_project/configs/faster-rcnn_dummy-resnet_fpn_1x_coco.py  \n",
            "   creating: mmdetection/projects/example_project/dummy/\n",
            "  inflating: mmdetection/projects/example_project/dummy/__init__.py  \n",
            "  inflating: mmdetection/projects/example_project/dummy/dummy_resnet.py  \n",
            "   creating: mmdetection/projects/gradio_demo/\n",
            "  inflating: mmdetection/projects/gradio_demo/README.md  \n",
            "  inflating: mmdetection/projects/gradio_demo/launch.py  \n",
            "   creating: mmdetection/projects/iSAID/\n",
            "  inflating: mmdetection/projects/iSAID/README.md  \n",
            "  inflating: mmdetection/projects/iSAID/README_zh-CN.md  \n",
            "   creating: mmdetection/projects/iSAID/configs/\n",
            "  inflating: mmdetection/projects/iSAID/configs/mask_rcnn_r50_fpn_1x_isaid.py  \n",
            "  inflating: mmdetection/projects/iSAID/isaid_json.py  \n",
            "  inflating: mmdetection/pytest.ini  \n",
            "   creating: mmdetection/requirements/\n",
            "  inflating: mmdetection/requirements/albu.txt  \n",
            "  inflating: mmdetection/requirements/build.txt  \n",
            "  inflating: mmdetection/requirements/docs.txt  \n",
            "  inflating: mmdetection/requirements/mminstall.txt  \n",
            "  inflating: mmdetection/requirements/multimodal.txt  \n",
            "  inflating: mmdetection/requirements/optional.txt  \n",
            "  inflating: mmdetection/requirements/readthedocs.txt  \n",
            "  inflating: mmdetection/requirements/runtime.txt  \n",
            "  inflating: mmdetection/requirements/tests.txt  \n",
            "  inflating: mmdetection/requirements/tracking.txt  \n",
            "  inflating: mmdetection/requirements.txt  \n",
            "   creating: mmdetection/resources/\n",
            "  inflating: mmdetection/resources/coco_test_12510.jpg  \n",
            "  inflating: mmdetection/resources/corruptions_sev_3.png  \n",
            "  inflating: mmdetection/resources/data_pipeline.png  \n",
            "  inflating: mmdetection/resources/loss_curve.png  \n",
            "  inflating: mmdetection/resources/miaomiao_qrcode.jpg  \n",
            "  inflating: mmdetection/resources/mmdet-logo.png  \n",
            "  inflating: mmdetection/resources/zhihu_qrcode.jpg  \n",
            "  inflating: mmdetection/setup.cfg   \n",
            "  inflating: mmdetection/setup.py    \n",
            "   creating: mmdetection/tests/\n",
            "   creating: mmdetection/tests/data/\n",
            "   creating: mmdetection/tests/data/Objects365/\n",
            "  inflating: mmdetection/tests/data/Objects365/unsorted_obj365_sample.json  \n",
            "   creating: mmdetection/tests/data/OpenImages/\n",
            "   creating: mmdetection/tests/data/OpenImages/annotations/\n",
            " extracting: mmdetection/tests/data/OpenImages/annotations/annotations-human-imagelabels-boxable.csv  \n",
            "  inflating: mmdetection/tests/data/OpenImages/annotations/bbox_labels_600_hierarchy.json  \n",
            " extracting: mmdetection/tests/data/OpenImages/annotations/class-descriptions-boxable.csv  \n",
            "  inflating: mmdetection/tests/data/OpenImages/annotations/image-metas.pkl  \n",
            "  inflating: mmdetection/tests/data/OpenImages/annotations/oidv6-train-annotations-bbox.csv  \n",
            "   creating: mmdetection/tests/data/OpenImages/challenge2019/\n",
            " extracting: mmdetection/tests/data/OpenImages/challenge2019/annotations-human-imagelabels-boxable.csv  \n",
            "  inflating: mmdetection/tests/data/OpenImages/challenge2019/challenge-2019-train-detection-bbox.txt  \n",
            "  inflating: mmdetection/tests/data/OpenImages/challenge2019/class_label_tree.np  \n",
            " extracting: mmdetection/tests/data/OpenImages/challenge2019/cls-label-description.csv  \n",
            "   creating: mmdetection/tests/data/VOCdevkit/\n",
            "   creating: mmdetection/tests/data/VOCdevkit/VOC2007/\n",
            "   creating: mmdetection/tests/data/VOCdevkit/VOC2007/Annotations/\n",
            "  inflating: mmdetection/tests/data/VOCdevkit/VOC2007/Annotations/000001.xml  \n",
            "   creating: mmdetection/tests/data/VOCdevkit/VOC2007/ImageSets/\n",
            "   creating: mmdetection/tests/data/VOCdevkit/VOC2007/ImageSets/Main/\n",
            "  inflating: mmdetection/tests/data/VOCdevkit/VOC2007/ImageSets/Main/test.txt  \n",
            "  inflating: mmdetection/tests/data/VOCdevkit/VOC2007/ImageSets/Main/trainval.txt  \n",
            "   creating: mmdetection/tests/data/VOCdevkit/VOC2007/JPEGImages/\n",
            "  inflating: mmdetection/tests/data/VOCdevkit/VOC2007/JPEGImages/000001.jpg  \n",
            "   creating: mmdetection/tests/data/VOCdevkit/VOC2012/\n",
            "   creating: mmdetection/tests/data/VOCdevkit/VOC2012/Annotations/\n",
            "  inflating: mmdetection/tests/data/VOCdevkit/VOC2012/Annotations/000001.xml  \n",
            "   creating: mmdetection/tests/data/VOCdevkit/VOC2012/ImageSets/\n",
            "   creating: mmdetection/tests/data/VOCdevkit/VOC2012/ImageSets/Main/\n",
            "  inflating: mmdetection/tests/data/VOCdevkit/VOC2012/ImageSets/Main/test.txt  \n",
            "  inflating: mmdetection/tests/data/VOCdevkit/VOC2012/ImageSets/Main/trainval.txt  \n",
            "   creating: mmdetection/tests/data/VOCdevkit/VOC2012/JPEGImages/\n",
            "  inflating: mmdetection/tests/data/VOCdevkit/VOC2012/JPEGImages/000001.jpg  \n",
            "   creating: mmdetection/tests/data/WIDERFace/\n",
            "   creating: mmdetection/tests/data/WIDERFace/WIDER_train/\n",
            "   creating: mmdetection/tests/data/WIDERFace/WIDER_train/0--Parade/\n",
            " extracting: mmdetection/tests/data/WIDERFace/WIDER_train/0--Parade/.gitkeep  \n",
            "   creating: mmdetection/tests/data/WIDERFace/WIDER_train/Annotations/\n",
            "  inflating: mmdetection/tests/data/WIDERFace/WIDER_train/Annotations/0_Parade_marchingband_1_5.xml  \n",
            " extracting: mmdetection/tests/data/WIDERFace/train.txt  \n",
            "  inflating: mmdetection/tests/data/coco_batched_sample.json  \n",
            "  inflating: mmdetection/tests/data/coco_sample.json  \n",
            "  inflating: mmdetection/tests/data/coco_wrong_format_sample.json  \n",
            "  inflating: mmdetection/tests/data/color.jpg  \n",
            "   creating: mmdetection/tests/data/configs_mmtrack/\n",
            "  inflating: mmdetection/tests/data/configs_mmtrack/faster_rcnn_r50_dc5.py  \n",
            "  inflating: mmdetection/tests/data/configs_mmtrack/faster_rcnn_r50_fpn.py  \n",
            "  inflating: mmdetection/tests/data/configs_mmtrack/mot_challenge.py  \n",
            "  inflating: mmdetection/tests/data/configs_mmtrack/selsa_faster_rcnn_r101_dc5_1x.py  \n",
            "  inflating: mmdetection/tests/data/configs_mmtrack/tracktor_faster-rcnn_r50_fpn_4e.py  \n",
            "   creating: mmdetection/tests/data/crowdhuman_dataset/\n",
            "  inflating: mmdetection/tests/data/crowdhuman_dataset/id_hw_train.json  \n",
            "  inflating: mmdetection/tests/data/crowdhuman_dataset/test_annotation_train.odgt  \n",
            "   creating: mmdetection/tests/data/custom_dataset/\n",
            "   creating: mmdetection/tests/data/custom_dataset/images/\n",
            "  inflating: mmdetection/tests/data/custom_dataset/images/000001.jpg  \n",
            "  inflating: mmdetection/tests/data/custom_dataset/images/000001.xml  \n",
            "  inflating: mmdetection/tests/data/custom_dataset/test.txt  \n",
            "  inflating: mmdetection/tests/data/custom_dataset/trainval.txt  \n",
            "   creating: mmdetection/tests/data/demo_reid_data/\n",
            "   creating: mmdetection/tests/data/demo_reid_data/mot17_reid/\n",
            "  inflating: mmdetection/tests/data/demo_reid_data/mot17_reid/ann.txt  \n",
            "   creating: mmdetection/tests/data/dsdl_det/\n",
            "  inflating: mmdetection/tests/data/dsdl_det/config.py  \n",
            "   creating: mmdetection/tests/data/dsdl_det/defs/\n",
            "  inflating: mmdetection/tests/data/dsdl_det/defs/class-domain.yaml  \n",
            "  inflating: mmdetection/tests/data/dsdl_det/defs/obejct-detection-def.yaml  \n",
            "   creating: mmdetection/tests/data/dsdl_det/set-train/\n",
            "  inflating: mmdetection/tests/data/dsdl_det/set-train/train.yaml  \n",
            "  inflating: mmdetection/tests/data/dsdl_det/set-train/train_samples.json  \n",
            "  inflating: mmdetection/tests/data/gray.jpg  \n",
            "  inflating: mmdetection/tests/data/mot_sample.json  \n",
            "  inflating: mmdetection/tests/data/vis_sample.json  \n",
            "   creating: mmdetection/tests/test_apis/\n",
            "  inflating: mmdetection/tests/test_apis/test_det_inferencer.py  \n",
            "  inflating: mmdetection/tests/test_apis/test_inference.py  \n",
            "   creating: mmdetection/tests/test_datasets/\n",
            "  inflating: mmdetection/tests/test_datasets/test_cityscapes.py  \n",
            "  inflating: mmdetection/tests/test_datasets/test_coco.py  \n",
            "  inflating: mmdetection/tests/test_datasets/test_coco_api_wrapper.py  \n",
            "  inflating: mmdetection/tests/test_datasets/test_coco_panoptic.py  \n",
            "  inflating: mmdetection/tests/test_datasets/test_crowdhuman.py  \n",
            "  inflating: mmdetection/tests/test_datasets/test_dsdldet.py  \n",
            "  inflating: mmdetection/tests/test_datasets/test_lvis.py  \n",
            "  inflating: mmdetection/tests/test_datasets/test_mot_challenge_dataset.py  \n",
            "  inflating: mmdetection/tests/test_datasets/test_objects365.py  \n",
            "  inflating: mmdetection/tests/test_datasets/test_openimages.py  \n",
            "  inflating: mmdetection/tests/test_datasets/test_pascal_voc.py  \n",
            "  inflating: mmdetection/tests/test_datasets/test_reid_dataset.py  \n",
            "   creating: mmdetection/tests/test_datasets/test_samplers/\n",
            "  inflating: mmdetection/tests/test_datasets/test_samplers/test_batch_sampler.py  \n",
            "  inflating: mmdetection/tests/test_datasets/test_samplers/test_multi_source_sampler.py  \n",
            "  inflating: mmdetection/tests/test_datasets/test_samplers/test_track_img_sampler.py  \n",
            "   creating: mmdetection/tests/test_datasets/test_transforms/\n",
            "  inflating: mmdetection/tests/test_datasets/test_transforms/__init__.py  \n",
            "  inflating: mmdetection/tests/test_datasets/test_transforms/test_augment_wrappers.py  \n",
            "  inflating: mmdetection/tests/test_datasets/test_transforms/test_colorspace.py  \n",
            "  inflating: mmdetection/tests/test_datasets/test_transforms/test_formatting.py  \n",
            "  inflating: mmdetection/tests/test_datasets/test_transforms/test_frame_sampling.py  \n",
            "  inflating: mmdetection/tests/test_datasets/test_transforms/test_geometric.py  \n",
            "  inflating: mmdetection/tests/test_datasets/test_transforms/test_instaboost.py  \n",
            "  inflating: mmdetection/tests/test_datasets/test_transforms/test_loading.py  \n",
            "  inflating: mmdetection/tests/test_datasets/test_transforms/test_transforms.py  \n",
            "  inflating: mmdetection/tests/test_datasets/test_transforms/test_wrappers.py  \n",
            "  inflating: mmdetection/tests/test_datasets/test_transforms/utils.py  \n",
            "  inflating: mmdetection/tests/test_datasets/test_tta.py  \n",
            "  inflating: mmdetection/tests/test_datasets/test_wider_face.py  \n",
            "  inflating: mmdetection/tests/test_datasets/test_youtube_vis_dataset.py  \n",
            "   creating: mmdetection/tests/test_engine/\n",
            " extracting: mmdetection/tests/test_engine/__init__.py  \n",
            "   creating: mmdetection/tests/test_engine/test_hooks/\n",
            "  inflating: mmdetection/tests/test_engine/test_hooks/test_checkloss_hook.py  \n",
            "  inflating: mmdetection/tests/test_engine/test_hooks/test_mean_teacher_hook.py  \n",
            "  inflating: mmdetection/tests/test_engine/test_hooks/test_memory_profiler_hook.py  \n",
            "  inflating: mmdetection/tests/test_engine/test_hooks/test_num_class_check_hook.py  \n",
            "  inflating: mmdetection/tests/test_engine/test_hooks/test_pipeline_switch_hook.py  \n",
            "  inflating: mmdetection/tests/test_engine/test_hooks/test_sync_norm_hook.py  \n",
            "  inflating: mmdetection/tests/test_engine/test_hooks/test_visualization_hook.py  \n",
            "  inflating: mmdetection/tests/test_engine/test_hooks/test_yolox_mode_switch_hook.py  \n",
            "   creating: mmdetection/tests/test_engine/test_optimizers/\n",
            " extracting: mmdetection/tests/test_engine/test_optimizers/__init__.py  \n",
            "  inflating: mmdetection/tests/test_engine/test_optimizers/test_layer_decay_optimizer_constructor.py  \n",
            "   creating: mmdetection/tests/test_engine/test_runner/\n",
            "  inflating: mmdetection/tests/test_engine/test_runner/test_loops.py  \n",
            "   creating: mmdetection/tests/test_engine/test_schedulers/\n",
            "  inflating: mmdetection/tests/test_engine/test_schedulers/test_quadratic_warmup.py  \n",
            "   creating: mmdetection/tests/test_evaluation/\n",
            "   creating: mmdetection/tests/test_evaluation/test_metrics/\n",
            " extracting: mmdetection/tests/test_evaluation/test_metrics/__init__.py  \n",
            "  inflating: mmdetection/tests/test_evaluation/test_metrics/test_cityscapes_metric.py  \n",
            "  inflating: mmdetection/tests/test_evaluation/test_metrics/test_coco_metric.py  \n",
            "  inflating: mmdetection/tests/test_evaluation/test_metrics/test_coco_occluded_metric.py  \n",
            "  inflating: mmdetection/tests/test_evaluation/test_metrics/test_coco_panoptic_metric.py  \n",
            "  inflating: mmdetection/tests/test_evaluation/test_metrics/test_coco_video_metric.py  \n",
            "  inflating: mmdetection/tests/test_evaluation/test_metrics/test_crowdhuman_metric.py  \n",
            "  inflating: mmdetection/tests/test_evaluation/test_metrics/test_dump_det_results.py  \n",
            "  inflating: mmdetection/tests/test_evaluation/test_metrics/test_lvis_metric.py  \n",
            "  inflating: mmdetection/tests/test_evaluation/test_metrics/test_mot_challenge_metrics.py  \n",
            "  inflating: mmdetection/tests/test_evaluation/test_metrics/test_openimages_metric.py  \n",
            "  inflating: mmdetection/tests/test_evaluation/test_metrics/test_reid_metric.py  \n",
            "  inflating: mmdetection/tests/test_evaluation/test_metrics/test_youtube_vis_metric.py  \n",
            "   creating: mmdetection/tests/test_models/\n",
            "   creating: mmdetection/tests/test_models/test_backbones/\n",
            "  inflating: mmdetection/tests/test_models/test_backbones/__init__.py  \n",
            "  inflating: mmdetection/tests/test_models/test_backbones/test_csp_darknet.py  \n",
            "  inflating: mmdetection/tests/test_models/test_backbones/test_detectors_resnet.py  \n",
            "  inflating: mmdetection/tests/test_models/test_backbones/test_efficientnet.py  \n",
            "  inflating: mmdetection/tests/test_models/test_backbones/test_hourglass.py  \n",
            "  inflating: mmdetection/tests/test_models/test_backbones/test_hrnet.py  \n",
            "  inflating: mmdetection/tests/test_models/test_backbones/test_mobilenet_v2.py  \n",
            "  inflating: mmdetection/tests/test_models/test_backbones/test_pvt.py  \n",
            "  inflating: mmdetection/tests/test_models/test_backbones/test_regnet.py  \n",
            "  inflating: mmdetection/tests/test_models/test_backbones/test_renext.py  \n",
            "  inflating: mmdetection/tests/test_models/test_backbones/test_res2net.py  \n",
            "  inflating: mmdetection/tests/test_models/test_backbones/test_resnest.py  \n",
            "  inflating: mmdetection/tests/test_models/test_backbones/test_resnet.py  \n",
            "  inflating: mmdetection/tests/test_models/test_backbones/test_swin.py  \n",
            "  inflating: mmdetection/tests/test_models/test_backbones/test_trident_resnet.py  \n",
            "  inflating: mmdetection/tests/test_models/test_backbones/utils.py  \n",
            "   creating: mmdetection/tests/test_models/test_data_preprocessors/\n",
            "  inflating: mmdetection/tests/test_models/test_data_preprocessors/test_batch_resize.py  \n",
            "  inflating: mmdetection/tests/test_models/test_data_preprocessors/test_boxinst_preprocessor.py  \n",
            "  inflating: mmdetection/tests/test_models/test_data_preprocessors/test_data_preprocessor.py  \n",
            "  inflating: mmdetection/tests/test_models/test_data_preprocessors/test_track_data_preprocessor.py  \n",
            "   creating: mmdetection/tests/test_models/test_dense_heads/\n",
            "  inflating: mmdetection/tests/test_models/test_dense_heads/test_anchor_head.py  \n",
            "  inflating: mmdetection/tests/test_models/test_dense_heads/test_atss_head.py  \n",
            "  inflating: mmdetection/tests/test_models/test_dense_heads/test_autoassign_head.py  \n",
            "  inflating: mmdetection/tests/test_models/test_dense_heads/test_boxinst_head.py  \n",
            "  inflating: mmdetection/tests/test_models/test_dense_heads/test_cascade_rpn_head.py  \n",
            "  inflating: mmdetection/tests/test_models/test_dense_heads/test_centernet_head.py  \n",
            "  inflating: mmdetection/tests/test_models/test_dense_heads/test_centernet_update_head.py  \n",
            "  inflating: mmdetection/tests/test_models/test_dense_heads/test_centripetal_head.py  \n",
            "  inflating: mmdetection/tests/test_models/test_dense_heads/test_condinst_head.py  \n",
            "  inflating: mmdetection/tests/test_models/test_dense_heads/test_corner_head.py  \n",
            "  inflating: mmdetection/tests/test_models/test_dense_heads/test_ddod_head.py  \n",
            "  inflating: mmdetection/tests/test_models/test_dense_heads/test_ddq_detr_head.py  \n",
            "  inflating: mmdetection/tests/test_models/test_dense_heads/test_embedding_rpn_head.py  \n",
            "  inflating: mmdetection/tests/test_models/test_dense_heads/test_fcos_head.py  \n",
            "  inflating: mmdetection/tests/test_models/test_dense_heads/test_fovea_head.py  \n",
            "  inflating: mmdetection/tests/test_models/test_dense_heads/test_free_anchor_head.py  \n",
            "  inflating: mmdetection/tests/test_models/test_dense_heads/test_fsaf_head.py  \n",
            "  inflating: mmdetection/tests/test_models/test_dense_heads/test_ga_retina_head.py  \n",
            "  inflating: mmdetection/tests/test_models/test_dense_heads/test_ga_rpn_head.py  \n",
            "  inflating: mmdetection/tests/test_models/test_dense_heads/test_gfl_head.py  \n",
            "  inflating: mmdetection/tests/test_models/test_dense_heads/test_guided_anchor_head.py  \n",
            "  inflating: mmdetection/tests/test_models/test_dense_heads/test_lad_head.py  \n",
            "  inflating: mmdetection/tests/test_models/test_dense_heads/test_ld_head.py  \n",
            "  inflating: mmdetection/tests/test_models/test_dense_heads/test_nasfcos_head.py  \n",
            "  inflating: mmdetection/tests/test_models/test_dense_heads/test_paa_head.py  \n",
            "  inflating: mmdetection/tests/test_models/test_dense_heads/test_pisa_retinanet_head.py  \n",
            "  inflating: mmdetection/tests/test_models/test_dense_heads/test_pisa_ssd_head.py  \n",
            "  inflating: mmdetection/tests/test_models/test_dense_heads/test_reppoints_head.py  \n",
            "  inflating: mmdetection/tests/test_models/test_dense_heads/test_retina_sepBN_head.py  \n",
            "  inflating: mmdetection/tests/test_models/test_dense_heads/test_rpn_head.py  \n",
            "  inflating: mmdetection/tests/test_models/test_dense_heads/test_sabl_retina_head.py  \n",
            "  inflating: mmdetection/tests/test_models/test_dense_heads/test_solo_head.py  \n",
            "  inflating: mmdetection/tests/test_models/test_dense_heads/test_solov2_head.py  \n",
            "  inflating: mmdetection/tests/test_models/test_dense_heads/test_ssd_head.py  \n",
            "  inflating: mmdetection/tests/test_models/test_dense_heads/test_tood_head.py  \n",
            "  inflating: mmdetection/tests/test_models/test_dense_heads/test_vfnet_head.py  \n",
            "  inflating: mmdetection/tests/test_models/test_dense_heads/test_yolo_head.py  \n",
            "  inflating: mmdetection/tests/test_models/test_dense_heads/test_yolof_head.py  \n",
            "  inflating: mmdetection/tests/test_models/test_dense_heads/test_yolox_head.py  \n",
            "   creating: mmdetection/tests/test_models/test_detectors/\n",
            "  inflating: mmdetection/tests/test_models/test_detectors/test_conditional_detr.py  \n",
            "  inflating: mmdetection/tests/test_models/test_detectors/test_cornernet.py  \n",
            "  inflating: mmdetection/tests/test_models/test_detectors/test_dab_detr.py  \n",
            "  inflating: mmdetection/tests/test_models/test_detectors/test_ddq_detr.py  \n",
            "  inflating: mmdetection/tests/test_models/test_detectors/test_deformable_detr.py  \n",
            "  inflating: mmdetection/tests/test_models/test_detectors/test_detr.py  \n",
            "  inflating: mmdetection/tests/test_models/test_detectors/test_dino.py  \n",
            "  inflating: mmdetection/tests/test_models/test_detectors/test_glip.py  \n",
            "  inflating: mmdetection/tests/test_models/test_detectors/test_kd_single_stage.py  \n",
            "  inflating: mmdetection/tests/test_models/test_detectors/test_maskformer.py  \n",
            "  inflating: mmdetection/tests/test_models/test_detectors/test_panoptic_two_stage_segmentor.py  \n",
            "  inflating: mmdetection/tests/test_models/test_detectors/test_rpn.py  \n",
            "  inflating: mmdetection/tests/test_models/test_detectors/test_semi_base.py  \n",
            "  inflating: mmdetection/tests/test_models/test_detectors/test_single_stage.py  \n",
            "  inflating: mmdetection/tests/test_models/test_detectors/test_single_stage_instance_seg.py  \n",
            "  inflating: mmdetection/tests/test_models/test_detectors/test_two_stage.py  \n",
            "   creating: mmdetection/tests/test_models/test_layers/\n",
            " extracting: mmdetection/tests/test_models/test_layers/__init__.py  \n",
            "  inflating: mmdetection/tests/test_models/test_layers/test_brick_wrappers.py  \n",
            "  inflating: mmdetection/tests/test_models/test_layers/test_conv_upsample.py  \n",
            "  inflating: mmdetection/tests/test_models/test_layers/test_ema.py  \n",
            "  inflating: mmdetection/tests/test_models/test_layers/test_inverted_residual.py  \n",
            "  inflating: mmdetection/tests/test_models/test_layers/test_plugins.py  \n",
            "  inflating: mmdetection/tests/test_models/test_layers/test_position_encoding.py  \n",
            "  inflating: mmdetection/tests/test_models/test_layers/test_se_layer.py  \n",
            "  inflating: mmdetection/tests/test_models/test_layers/test_transformer.py  \n",
            "   creating: mmdetection/tests/test_models/test_losses/\n",
            "  inflating: mmdetection/tests/test_models/test_losses/test_gaussian_focal_loss.py  \n",
            "  inflating: mmdetection/tests/test_models/test_losses/test_l2_loss.py  \n",
            "  inflating: mmdetection/tests/test_models/test_losses/test_loss.py  \n",
            "  inflating: mmdetection/tests/test_models/test_losses/test_multi_pos_cross_entropy_loss.py  \n",
            "  inflating: mmdetection/tests/test_models/test_losses/test_triplet_loss.py  \n",
            "   creating: mmdetection/tests/test_models/test_mot/\n",
            "  inflating: mmdetection/tests/test_models/test_mot/test_byte_track.py  \n",
            "  inflating: mmdetection/tests/test_models/test_mot/test_deep_sort.py  \n",
            "  inflating: mmdetection/tests/test_models/test_mot/test_oc_sort.py  \n",
            "  inflating: mmdetection/tests/test_models/test_mot/test_qdtrack.py  \n",
            "  inflating: mmdetection/tests/test_models/test_mot/test_sort.py  \n",
            "  inflating: mmdetection/tests/test_models/test_mot/test_strong_sort.py  \n",
            "   creating: mmdetection/tests/test_models/test_necks/\n",
            "  inflating: mmdetection/tests/test_models/test_necks/test_ct_resnet_neck.py  \n",
            "  inflating: mmdetection/tests/test_models/test_necks/test_necks.py  \n",
            "   creating: mmdetection/tests/test_models/test_reid/\n",
            "  inflating: mmdetection/tests/test_models/test_reid/test_base_reid.py  \n",
            "  inflating: mmdetection/tests/test_models/test_reid/test_fc_module.py  \n",
            "  inflating: mmdetection/tests/test_models/test_reid/test_gap.py  \n",
            "  inflating: mmdetection/tests/test_models/test_reid/test_linear_reid_head.py  \n",
            "   creating: mmdetection/tests/test_models/test_roi_heads/\n",
            "   creating: mmdetection/tests/test_models/test_roi_heads/test_bbox_heads/\n",
            "  inflating: mmdetection/tests/test_models/test_roi_heads/test_bbox_heads/test_bbox_head.py  \n",
            "  inflating: mmdetection/tests/test_models/test_roi_heads/test_bbox_heads/test_double_bbox_head.py  \n",
            "  inflating: mmdetection/tests/test_models/test_roi_heads/test_bbox_heads/test_multi_instance_bbox_head.py  \n",
            "  inflating: mmdetection/tests/test_models/test_roi_heads/test_bbox_heads/test_sabl_bbox_head.py  \n",
            "  inflating: mmdetection/tests/test_models/test_roi_heads/test_bbox_heads/test_scnet_bbox_head.py  \n",
            "  inflating: mmdetection/tests/test_models/test_roi_heads/test_cascade_roi_head.py  \n",
            "  inflating: mmdetection/tests/test_models/test_roi_heads/test_dynamic_roi_head.py  \n",
            "  inflating: mmdetection/tests/test_models/test_roi_heads/test_grid_roi_head.py  \n",
            "  inflating: mmdetection/tests/test_models/test_roi_heads/test_htc_roi_head.py  \n",
            "   creating: mmdetection/tests/test_models/test_roi_heads/test_mask_heads/\n",
            "  inflating: mmdetection/tests/test_models/test_roi_heads/test_mask_heads/test_coarse_mask_head.py  \n",
            "  inflating: mmdetection/tests/test_models/test_roi_heads/test_mask_heads/test_fcn_mask_head.py  \n",
            "  inflating: mmdetection/tests/test_models/test_roi_heads/test_mask_heads/test_feature_relay_head.py  \n",
            "  inflating: mmdetection/tests/test_models/test_roi_heads/test_mask_heads/test_fused_semantic_head.py  \n",
            "  inflating: mmdetection/tests/test_models/test_roi_heads/test_mask_heads/test_global_context_head.py  \n",
            "  inflating: mmdetection/tests/test_models/test_roi_heads/test_mask_heads/test_grid_head.py  \n",
            "  inflating: mmdetection/tests/test_models/test_roi_heads/test_mask_heads/test_htc_mask_head.py  \n",
            "  inflating: mmdetection/tests/test_models/test_roi_heads/test_mask_heads/test_maskiou_head.py  \n",
            "  inflating: mmdetection/tests/test_models/test_roi_heads/test_mask_heads/test_scnet_mask_head.py  \n",
            "  inflating: mmdetection/tests/test_models/test_roi_heads/test_mask_heads/test_scnet_semantic_head.py  \n",
            "  inflating: mmdetection/tests/test_models/test_roi_heads/test_mask_scoring_roI_head.py  \n",
            "  inflating: mmdetection/tests/test_models/test_roi_heads/test_multi_instance_roi_head.py  \n",
            "  inflating: mmdetection/tests/test_models/test_roi_heads/test_pisa_roi_head.py  \n",
            "  inflating: mmdetection/tests/test_models/test_roi_heads/test_point_rend_roi_head.py  \n",
            "   creating: mmdetection/tests/test_models/test_roi_heads/test_roi_extractors/\n",
            "  inflating: mmdetection/tests/test_models/test_roi_heads/test_roi_extractors/test_generic_roi_extractor.py  \n",
            "  inflating: mmdetection/tests/test_models/test_roi_heads/test_roi_extractors/test_single_level_roi_extractor.py  \n",
            "  inflating: mmdetection/tests/test_models/test_roi_heads/test_scnet_roi_head.py  \n",
            "  inflating: mmdetection/tests/test_models/test_roi_heads/test_sparse_roi_head.py  \n",
            "  inflating: mmdetection/tests/test_models/test_roi_heads/test_standard_roi_head.py  \n",
            "  inflating: mmdetection/tests/test_models/test_roi_heads/test_trident_roi_head.py  \n",
            "   creating: mmdetection/tests/test_models/test_seg_heads/\n",
            "  inflating: mmdetection/tests/test_models/test_seg_heads/test_heuristic_fusion_head.py  \n",
            "  inflating: mmdetection/tests/test_models/test_seg_heads/test_maskformer_fusion_head.py  \n",
            "  inflating: mmdetection/tests/test_models/test_seg_heads/test_panoptic_fpn_head.py  \n",
            "   creating: mmdetection/tests/test_models/test_task_modules/\n",
            " extracting: mmdetection/tests/test_models/test_task_modules/__init__.py  \n",
            "   creating: mmdetection/tests/test_models/test_task_modules/test_assigners/\n",
            "  inflating: mmdetection/tests/test_models/test_task_modules/test_assigners/test_approx_max_iou_assigner.py  \n",
            "  inflating: mmdetection/tests/test_models/test_task_modules/test_assigners/test_atss_assigner.py  \n",
            "  inflating: mmdetection/tests/test_models/test_task_modules/test_assigners/test_center_region_assigner.py  \n",
            "  inflating: mmdetection/tests/test_models/test_task_modules/test_assigners/test_dynamic_soft_label_assigner.py  \n",
            "  inflating: mmdetection/tests/test_models/test_task_modules/test_assigners/test_grid_assigner.py  \n",
            "  inflating: mmdetection/tests/test_models/test_task_modules/test_assigners/test_hungarian_assigner.py  \n",
            "  inflating: mmdetection/tests/test_models/test_task_modules/test_assigners/test_max_iou_assigner.py  \n",
            "  inflating: mmdetection/tests/test_models/test_task_modules/test_assigners/test_point_assigner.py  \n",
            "  inflating: mmdetection/tests/test_models/test_task_modules/test_assigners/test_region_assigner.py  \n",
            "  inflating: mmdetection/tests/test_models/test_task_modules/test_assigners/test_simota_assigner.py  \n",
            "  inflating: mmdetection/tests/test_models/test_task_modules/test_assigners/test_task_aligned_assigner.py  \n",
            "  inflating: mmdetection/tests/test_models/test_task_modules/test_assigners/test_task_uniform_assigner.py  \n",
            "  inflating: mmdetection/tests/test_models/test_task_modules/test_assigners/test_topk_hungarian_assigner.py  \n",
            "   creating: mmdetection/tests/test_models/test_task_modules/test_coder/\n",
            "  inflating: mmdetection/tests/test_models/test_task_modules/test_coder/test_delta_xywh_bbox_coder.py  \n",
            "  inflating: mmdetection/tests/test_models/test_task_modules/test_iou2d_calculator.py  \n",
            "   creating: mmdetection/tests/test_models/test_task_modules/test_prior_generators/\n",
            "  inflating: mmdetection/tests/test_models/test_task_modules/test_prior_generators/test_anchor_generator.py  \n",
            "   creating: mmdetection/tests/test_models/test_task_modules/test_samplers/\n",
            " extracting: mmdetection/tests/test_models/test_task_modules/test_samplers/test_pesudo_sampler.py  \n",
            "   creating: mmdetection/tests/test_models/test_task_modules/test_track/\n",
            "  inflating: mmdetection/tests/test_models/test_task_modules/test_track/test_aflink.py  \n",
            "  inflating: mmdetection/tests/test_models/test_task_modules/test_track/test_interpolation.py  \n",
            "  inflating: mmdetection/tests/test_models/test_task_modules/test_track/test_kalman_filter.py  \n",
            "  inflating: mmdetection/tests/test_models/test_task_modules/test_track/test_similarity.py  \n",
            "   creating: mmdetection/tests/test_models/test_trackers/\n",
            "  inflating: mmdetection/tests/test_models/test_trackers/test_byte_tracker.py  \n",
            "  inflating: mmdetection/tests/test_models/test_trackers/test_masktrack_rcnn_tracker.py  \n",
            "  inflating: mmdetection/tests/test_models/test_trackers/test_oc_sort_tracker.py  \n",
            "  inflating: mmdetection/tests/test_models/test_trackers/test_sort_tracker.py  \n",
            "  inflating: mmdetection/tests/test_models/test_trackers/test_strong_sort_tracker.py  \n",
            "   creating: mmdetection/tests/test_models/test_tracking_heads/\n",
            "  inflating: mmdetection/tests/test_models/test_tracking_heads/test_mask2former_track_head.py  \n",
            "  inflating: mmdetection/tests/test_models/test_tracking_heads/test_quasi_dense_embed_head.py  \n",
            "  inflating: mmdetection/tests/test_models/test_tracking_heads/test_quasi_dense_track_head.py  \n",
            "  inflating: mmdetection/tests/test_models/test_tracking_heads/test_roi_embed_head.py  \n",
            "   creating: mmdetection/tests/test_models/test_tta/\n",
            "  inflating: mmdetection/tests/test_models/test_tta/test_det_tta.py  \n",
            "   creating: mmdetection/tests/test_models/test_utils/\n",
            "  inflating: mmdetection/tests/test_models/test_utils/test_misc.py  \n",
            "  inflating: mmdetection/tests/test_models/test_utils/test_model_misc.py  \n",
            "   creating: mmdetection/tests/test_models/test_vis/\n",
            "  inflating: mmdetection/tests/test_models/test_vis/test_mask2former.py  \n",
            "  inflating: mmdetection/tests/test_models/test_vis/test_masktrack_rcnn.py  \n",
            "   creating: mmdetection/tests/test_structures/\n",
            " extracting: mmdetection/tests/test_structures/__init__.py  \n",
            "   creating: mmdetection/tests/test_structures/test_bbox/\n",
            " extracting: mmdetection/tests/test_structures/test_bbox/__init__.py  \n",
            "  inflating: mmdetection/tests/test_structures/test_bbox/test_base_boxes.py  \n",
            "  inflating: mmdetection/tests/test_structures/test_bbox/test_box_type.py  \n",
            "  inflating: mmdetection/tests/test_structures/test_bbox/test_horizontal_boxes.py  \n",
            "  inflating: mmdetection/tests/test_structures/test_bbox/utils.py  \n",
            "  inflating: mmdetection/tests/test_structures/test_det_data_sample.py  \n",
            "   creating: mmdetection/tests/test_structures/test_mask/\n",
            "  inflating: mmdetection/tests/test_structures/test_mask/test_mask_structures.py  \n",
            "  inflating: mmdetection/tests/test_structures/test_reid_data_sample.py  \n",
            "  inflating: mmdetection/tests/test_structures/test_track_data_sample.py  \n",
            "   creating: mmdetection/tests/test_utils/\n",
            "  inflating: mmdetection/tests/test_utils/test_benchmark.py  \n",
            "  inflating: mmdetection/tests/test_utils/test_memory.py  \n",
            "  inflating: mmdetection/tests/test_utils/test_replace_cfg_vals.py  \n",
            "  inflating: mmdetection/tests/test_utils/test_setup_env.py  \n",
            "   creating: mmdetection/tests/test_visualization/\n",
            "  inflating: mmdetection/tests/test_visualization/test_local_visualizer.py  \n",
            "  inflating: mmdetection/tests/test_visualization/test_palette.py  \n",
            "   creating: mmdetection/tools/\n",
            "   creating: mmdetection/tools/analysis_tools/\n",
            "  inflating: mmdetection/tools/analysis_tools/analyze_logs.py  \n",
            "  inflating: mmdetection/tools/analysis_tools/analyze_results.py  \n",
            "  inflating: mmdetection/tools/analysis_tools/benchmark.py  \n",
            "  inflating: mmdetection/tools/analysis_tools/browse_dataset.py  \n",
            "  inflating: mmdetection/tools/analysis_tools/browse_grounding_dataset.py  \n",
            "  inflating: mmdetection/tools/analysis_tools/browse_grounding_raw.py  \n",
            "  inflating: mmdetection/tools/analysis_tools/coco_error_analysis.py  \n",
            "  inflating: mmdetection/tools/analysis_tools/coco_occluded_separated_recall.py  \n",
            "  inflating: mmdetection/tools/analysis_tools/confusion_matrix.py  \n",
            "  inflating: mmdetection/tools/analysis_tools/eval_metric.py  \n",
            "  inflating: mmdetection/tools/analysis_tools/fuse_results.py  \n",
            "  inflating: mmdetection/tools/analysis_tools/get_flops.py  \n",
            "   creating: mmdetection/tools/analysis_tools/mot/\n",
            "  inflating: mmdetection/tools/analysis_tools/mot/browse_dataset.py  \n",
            "  inflating: mmdetection/tools/analysis_tools/mot/dist_mot_search.sh  \n",
            "  inflating: mmdetection/tools/analysis_tools/mot/mot_error_visualize.py  \n",
            "  inflating: mmdetection/tools/analysis_tools/mot/mot_param_search.py  \n",
            "  inflating: mmdetection/tools/analysis_tools/mot/slurm_mot_search.sh  \n",
            "  inflating: mmdetection/tools/analysis_tools/optimize_anchors.py  \n",
            "  inflating: mmdetection/tools/analysis_tools/robustness_eval.py  \n",
            "  inflating: mmdetection/tools/analysis_tools/test_robustness.py  \n",
            "   creating: mmdetection/tools/dataset_converters/\n",
            "  inflating: mmdetection/tools/dataset_converters/ade20k2coco.py  \n",
            "  inflating: mmdetection/tools/dataset_converters/cityscapes.py  \n",
            "  inflating: mmdetection/tools/dataset_converters/coco2odvg.py  \n",
            "  inflating: mmdetection/tools/dataset_converters/coco2ovd.py  \n",
            "  inflating: mmdetection/tools/dataset_converters/coco_stuff164k.py  \n",
            "  inflating: mmdetection/tools/dataset_converters/crowdhuman2coco.py  \n",
            "  inflating: mmdetection/tools/dataset_converters/extract_coco_from_mixed.py  \n",
            "  inflating: mmdetection/tools/dataset_converters/fix_o365_names.py  \n",
            "  inflating: mmdetection/tools/dataset_converters/goldg2odvg.py  \n",
            "  inflating: mmdetection/tools/dataset_converters/grit2odvg.py  \n",
            "  inflating: mmdetection/tools/dataset_converters/grit_processing.py  \n",
            "  inflating: mmdetection/tools/dataset_converters/images2coco.py  \n",
            "  inflating: mmdetection/tools/dataset_converters/lvis2odvg.py  \n",
            "  inflating: mmdetection/tools/dataset_converters/lvis2ovd.py  \n",
            "  inflating: mmdetection/tools/dataset_converters/mot2coco.py  \n",
            "  inflating: mmdetection/tools/dataset_converters/mot2reid.py  \n",
            "  inflating: mmdetection/tools/dataset_converters/openimages2odvg.py  \n",
            "  inflating: mmdetection/tools/dataset_converters/pascal_voc.py  \n",
            "  inflating: mmdetection/tools/dataset_converters/prepare_coco_semantic_annos_from_panoptic_annos.py  \n",
            "  inflating: mmdetection/tools/dataset_converters/refcoco2odvg.py  \n",
            "  inflating: mmdetection/tools/dataset_converters/remove_cocotrain2017_from_refcoco.py  \n",
            "   creating: mmdetection/tools/dataset_converters/scripts/\n",
            "  inflating: mmdetection/tools/dataset_converters/scripts/preprocess_coco2017.sh  \n",
            "  inflating: mmdetection/tools/dataset_converters/scripts/preprocess_voc2007.sh  \n",
            "  inflating: mmdetection/tools/dataset_converters/scripts/preprocess_voc2012.sh  \n",
            "  inflating: mmdetection/tools/dataset_converters/youtubevis2coco.py  \n",
            "  inflating: mmdetection/tools/dataset_converters/zhiyuan_objv2_train_names_fix.csv  \n",
            "   creating: mmdetection/tools/deployment/\n",
            "  inflating: mmdetection/tools/deployment/mmdet2torchserve.py  \n",
            "  inflating: mmdetection/tools/deployment/mmdet_handler.py  \n",
            "  inflating: mmdetection/tools/deployment/test_torchserver.py  \n",
            "  inflating: mmdetection/tools/dist_test.sh  \n",
            "  inflating: mmdetection/tools/dist_test_tracking.sh  \n",
            "  inflating: mmdetection/tools/dist_train.sh  \n",
            "   creating: mmdetection/tools/misc/\n",
            "  inflating: mmdetection/tools/misc/download_dataset.py  \n",
            "  inflating: mmdetection/tools/misc/gen_coco_panoptic_test_info.py  \n",
            "  inflating: mmdetection/tools/misc/get_crowdhuman_id_hw.py  \n",
            "  inflating: mmdetection/tools/misc/get_image_metas.py  \n",
            "  inflating: mmdetection/tools/misc/print_config.py  \n",
            "  inflating: mmdetection/tools/misc/split_coco.py  \n",
            "  inflating: mmdetection/tools/misc/split_odvg.py  \n",
            "   creating: mmdetection/tools/model_converters/\n",
            "  inflating: mmdetection/tools/model_converters/detectron2_to_mmdet.py  \n",
            "  inflating: mmdetection/tools/model_converters/detectron2pytorch.py  \n",
            "  inflating: mmdetection/tools/model_converters/detic_to_mmdet.py  \n",
            "  inflating: mmdetection/tools/model_converters/glip_to_mmdet.py  \n",
            "  inflating: mmdetection/tools/model_converters/groundingdino_to_mmdet.py  \n",
            "  inflating: mmdetection/tools/model_converters/publish_model.py  \n",
            "  inflating: mmdetection/tools/model_converters/regnet2mmdet.py  \n",
            "  inflating: mmdetection/tools/model_converters/selfsup2mmdet.py  \n",
            "  inflating: mmdetection/tools/model_converters/swinv1_to_mmdet.py  \n",
            "  inflating: mmdetection/tools/model_converters/upgrade_model_version.py  \n",
            "  inflating: mmdetection/tools/model_converters/upgrade_ssd_version.py  \n",
            "  inflating: mmdetection/tools/slurm_test.sh  \n",
            "  inflating: mmdetection/tools/slurm_test_tracking.sh  \n",
            "  inflating: mmdetection/tools/slurm_train.sh  \n",
            "  inflating: mmdetection/tools/test.py  \n",
            "  inflating: mmdetection/tools/test_tracking.py  \n",
            "  inflating: mmdetection/tools/train.py  \n",
            "/content/mmdetection\n",
            "Using pip 24.1.2 from /usr/local/lib/python3.11/dist-packages/pip (python 3.11)\n",
            "Obtaining file:///content/mmdetection\n",
            "  Running command python setup.py egg_info\n",
            "  running egg_info\n",
            "  creating /tmp/pip-pip-egg-info-epzs54e8/mmdet.egg-info\n",
            "  writing manifest file '/tmp/pip-pip-egg-info-epzs54e8/mmdet.egg-info/SOURCES.txt'\n",
            "  warning: no files found matching 'mmdet/VERSION'\n",
            "  warning: no files found matching 'mmdet/.mim/model-index.yml'\n",
            "  warning: no files found matching 'mmdet/.mim/dataset-index.yml'\n",
            "  warning: no files found matching 'mmdet/.mim/demo/*/*'\n",
            "  warning: no files found matching '*.py' under directory 'mmdet/.mim/configs'\n",
            "  warning: no files found matching '*.yml' under directory 'mmdet/.mim/configs'\n",
            "  warning: no files found matching '*.sh' under directory 'mmdet/.mim/tools'\n",
            "  warning: no files found matching '*.py' under directory 'mmdet/.mim/tools'\n",
            "  writing manifest file '/tmp/pip-pip-egg-info-epzs54e8/mmdet.egg-info/SOURCES.txt'\n",
            "  Preparing metadata (setup.py) ... \u001b[?25l\u001b[?25hdone\n",
            "Requirement already satisfied: matplotlib in /usr/local/lib/python3.11/dist-packages (from mmdet==3.3.0) (3.10.0)\n",
            "Requirement already satisfied: numpy in /usr/local/lib/python3.11/dist-packages (from mmdet==3.3.0) (2.0.2)\n",
            "Requirement already satisfied: pycocotools in /usr/local/lib/python3.11/dist-packages (from mmdet==3.3.0) (2.0.8)\n",
            "Requirement already satisfied: scipy in /usr/local/lib/python3.11/dist-packages (from mmdet==3.3.0) (1.15.2)\n",
            "Requirement already satisfied: shapely in /usr/local/lib/python3.11/dist-packages (from mmdet==3.3.0) (2.1.0)\n",
            "Requirement already satisfied: six in /usr/local/lib/python3.11/dist-packages (from mmdet==3.3.0) (1.17.0)\n",
            "Collecting terminaltables (from mmdet==3.3.0)\n",
            "  Obtaining dependency information for terminaltables from https://files.pythonhosted.org/packages/c4/fb/ea621e0a19733e01fe4005d46087d383693c0f4a8f824b47d8d4122c87e0/terminaltables-3.1.10-py2.py3-none-any.whl.metadata\n",
            "  Downloading terminaltables-3.1.10-py2.py3-none-any.whl.metadata (3.5 kB)\n",
            "Requirement already satisfied: tqdm in /usr/local/lib/python3.11/dist-packages (from mmdet==3.3.0) (4.65.2)\n",
            "Requirement already satisfied: contourpy>=1.0.1 in /usr/local/lib/python3.11/dist-packages (from matplotlib->mmdet==3.3.0) (1.3.2)\n",
            "Requirement already satisfied: cycler>=0.10 in /usr/local/lib/python3.11/dist-packages (from matplotlib->mmdet==3.3.0) (0.12.1)\n",
            "Requirement already satisfied: fonttools>=4.22.0 in /usr/local/lib/python3.11/dist-packages (from matplotlib->mmdet==3.3.0) (4.57.0)\n",
            "Requirement already satisfied: kiwisolver>=1.3.1 in /usr/local/lib/python3.11/dist-packages (from matplotlib->mmdet==3.3.0) (1.4.8)\n",
            "Requirement already satisfied: packaging>=20.0 in /usr/local/lib/python3.11/dist-packages (from matplotlib->mmdet==3.3.0) (24.2)\n",
            "Requirement already satisfied: pillow>=8 in /usr/local/lib/python3.11/dist-packages (from matplotlib->mmdet==3.3.0) (11.2.1)\n",
            "Requirement already satisfied: pyparsing>=2.3.1 in /usr/local/lib/python3.11/dist-packages (from matplotlib->mmdet==3.3.0) (3.2.3)\n",
            "Requirement already satisfied: python-dateutil>=2.7 in /usr/local/lib/python3.11/dist-packages (from matplotlib->mmdet==3.3.0) (2.9.0.post0)\n",
            "Downloading terminaltables-3.1.10-py2.py3-none-any.whl (15 kB)\n",
            "Installing collected packages: terminaltables, mmdet\n",
            "  Running setup.py develop for mmdet\n",
            "    Running command python setup.py develop\n",
            "    running develop\n",
            "    /usr/local/lib/python3.11/dist-packages/setuptools/command/easy_install.py:156: EasyInstallDeprecationWarning: easy_install command is deprecated. Use build and pip and other standards-based tools.\n",
            "      warnings.warn(\n",
            "    /usr/local/lib/python3.11/dist-packages/setuptools/command/install.py:34: SetuptoolsDeprecationWarning: setup.py install is deprecated. Use build and pip and other standards-based tools.\n",
            "      warnings.warn(\n",
            "    running egg_info\n",
            "    creating mmdet.egg-info\n",
            "    writing manifest file 'mmdet.egg-info/SOURCES.txt'\n",
            "    warning: no files found matching 'mmdet/VERSION'\n",
            "    warning: no files found matching 'mmdet/.mim/demo/*/*'\n",
            "    writing manifest file 'mmdet.egg-info/SOURCES.txt'\n",
            "    /usr/local/lib/python3.11/dist-packages/torch/utils/cpp_extension.py:529: UserWarning: Attempted to use ninja as the BuildExtension backend but we could not find ninja.. Falling back to using the slow distutils backend.\n",
            "      warnings.warn(msg.format('we could not find ninja.'))\n",
            "    running build_ext\n",
            "Successfully installed mmdet-3.3.0 terminaltables-3.1.10\n"
          ]
        }
      ]
    },
    {
      "cell_type": "code",
      "source": [
        "!python mmdetection/tools/train.py /content/mmdetection/configs/faster_rcnn/faster-rcnn_r101_fpn_1x_coco.py"
      ],
      "metadata": {
        "id": "7jDgbkSvV5Ml"
      },
      "execution_count": null,
      "outputs": []
    },
    {
      "cell_type": "code",
      "source": [
        "# !cp '/content/drive/MyDrive/epoch_12 (1).pth' /content/epoch_12.pth"
      ],
      "metadata": {
        "id": "8cagEx10q8Ri"
      },
      "execution_count": null,
      "outputs": []
    },
    {
      "cell_type": "code",
      "source": [
        "!python tools/test.py configs/faster_rcnn/faster-rcnn_r101_fpn_1x_coco.py /content/epoch_12.pth --out /content/result.pkl --show --show-dir /content/show"
      ],
      "metadata": {
        "id": "E5wSADdkdUOT"
      },
      "execution_count": null,
      "outputs": []
    },
    {
      "cell_type": "code",
      "source": [
        "import glob\n",
        "dataset = glob.glob(\"/content/wind-turbine-damage-challenges/Wind Turbine damage/test/*.jpg\")"
      ],
      "metadata": {
        "id": "sg_dDdRR0bEv",
        "collapsed": true
      },
      "execution_count": null,
      "outputs": []
    },
    {
      "cell_type": "code",
      "source": [
        "from mmdet.apis import DetInferencer\n",
        "\n",
        "config_file = '/content/mmdetection/configs/faster_rcnn/faster-rcnn_r101_fpn_1x_coco.py'\n",
        "checkpoint_file = '/content/epoch_12.pth'\n",
        "\n",
        "inferencer = DetInferencer(model=config_file, weights=checkpoint_file, device='cuda:0')\n",
        "results = inferencer('/content/wind-turbine-damage-challenges/Wind Turbine damage/test/')"
      ],
      "metadata": {
        "id": "EaAqc9ohCcSU",
        "colab": {
          "base_uri": "https://localhost:8080/",
          "height": 52,
          "referenced_widgets": [
            "820a8b3f6c0547ac8c15f644efb1f094",
            "99c79e14a752433a8a4c196fab3a3276"
          ]
        },
        "outputId": "4f426cda-0eae-41ed-977f-cbe0b5631578"
      },
      "execution_count": null,
      "outputs": [
        {
          "output_type": "stream",
          "name": "stdout",
          "text": [
            "Loads checkpoint by local backend from path: /content/epoch_12.pth\n"
          ]
        },
        {
          "output_type": "display_data",
          "data": {
            "text/plain": [
              "Output()"
            ],
            "application/vnd.jupyter.widget-view+json": {
              "version_major": 2,
              "version_minor": 0,
              "model_id": "820a8b3f6c0547ac8c15f644efb1f094"
            }
          },
          "metadata": {}
        },
        {
          "output_type": "display_data",
          "data": {
            "text/plain": [],
            "text/html": [
              "<pre style=\"white-space:pre;overflow-x:auto;line-height:normal;font-family:Menlo,'DejaVu Sans Mono',consolas,'Courier New',monospace\"></pre>\n"
            ]
          },
          "metadata": {}
        },
        {
          "output_type": "display_data",
          "data": {
            "text/plain": [
              "\n"
            ],
            "text/html": [
              "<pre style=\"white-space:pre;overflow-x:auto;line-height:normal;font-family:Menlo,'DejaVu Sans Mono',consolas,'Courier New',monospace\">\n",
              "</pre>\n"
            ]
          },
          "metadata": {}
        }
      ]
    },
    {
      "cell_type": "code",
      "source": [
        "results['predictions']"
      ],
      "metadata": {
        "id": "8jYL4DvmMlXP"
      },
      "execution_count": null,
      "outputs": []
    },
    {
      "cell_type": "code",
      "source": [
        "import pickle\n",
        "\n",
        "\n",
        "with open('result.pkl', 'rb') as f:\n",
        "    data = pickle.load(f)"
      ],
      "metadata": {
        "id": "rFmaN_UmfrCx"
      },
      "execution_count": null,
      "outputs": []
    },
    {
      "cell_type": "code",
      "source": [
        "data"
      ],
      "metadata": {
        "id": "e4QpT_Lff7wJ"
      },
      "execution_count": null,
      "outputs": []
    },
    {
      "cell_type": "code",
      "source": [
        "!pip install ultralytics"
      ],
      "metadata": {
        "id": "5pLe0IcXFgKB"
      },
      "execution_count": null,
      "outputs": []
    },
    {
      "cell_type": "code",
      "source": [
        "import os\n",
        "import json\n",
        "from tqdm import tqdm\n",
        "\n",
        "def coco_to_yolo(coco_path, output_dir, images_dir):\n",
        "    with open(coco_path) as f:\n",
        "        coco = json.load(f)\n",
        "\n",
        "    os.makedirs(output_dir, exist_ok=True)\n",
        "\n",
        "    # Создаём словарь id → category_id\n",
        "    category_map = {cat['id']: idx for idx, cat in enumerate(coco['categories'])}\n",
        "\n",
        "    # Создаём словарь image_id → file_name, size\n",
        "    image_info = {img['id']: img for img in coco['images']}\n",
        "\n",
        "    for ann in tqdm(coco['annotations']):\n",
        "        img = image_info[ann['image_id']]\n",
        "        width, height = img['width'], img['height']\n",
        "        x, y, w, h = ann['bbox']\n",
        "        xc = (x + w / 2) / width\n",
        "        yc = (y + h / 2) / height\n",
        "        w /= width\n",
        "        h /= height\n",
        "        class_id = category_map[ann['category_id']]\n",
        "\n",
        "        label_path = os.path.join(output_dir, os.path.splitext(img['file_name'])[0] + \".txt\")\n",
        "        with open(label_path, 'a') as f:\n",
        "            f.write(f\"{class_id} {xc:.6f} {yc:.6f} {w:.6f} {h:.6f}\\n\")\n"
      ],
      "metadata": {
        "id": "f4v6GNK1Fdb7"
      },
      "execution_count": null,
      "outputs": []
    },
    {
      "cell_type": "code",
      "source": [
        "coco_to_yolo('/content/wind-turbine-damage-challenges/Wind Turbine damage/train/_annotations.coco.json', '/content/datasets/wind-turbine-damage-challenges/labels/train', '/content/wind-turbine-damage-challenges/Wind Turbine damage/train/')"
      ],
      "metadata": {
        "colab": {
          "base_uri": "https://localhost:8080/"
        },
        "id": "y4qiJtRJdgsf",
        "outputId": "97976bc4-cf3a-4125-a1e8-07e0f4d6cc88"
      },
      "execution_count": null,
      "outputs": [
        {
          "output_type": "stream",
          "name": "stderr",
          "text": [
            "100%|██████████| 9150/9150 [00:00<00:00, 40925.71it/s]\n"
          ]
        }
      ]
    },
    {
      "cell_type": "code",
      "source": [
        "coco_to_yolo('/content/wind-turbine-damage-challenges/Wind Turbine damage/valid/_annotations.coco.json', '/content/datasets/wind-turbine-damage-challenges/labels/valid', '/content/wind-turbine-damage-challenges/Wind Turbine damage/valid/')"
      ],
      "metadata": {
        "colab": {
          "base_uri": "https://localhost:8080/"
        },
        "id": "sdFNnazzIuk-",
        "outputId": "03a9a7e5-fd07-482b-ced3-621f53593246"
      },
      "execution_count": null,
      "outputs": [
        {
          "output_type": "stream",
          "name": "stderr",
          "text": [
            "100%|██████████| 2619/2619 [00:00<00:00, 28029.17it/s]\n"
          ]
        }
      ]
    },
    {
      "cell_type": "code",
      "source": [
        "!cp -r 'wind-turbine-damage-challenges/Wind Turbine damage/train' '/content/datasets/wind-turbine-damage-challenges/images/train'"
      ],
      "metadata": {
        "id": "BxvJWN4ohTN1"
      },
      "execution_count": null,
      "outputs": []
    },
    {
      "cell_type": "code",
      "source": [
        "!cp -r 'wind-turbine-damage-challenges/Wind Turbine damage/valid' '/content/datasets/wind-turbine-damage-challenges/images/val'"
      ],
      "metadata": {
        "id": "MpVwl1R2iD-7"
      },
      "execution_count": null,
      "outputs": []
    },
    {
      "cell_type": "code",
      "source": [
        "!cp -r 'wind-turbine-damage-challenges/Wind Turbine damage/test' '/content/datasets/wind-turbine-damage-challenges/images/test'"
      ],
      "metadata": {
        "id": "mYN6IrlliHBa"
      },
      "execution_count": null,
      "outputs": []
    },
    {
      "cell_type": "code",
      "source": [
        "from ultralytics import YOLO\n",
        "\n",
        "model = YOLO('yolov8n.pt')  # или yolov8s.pt\n",
        "model.train(data='dataset.yaml', epochs=50, imgsz=640)\n"
      ],
      "metadata": {
        "colab": {
          "base_uri": "https://localhost:8080/"
        },
        "id": "spfGuNESFj_5",
        "outputId": "6fbaf04b-7647-4889-badb-ece71a547d13"
      },
      "execution_count": null,
      "outputs": [
        {
          "output_type": "stream",
          "name": "stdout",
          "text": [
            "Creating new Ultralytics Settings v0.0.6 file ✅ \n",
            "View Ultralytics Settings with 'yolo settings' or at '/root/.config/Ultralytics/settings.json'\n",
            "Update Settings with 'yolo settings key=value', i.e. 'yolo settings runs_dir=path/to/dir'. For help see https://docs.ultralytics.com/quickstart/#ultralytics-settings.\n",
            "Downloading https://github.com/ultralytics/assets/releases/download/v8.3.0/yolov8n.pt to 'yolov8n.pt'...\n"
          ]
        },
        {
          "output_type": "stream",
          "name": "stderr",
          "text": [
            "100%|██████████| 6.25M/6.25M [00:00<00:00, 363MB/s]"
          ]
        },
        {
          "output_type": "stream",
          "name": "stdout",
          "text": [
            "Ultralytics 8.3.127 🚀 Python-3.11.12 torch-2.6.0+cu124 CUDA:0 (Tesla T4, 15095MiB)\n"
          ]
        },
        {
          "output_type": "stream",
          "name": "stderr",
          "text": [
            "\n"
          ]
        },
        {
          "output_type": "stream",
          "name": "stdout",
          "text": [
            "\u001b[34m\u001b[1mengine/trainer: \u001b[0magnostic_nms=False, amp=True, augment=False, auto_augment=randaugment, batch=16, bgr=0.0, box=7.5, cache=False, cfg=None, classes=None, close_mosaic=10, cls=0.5, conf=None, copy_paste=0.0, copy_paste_mode=flip, cos_lr=False, cutmix=0.0, data=dataset.yaml, degrees=0.0, deterministic=True, device=cuda:0, dfl=1.5, dnn=False, dropout=0.0, dynamic=False, embed=None, epochs=50, erasing=0.4, exist_ok=False, fliplr=0.5, flipud=0.0, format=torchscript, fraction=1.0, freeze=None, half=False, hsv_h=0.015, hsv_s=0.7, hsv_v=0.4, imgsz=640, int8=False, iou=0.7, keras=False, kobj=1.0, line_width=None, lr0=0.01, lrf=0.01, mask_ratio=4, max_det=300, mixup=0.0, mode=train, model=yolov8n.pt, momentum=0.937, mosaic=1.0, multi_scale=False, name=train, nbs=64, nms=False, opset=None, optimize=False, optimizer=auto, overlap_mask=True, patience=100, perspective=0.0, plots=True, pose=12.0, pretrained=True, profile=False, project=None, rect=False, resume=False, retina_masks=False, save=True, save_conf=False, save_crop=False, save_dir=runs/detect/train, save_frames=False, save_json=False, save_period=-1, save_txt=False, scale=0.5, seed=0, shear=0.0, show=False, show_boxes=True, show_conf=True, show_labels=True, simplify=True, single_cls=False, source=None, split=val, stream_buffer=False, task=detect, time=None, tracker=botsort.yaml, translate=0.1, val=True, verbose=True, vid_stride=1, visualize=False, warmup_bias_lr=0.1, warmup_epochs=3.0, warmup_momentum=0.8, weight_decay=0.0005, workers=8, workspace=None\n",
            "Downloading https://ultralytics.com/assets/Arial.ttf to '/root/.config/Ultralytics/Arial.ttf'...\n"
          ]
        },
        {
          "output_type": "stream",
          "name": "stderr",
          "text": [
            "100%|██████████| 755k/755k [00:00<00:00, 103MB/s]"
          ]
        },
        {
          "output_type": "stream",
          "name": "stdout",
          "text": [
            "Overriding model.yaml nc=80 with nc=5\n",
            "\n",
            "                   from  n    params  module                                       arguments                     \n",
            "  0                  -1  1       464  ultralytics.nn.modules.conv.Conv             [3, 16, 3, 2]                 \n",
            "  1                  -1  1      4672  ultralytics.nn.modules.conv.Conv             [16, 32, 3, 2]                \n",
            "  2                  -1  1      7360  ultralytics.nn.modules.block.C2f             [32, 32, 1, True]             \n",
            "  3                  -1  1     18560  ultralytics.nn.modules.conv.Conv             [32, 64, 3, 2]                \n",
            "  4                  -1  2     49664  ultralytics.nn.modules.block.C2f             [64, 64, 2, True]             \n",
            "  5                  -1  1     73984  ultralytics.nn.modules.conv.Conv             [64, 128, 3, 2]               \n",
            "  6                  -1  2    197632  ultralytics.nn.modules.block.C2f             [128, 128, 2, True]           \n",
            "  7                  -1  1    295424  ultralytics.nn.modules.conv.Conv             [128, 256, 3, 2]              \n",
            "  8                  -1  1    460288  ultralytics.nn.modules.block.C2f             [256, 256, 1, True]           \n",
            "  9                  -1  1    164608  ultralytics.nn.modules.block.SPPF            [256, 256, 5]                 \n",
            " 10                  -1  1         0  torch.nn.modules.upsampling.Upsample         [None, 2, 'nearest']          \n",
            " 11             [-1, 6]  1         0  ultralytics.nn.modules.conv.Concat           [1]                           \n",
            " 12                  -1  1    148224  ultralytics.nn.modules.block.C2f             [384, 128, 1]                 \n",
            " 13                  -1  1         0  torch.nn.modules.upsampling.Upsample         [None, 2, 'nearest']          \n",
            " 14             [-1, 4]  1         0  ultralytics.nn.modules.conv.Concat           [1]                           \n",
            " 15                  -1  1     37248  ultralytics.nn.modules.block.C2f             [192, 64, 1]                  \n",
            " 16                  -1  1     36992  ultralytics.nn.modules.conv.Conv             [64, 64, 3, 2]                \n",
            " 17            [-1, 12]  1         0  ultralytics.nn.modules.conv.Concat           [1]                           \n",
            " 18                  -1  1    123648  ultralytics.nn.modules.block.C2f             [192, 128, 1]                 \n",
            " 19                  -1  1    147712  ultralytics.nn.modules.conv.Conv             [128, 128, 3, 2]              \n",
            " 20             [-1, 9]  1         0  ultralytics.nn.modules.conv.Concat           [1]                           \n",
            " 21                  -1  1    493056  ultralytics.nn.modules.block.C2f             [384, 256, 1]                 \n",
            " 22        [15, 18, 21]  1    752287  ultralytics.nn.modules.head.Detect           [5, [64, 128, 256]]           \n"
          ]
        },
        {
          "output_type": "stream",
          "name": "stderr",
          "text": [
            "\n"
          ]
        },
        {
          "output_type": "stream",
          "name": "stdout",
          "text": [
            "Model summary: 129 layers, 3,011,823 parameters, 3,011,807 gradients, 8.2 GFLOPs\n",
            "\n",
            "Transferred 319/355 items from pretrained weights\n",
            "Freezing layer 'model.22.dfl.conv.weight'\n",
            "\u001b[34m\u001b[1mAMP: \u001b[0mrunning Automatic Mixed Precision (AMP) checks...\n",
            "Downloading https://github.com/ultralytics/assets/releases/download/v8.3.0/yolo11n.pt to 'yolo11n.pt'...\n"
          ]
        },
        {
          "output_type": "stream",
          "name": "stderr",
          "text": [
            "100%|██████████| 5.35M/5.35M [00:00<00:00, 163MB/s]\n"
          ]
        },
        {
          "output_type": "stream",
          "name": "stdout",
          "text": [
            "\u001b[34m\u001b[1mAMP: \u001b[0mchecks passed ✅\n",
            "\u001b[34m\u001b[1mtrain: \u001b[0mFast image access ✅ (ping: 0.0±0.0 ms, read: 2176.7±1166.0 MB/s, size: 1488.7 KB)\n"
          ]
        },
        {
          "output_type": "stream",
          "name": "stderr",
          "text": [
            "\u001b[34m\u001b[1mtrain: \u001b[0mScanning /content/datasets/wind-turbine-damage-challenges/labels/train... 98 images, 222 backgrounds, 0 corrupt:  30%|██▉       | 320/1070 [00:00<00:00, 3193.91it/s]/usr/local/lib/python3.11/dist-packages/PIL/Image.py:3442: DecompressionBombWarning: Image size (149817600 pixels) exceeds limit of 89478485 pixels, could be decompression bomb DOS attack.\n",
            "  warnings.warn(\n",
            "\u001b[34m\u001b[1mtrain: \u001b[0mScanning /content/datasets/wind-turbine-damage-challenges/labels/train... 754 images, 316 backgrounds, 76 corrupt: 100%|██████████| 1070/1070 [00:00<00:00, 2681.16it/s]"
          ]
        },
        {
          "output_type": "stream",
          "name": "stdout",
          "text": [
            "\u001b[34m\u001b[1mtrain: \u001b[0m/content/datasets/wind-turbine-damage-challenges/images/train/DJI_0048_JPG.rf.be3a017fc6ec139bbf2f94d37617c2d0.jpg: ignoring corrupt image/label: Label class 5 exceeds dataset class count 5. Possible class labels are 0-4\n",
            "\u001b[34m\u001b[1mtrain: \u001b[0m/content/datasets/wind-turbine-damage-challenges/images/train/DJI_0049_JPG.rf.5effa2457eb8feda6ce9d645e2ca4344.jpg: ignoring corrupt image/label: Label class 5 exceeds dataset class count 5. Possible class labels are 0-4\n",
            "\u001b[34m\u001b[1mtrain: \u001b[0m/content/datasets/wind-turbine-damage-challenges/images/train/DJI_0050_JPG.rf.4b66ff5f5aa95f1653d3323db4162b63.jpg: ignoring corrupt image/label: Label class 5 exceeds dataset class count 5. Possible class labels are 0-4\n",
            "\u001b[34m\u001b[1mtrain: \u001b[0m/content/datasets/wind-turbine-damage-challenges/images/train/DJI_0051_JPG.rf.44e4a82f9c37426b02ee8c5e72ec0aad.jpg: ignoring corrupt image/label: Label class 5 exceeds dataset class count 5. Possible class labels are 0-4\n",
            "\u001b[34m\u001b[1mtrain: \u001b[0m/content/datasets/wind-turbine-damage-challenges/images/train/DJI_0054_JPG.rf.6389c138540cdb4f68b496c605a90ac8.jpg: ignoring corrupt image/label: Label class 5 exceeds dataset class count 5. Possible class labels are 0-4\n",
            "\u001b[34m\u001b[1mtrain: \u001b[0m/content/datasets/wind-turbine-damage-challenges/images/train/DJI_0055_JPG.rf.6790bfee2af07b343b52c463b1084cb7.jpg: ignoring corrupt image/label: Label class 5 exceeds dataset class count 5. Possible class labels are 0-4\n",
            "\u001b[34m\u001b[1mtrain: \u001b[0m/content/datasets/wind-turbine-damage-challenges/images/train/DJI_0056_JPG.rf.956528732ecbb1387600349caf3ab383.jpg: ignoring corrupt image/label: Label class 5 exceeds dataset class count 5. Possible class labels are 0-4\n",
            "\u001b[34m\u001b[1mtrain: \u001b[0m/content/datasets/wind-turbine-damage-challenges/images/train/DJI_0058_JPG.rf.f7d41aef52fc10dfea05ecd06a96eef1.jpg: ignoring corrupt image/label: Label class 5 exceeds dataset class count 5. Possible class labels are 0-4\n",
            "\u001b[34m\u001b[1mtrain: \u001b[0m/content/datasets/wind-turbine-damage-challenges/images/train/DJI_0060_JPG.rf.ce9225e3c66e3d8f959afe5c025aaec5.jpg: ignoring corrupt image/label: Label class 5 exceeds dataset class count 5. Possible class labels are 0-4\n",
            "\u001b[34m\u001b[1mtrain: \u001b[0m/content/datasets/wind-turbine-damage-challenges/images/train/DJI_0061_JPG.rf.6061b1d3be47af4900a1afe629f72774.jpg: ignoring corrupt image/label: Label class 5 exceeds dataset class count 5. Possible class labels are 0-4\n",
            "\u001b[34m\u001b[1mtrain: \u001b[0m/content/datasets/wind-turbine-damage-challenges/images/train/DJI_0088_JPG.rf.a2235377a478d5c2707ad4f2708b4a71.jpg: ignoring corrupt image/label: Label class 5 exceeds dataset class count 5. Possible class labels are 0-4\n",
            "\u001b[34m\u001b[1mtrain: \u001b[0m/content/datasets/wind-turbine-damage-challenges/images/train/DJI_0089_JPG.rf.c0ea3a4009d929738564784c9835730c.jpg: ignoring corrupt image/label: Label class 5 exceeds dataset class count 5. Possible class labels are 0-4\n",
            "\u001b[34m\u001b[1mtrain: \u001b[0m/content/datasets/wind-turbine-damage-challenges/images/train/DJI_0090_JPG.rf.184385c0ddf0b6f067ad5579b756f6cc.jpg: ignoring corrupt image/label: Label class 5 exceeds dataset class count 5. Possible class labels are 0-4\n",
            "\u001b[34m\u001b[1mtrain: \u001b[0m/content/datasets/wind-turbine-damage-challenges/images/train/DJI_0091_JPG.rf.2644d65f33e7689f386e1e381466947d.jpg: ignoring corrupt image/label: Label class 5 exceeds dataset class count 5. Possible class labels are 0-4\n",
            "\u001b[34m\u001b[1mtrain: \u001b[0m/content/datasets/wind-turbine-damage-challenges/images/train/DJI_0092_JPG.rf.43cb5047a7db5ab049f5fdd956066453.jpg: ignoring corrupt image/label: Label class 5 exceeds dataset class count 5. Possible class labels are 0-4\n",
            "\u001b[34m\u001b[1mtrain: \u001b[0m/content/datasets/wind-turbine-damage-challenges/images/train/DJI_0094_JPG.rf.1467c66dc63d193122fc5dbb1e67d18f.jpg: ignoring corrupt image/label: Label class 5 exceeds dataset class count 5. Possible class labels are 0-4\n",
            "\u001b[34m\u001b[1mtrain: \u001b[0m/content/datasets/wind-turbine-damage-challenges/images/train/DJI_0095_JPG.rf.f835c63515de14db4978a1def3c30281.jpg: ignoring corrupt image/label: Label class 5 exceeds dataset class count 5. Possible class labels are 0-4\n",
            "\u001b[34m\u001b[1mtrain: \u001b[0m/content/datasets/wind-turbine-damage-challenges/images/train/DJI_0096_JPG.rf.d5ebd8af4e53c86c813c8da46f80e454.jpg: ignoring corrupt image/label: Label class 5 exceeds dataset class count 5. Possible class labels are 0-4\n",
            "\u001b[34m\u001b[1mtrain: \u001b[0m/content/datasets/wind-turbine-damage-challenges/images/train/DJI_0098_JPG.rf.9f344a431550a8e9d071e1564ffc6f18.jpg: ignoring corrupt image/label: Label class 5 exceeds dataset class count 5. Possible class labels are 0-4\n",
            "\u001b[34m\u001b[1mtrain: \u001b[0m/content/datasets/wind-turbine-damage-challenges/images/train/DJI_0099_JPG.rf.90c3e76f842e36922ddbcfe4a5e66b7f.jpg: ignoring corrupt image/label: Label class 5 exceeds dataset class count 5. Possible class labels are 0-4\n",
            "\u001b[34m\u001b[1mtrain: \u001b[0m/content/datasets/wind-turbine-damage-challenges/images/train/DJI_0100_JPG.rf.7ff4ebf0138ab5b3d6815ae80fa6efbd.jpg: ignoring corrupt image/label: Label class 5 exceeds dataset class count 5. Possible class labels are 0-4\n",
            "\u001b[34m\u001b[1mtrain: \u001b[0m/content/datasets/wind-turbine-damage-challenges/images/train/DJI_0101_JPG.rf.cebefe87a3c0a1cd6b3b057e0a592520.jpg: ignoring corrupt image/label: Label class 5 exceeds dataset class count 5. Possible class labels are 0-4\n",
            "\u001b[34m\u001b[1mtrain: \u001b[0m/content/datasets/wind-turbine-damage-challenges/images/train/DJI_0102_JPG.rf.f33b57728da4f4ebd354bb483ecb47bf.jpg: ignoring corrupt image/label: Label class 5 exceeds dataset class count 5. Possible class labels are 0-4\n",
            "\u001b[34m\u001b[1mtrain: \u001b[0m/content/datasets/wind-turbine-damage-challenges/images/train/DJI_0103_JPG.rf.05c98b44d070a07ecfaadd11d9bff329.jpg: ignoring corrupt image/label: Label class 5 exceeds dataset class count 5. Possible class labels are 0-4\n",
            "\u001b[34m\u001b[1mtrain: \u001b[0m/content/datasets/wind-turbine-damage-challenges/images/train/DJI_0104_JPG.rf.ca3d93125a69c962fbf46acec708b5e1.jpg: ignoring corrupt image/label: Label class 5 exceeds dataset class count 5. Possible class labels are 0-4\n",
            "\u001b[34m\u001b[1mtrain: \u001b[0m/content/datasets/wind-turbine-damage-challenges/images/train/DJI_0105_JPG.rf.25273e431180365eadd585f304b3e8ed.jpg: ignoring corrupt image/label: Label class 5 exceeds dataset class count 5. Possible class labels are 0-4\n",
            "\u001b[34m\u001b[1mtrain: \u001b[0m/content/datasets/wind-turbine-damage-challenges/images/train/DJI_0106_JPG.rf.537bc48bfdacc8fdf4c2e45e1e2ab651.jpg: ignoring corrupt image/label: Label class 5 exceeds dataset class count 5. Possible class labels are 0-4\n",
            "\u001b[34m\u001b[1mtrain: \u001b[0m/content/datasets/wind-turbine-damage-challenges/images/train/DJI_0107_JPG.rf.91f7709554763ee7699ba35985b5c64e.jpg: ignoring corrupt image/label: Label class 5 exceeds dataset class count 5. Possible class labels are 0-4\n",
            "\u001b[34m\u001b[1mtrain: \u001b[0m/content/datasets/wind-turbine-damage-challenges/images/train/DJI_0108_JPG.rf.26b4f79ebcdf8875fedbdb257ee2fab6.jpg: ignoring corrupt image/label: Label class 5 exceeds dataset class count 5. Possible class labels are 0-4\n",
            "\u001b[34m\u001b[1mtrain: \u001b[0m/content/datasets/wind-turbine-damage-challenges/images/train/DJI_0109_JPG.rf.8d9e0093ef5271513428b4ad8d1248a6.jpg: ignoring corrupt image/label: Label class 5 exceeds dataset class count 5. Possible class labels are 0-4\n",
            "\u001b[34m\u001b[1mtrain: \u001b[0m/content/datasets/wind-turbine-damage-challenges/images/train/DJI_0119_JPG.rf.fa7a31d404d14f1f0fc360f0d960b14e.jpg: ignoring corrupt image/label: Label class 5 exceeds dataset class count 5. Possible class labels are 0-4\n",
            "\u001b[34m\u001b[1mtrain: \u001b[0m/content/datasets/wind-turbine-damage-challenges/images/train/DJI_0120_JPG.rf.317582ed0e9879c6e77cd9a617d6a8dd.jpg: ignoring corrupt image/label: Label class 5 exceeds dataset class count 5. Possible class labels are 0-4\n",
            "\u001b[34m\u001b[1mtrain: \u001b[0m/content/datasets/wind-turbine-damage-challenges/images/train/DJI_0121_JPG.rf.5ffe08a0e2c48fd81f2068396858d2f4.jpg: ignoring corrupt image/label: Label class 5 exceeds dataset class count 5. Possible class labels are 0-4\n",
            "\u001b[34m\u001b[1mtrain: \u001b[0m/content/datasets/wind-turbine-damage-challenges/images/train/DJI_0122_JPG.rf.ac45a897054950638f208eb3d2bcc913.jpg: ignoring corrupt image/label: Label class 5 exceeds dataset class count 5. Possible class labels are 0-4\n",
            "\u001b[34m\u001b[1mtrain: \u001b[0m/content/datasets/wind-turbine-damage-challenges/images/train/DJI_0123_JPG.rf.a6d45393cedf5d9dbcbc7602d02929b2.jpg: ignoring corrupt image/label: Label class 5 exceeds dataset class count 5. Possible class labels are 0-4\n",
            "\u001b[34m\u001b[1mtrain: \u001b[0m/content/datasets/wind-turbine-damage-challenges/images/train/DJI_0124_JPG.rf.18d8c0f73661156735f23a1770f5399d.jpg: ignoring corrupt image/label: Label class 5 exceeds dataset class count 5. Possible class labels are 0-4\n",
            "\u001b[34m\u001b[1mtrain: \u001b[0m/content/datasets/wind-turbine-damage-challenges/images/train/DJI_0125_JPG.rf.5e789faa15de51d93ca0111d92f4b41a.jpg: ignoring corrupt image/label: Label class 5 exceeds dataset class count 5. Possible class labels are 0-4\n",
            "\u001b[34m\u001b[1mtrain: \u001b[0m/content/datasets/wind-turbine-damage-challenges/images/train/DJI_0126_JPG.rf.1c600e429a89decaf82f03106f11fe2e.jpg: ignoring corrupt image/label: Label class 5 exceeds dataset class count 5. Possible class labels are 0-4\n",
            "\u001b[34m\u001b[1mtrain: \u001b[0m/content/datasets/wind-turbine-damage-challenges/images/train/DJI_0127_JPG.rf.310635d573a2483ce8bcf79fa2ca024c.jpg: ignoring corrupt image/label: Label class 5 exceeds dataset class count 5. Possible class labels are 0-4\n",
            "\u001b[34m\u001b[1mtrain: \u001b[0m/content/datasets/wind-turbine-damage-challenges/images/train/DJI_0242_JPG.rf.dd752a12a4aab1aed11821a097134427.jpg: ignoring corrupt image/label: Label class 5 exceeds dataset class count 5. Possible class labels are 0-4\n",
            "\u001b[34m\u001b[1mtrain: \u001b[0m/content/datasets/wind-turbine-damage-challenges/images/train/DJI_0243_JPG.rf.f9a245b0e06abaf4a388188c9037f2f9.jpg: ignoring corrupt image/label: Label class 5 exceeds dataset class count 5. Possible class labels are 0-4\n",
            "\u001b[34m\u001b[1mtrain: \u001b[0m/content/datasets/wind-turbine-damage-challenges/images/train/DJI_0244_JPG.rf.61a76560223b5b9d40fbb72df40ca771.jpg: ignoring corrupt image/label: Label class 5 exceeds dataset class count 5. Possible class labels are 0-4\n",
            "\u001b[34m\u001b[1mtrain: \u001b[0m/content/datasets/wind-turbine-damage-challenges/images/train/DJI_0245_JPG.rf.2bcde11b4deab6934212d9e0f697f1c6.jpg: ignoring corrupt image/label: Label class 5 exceeds dataset class count 5. Possible class labels are 0-4\n",
            "\u001b[34m\u001b[1mtrain: \u001b[0m/content/datasets/wind-turbine-damage-challenges/images/train/DJI_0246_JPG.rf.a4c59619dd56749167534e9aed7fbb1f.jpg: ignoring corrupt image/label: Label class 5 exceeds dataset class count 5. Possible class labels are 0-4\n",
            "\u001b[34m\u001b[1mtrain: \u001b[0m/content/datasets/wind-turbine-damage-challenges/images/train/DJI_0247_JPG.rf.4898a012e0052e3c15842439b0c07345.jpg: ignoring corrupt image/label: Label class 5 exceeds dataset class count 5. Possible class labels are 0-4\n",
            "\u001b[34m\u001b[1mtrain: \u001b[0m/content/datasets/wind-turbine-damage-challenges/images/train/DJI_0248_JPG.rf.087c2bf4c08c617a70277366a32d1ffc.jpg: ignoring corrupt image/label: Label class 5 exceeds dataset class count 5. Possible class labels are 0-4\n",
            "\u001b[34m\u001b[1mtrain: \u001b[0m/content/datasets/wind-turbine-damage-challenges/images/train/DJI_0249_JPG.rf.2cd3d20b7260d72eade090621ee399d5.jpg: ignoring corrupt image/label: Label class 5 exceeds dataset class count 5. Possible class labels are 0-4\n",
            "\u001b[34m\u001b[1mtrain: \u001b[0m/content/datasets/wind-turbine-damage-challenges/images/train/DJI_0250_JPG.rf.3c3addd51c5a7ce43a2989aecec95dbe.jpg: ignoring corrupt image/label: Label class 5 exceeds dataset class count 5. Possible class labels are 0-4\n",
            "\u001b[34m\u001b[1mtrain: \u001b[0m/content/datasets/wind-turbine-damage-challenges/images/train/DJI_0251_JPG.rf.2a377ac726bb46d9c342d92e6acb0a19.jpg: ignoring corrupt image/label: Label class 5 exceeds dataset class count 5. Possible class labels are 0-4\n",
            "\u001b[34m\u001b[1mtrain: \u001b[0m/content/datasets/wind-turbine-damage-challenges/images/train/DJI_0327_JPG.rf.ecf144475711fb4d708ab86c6194e7e4.jpg: ignoring corrupt image/label: Label class 5 exceeds dataset class count 5. Possible class labels are 0-4\n",
            "\u001b[34m\u001b[1mtrain: \u001b[0m/content/datasets/wind-turbine-damage-challenges/images/train/DJI_0328_JPG.rf.e678000bdb790a6b40f198ffbf3cc948.jpg: ignoring corrupt image/label: Label class 5 exceeds dataset class count 5. Possible class labels are 0-4\n",
            "\u001b[34m\u001b[1mtrain: \u001b[0m/content/datasets/wind-turbine-damage-challenges/images/train/DJI_0329_JPG.rf.0ca534ef75e677118bc89cc1cb040901.jpg: ignoring corrupt image/label: Label class 5 exceeds dataset class count 5. Possible class labels are 0-4\n",
            "\u001b[34m\u001b[1mtrain: \u001b[0m/content/datasets/wind-turbine-damage-challenges/images/train/DJI_0330_JPG.rf.f795a32630fdb950c96d89381c5399d1.jpg: ignoring corrupt image/label: Label class 5 exceeds dataset class count 5. Possible class labels are 0-4\n",
            "\u001b[34m\u001b[1mtrain: \u001b[0m/content/datasets/wind-turbine-damage-challenges/images/train/DJI_0331_JPG.rf.c24c48ef3caf54b2cdffb2e2c634aca0.jpg: ignoring corrupt image/label: Label class 5 exceeds dataset class count 5. Possible class labels are 0-4\n",
            "\u001b[34m\u001b[1mtrain: \u001b[0m/content/datasets/wind-turbine-damage-challenges/images/train/DJI_0332_JPG.rf.eb89d9554a2a09e22e88b3cf3768b9de.jpg: ignoring corrupt image/label: Label class 5 exceeds dataset class count 5. Possible class labels are 0-4\n",
            "\u001b[34m\u001b[1mtrain: \u001b[0m/content/datasets/wind-turbine-damage-challenges/images/train/DJI_0333_JPG.rf.08999726fa14fc946d429dbf4b458e47.jpg: ignoring corrupt image/label: Label class 5 exceeds dataset class count 5. Possible class labels are 0-4\n",
            "\u001b[34m\u001b[1mtrain: \u001b[0m/content/datasets/wind-turbine-damage-challenges/images/train/DJI_0335_JPG.rf.5cbd5215d4bcf259ad19a9ffd5004ed0.jpg: ignoring corrupt image/label: Label class 5 exceeds dataset class count 5. Possible class labels are 0-4\n",
            "\u001b[34m\u001b[1mtrain: \u001b[0m/content/datasets/wind-turbine-damage-challenges/images/train/DJI_0337_JPG.rf.c21e07e54f3eea9f13d3a0b402cd2dc7.jpg: ignoring corrupt image/label: Label class 5 exceeds dataset class count 5. Possible class labels are 0-4\n",
            "\u001b[34m\u001b[1mtrain: \u001b[0m/content/datasets/wind-turbine-damage-challenges/images/train/DJI_0338_JPG.rf.8ef24f53b1a0320e085cbf83089be572.jpg: ignoring corrupt image/label: Label class 5 exceeds dataset class count 5. Possible class labels are 0-4\n",
            "\u001b[34m\u001b[1mtrain: \u001b[0m/content/datasets/wind-turbine-damage-challenges/images/train/DJI_0339_JPG.rf.3bb7a06c3aebfa4954e9497ae9aec2a6.jpg: ignoring corrupt image/label: Label class 5 exceeds dataset class count 5. Possible class labels are 0-4\n",
            "\u001b[34m\u001b[1mtrain: \u001b[0m/content/datasets/wind-turbine-damage-challenges/images/train/DJI_0408_JPG.rf.6479c89d01adc873a4fe4c9e8cdd1963.jpg: ignoring corrupt image/label: Label class 5 exceeds dataset class count 5. Possible class labels are 0-4\n",
            "\u001b[34m\u001b[1mtrain: \u001b[0m/content/datasets/wind-turbine-damage-challenges/images/train/DJI_0409_JPG.rf.54b95dc23e61dbf97d6f434173d5378d.jpg: ignoring corrupt image/label: Label class 5 exceeds dataset class count 5. Possible class labels are 0-4\n",
            "\u001b[34m\u001b[1mtrain: \u001b[0m/content/datasets/wind-turbine-damage-challenges/images/train/DJI_0410_JPG.rf.145cc7120fdad4c3396c17e218e41b67.jpg: ignoring corrupt image/label: Label class 5 exceeds dataset class count 5. Possible class labels are 0-4\n",
            "\u001b[34m\u001b[1mtrain: \u001b[0m/content/datasets/wind-turbine-damage-challenges/images/train/DJI_0411_JPG.rf.70577f664a31b982ccf0982e0d605803.jpg: ignoring corrupt image/label: Label class 5 exceeds dataset class count 5. Possible class labels are 0-4\n",
            "\u001b[34m\u001b[1mtrain: \u001b[0m/content/datasets/wind-turbine-damage-challenges/images/train/DJI_0412_JPG.rf.11fd2e0b2a0f35822a813982bf02fdc5.jpg: ignoring corrupt image/label: Label class 5 exceeds dataset class count 5. Possible class labels are 0-4\n",
            "\u001b[34m\u001b[1mtrain: \u001b[0m/content/datasets/wind-turbine-damage-challenges/images/train/DJI_0413_JPG.rf.1fbca33973f2a8bcfd6c3261e9f77f8f.jpg: ignoring corrupt image/label: Label class 5 exceeds dataset class count 5. Possible class labels are 0-4\n",
            "\u001b[34m\u001b[1mtrain: \u001b[0m/content/datasets/wind-turbine-damage-challenges/images/train/DJI_0414_JPG.rf.c6f22727ca02864b27fc179e05c06682.jpg: ignoring corrupt image/label: Label class 5 exceeds dataset class count 5. Possible class labels are 0-4\n",
            "\u001b[34m\u001b[1mtrain: \u001b[0m/content/datasets/wind-turbine-damage-challenges/images/train/DJI_0416_JPG.rf.292a450ac5d8ce5b593a56922b847169.jpg: ignoring corrupt image/label: Label class 5 exceeds dataset class count 5. Possible class labels are 0-4\n",
            "\u001b[34m\u001b[1mtrain: \u001b[0m/content/datasets/wind-turbine-damage-challenges/images/train/DJI_0620-1-_JPG.rf.d0e1a1cc379b3d1cbbba2bec9355c5a2.jpg: ignoring corrupt image/label: Label class 5 exceeds dataset class count 5. Possible class labels are 0-4\n",
            "\u001b[34m\u001b[1mtrain: \u001b[0m/content/datasets/wind-turbine-damage-challenges/images/train/DJI_0621-1-_JPG.rf.01ad4c1570f66096f34b4257579cc203.jpg: ignoring corrupt image/label: Label class 5 exceeds dataset class count 5. Possible class labels are 0-4\n",
            "\u001b[34m\u001b[1mtrain: \u001b[0m/content/datasets/wind-turbine-damage-challenges/images/train/DJI_0622-1-_JPG.rf.71a91ca7221722f47703ef14f3bf7847.jpg: ignoring corrupt image/label: Label class 5 exceeds dataset class count 5. Possible class labels are 0-4\n",
            "\u001b[34m\u001b[1mtrain: \u001b[0m/content/datasets/wind-turbine-damage-challenges/images/train/DJI_0623-1-_JPG.rf.b35a1457497ed65f90fdf920459530b2.jpg: ignoring corrupt image/label: Label class 5 exceeds dataset class count 5. Possible class labels are 0-4\n",
            "\u001b[34m\u001b[1mtrain: \u001b[0m/content/datasets/wind-turbine-damage-challenges/images/train/DJI_0624-1-_JPG.rf.1366b95e892fe709bd620ecfa141c980.jpg: ignoring corrupt image/label: Label class 5 exceeds dataset class count 5. Possible class labels are 0-4\n",
            "\u001b[34m\u001b[1mtrain: \u001b[0m/content/datasets/wind-turbine-damage-challenges/images/train/DJI_0625-1-_JPG.rf.fa7b9773d03743d263bd455c3fa38b2f.jpg: ignoring corrupt image/label: Label class 5 exceeds dataset class count 5. Possible class labels are 0-4\n",
            "\u001b[34m\u001b[1mtrain: \u001b[0m/content/datasets/wind-turbine-damage-challenges/images/train/DJI_0626-1-_JPG.rf.758b3a3d6a1adf916b815f48d9f118dd.jpg: ignoring corrupt image/label: Label class 5 exceeds dataset class count 5. Possible class labels are 0-4\n",
            "\u001b[34m\u001b[1mtrain: \u001b[0m/content/datasets/wind-turbine-damage-challenges/images/train/DJI_0709-1-_JPG.rf.87644bd4f3c2aad58e082c1653416723.jpg: ignoring corrupt image/label: Label class 5 exceeds dataset class count 5. Possible class labels are 0-4\n",
            "\u001b[34m\u001b[1mtrain: \u001b[0mNew cache created: /content/datasets/wind-turbine-damage-challenges/labels/train.cache\n"
          ]
        },
        {
          "output_type": "stream",
          "name": "stderr",
          "text": [
            "\n"
          ]
        },
        {
          "output_type": "stream",
          "name": "stdout",
          "text": [
            "\u001b[34m\u001b[1malbumentations: \u001b[0mBlur(p=0.01, blur_limit=(3, 7)), MedianBlur(p=0.01, blur_limit=(3, 7)), ToGray(p=0.01, method='weighted_average', num_output_channels=3), CLAHE(p=0.01, clip_limit=(1.0, 4.0), tile_grid_size=(8, 8))\n",
            "\u001b[34m\u001b[1mval: \u001b[0mFast image access ✅ (ping: 0.0±0.0 ms, read: 1379.2±1673.7 MB/s, size: 806.6 KB)\n"
          ]
        },
        {
          "output_type": "stream",
          "name": "stderr",
          "text": [
            "\u001b[34m\u001b[1mval: \u001b[0mScanning /content/datasets/wind-turbine-damage-challenges/labels/val... 185 images, 86 backgrounds, 16 corrupt: 100%|██████████| 271/271 [00:00<00:00, 1963.16it/s]"
          ]
        },
        {
          "output_type": "stream",
          "name": "stdout",
          "text": [
            "\u001b[34m\u001b[1mval: \u001b[0m/content/datasets/wind-turbine-damage-challenges/images/val/DJI_0052_JPG.rf.9e2425e78277e9172c8158cd0eb122e6.jpg: ignoring corrupt image/label: Label class 5 exceeds dataset class count 5. Possible class labels are 0-4\n",
            "\u001b[34m\u001b[1mval: \u001b[0m/content/datasets/wind-turbine-damage-challenges/images/val/DJI_0053_JPG.rf.4705b517a28be02894bb3e24ce1a37ed.jpg: ignoring corrupt image/label: Label class 5 exceeds dataset class count 5. Possible class labels are 0-4\n",
            "\u001b[34m\u001b[1mval: \u001b[0m/content/datasets/wind-turbine-damage-challenges/images/val/DJI_0057_JPG.rf.3e8929309a05ee5896852970ae79e086.jpg: ignoring corrupt image/label: Label class 5 exceeds dataset class count 5. Possible class labels are 0-4\n",
            "\u001b[34m\u001b[1mval: \u001b[0m/content/datasets/wind-turbine-damage-challenges/images/val/DJI_0059_JPG.rf.ed7dff74866ccf81561a2131e402f5be.jpg: ignoring corrupt image/label: Label class 5 exceeds dataset class count 5. Possible class labels are 0-4\n",
            "\u001b[34m\u001b[1mval: \u001b[0m/content/datasets/wind-turbine-damage-challenges/images/val/DJI_0093_JPG.rf.2fae7b10f12728f6ede80be5a625e884.jpg: ignoring corrupt image/label: Label class 5 exceeds dataset class count 5. Possible class labels are 0-4\n",
            "\u001b[34m\u001b[1mval: \u001b[0m/content/datasets/wind-turbine-damage-challenges/images/val/DJI_0097_JPG.rf.ea0e13db023bd949dfdde17d0b52f1cd.jpg: ignoring corrupt image/label: Label class 5 exceeds dataset class count 5. Possible class labels are 0-4\n",
            "\u001b[34m\u001b[1mval: \u001b[0m/content/datasets/wind-turbine-damage-challenges/images/val/DJI_0334_JPG.rf.6d62adea85574abb8c3c869057b56999.jpg: ignoring corrupt image/label: Label class 5 exceeds dataset class count 5. Possible class labels are 0-4\n",
            "\u001b[34m\u001b[1mval: \u001b[0m/content/datasets/wind-turbine-damage-challenges/images/val/DJI_0336_JPG.rf.3fe4b9b8e3b79bbddc53dd83354339ab.jpg: ignoring corrupt image/label: Label class 5 exceeds dataset class count 5. Possible class labels are 0-4\n",
            "\u001b[34m\u001b[1mval: \u001b[0m/content/datasets/wind-turbine-damage-challenges/images/val/DJI_0696-1-_JPG.rf.725a7a48d7c6a94bf1ddb029ccb9ed95.jpg: ignoring corrupt image/label: Label class 5 exceeds dataset class count 5. Possible class labels are 0-4\n",
            "\u001b[34m\u001b[1mval: \u001b[0m/content/datasets/wind-turbine-damage-challenges/images/val/DJI_0697-1-_JPG.rf.69e131131b26a3e418be7ae9d129fb51.jpg: ignoring corrupt image/label: Label class 5 exceeds dataset class count 5. Possible class labels are 0-4\n",
            "\u001b[34m\u001b[1mval: \u001b[0m/content/datasets/wind-turbine-damage-challenges/images/val/DJI_0698-1-_JPG.rf.bb2b186cff4d8892081d94f763cc2886.jpg: ignoring corrupt image/label: Label class 5 exceeds dataset class count 5. Possible class labels are 0-4\n",
            "\u001b[34m\u001b[1mval: \u001b[0m/content/datasets/wind-turbine-damage-challenges/images/val/DJI_0699-1-_JPG.rf.4bfa88489b63ff916926bd0eeae936d8.jpg: ignoring corrupt image/label: Label class 5 exceeds dataset class count 5. Possible class labels are 0-4\n",
            "\u001b[34m\u001b[1mval: \u001b[0m/content/datasets/wind-turbine-damage-challenges/images/val/DJI_0705-1-_JPG.rf.476fc028afbd0309f055108fc01a1115.jpg: ignoring corrupt image/label: Label class 5 exceeds dataset class count 5. Possible class labels are 0-4\n",
            "\u001b[34m\u001b[1mval: \u001b[0m/content/datasets/wind-turbine-damage-challenges/images/val/DJI_0707-1-_JPG.rf.b9e2b0b10ac0f0368c97d8849a356eb2.jpg: ignoring corrupt image/label: Label class 5 exceeds dataset class count 5. Possible class labels are 0-4\n",
            "\u001b[34m\u001b[1mval: \u001b[0m/content/datasets/wind-turbine-damage-challenges/images/val/DJI_0708-1-_JPG.rf.ad43f15dd7a0a28041743686fa43ca66.jpg: ignoring corrupt image/label: Label class 5 exceeds dataset class count 5. Possible class labels are 0-4\n",
            "\u001b[34m\u001b[1mval: \u001b[0m/content/datasets/wind-turbine-damage-challenges/images/val/DJI_0710-1-_JPG.rf.71fd36b79566aea3da0af585a5e36ca7.jpg: ignoring corrupt image/label: Label class 5 exceeds dataset class count 5. Possible class labels are 0-4\n",
            "\u001b[34m\u001b[1mval: \u001b[0mNew cache created: /content/datasets/wind-turbine-damage-challenges/labels/val.cache\n"
          ]
        },
        {
          "output_type": "stream",
          "name": "stderr",
          "text": [
            "\n"
          ]
        },
        {
          "output_type": "stream",
          "name": "stdout",
          "text": [
            "Plotting labels to runs/detect/train/labels.jpg... \n",
            "\u001b[34m\u001b[1moptimizer:\u001b[0m 'optimizer=auto' found, ignoring 'lr0=0.01' and 'momentum=0.937' and determining best 'optimizer', 'lr0' and 'momentum' automatically... \n",
            "\u001b[34m\u001b[1moptimizer:\u001b[0m AdamW(lr=0.001111, momentum=0.9) with parameter groups 57 weight(decay=0.0), 64 weight(decay=0.0005), 63 bias(decay=0.0)\n",
            "Image sizes 640 train, 640 val\n",
            "Using 2 dataloader workers\n",
            "Logging results to \u001b[1mruns/detect/train\u001b[0m\n",
            "Starting training for 50 epochs...\n",
            "\n",
            "      Epoch    GPU_mem   box_loss   cls_loss   dfl_loss  Instances       Size\n"
          ]
        },
        {
          "output_type": "stream",
          "name": "stderr",
          "text": [
            "       1/50      2.37G      3.329      13.12      1.327          2        640: 100%|██████████| 63/63 [01:07<00:00,  1.07s/it]\n",
            "                 Class     Images  Instances      Box(P          R      mAP50  mAP50-95): 100%|██████████| 8/8 [00:07<00:00,  1.06it/s]"
          ]
        },
        {
          "output_type": "stream",
          "name": "stdout",
          "text": [
            "                   all        255       2447   0.000303    0.00145   0.000166   6.72e-05\n"
          ]
        },
        {
          "output_type": "stream",
          "name": "stderr",
          "text": [
            "\n"
          ]
        },
        {
          "output_type": "stream",
          "name": "stdout",
          "text": [
            "\n",
            "      Epoch    GPU_mem   box_loss   cls_loss   dfl_loss  Instances       Size\n"
          ]
        },
        {
          "output_type": "stream",
          "name": "stderr",
          "text": [
            "       2/50      5.53G      3.362      6.523      1.185         24        640: 100%|██████████| 63/63 [01:02<00:00,  1.01it/s]\n",
            "                 Class     Images  Instances      Box(P          R      mAP50  mAP50-95): 100%|██████████| 8/8 [00:06<00:00,  1.27it/s]"
          ]
        },
        {
          "output_type": "stream",
          "name": "stdout",
          "text": [
            "                   all        255       2447    0.00596      0.048    0.00798    0.00213\n"
          ]
        },
        {
          "output_type": "stream",
          "name": "stderr",
          "text": [
            "\n"
          ]
        },
        {
          "output_type": "stream",
          "name": "stdout",
          "text": [
            "\n",
            "      Epoch    GPU_mem   box_loss   cls_loss   dfl_loss  Instances       Size\n"
          ]
        },
        {
          "output_type": "stream",
          "name": "stderr",
          "text": [
            "       3/50      5.54G       3.42       6.16      1.177         23        640: 100%|██████████| 63/63 [01:01<00:00,  1.02it/s]\n",
            "                 Class     Images  Instances      Box(P          R      mAP50  mAP50-95): 100%|██████████| 8/8 [00:06<00:00,  1.17it/s]"
          ]
        },
        {
          "output_type": "stream",
          "name": "stdout",
          "text": [
            "                   all        255       2447      0.539     0.0278    0.00861     0.0026\n"
          ]
        },
        {
          "output_type": "stream",
          "name": "stderr",
          "text": [
            "\n"
          ]
        },
        {
          "output_type": "stream",
          "name": "stdout",
          "text": [
            "\n",
            "      Epoch    GPU_mem   box_loss   cls_loss   dfl_loss  Instances       Size\n"
          ]
        },
        {
          "output_type": "stream",
          "name": "stderr",
          "text": [
            "       4/50      5.56G      3.365      4.837      1.225         32        640: 100%|██████████| 63/63 [01:01<00:00,  1.03it/s]\n",
            "                 Class     Images  Instances      Box(P          R      mAP50  mAP50-95): 100%|██████████| 8/8 [00:05<00:00,  1.37it/s]"
          ]
        },
        {
          "output_type": "stream",
          "name": "stdout",
          "text": [
            "                   all        255       2447      0.637     0.0348     0.0244    0.00618\n"
          ]
        },
        {
          "output_type": "stream",
          "name": "stderr",
          "text": [
            "\n"
          ]
        },
        {
          "output_type": "stream",
          "name": "stdout",
          "text": [
            "\n",
            "      Epoch    GPU_mem   box_loss   cls_loss   dfl_loss  Instances       Size\n"
          ]
        },
        {
          "output_type": "stream",
          "name": "stderr",
          "text": [
            "       5/50      5.58G      3.329      4.301      1.154         17        640: 100%|██████████| 63/63 [00:59<00:00,  1.05it/s]\n",
            "                 Class     Images  Instances      Box(P          R      mAP50  mAP50-95): 100%|██████████| 8/8 [00:06<00:00,  1.19it/s]"
          ]
        },
        {
          "output_type": "stream",
          "name": "stdout",
          "text": [
            "                   all        255       2447      0.598     0.0447     0.0242    0.00646\n"
          ]
        },
        {
          "output_type": "stream",
          "name": "stderr",
          "text": [
            "\n"
          ]
        },
        {
          "output_type": "stream",
          "name": "stdout",
          "text": [
            "\n",
            "      Epoch    GPU_mem   box_loss   cls_loss   dfl_loss  Instances       Size\n"
          ]
        },
        {
          "output_type": "stream",
          "name": "stderr",
          "text": [
            "       6/50      5.58G      3.204      3.384      1.106         25        640: 100%|██████████| 63/63 [01:01<00:00,  1.02it/s]\n",
            "                 Class     Images  Instances      Box(P          R      mAP50  mAP50-95): 100%|██████████| 8/8 [00:05<00:00,  1.34it/s]"
          ]
        },
        {
          "output_type": "stream",
          "name": "stdout",
          "text": [
            "                   all        255       2447     0.0908     0.0354     0.0208    0.00523\n"
          ]
        },
        {
          "output_type": "stream",
          "name": "stderr",
          "text": [
            "\n"
          ]
        },
        {
          "output_type": "stream",
          "name": "stdout",
          "text": [
            "\n",
            "      Epoch    GPU_mem   box_loss   cls_loss   dfl_loss  Instances       Size\n"
          ]
        },
        {
          "output_type": "stream",
          "name": "stderr",
          "text": [
            "       7/50      5.61G      3.223      3.162      1.119          2        640: 100%|██████████| 63/63 [01:02<00:00,  1.01it/s]\n",
            "                 Class     Images  Instances      Box(P          R      mAP50  mAP50-95): 100%|██████████| 8/8 [00:06<00:00,  1.15it/s]"
          ]
        },
        {
          "output_type": "stream",
          "name": "stdout",
          "text": [
            "                   all        255       2447      0.638     0.0421      0.032    0.00875\n"
          ]
        },
        {
          "output_type": "stream",
          "name": "stderr",
          "text": [
            "\n"
          ]
        },
        {
          "output_type": "stream",
          "name": "stdout",
          "text": [
            "\n",
            "      Epoch    GPU_mem   box_loss   cls_loss   dfl_loss  Instances       Size\n"
          ]
        },
        {
          "output_type": "stream",
          "name": "stderr",
          "text": [
            "       8/50      5.62G      3.238      3.035      1.135          5        640: 100%|██████████| 63/63 [01:02<00:00,  1.01it/s]\n",
            "                 Class     Images  Instances      Box(P          R      mAP50  mAP50-95): 100%|██████████| 8/8 [00:05<00:00,  1.45it/s]"
          ]
        },
        {
          "output_type": "stream",
          "name": "stdout",
          "text": [
            "                   all        255       2447      0.119     0.0535     0.0322    0.00878\n"
          ]
        },
        {
          "output_type": "stream",
          "name": "stderr",
          "text": [
            "\n"
          ]
        },
        {
          "output_type": "stream",
          "name": "stdout",
          "text": [
            "\n",
            "      Epoch    GPU_mem   box_loss   cls_loss   dfl_loss  Instances       Size\n"
          ]
        },
        {
          "output_type": "stream",
          "name": "stderr",
          "text": [
            "       9/50      5.64G      3.111       2.66      1.092          4        640: 100%|██████████| 63/63 [01:01<00:00,  1.03it/s]\n",
            "                 Class     Images  Instances      Box(P          R      mAP50  mAP50-95): 100%|██████████| 8/8 [00:05<00:00,  1.34it/s]"
          ]
        },
        {
          "output_type": "stream",
          "name": "stdout",
          "text": [
            "                   all        255       2447      0.143     0.0597     0.0442     0.0134\n"
          ]
        },
        {
          "output_type": "stream",
          "name": "stderr",
          "text": [
            "\n"
          ]
        },
        {
          "output_type": "stream",
          "name": "stdout",
          "text": [
            "\n",
            "      Epoch    GPU_mem   box_loss   cls_loss   dfl_loss  Instances       Size\n"
          ]
        },
        {
          "output_type": "stream",
          "name": "stderr",
          "text": [
            "      10/50      5.65G      3.055      2.417      1.077          0        640: 100%|██████████| 63/63 [01:01<00:00,  1.02it/s]\n",
            "                 Class     Images  Instances      Box(P          R      mAP50  mAP50-95): 100%|██████████| 8/8 [00:06<00:00,  1.28it/s]"
          ]
        },
        {
          "output_type": "stream",
          "name": "stdout",
          "text": [
            "                   all        255       2447      0.406      0.063     0.0498     0.0151\n"
          ]
        },
        {
          "output_type": "stream",
          "name": "stderr",
          "text": [
            "\n"
          ]
        },
        {
          "output_type": "stream",
          "name": "stdout",
          "text": [
            "\n",
            "      Epoch    GPU_mem   box_loss   cls_loss   dfl_loss  Instances       Size\n"
          ]
        },
        {
          "output_type": "stream",
          "name": "stderr",
          "text": [
            "      11/50      5.67G       3.11      2.432      1.111         25        640: 100%|██████████| 63/63 [01:02<00:00,  1.01it/s]\n",
            "                 Class     Images  Instances      Box(P          R      mAP50  mAP50-95): 100%|██████████| 8/8 [00:06<00:00,  1.30it/s]"
          ]
        },
        {
          "output_type": "stream",
          "name": "stdout",
          "text": [
            "                   all        255       2447      0.153     0.0735     0.0498     0.0141\n"
          ]
        },
        {
          "output_type": "stream",
          "name": "stderr",
          "text": [
            "\n"
          ]
        },
        {
          "output_type": "stream",
          "name": "stdout",
          "text": [
            "\n",
            "      Epoch    GPU_mem   box_loss   cls_loss   dfl_loss  Instances       Size\n"
          ]
        },
        {
          "output_type": "stream",
          "name": "stderr",
          "text": [
            "      12/50      5.69G       3.13      2.426      1.085          4        640: 100%|██████████| 63/63 [00:59<00:00,  1.05it/s]\n",
            "                 Class     Images  Instances      Box(P          R      mAP50  mAP50-95): 100%|██████████| 8/8 [00:06<00:00,  1.18it/s]"
          ]
        },
        {
          "output_type": "stream",
          "name": "stdout",
          "text": [
            "                   all        255       2447      0.153      0.064     0.0477     0.0145\n"
          ]
        },
        {
          "output_type": "stream",
          "name": "stderr",
          "text": [
            "\n"
          ]
        },
        {
          "output_type": "stream",
          "name": "stdout",
          "text": [
            "\n",
            "      Epoch    GPU_mem   box_loss   cls_loss   dfl_loss  Instances       Size\n"
          ]
        },
        {
          "output_type": "stream",
          "name": "stderr",
          "text": [
            "      13/50      5.71G      3.082       2.17      1.073         23        640: 100%|██████████| 63/63 [01:00<00:00,  1.04it/s]\n",
            "                 Class     Images  Instances      Box(P          R      mAP50  mAP50-95): 100%|██████████| 8/8 [00:05<00:00,  1.40it/s]"
          ]
        },
        {
          "output_type": "stream",
          "name": "stdout",
          "text": [
            "                   all        255       2447      0.151      0.061     0.0461     0.0127\n"
          ]
        },
        {
          "output_type": "stream",
          "name": "stderr",
          "text": [
            "\n"
          ]
        },
        {
          "output_type": "stream",
          "name": "stdout",
          "text": [
            "\n",
            "      Epoch    GPU_mem   box_loss   cls_loss   dfl_loss  Instances       Size\n"
          ]
        },
        {
          "output_type": "stream",
          "name": "stderr",
          "text": [
            "      14/50      5.72G      3.032      2.263      1.075         12        640: 100%|██████████| 63/63 [01:02<00:00,  1.01it/s]\n",
            "                 Class     Images  Instances      Box(P          R      mAP50  mAP50-95): 100%|██████████| 8/8 [00:06<00:00,  1.28it/s]"
          ]
        },
        {
          "output_type": "stream",
          "name": "stdout",
          "text": [
            "                   all        255       2447      0.143     0.0704      0.053     0.0152\n"
          ]
        },
        {
          "output_type": "stream",
          "name": "stderr",
          "text": [
            "\n"
          ]
        },
        {
          "output_type": "stream",
          "name": "stdout",
          "text": [
            "\n",
            "      Epoch    GPU_mem   box_loss   cls_loss   dfl_loss  Instances       Size\n"
          ]
        },
        {
          "output_type": "stream",
          "name": "stderr",
          "text": [
            "      15/50      5.74G      2.918      2.024      1.046         27        640: 100%|██████████| 63/63 [01:02<00:00,  1.00it/s]\n",
            "                 Class     Images  Instances      Box(P          R      mAP50  mAP50-95): 100%|██████████| 8/8 [00:05<00:00,  1.44it/s]"
          ]
        },
        {
          "output_type": "stream",
          "name": "stdout",
          "text": [
            "                   all        255       2447       0.19     0.0775     0.0707     0.0198\n"
          ]
        },
        {
          "output_type": "stream",
          "name": "stderr",
          "text": [
            "\n"
          ]
        },
        {
          "output_type": "stream",
          "name": "stdout",
          "text": [
            "\n",
            "      Epoch    GPU_mem   box_loss   cls_loss   dfl_loss  Instances       Size\n"
          ]
        },
        {
          "output_type": "stream",
          "name": "stderr",
          "text": [
            "      16/50      5.76G      2.931      2.043      1.035          5        640: 100%|██████████| 63/63 [01:00<00:00,  1.04it/s]\n",
            "                 Class     Images  Instances      Box(P          R      mAP50  mAP50-95): 100%|██████████| 8/8 [00:06<00:00,  1.31it/s]"
          ]
        },
        {
          "output_type": "stream",
          "name": "stdout",
          "text": [
            "                   all        255       2447       0.68     0.0705     0.0676     0.0214\n"
          ]
        },
        {
          "output_type": "stream",
          "name": "stderr",
          "text": [
            "\n"
          ]
        },
        {
          "output_type": "stream",
          "name": "stdout",
          "text": [
            "\n",
            "      Epoch    GPU_mem   box_loss   cls_loss   dfl_loss  Instances       Size\n"
          ]
        },
        {
          "output_type": "stream",
          "name": "stderr",
          "text": [
            "      17/50      5.78G      2.962      2.086      1.077         15        640: 100%|██████████| 63/63 [01:00<00:00,  1.05it/s]\n",
            "                 Class     Images  Instances      Box(P          R      mAP50  mAP50-95): 100%|██████████| 8/8 [00:06<00:00,  1.17it/s]"
          ]
        },
        {
          "output_type": "stream",
          "name": "stdout",
          "text": [
            "                   all        255       2447      0.413     0.0759      0.063     0.0191\n"
          ]
        },
        {
          "output_type": "stream",
          "name": "stderr",
          "text": [
            "\n"
          ]
        },
        {
          "output_type": "stream",
          "name": "stdout",
          "text": [
            "\n",
            "      Epoch    GPU_mem   box_loss   cls_loss   dfl_loss  Instances       Size\n"
          ]
        },
        {
          "output_type": "stream",
          "name": "stderr",
          "text": [
            "      18/50      5.79G      2.785      1.856      1.028         10        640: 100%|██████████| 63/63 [01:00<00:00,  1.04it/s]\n",
            "                 Class     Images  Instances      Box(P          R      mAP50  mAP50-95): 100%|██████████| 8/8 [00:05<00:00,  1.49it/s]"
          ]
        },
        {
          "output_type": "stream",
          "name": "stdout",
          "text": [
            "                   all        255       2447      0.185     0.0833     0.0727     0.0223\n"
          ]
        },
        {
          "output_type": "stream",
          "name": "stderr",
          "text": [
            "\n"
          ]
        },
        {
          "output_type": "stream",
          "name": "stdout",
          "text": [
            "\n",
            "      Epoch    GPU_mem   box_loss   cls_loss   dfl_loss  Instances       Size\n"
          ]
        },
        {
          "output_type": "stream",
          "name": "stderr",
          "text": [
            "      19/50      5.81G      2.685        1.8      1.027         14        640: 100%|██████████| 63/63 [01:01<00:00,  1.02it/s]\n",
            "                 Class     Images  Instances      Box(P          R      mAP50  mAP50-95): 100%|██████████| 8/8 [00:05<00:00,  1.52it/s]"
          ]
        },
        {
          "output_type": "stream",
          "name": "stdout",
          "text": [
            "                   all        255       2447      0.689     0.0789     0.0697     0.0215\n"
          ]
        },
        {
          "output_type": "stream",
          "name": "stderr",
          "text": [
            "\n"
          ]
        },
        {
          "output_type": "stream",
          "name": "stdout",
          "text": [
            "\n",
            "      Epoch    GPU_mem   box_loss   cls_loss   dfl_loss  Instances       Size\n"
          ]
        },
        {
          "output_type": "stream",
          "name": "stderr",
          "text": [
            "      20/50      5.83G        2.8      1.797      1.045          4        640: 100%|██████████| 63/63 [01:01<00:00,  1.02it/s]\n",
            "                 Class     Images  Instances      Box(P          R      mAP50  mAP50-95): 100%|██████████| 8/8 [00:07<00:00,  1.13it/s]"
          ]
        },
        {
          "output_type": "stream",
          "name": "stdout",
          "text": [
            "                   all        255       2447      0.415     0.0751     0.0639     0.0192\n"
          ]
        },
        {
          "output_type": "stream",
          "name": "stderr",
          "text": [
            "\n"
          ]
        },
        {
          "output_type": "stream",
          "name": "stdout",
          "text": [
            "\n",
            "      Epoch    GPU_mem   box_loss   cls_loss   dfl_loss  Instances       Size\n"
          ]
        },
        {
          "output_type": "stream",
          "name": "stderr",
          "text": [
            "      21/50      5.85G      2.815      1.899      1.026         19        640: 100%|██████████| 63/63 [01:00<00:00,  1.04it/s]\n",
            "                 Class     Images  Instances      Box(P          R      mAP50  mAP50-95): 100%|██████████| 8/8 [00:05<00:00,  1.46it/s]"
          ]
        },
        {
          "output_type": "stream",
          "name": "stdout",
          "text": [
            "                   all        255       2447      0.185     0.0808      0.075     0.0212\n"
          ]
        },
        {
          "output_type": "stream",
          "name": "stderr",
          "text": [
            "\n"
          ]
        },
        {
          "output_type": "stream",
          "name": "stdout",
          "text": [
            "\n",
            "      Epoch    GPU_mem   box_loss   cls_loss   dfl_loss  Instances       Size\n"
          ]
        },
        {
          "output_type": "stream",
          "name": "stderr",
          "text": [
            "      22/50      5.85G      2.837       1.86      1.041         41        640: 100%|██████████| 63/63 [01:01<00:00,  1.02it/s]\n",
            "                 Class     Images  Instances      Box(P          R      mAP50  mAP50-95): 100%|██████████| 8/8 [00:05<00:00,  1.46it/s]"
          ]
        },
        {
          "output_type": "stream",
          "name": "stdout",
          "text": [
            "                   all        255       2447      0.164      0.078     0.0718      0.022\n"
          ]
        },
        {
          "output_type": "stream",
          "name": "stderr",
          "text": [
            "\n"
          ]
        },
        {
          "output_type": "stream",
          "name": "stdout",
          "text": [
            "\n",
            "      Epoch    GPU_mem   box_loss   cls_loss   dfl_loss  Instances       Size\n"
          ]
        },
        {
          "output_type": "stream",
          "name": "stderr",
          "text": [
            "      23/50      5.88G      2.791      1.819      1.059         10        640: 100%|██████████| 63/63 [01:02<00:00,  1.02it/s]\n",
            "                 Class     Images  Instances      Box(P          R      mAP50  mAP50-95): 100%|██████████| 8/8 [00:06<00:00,  1.28it/s]"
          ]
        },
        {
          "output_type": "stream",
          "name": "stdout",
          "text": [
            "                   all        255       2447      0.435     0.0786     0.0761     0.0238\n"
          ]
        },
        {
          "output_type": "stream",
          "name": "stderr",
          "text": [
            "\n"
          ]
        },
        {
          "output_type": "stream",
          "name": "stdout",
          "text": [
            "\n",
            "      Epoch    GPU_mem   box_loss   cls_loss   dfl_loss  Instances       Size\n"
          ]
        },
        {
          "output_type": "stream",
          "name": "stderr",
          "text": [
            "      24/50       5.9G      2.757      1.796      1.007         14        640: 100%|██████████| 63/63 [01:03<00:00,  1.00s/it]\n",
            "                 Class     Images  Instances      Box(P          R      mAP50  mAP50-95): 100%|██████████| 8/8 [00:05<00:00,  1.47it/s]"
          ]
        },
        {
          "output_type": "stream",
          "name": "stdout",
          "text": [
            "                   all        255       2447      0.195     0.0847     0.0798     0.0259\n"
          ]
        },
        {
          "output_type": "stream",
          "name": "stderr",
          "text": [
            "\n"
          ]
        },
        {
          "output_type": "stream",
          "name": "stdout",
          "text": [
            "\n",
            "      Epoch    GPU_mem   box_loss   cls_loss   dfl_loss  Instances       Size\n"
          ]
        },
        {
          "output_type": "stream",
          "name": "stderr",
          "text": [
            "      25/50      5.91G      2.674       1.72      1.019          2        640: 100%|██████████| 63/63 [01:03<00:00,  1.01s/it]\n",
            "                 Class     Images  Instances      Box(P          R      mAP50  mAP50-95): 100%|██████████| 8/8 [00:07<00:00,  1.14it/s]"
          ]
        },
        {
          "output_type": "stream",
          "name": "stdout",
          "text": [
            "                   all        255       2447      0.451     0.0907     0.0819     0.0268\n"
          ]
        },
        {
          "output_type": "stream",
          "name": "stderr",
          "text": [
            "\n"
          ]
        },
        {
          "output_type": "stream",
          "name": "stdout",
          "text": [
            "\n",
            "      Epoch    GPU_mem   box_loss   cls_loss   dfl_loss  Instances       Size\n"
          ]
        },
        {
          "output_type": "stream",
          "name": "stderr",
          "text": [
            "      26/50      5.92G      2.768      1.814      1.017         78        640: 100%|██████████| 63/63 [01:03<00:00,  1.01s/it]\n",
            "                 Class     Images  Instances      Box(P          R      mAP50  mAP50-95): 100%|██████████| 8/8 [00:06<00:00,  1.27it/s]"
          ]
        },
        {
          "output_type": "stream",
          "name": "stdout",
          "text": [
            "                   all        255       2447      0.178     0.0924     0.0731     0.0227\n"
          ]
        },
        {
          "output_type": "stream",
          "name": "stderr",
          "text": [
            "\n"
          ]
        },
        {
          "output_type": "stream",
          "name": "stdout",
          "text": [
            "\n",
            "      Epoch    GPU_mem   box_loss   cls_loss   dfl_loss  Instances       Size\n"
          ]
        },
        {
          "output_type": "stream",
          "name": "stderr",
          "text": [
            "      27/50      5.95G       2.72      1.737      1.009          9        640: 100%|██████████| 63/63 [01:00<00:00,  1.03it/s]\n",
            "                 Class     Images  Instances      Box(P          R      mAP50  mAP50-95): 100%|██████████| 8/8 [00:06<00:00,  1.23it/s]"
          ]
        },
        {
          "output_type": "stream",
          "name": "stdout",
          "text": [
            "                   all        255       2447      0.192     0.0938     0.0826     0.0266\n"
          ]
        },
        {
          "output_type": "stream",
          "name": "stderr",
          "text": [
            "\n"
          ]
        },
        {
          "output_type": "stream",
          "name": "stdout",
          "text": [
            "\n",
            "      Epoch    GPU_mem   box_loss   cls_loss   dfl_loss  Instances       Size\n"
          ]
        },
        {
          "output_type": "stream",
          "name": "stderr",
          "text": [
            "      28/50      5.96G      2.744      1.784     0.9961          5        640: 100%|██████████| 63/63 [01:01<00:00,  1.02it/s]\n",
            "                 Class     Images  Instances      Box(P          R      mAP50  mAP50-95): 100%|██████████| 8/8 [00:06<00:00,  1.27it/s]"
          ]
        },
        {
          "output_type": "stream",
          "name": "stdout",
          "text": [
            "                   all        255       2447      0.702     0.0934     0.0846     0.0285\n"
          ]
        },
        {
          "output_type": "stream",
          "name": "stderr",
          "text": [
            "\n"
          ]
        },
        {
          "output_type": "stream",
          "name": "stdout",
          "text": [
            "\n",
            "      Epoch    GPU_mem   box_loss   cls_loss   dfl_loss  Instances       Size\n"
          ]
        },
        {
          "output_type": "stream",
          "name": "stderr",
          "text": [
            "      29/50      5.98G      2.588      1.623     0.9778         64        640: 100%|██████████| 63/63 [01:01<00:00,  1.03it/s]\n",
            "                 Class     Images  Instances      Box(P          R      mAP50  mAP50-95): 100%|██████████| 8/8 [00:06<00:00,  1.27it/s]"
          ]
        },
        {
          "output_type": "stream",
          "name": "stdout",
          "text": [
            "                   all        255       2447      0.696     0.0969     0.0856     0.0285\n"
          ]
        },
        {
          "output_type": "stream",
          "name": "stderr",
          "text": [
            "\n"
          ]
        },
        {
          "output_type": "stream",
          "name": "stdout",
          "text": [
            "\n",
            "      Epoch    GPU_mem   box_loss   cls_loss   dfl_loss  Instances       Size\n"
          ]
        },
        {
          "output_type": "stream",
          "name": "stderr",
          "text": [
            "      30/50      5.99G      2.682       1.65      1.004         29        640: 100%|██████████| 63/63 [00:59<00:00,  1.06it/s]\n",
            "                 Class     Images  Instances      Box(P          R      mAP50  mAP50-95): 100%|██████████| 8/8 [00:07<00:00,  1.13it/s]"
          ]
        },
        {
          "output_type": "stream",
          "name": "stdout",
          "text": [
            "                   all        255       2447      0.686        0.1     0.0896     0.0304\n"
          ]
        },
        {
          "output_type": "stream",
          "name": "stderr",
          "text": [
            "\n"
          ]
        },
        {
          "output_type": "stream",
          "name": "stdout",
          "text": [
            "\n",
            "      Epoch    GPU_mem   box_loss   cls_loss   dfl_loss  Instances       Size\n"
          ]
        },
        {
          "output_type": "stream",
          "name": "stderr",
          "text": [
            "      31/50      6.02G      2.622      1.636     0.9781          2        640: 100%|██████████| 63/63 [01:00<00:00,  1.04it/s]\n",
            "                 Class     Images  Instances      Box(P          R      mAP50  mAP50-95): 100%|██████████| 8/8 [00:05<00:00,  1.50it/s]"
          ]
        },
        {
          "output_type": "stream",
          "name": "stdout",
          "text": [
            "                   all        255       2447      0.689     0.0963     0.0905     0.0295\n"
          ]
        },
        {
          "output_type": "stream",
          "name": "stderr",
          "text": [
            "\n"
          ]
        },
        {
          "output_type": "stream",
          "name": "stdout",
          "text": [
            "\n",
            "      Epoch    GPU_mem   box_loss   cls_loss   dfl_loss  Instances       Size\n"
          ]
        },
        {
          "output_type": "stream",
          "name": "stderr",
          "text": [
            "      32/50      6.04G      2.653      1.633     0.9749         17        640: 100%|██████████| 63/63 [01:01<00:00,  1.02it/s]\n",
            "                 Class     Images  Instances      Box(P          R      mAP50  mAP50-95): 100%|██████████| 8/8 [00:06<00:00,  1.16it/s]"
          ]
        },
        {
          "output_type": "stream",
          "name": "stdout",
          "text": [
            "                   all        255       2447      0.706      0.099     0.0892     0.0307\n"
          ]
        },
        {
          "output_type": "stream",
          "name": "stderr",
          "text": [
            "\n"
          ]
        },
        {
          "output_type": "stream",
          "name": "stdout",
          "text": [
            "\n",
            "      Epoch    GPU_mem   box_loss   cls_loss   dfl_loss  Instances       Size\n"
          ]
        },
        {
          "output_type": "stream",
          "name": "stderr",
          "text": [
            "      33/50      6.05G      2.604      1.586     0.9913         21        640: 100%|██████████| 63/63 [01:02<00:00,  1.01it/s]\n",
            "                 Class     Images  Instances      Box(P          R      mAP50  mAP50-95): 100%|██████████| 8/8 [00:05<00:00,  1.36it/s]"
          ]
        },
        {
          "output_type": "stream",
          "name": "stdout",
          "text": [
            "                   all        255       2447      0.697      0.104      0.093     0.0325\n"
          ]
        },
        {
          "output_type": "stream",
          "name": "stderr",
          "text": [
            "\n"
          ]
        },
        {
          "output_type": "stream",
          "name": "stdout",
          "text": [
            "\n",
            "      Epoch    GPU_mem   box_loss   cls_loss   dfl_loss  Instances       Size\n"
          ]
        },
        {
          "output_type": "stream",
          "name": "stderr",
          "text": [
            "      34/50      6.06G      2.542      1.543     0.9802          7        640: 100%|██████████| 63/63 [01:01<00:00,  1.02it/s]\n",
            "                 Class     Images  Instances      Box(P          R      mAP50  mAP50-95): 100%|██████████| 8/8 [00:06<00:00,  1.20it/s]"
          ]
        },
        {
          "output_type": "stream",
          "name": "stdout",
          "text": [
            "                   all        255       2447      0.453     0.0988     0.0947     0.0313\n"
          ]
        },
        {
          "output_type": "stream",
          "name": "stderr",
          "text": [
            "\n"
          ]
        },
        {
          "output_type": "stream",
          "name": "stdout",
          "text": [
            "\n",
            "      Epoch    GPU_mem   box_loss   cls_loss   dfl_loss  Instances       Size\n"
          ]
        },
        {
          "output_type": "stream",
          "name": "stderr",
          "text": [
            "      35/50      6.08G      2.582      1.611     0.9979          5        640: 100%|██████████| 63/63 [01:01<00:00,  1.03it/s]\n",
            "                 Class     Images  Instances      Box(P          R      mAP50  mAP50-95): 100%|██████████| 8/8 [00:06<00:00,  1.31it/s]"
          ]
        },
        {
          "output_type": "stream",
          "name": "stdout",
          "text": [
            "                   all        255       2447      0.463     0.0966     0.0921     0.0305\n"
          ]
        },
        {
          "output_type": "stream",
          "name": "stderr",
          "text": [
            "\n"
          ]
        },
        {
          "output_type": "stream",
          "name": "stdout",
          "text": [
            "\n",
            "      Epoch    GPU_mem   box_loss   cls_loss   dfl_loss  Instances       Size\n"
          ]
        },
        {
          "output_type": "stream",
          "name": "stderr",
          "text": [
            "      36/50       6.1G      2.538      1.582     0.9691          2        640: 100%|██████████| 63/63 [01:02<00:00,  1.01it/s]\n",
            "                 Class     Images  Instances      Box(P          R      mAP50  mAP50-95): 100%|██████████| 8/8 [00:05<00:00,  1.36it/s]"
          ]
        },
        {
          "output_type": "stream",
          "name": "stdout",
          "text": [
            "                   all        255       2447      0.446      0.099     0.0938     0.0319\n"
          ]
        },
        {
          "output_type": "stream",
          "name": "stderr",
          "text": [
            "\n"
          ]
        },
        {
          "output_type": "stream",
          "name": "stdout",
          "text": [
            "\n",
            "      Epoch    GPU_mem   box_loss   cls_loss   dfl_loss  Instances       Size\n"
          ]
        },
        {
          "output_type": "stream",
          "name": "stderr",
          "text": [
            "      37/50      6.12G      2.538      1.622     0.9685         11        640: 100%|██████████| 63/63 [01:01<00:00,  1.03it/s]\n",
            "                 Class     Images  Instances      Box(P          R      mAP50  mAP50-95): 100%|██████████| 8/8 [00:06<00:00,  1.20it/s]"
          ]
        },
        {
          "output_type": "stream",
          "name": "stdout",
          "text": [
            "                   all        255       2447      0.216      0.105      0.101     0.0356\n"
          ]
        },
        {
          "output_type": "stream",
          "name": "stderr",
          "text": [
            "\n"
          ]
        },
        {
          "output_type": "stream",
          "name": "stdout",
          "text": [
            "\n",
            "      Epoch    GPU_mem   box_loss   cls_loss   dfl_loss  Instances       Size\n"
          ]
        },
        {
          "output_type": "stream",
          "name": "stderr",
          "text": [
            "      38/50      6.13G       2.52       1.56     0.9667          9        640: 100%|██████████| 63/63 [01:01<00:00,  1.03it/s]\n",
            "                 Class     Images  Instances      Box(P          R      mAP50  mAP50-95): 100%|██████████| 8/8 [00:05<00:00,  1.43it/s]"
          ]
        },
        {
          "output_type": "stream",
          "name": "stdout",
          "text": [
            "                   all        255       2447      0.209      0.102     0.0983     0.0325\n"
          ]
        },
        {
          "output_type": "stream",
          "name": "stderr",
          "text": [
            "\n"
          ]
        },
        {
          "output_type": "stream",
          "name": "stdout",
          "text": [
            "\n",
            "      Epoch    GPU_mem   box_loss   cls_loss   dfl_loss  Instances       Size\n"
          ]
        },
        {
          "output_type": "stream",
          "name": "stderr",
          "text": [
            "      39/50      6.15G      2.491       1.52      0.972         16        640: 100%|██████████| 63/63 [01:01<00:00,  1.03it/s]\n",
            "                 Class     Images  Instances      Box(P          R      mAP50  mAP50-95): 100%|██████████| 8/8 [00:06<00:00,  1.31it/s]"
          ]
        },
        {
          "output_type": "stream",
          "name": "stdout",
          "text": [
            "                   all        255       2447      0.202      0.106     0.0986     0.0331\n"
          ]
        },
        {
          "output_type": "stream",
          "name": "stderr",
          "text": [
            "\n"
          ]
        },
        {
          "output_type": "stream",
          "name": "stdout",
          "text": [
            "\n",
            "      Epoch    GPU_mem   box_loss   cls_loss   dfl_loss  Instances       Size\n"
          ]
        },
        {
          "output_type": "stream",
          "name": "stderr",
          "text": [
            "      40/50      6.17G      2.473      1.493     0.9858         22        640: 100%|██████████| 63/63 [01:01<00:00,  1.03it/s]\n",
            "                 Class     Images  Instances      Box(P          R      mAP50  mAP50-95): 100%|██████████| 8/8 [00:06<00:00,  1.16it/s]"
          ]
        },
        {
          "output_type": "stream",
          "name": "stdout",
          "text": [
            "                   all        255       2447      0.206      0.107      0.102     0.0335\n"
          ]
        },
        {
          "output_type": "stream",
          "name": "stderr",
          "text": [
            "\n"
          ]
        },
        {
          "output_type": "stream",
          "name": "stdout",
          "text": [
            "Closing dataloader mosaic\n",
            "\u001b[34m\u001b[1malbumentations: \u001b[0mBlur(p=0.01, blur_limit=(3, 7)), MedianBlur(p=0.01, blur_limit=(3, 7)), ToGray(p=0.01, method='weighted_average', num_output_channels=3), CLAHE(p=0.01, clip_limit=(1.0, 4.0), tile_grid_size=(8, 8))\n",
            "\n",
            "      Epoch    GPU_mem   box_loss   cls_loss   dfl_loss  Instances       Size\n"
          ]
        },
        {
          "output_type": "stream",
          "name": "stderr",
          "text": [
            "      41/50      6.19G      2.503      1.522     0.9606         10        640: 100%|██████████| 63/63 [01:13<00:00,  1.16s/it]\n",
            "                 Class     Images  Instances      Box(P          R      mAP50  mAP50-95): 100%|██████████| 8/8 [00:05<00:00,  1.40it/s]"
          ]
        },
        {
          "output_type": "stream",
          "name": "stdout",
          "text": [
            "                   all        255       2447      0.199      0.106      0.101     0.0348\n"
          ]
        },
        {
          "output_type": "stream",
          "name": "stderr",
          "text": [
            "\n"
          ]
        },
        {
          "output_type": "stream",
          "name": "stdout",
          "text": [
            "\n",
            "      Epoch    GPU_mem   box_loss   cls_loss   dfl_loss  Instances       Size\n"
          ]
        },
        {
          "output_type": "stream",
          "name": "stderr",
          "text": [
            "      42/50      6.19G      2.507      1.544     0.9695          4        640: 100%|██████████| 63/63 [01:06<00:00,  1.05s/it]\n",
            "                 Class     Images  Instances      Box(P          R      mAP50  mAP50-95): 100%|██████████| 8/8 [00:06<00:00,  1.22it/s]"
          ]
        },
        {
          "output_type": "stream",
          "name": "stdout",
          "text": [
            "                   all        255       2447      0.205      0.106      0.102     0.0344\n"
          ]
        },
        {
          "output_type": "stream",
          "name": "stderr",
          "text": [
            "\n"
          ]
        },
        {
          "output_type": "stream",
          "name": "stdout",
          "text": [
            "\n",
            "      Epoch    GPU_mem   box_loss   cls_loss   dfl_loss  Instances       Size\n"
          ]
        },
        {
          "output_type": "stream",
          "name": "stderr",
          "text": [
            "      43/50      6.22G      2.483      1.495     0.9686          4        640: 100%|██████████| 63/63 [01:02<00:00,  1.01it/s]\n",
            "                 Class     Images  Instances      Box(P          R      mAP50  mAP50-95): 100%|██████████| 8/8 [00:05<00:00,  1.43it/s]"
          ]
        },
        {
          "output_type": "stream",
          "name": "stdout",
          "text": [
            "                   all        255       2447      0.207      0.102     0.0992     0.0343\n"
          ]
        },
        {
          "output_type": "stream",
          "name": "stderr",
          "text": [
            "\n"
          ]
        },
        {
          "output_type": "stream",
          "name": "stdout",
          "text": [
            "\n",
            "      Epoch    GPU_mem   box_loss   cls_loss   dfl_loss  Instances       Size\n"
          ]
        },
        {
          "output_type": "stream",
          "name": "stderr",
          "text": [
            "      44/50      6.24G      2.343       1.42     0.9714          2        640: 100%|██████████| 63/63 [01:02<00:00,  1.01it/s]\n",
            "                 Class     Images  Instances      Box(P          R      mAP50  mAP50-95): 100%|██████████| 8/8 [00:06<00:00,  1.18it/s]"
          ]
        },
        {
          "output_type": "stream",
          "name": "stdout",
          "text": [
            "                   all        255       2447      0.201      0.114      0.107      0.036\n"
          ]
        },
        {
          "output_type": "stream",
          "name": "stderr",
          "text": [
            "\n"
          ]
        },
        {
          "output_type": "stream",
          "name": "stdout",
          "text": [
            "\n",
            "      Epoch    GPU_mem   box_loss   cls_loss   dfl_loss  Instances       Size\n"
          ]
        },
        {
          "output_type": "stream",
          "name": "stderr",
          "text": [
            "      45/50      6.26G      2.388      1.445     0.9546         10        640: 100%|██████████| 63/63 [01:00<00:00,  1.05it/s]\n",
            "                 Class     Images  Instances      Box(P          R      mAP50  mAP50-95): 100%|██████████| 8/8 [00:05<00:00,  1.46it/s]"
          ]
        },
        {
          "output_type": "stream",
          "name": "stdout",
          "text": [
            "                   all        255       2447      0.204       0.11      0.108      0.037\n"
          ]
        },
        {
          "output_type": "stream",
          "name": "stderr",
          "text": [
            "\n"
          ]
        },
        {
          "output_type": "stream",
          "name": "stdout",
          "text": [
            "\n",
            "      Epoch    GPU_mem   box_loss   cls_loss   dfl_loss  Instances       Size\n"
          ]
        },
        {
          "output_type": "stream",
          "name": "stderr",
          "text": [
            "      46/50      6.26G      2.424      1.487     0.9502          8        640: 100%|██████████| 63/63 [01:00<00:00,  1.03it/s]\n",
            "                 Class     Images  Instances      Box(P          R      mAP50  mAP50-95): 100%|██████████| 8/8 [00:05<00:00,  1.45it/s]"
          ]
        },
        {
          "output_type": "stream",
          "name": "stdout",
          "text": [
            "                   all        255       2447      0.207      0.113      0.109     0.0358\n"
          ]
        },
        {
          "output_type": "stream",
          "name": "stderr",
          "text": [
            "\n"
          ]
        },
        {
          "output_type": "stream",
          "name": "stdout",
          "text": [
            "\n",
            "      Epoch    GPU_mem   box_loss   cls_loss   dfl_loss  Instances       Size\n"
          ]
        },
        {
          "output_type": "stream",
          "name": "stderr",
          "text": [
            "      47/50      6.29G      2.388      1.457     0.9629         17        640: 100%|██████████| 63/63 [01:04<00:00,  1.02s/it]\n",
            "                 Class     Images  Instances      Box(P          R      mAP50  mAP50-95): 100%|██████████| 8/8 [00:05<00:00,  1.50it/s]"
          ]
        },
        {
          "output_type": "stream",
          "name": "stdout",
          "text": [
            "                   all        255       2447      0.203       0.11      0.108     0.0375\n"
          ]
        },
        {
          "output_type": "stream",
          "name": "stderr",
          "text": [
            "\n"
          ]
        },
        {
          "output_type": "stream",
          "name": "stdout",
          "text": [
            "\n",
            "      Epoch    GPU_mem   box_loss   cls_loss   dfl_loss  Instances       Size\n"
          ]
        },
        {
          "output_type": "stream",
          "name": "stderr",
          "text": [
            "      48/50       6.3G      2.307      1.404     0.9576          2        640: 100%|██████████| 63/63 [01:01<00:00,  1.02it/s]\n",
            "                 Class     Images  Instances      Box(P          R      mAP50  mAP50-95): 100%|██████████| 8/8 [00:05<00:00,  1.48it/s]\n"
          ]
        },
        {
          "output_type": "stream",
          "name": "stdout",
          "text": [
            "                   all        255       2447      0.209      0.116      0.109     0.0381\n",
            "\n",
            "      Epoch    GPU_mem   box_loss   cls_loss   dfl_loss  Instances       Size\n"
          ]
        },
        {
          "output_type": "stream",
          "name": "stderr",
          "text": [
            "      49/50      6.32G      2.351      1.438     0.9422          8        640: 100%|██████████| 63/63 [00:59<00:00,  1.05it/s]\n",
            "                 Class     Images  Instances      Box(P          R      mAP50  mAP50-95): 100%|██████████| 8/8 [00:06<00:00,  1.22it/s]"
          ]
        },
        {
          "output_type": "stream",
          "name": "stdout",
          "text": [
            "                   all        255       2447      0.207      0.114       0.11     0.0386\n"
          ]
        },
        {
          "output_type": "stream",
          "name": "stderr",
          "text": [
            "\n"
          ]
        },
        {
          "output_type": "stream",
          "name": "stdout",
          "text": [
            "\n",
            "      Epoch    GPU_mem   box_loss   cls_loss   dfl_loss  Instances       Size\n"
          ]
        },
        {
          "output_type": "stream",
          "name": "stderr",
          "text": [
            "      50/50      6.33G      2.335      1.408     0.9471         10        640: 100%|██████████| 63/63 [00:58<00:00,  1.07it/s]\n",
            "                 Class     Images  Instances      Box(P          R      mAP50  mAP50-95): 100%|██████████| 8/8 [00:06<00:00,  1.15it/s]"
          ]
        },
        {
          "output_type": "stream",
          "name": "stdout",
          "text": [
            "                   all        255       2447      0.216      0.116      0.113      0.039\n"
          ]
        },
        {
          "output_type": "stream",
          "name": "stderr",
          "text": [
            "\n"
          ]
        },
        {
          "output_type": "stream",
          "name": "stdout",
          "text": [
            "\n",
            "50 epochs completed in 0.958 hours.\n",
            "Optimizer stripped from runs/detect/train/weights/last.pt, 6.2MB\n",
            "Optimizer stripped from runs/detect/train/weights/best.pt, 6.2MB\n",
            "\n",
            "Validating runs/detect/train/weights/best.pt...\n",
            "Ultralytics 8.3.127 🚀 Python-3.11.12 torch-2.6.0+cu124 CUDA:0 (Tesla T4, 15095MiB)\n",
            "Model summary (fused): 72 layers, 3,006,623 parameters, 0 gradients, 8.1 GFLOPs\n"
          ]
        },
        {
          "output_type": "stream",
          "name": "stderr",
          "text": [
            "                 Class     Images  Instances      Box(P          R      mAP50  mAP50-95): 100%|██████████| 8/8 [00:12<00:00,  1.61s/it]\n"
          ]
        },
        {
          "output_type": "stream",
          "name": "stdout",
          "text": [
            "                   all        255       2447      0.215      0.116      0.113      0.039\n",
            "             lightning        122       2064      0.393      0.131       0.13     0.0537\n",
            "    lightning_receptor          2          2          0          0          0          0\n",
            "         missing_teeth          6          6          0          0          0          0\n",
            "                 patch         79        375      0.468      0.333      0.323      0.102\n",
            "Speed: 0.2ms preprocess, 2.2ms inference, 0.0ms loss, 2.5ms postprocess per image\n",
            "Results saved to \u001b[1mruns/detect/train\u001b[0m\n"
          ]
        },
        {
          "output_type": "execute_result",
          "data": {
            "text/plain": [
              "ultralytics.utils.metrics.DetMetrics object with attributes:\n",
              "\n",
              "ap_class_index: array([1, 2, 3, 4])\n",
              "box: ultralytics.utils.metrics.Metric object\n",
              "confusion_matrix: <ultralytics.utils.metrics.ConfusionMatrix object at 0x7c6b0c7e6090>\n",
              "curves: ['Precision-Recall(B)', 'F1-Confidence(B)', 'Precision-Confidence(B)', 'Recall-Confidence(B)']\n",
              "curves_results: [[array([          0,    0.001001,    0.002002,    0.003003,    0.004004,    0.005005,    0.006006,    0.007007,    0.008008,    0.009009,     0.01001,    0.011011,    0.012012,    0.013013,    0.014014,    0.015015,    0.016016,    0.017017,    0.018018,    0.019019,     0.02002,    0.021021,    0.022022,    0.023023,\n",
              "          0.024024,    0.025025,    0.026026,    0.027027,    0.028028,    0.029029,     0.03003,    0.031031,    0.032032,    0.033033,    0.034034,    0.035035,    0.036036,    0.037037,    0.038038,    0.039039,     0.04004,    0.041041,    0.042042,    0.043043,    0.044044,    0.045045,    0.046046,    0.047047,\n",
              "          0.048048,    0.049049,     0.05005,    0.051051,    0.052052,    0.053053,    0.054054,    0.055055,    0.056056,    0.057057,    0.058058,    0.059059,     0.06006,    0.061061,    0.062062,    0.063063,    0.064064,    0.065065,    0.066066,    0.067067,    0.068068,    0.069069,     0.07007,    0.071071,\n",
              "          0.072072,    0.073073,    0.074074,    0.075075,    0.076076,    0.077077,    0.078078,    0.079079,     0.08008,    0.081081,    0.082082,    0.083083,    0.084084,    0.085085,    0.086086,    0.087087,    0.088088,    0.089089,     0.09009,    0.091091,    0.092092,    0.093093,    0.094094,    0.095095,\n",
              "          0.096096,    0.097097,    0.098098,    0.099099,      0.1001,      0.1011,      0.1021,      0.1031,      0.1041,     0.10511,     0.10611,     0.10711,     0.10811,     0.10911,     0.11011,     0.11111,     0.11211,     0.11311,     0.11411,     0.11512,     0.11612,     0.11712,     0.11812,     0.11912,\n",
              "           0.12012,     0.12112,     0.12212,     0.12312,     0.12412,     0.12513,     0.12613,     0.12713,     0.12813,     0.12913,     0.13013,     0.13113,     0.13213,     0.13313,     0.13413,     0.13514,     0.13614,     0.13714,     0.13814,     0.13914,     0.14014,     0.14114,     0.14214,     0.14314,\n",
              "           0.14414,     0.14515,     0.14615,     0.14715,     0.14815,     0.14915,     0.15015,     0.15115,     0.15215,     0.15315,     0.15415,     0.15516,     0.15616,     0.15716,     0.15816,     0.15916,     0.16016,     0.16116,     0.16216,     0.16316,     0.16416,     0.16517,     0.16617,     0.16717,\n",
              "           0.16817,     0.16917,     0.17017,     0.17117,     0.17217,     0.17317,     0.17417,     0.17518,     0.17618,     0.17718,     0.17818,     0.17918,     0.18018,     0.18118,     0.18218,     0.18318,     0.18418,     0.18519,     0.18619,     0.18719,     0.18819,     0.18919,     0.19019,     0.19119,\n",
              "           0.19219,     0.19319,     0.19419,      0.1952,      0.1962,      0.1972,      0.1982,      0.1992,      0.2002,      0.2012,      0.2022,      0.2032,      0.2042,     0.20521,     0.20621,     0.20721,     0.20821,     0.20921,     0.21021,     0.21121,     0.21221,     0.21321,     0.21421,     0.21522,\n",
              "           0.21622,     0.21722,     0.21822,     0.21922,     0.22022,     0.22122,     0.22222,     0.22322,     0.22422,     0.22523,     0.22623,     0.22723,     0.22823,     0.22923,     0.23023,     0.23123,     0.23223,     0.23323,     0.23423,     0.23524,     0.23624,     0.23724,     0.23824,     0.23924,\n",
              "           0.24024,     0.24124,     0.24224,     0.24324,     0.24424,     0.24525,     0.24625,     0.24725,     0.24825,     0.24925,     0.25025,     0.25125,     0.25225,     0.25325,     0.25425,     0.25526,     0.25626,     0.25726,     0.25826,     0.25926,     0.26026,     0.26126,     0.26226,     0.26326,\n",
              "           0.26426,     0.26527,     0.26627,     0.26727,     0.26827,     0.26927,     0.27027,     0.27127,     0.27227,     0.27327,     0.27427,     0.27528,     0.27628,     0.27728,     0.27828,     0.27928,     0.28028,     0.28128,     0.28228,     0.28328,     0.28428,     0.28529,     0.28629,     0.28729,\n",
              "           0.28829,     0.28929,     0.29029,     0.29129,     0.29229,     0.29329,     0.29429,      0.2953,      0.2963,      0.2973,      0.2983,      0.2993,      0.3003,      0.3013,      0.3023,      0.3033,      0.3043,     0.30531,     0.30631,     0.30731,     0.30831,     0.30931,     0.31031,     0.31131,\n",
              "           0.31231,     0.31331,     0.31431,     0.31532,     0.31632,     0.31732,     0.31832,     0.31932,     0.32032,     0.32132,     0.32232,     0.32332,     0.32432,     0.32533,     0.32633,     0.32733,     0.32833,     0.32933,     0.33033,     0.33133,     0.33233,     0.33333,     0.33433,     0.33534,\n",
              "           0.33634,     0.33734,     0.33834,     0.33934,     0.34034,     0.34134,     0.34234,     0.34334,     0.34434,     0.34535,     0.34635,     0.34735,     0.34835,     0.34935,     0.35035,     0.35135,     0.35235,     0.35335,     0.35435,     0.35536,     0.35636,     0.35736,     0.35836,     0.35936,\n",
              "           0.36036,     0.36136,     0.36236,     0.36336,     0.36436,     0.36537,     0.36637,     0.36737,     0.36837,     0.36937,     0.37037,     0.37137,     0.37237,     0.37337,     0.37437,     0.37538,     0.37638,     0.37738,     0.37838,     0.37938,     0.38038,     0.38138,     0.38238,     0.38338,\n",
              "           0.38438,     0.38539,     0.38639,     0.38739,     0.38839,     0.38939,     0.39039,     0.39139,     0.39239,     0.39339,     0.39439,      0.3954,      0.3964,      0.3974,      0.3984,      0.3994,      0.4004,      0.4014,      0.4024,      0.4034,      0.4044,     0.40541,     0.40641,     0.40741,\n",
              "           0.40841,     0.40941,     0.41041,     0.41141,     0.41241,     0.41341,     0.41441,     0.41542,     0.41642,     0.41742,     0.41842,     0.41942,     0.42042,     0.42142,     0.42242,     0.42342,     0.42442,     0.42543,     0.42643,     0.42743,     0.42843,     0.42943,     0.43043,     0.43143,\n",
              "           0.43243,     0.43343,     0.43443,     0.43544,     0.43644,     0.43744,     0.43844,     0.43944,     0.44044,     0.44144,     0.44244,     0.44344,     0.44444,     0.44545,     0.44645,     0.44745,     0.44845,     0.44945,     0.45045,     0.45145,     0.45245,     0.45345,     0.45445,     0.45546,\n",
              "           0.45646,     0.45746,     0.45846,     0.45946,     0.46046,     0.46146,     0.46246,     0.46346,     0.46446,     0.46547,     0.46647,     0.46747,     0.46847,     0.46947,     0.47047,     0.47147,     0.47247,     0.47347,     0.47447,     0.47548,     0.47648,     0.47748,     0.47848,     0.47948,\n",
              "           0.48048,     0.48148,     0.48248,     0.48348,     0.48448,     0.48549,     0.48649,     0.48749,     0.48849,     0.48949,     0.49049,     0.49149,     0.49249,     0.49349,     0.49449,      0.4955,      0.4965,      0.4975,      0.4985,      0.4995,      0.5005,      0.5015,      0.5025,      0.5035,\n",
              "            0.5045,     0.50551,     0.50651,     0.50751,     0.50851,     0.50951,     0.51051,     0.51151,     0.51251,     0.51351,     0.51451,     0.51552,     0.51652,     0.51752,     0.51852,     0.51952,     0.52052,     0.52152,     0.52252,     0.52352,     0.52452,     0.52553,     0.52653,     0.52753,\n",
              "           0.52853,     0.52953,     0.53053,     0.53153,     0.53253,     0.53353,     0.53453,     0.53554,     0.53654,     0.53754,     0.53854,     0.53954,     0.54054,     0.54154,     0.54254,     0.54354,     0.54454,     0.54555,     0.54655,     0.54755,     0.54855,     0.54955,     0.55055,     0.55155,\n",
              "           0.55255,     0.55355,     0.55455,     0.55556,     0.55656,     0.55756,     0.55856,     0.55956,     0.56056,     0.56156,     0.56256,     0.56356,     0.56456,     0.56557,     0.56657,     0.56757,     0.56857,     0.56957,     0.57057,     0.57157,     0.57257,     0.57357,     0.57457,     0.57558,\n",
              "           0.57658,     0.57758,     0.57858,     0.57958,     0.58058,     0.58158,     0.58258,     0.58358,     0.58458,     0.58559,     0.58659,     0.58759,     0.58859,     0.58959,     0.59059,     0.59159,     0.59259,     0.59359,     0.59459,      0.5956,      0.5966,      0.5976,      0.5986,      0.5996,\n",
              "            0.6006,      0.6016,      0.6026,      0.6036,      0.6046,     0.60561,     0.60661,     0.60761,     0.60861,     0.60961,     0.61061,     0.61161,     0.61261,     0.61361,     0.61461,     0.61562,     0.61662,     0.61762,     0.61862,     0.61962,     0.62062,     0.62162,     0.62262,     0.62362,\n",
              "           0.62462,     0.62563,     0.62663,     0.62763,     0.62863,     0.62963,     0.63063,     0.63163,     0.63263,     0.63363,     0.63463,     0.63564,     0.63664,     0.63764,     0.63864,     0.63964,     0.64064,     0.64164,     0.64264,     0.64364,     0.64464,     0.64565,     0.64665,     0.64765,\n",
              "           0.64865,     0.64965,     0.65065,     0.65165,     0.65265,     0.65365,     0.65465,     0.65566,     0.65666,     0.65766,     0.65866,     0.65966,     0.66066,     0.66166,     0.66266,     0.66366,     0.66466,     0.66567,     0.66667,     0.66767,     0.66867,     0.66967,     0.67067,     0.67167,\n",
              "           0.67267,     0.67367,     0.67467,     0.67568,     0.67668,     0.67768,     0.67868,     0.67968,     0.68068,     0.68168,     0.68268,     0.68368,     0.68468,     0.68569,     0.68669,     0.68769,     0.68869,     0.68969,     0.69069,     0.69169,     0.69269,     0.69369,     0.69469,      0.6957,\n",
              "            0.6967,      0.6977,      0.6987,      0.6997,      0.7007,      0.7017,      0.7027,      0.7037,      0.7047,     0.70571,     0.70671,     0.70771,     0.70871,     0.70971,     0.71071,     0.71171,     0.71271,     0.71371,     0.71471,     0.71572,     0.71672,     0.71772,     0.71872,     0.71972,\n",
              "           0.72072,     0.72172,     0.72272,     0.72372,     0.72472,     0.72573,     0.72673,     0.72773,     0.72873,     0.72973,     0.73073,     0.73173,     0.73273,     0.73373,     0.73473,     0.73574,     0.73674,     0.73774,     0.73874,     0.73974,     0.74074,     0.74174,     0.74274,     0.74374,\n",
              "           0.74474,     0.74575,     0.74675,     0.74775,     0.74875,     0.74975,     0.75075,     0.75175,     0.75275,     0.75375,     0.75475,     0.75576,     0.75676,     0.75776,     0.75876,     0.75976,     0.76076,     0.76176,     0.76276,     0.76376,     0.76476,     0.76577,     0.76677,     0.76777,\n",
              "           0.76877,     0.76977,     0.77077,     0.77177,     0.77277,     0.77377,     0.77477,     0.77578,     0.77678,     0.77778,     0.77878,     0.77978,     0.78078,     0.78178,     0.78278,     0.78378,     0.78478,     0.78579,     0.78679,     0.78779,     0.78879,     0.78979,     0.79079,     0.79179,\n",
              "           0.79279,     0.79379,     0.79479,      0.7958,      0.7968,      0.7978,      0.7988,      0.7998,      0.8008,      0.8018,      0.8028,      0.8038,      0.8048,     0.80581,     0.80681,     0.80781,     0.80881,     0.80981,     0.81081,     0.81181,     0.81281,     0.81381,     0.81481,     0.81582,\n",
              "           0.81682,     0.81782,     0.81882,     0.81982,     0.82082,     0.82182,     0.82282,     0.82382,     0.82482,     0.82583,     0.82683,     0.82783,     0.82883,     0.82983,     0.83083,     0.83183,     0.83283,     0.83383,     0.83483,     0.83584,     0.83684,     0.83784,     0.83884,     0.83984,\n",
              "           0.84084,     0.84184,     0.84284,     0.84384,     0.84484,     0.84585,     0.84685,     0.84785,     0.84885,     0.84985,     0.85085,     0.85185,     0.85285,     0.85385,     0.85485,     0.85586,     0.85686,     0.85786,     0.85886,     0.85986,     0.86086,     0.86186,     0.86286,     0.86386,\n",
              "           0.86486,     0.86587,     0.86687,     0.86787,     0.86887,     0.86987,     0.87087,     0.87187,     0.87287,     0.87387,     0.87487,     0.87588,     0.87688,     0.87788,     0.87888,     0.87988,     0.88088,     0.88188,     0.88288,     0.88388,     0.88488,     0.88589,     0.88689,     0.88789,\n",
              "           0.88889,     0.88989,     0.89089,     0.89189,     0.89289,     0.89389,     0.89489,      0.8959,      0.8969,      0.8979,      0.8989,      0.8999,      0.9009,      0.9019,      0.9029,      0.9039,      0.9049,     0.90591,     0.90691,     0.90791,     0.90891,     0.90991,     0.91091,     0.91191,\n",
              "           0.91291,     0.91391,     0.91491,     0.91592,     0.91692,     0.91792,     0.91892,     0.91992,     0.92092,     0.92192,     0.92292,     0.92392,     0.92492,     0.92593,     0.92693,     0.92793,     0.92893,     0.92993,     0.93093,     0.93193,     0.93293,     0.93393,     0.93493,     0.93594,\n",
              "           0.93694,     0.93794,     0.93894,     0.93994,     0.94094,     0.94194,     0.94294,     0.94394,     0.94494,     0.94595,     0.94695,     0.94795,     0.94895,     0.94995,     0.95095,     0.95195,     0.95295,     0.95395,     0.95495,     0.95596,     0.95696,     0.95796,     0.95896,     0.95996,\n",
              "           0.96096,     0.96196,     0.96296,     0.96396,     0.96496,     0.96597,     0.96697,     0.96797,     0.96897,     0.96997,     0.97097,     0.97197,     0.97297,     0.97397,     0.97497,     0.97598,     0.97698,     0.97798,     0.97898,     0.97998,     0.98098,     0.98198,     0.98298,     0.98398,\n",
              "           0.98498,     0.98599,     0.98699,     0.98799,     0.98899,     0.98999,     0.99099,     0.99199,     0.99299,     0.99399,     0.99499,       0.996,       0.997,       0.998,       0.999,           1]), array([[          1,           1,           1, ...,  0.00015437,  7.7183e-05,           0],\n",
              "       [          1,           1,           1, ...,  0.00019049,  9.5245e-05,           0]]), 'Recall', 'Precision'], [array([          0,    0.001001,    0.002002,    0.003003,    0.004004,    0.005005,    0.006006,    0.007007,    0.008008,    0.009009,     0.01001,    0.011011,    0.012012,    0.013013,    0.014014,    0.015015,    0.016016,    0.017017,    0.018018,    0.019019,     0.02002,    0.021021,    0.022022,    0.023023,\n",
              "          0.024024,    0.025025,    0.026026,    0.027027,    0.028028,    0.029029,     0.03003,    0.031031,    0.032032,    0.033033,    0.034034,    0.035035,    0.036036,    0.037037,    0.038038,    0.039039,     0.04004,    0.041041,    0.042042,    0.043043,    0.044044,    0.045045,    0.046046,    0.047047,\n",
              "          0.048048,    0.049049,     0.05005,    0.051051,    0.052052,    0.053053,    0.054054,    0.055055,    0.056056,    0.057057,    0.058058,    0.059059,     0.06006,    0.061061,    0.062062,    0.063063,    0.064064,    0.065065,    0.066066,    0.067067,    0.068068,    0.069069,     0.07007,    0.071071,\n",
              "          0.072072,    0.073073,    0.074074,    0.075075,    0.076076,    0.077077,    0.078078,    0.079079,     0.08008,    0.081081,    0.082082,    0.083083,    0.084084,    0.085085,    0.086086,    0.087087,    0.088088,    0.089089,     0.09009,    0.091091,    0.092092,    0.093093,    0.094094,    0.095095,\n",
              "          0.096096,    0.097097,    0.098098,    0.099099,      0.1001,      0.1011,      0.1021,      0.1031,      0.1041,     0.10511,     0.10611,     0.10711,     0.10811,     0.10911,     0.11011,     0.11111,     0.11211,     0.11311,     0.11411,     0.11512,     0.11612,     0.11712,     0.11812,     0.11912,\n",
              "           0.12012,     0.12112,     0.12212,     0.12312,     0.12412,     0.12513,     0.12613,     0.12713,     0.12813,     0.12913,     0.13013,     0.13113,     0.13213,     0.13313,     0.13413,     0.13514,     0.13614,     0.13714,     0.13814,     0.13914,     0.14014,     0.14114,     0.14214,     0.14314,\n",
              "           0.14414,     0.14515,     0.14615,     0.14715,     0.14815,     0.14915,     0.15015,     0.15115,     0.15215,     0.15315,     0.15415,     0.15516,     0.15616,     0.15716,     0.15816,     0.15916,     0.16016,     0.16116,     0.16216,     0.16316,     0.16416,     0.16517,     0.16617,     0.16717,\n",
              "           0.16817,     0.16917,     0.17017,     0.17117,     0.17217,     0.17317,     0.17417,     0.17518,     0.17618,     0.17718,     0.17818,     0.17918,     0.18018,     0.18118,     0.18218,     0.18318,     0.18418,     0.18519,     0.18619,     0.18719,     0.18819,     0.18919,     0.19019,     0.19119,\n",
              "           0.19219,     0.19319,     0.19419,      0.1952,      0.1962,      0.1972,      0.1982,      0.1992,      0.2002,      0.2012,      0.2022,      0.2032,      0.2042,     0.20521,     0.20621,     0.20721,     0.20821,     0.20921,     0.21021,     0.21121,     0.21221,     0.21321,     0.21421,     0.21522,\n",
              "           0.21622,     0.21722,     0.21822,     0.21922,     0.22022,     0.22122,     0.22222,     0.22322,     0.22422,     0.22523,     0.22623,     0.22723,     0.22823,     0.22923,     0.23023,     0.23123,     0.23223,     0.23323,     0.23423,     0.23524,     0.23624,     0.23724,     0.23824,     0.23924,\n",
              "           0.24024,     0.24124,     0.24224,     0.24324,     0.24424,     0.24525,     0.24625,     0.24725,     0.24825,     0.24925,     0.25025,     0.25125,     0.25225,     0.25325,     0.25425,     0.25526,     0.25626,     0.25726,     0.25826,     0.25926,     0.26026,     0.26126,     0.26226,     0.26326,\n",
              "           0.26426,     0.26527,     0.26627,     0.26727,     0.26827,     0.26927,     0.27027,     0.27127,     0.27227,     0.27327,     0.27427,     0.27528,     0.27628,     0.27728,     0.27828,     0.27928,     0.28028,     0.28128,     0.28228,     0.28328,     0.28428,     0.28529,     0.28629,     0.28729,\n",
              "           0.28829,     0.28929,     0.29029,     0.29129,     0.29229,     0.29329,     0.29429,      0.2953,      0.2963,      0.2973,      0.2983,      0.2993,      0.3003,      0.3013,      0.3023,      0.3033,      0.3043,     0.30531,     0.30631,     0.30731,     0.30831,     0.30931,     0.31031,     0.31131,\n",
              "           0.31231,     0.31331,     0.31431,     0.31532,     0.31632,     0.31732,     0.31832,     0.31932,     0.32032,     0.32132,     0.32232,     0.32332,     0.32432,     0.32533,     0.32633,     0.32733,     0.32833,     0.32933,     0.33033,     0.33133,     0.33233,     0.33333,     0.33433,     0.33534,\n",
              "           0.33634,     0.33734,     0.33834,     0.33934,     0.34034,     0.34134,     0.34234,     0.34334,     0.34434,     0.34535,     0.34635,     0.34735,     0.34835,     0.34935,     0.35035,     0.35135,     0.35235,     0.35335,     0.35435,     0.35536,     0.35636,     0.35736,     0.35836,     0.35936,\n",
              "           0.36036,     0.36136,     0.36236,     0.36336,     0.36436,     0.36537,     0.36637,     0.36737,     0.36837,     0.36937,     0.37037,     0.37137,     0.37237,     0.37337,     0.37437,     0.37538,     0.37638,     0.37738,     0.37838,     0.37938,     0.38038,     0.38138,     0.38238,     0.38338,\n",
              "           0.38438,     0.38539,     0.38639,     0.38739,     0.38839,     0.38939,     0.39039,     0.39139,     0.39239,     0.39339,     0.39439,      0.3954,      0.3964,      0.3974,      0.3984,      0.3994,      0.4004,      0.4014,      0.4024,      0.4034,      0.4044,     0.40541,     0.40641,     0.40741,\n",
              "           0.40841,     0.40941,     0.41041,     0.41141,     0.41241,     0.41341,     0.41441,     0.41542,     0.41642,     0.41742,     0.41842,     0.41942,     0.42042,     0.42142,     0.42242,     0.42342,     0.42442,     0.42543,     0.42643,     0.42743,     0.42843,     0.42943,     0.43043,     0.43143,\n",
              "           0.43243,     0.43343,     0.43443,     0.43544,     0.43644,     0.43744,     0.43844,     0.43944,     0.44044,     0.44144,     0.44244,     0.44344,     0.44444,     0.44545,     0.44645,     0.44745,     0.44845,     0.44945,     0.45045,     0.45145,     0.45245,     0.45345,     0.45445,     0.45546,\n",
              "           0.45646,     0.45746,     0.45846,     0.45946,     0.46046,     0.46146,     0.46246,     0.46346,     0.46446,     0.46547,     0.46647,     0.46747,     0.46847,     0.46947,     0.47047,     0.47147,     0.47247,     0.47347,     0.47447,     0.47548,     0.47648,     0.47748,     0.47848,     0.47948,\n",
              "           0.48048,     0.48148,     0.48248,     0.48348,     0.48448,     0.48549,     0.48649,     0.48749,     0.48849,     0.48949,     0.49049,     0.49149,     0.49249,     0.49349,     0.49449,      0.4955,      0.4965,      0.4975,      0.4985,      0.4995,      0.5005,      0.5015,      0.5025,      0.5035,\n",
              "            0.5045,     0.50551,     0.50651,     0.50751,     0.50851,     0.50951,     0.51051,     0.51151,     0.51251,     0.51351,     0.51451,     0.51552,     0.51652,     0.51752,     0.51852,     0.51952,     0.52052,     0.52152,     0.52252,     0.52352,     0.52452,     0.52553,     0.52653,     0.52753,\n",
              "           0.52853,     0.52953,     0.53053,     0.53153,     0.53253,     0.53353,     0.53453,     0.53554,     0.53654,     0.53754,     0.53854,     0.53954,     0.54054,     0.54154,     0.54254,     0.54354,     0.54454,     0.54555,     0.54655,     0.54755,     0.54855,     0.54955,     0.55055,     0.55155,\n",
              "           0.55255,     0.55355,     0.55455,     0.55556,     0.55656,     0.55756,     0.55856,     0.55956,     0.56056,     0.56156,     0.56256,     0.56356,     0.56456,     0.56557,     0.56657,     0.56757,     0.56857,     0.56957,     0.57057,     0.57157,     0.57257,     0.57357,     0.57457,     0.57558,\n",
              "           0.57658,     0.57758,     0.57858,     0.57958,     0.58058,     0.58158,     0.58258,     0.58358,     0.58458,     0.58559,     0.58659,     0.58759,     0.58859,     0.58959,     0.59059,     0.59159,     0.59259,     0.59359,     0.59459,      0.5956,      0.5966,      0.5976,      0.5986,      0.5996,\n",
              "            0.6006,      0.6016,      0.6026,      0.6036,      0.6046,     0.60561,     0.60661,     0.60761,     0.60861,     0.60961,     0.61061,     0.61161,     0.61261,     0.61361,     0.61461,     0.61562,     0.61662,     0.61762,     0.61862,     0.61962,     0.62062,     0.62162,     0.62262,     0.62362,\n",
              "           0.62462,     0.62563,     0.62663,     0.62763,     0.62863,     0.62963,     0.63063,     0.63163,     0.63263,     0.63363,     0.63463,     0.63564,     0.63664,     0.63764,     0.63864,     0.63964,     0.64064,     0.64164,     0.64264,     0.64364,     0.64464,     0.64565,     0.64665,     0.64765,\n",
              "           0.64865,     0.64965,     0.65065,     0.65165,     0.65265,     0.65365,     0.65465,     0.65566,     0.65666,     0.65766,     0.65866,     0.65966,     0.66066,     0.66166,     0.66266,     0.66366,     0.66466,     0.66567,     0.66667,     0.66767,     0.66867,     0.66967,     0.67067,     0.67167,\n",
              "           0.67267,     0.67367,     0.67467,     0.67568,     0.67668,     0.67768,     0.67868,     0.67968,     0.68068,     0.68168,     0.68268,     0.68368,     0.68468,     0.68569,     0.68669,     0.68769,     0.68869,     0.68969,     0.69069,     0.69169,     0.69269,     0.69369,     0.69469,      0.6957,\n",
              "            0.6967,      0.6977,      0.6987,      0.6997,      0.7007,      0.7017,      0.7027,      0.7037,      0.7047,     0.70571,     0.70671,     0.70771,     0.70871,     0.70971,     0.71071,     0.71171,     0.71271,     0.71371,     0.71471,     0.71572,     0.71672,     0.71772,     0.71872,     0.71972,\n",
              "           0.72072,     0.72172,     0.72272,     0.72372,     0.72472,     0.72573,     0.72673,     0.72773,     0.72873,     0.72973,     0.73073,     0.73173,     0.73273,     0.73373,     0.73473,     0.73574,     0.73674,     0.73774,     0.73874,     0.73974,     0.74074,     0.74174,     0.74274,     0.74374,\n",
              "           0.74474,     0.74575,     0.74675,     0.74775,     0.74875,     0.74975,     0.75075,     0.75175,     0.75275,     0.75375,     0.75475,     0.75576,     0.75676,     0.75776,     0.75876,     0.75976,     0.76076,     0.76176,     0.76276,     0.76376,     0.76476,     0.76577,     0.76677,     0.76777,\n",
              "           0.76877,     0.76977,     0.77077,     0.77177,     0.77277,     0.77377,     0.77477,     0.77578,     0.77678,     0.77778,     0.77878,     0.77978,     0.78078,     0.78178,     0.78278,     0.78378,     0.78478,     0.78579,     0.78679,     0.78779,     0.78879,     0.78979,     0.79079,     0.79179,\n",
              "           0.79279,     0.79379,     0.79479,      0.7958,      0.7968,      0.7978,      0.7988,      0.7998,      0.8008,      0.8018,      0.8028,      0.8038,      0.8048,     0.80581,     0.80681,     0.80781,     0.80881,     0.80981,     0.81081,     0.81181,     0.81281,     0.81381,     0.81481,     0.81582,\n",
              "           0.81682,     0.81782,     0.81882,     0.81982,     0.82082,     0.82182,     0.82282,     0.82382,     0.82482,     0.82583,     0.82683,     0.82783,     0.82883,     0.82983,     0.83083,     0.83183,     0.83283,     0.83383,     0.83483,     0.83584,     0.83684,     0.83784,     0.83884,     0.83984,\n",
              "           0.84084,     0.84184,     0.84284,     0.84384,     0.84484,     0.84585,     0.84685,     0.84785,     0.84885,     0.84985,     0.85085,     0.85185,     0.85285,     0.85385,     0.85485,     0.85586,     0.85686,     0.85786,     0.85886,     0.85986,     0.86086,     0.86186,     0.86286,     0.86386,\n",
              "           0.86486,     0.86587,     0.86687,     0.86787,     0.86887,     0.86987,     0.87087,     0.87187,     0.87287,     0.87387,     0.87487,     0.87588,     0.87688,     0.87788,     0.87888,     0.87988,     0.88088,     0.88188,     0.88288,     0.88388,     0.88488,     0.88589,     0.88689,     0.88789,\n",
              "           0.88889,     0.88989,     0.89089,     0.89189,     0.89289,     0.89389,     0.89489,      0.8959,      0.8969,      0.8979,      0.8989,      0.8999,      0.9009,      0.9019,      0.9029,      0.9039,      0.9049,     0.90591,     0.90691,     0.90791,     0.90891,     0.90991,     0.91091,     0.91191,\n",
              "           0.91291,     0.91391,     0.91491,     0.91592,     0.91692,     0.91792,     0.91892,     0.91992,     0.92092,     0.92192,     0.92292,     0.92392,     0.92492,     0.92593,     0.92693,     0.92793,     0.92893,     0.92993,     0.93093,     0.93193,     0.93293,     0.93393,     0.93493,     0.93594,\n",
              "           0.93694,     0.93794,     0.93894,     0.93994,     0.94094,     0.94194,     0.94294,     0.94394,     0.94494,     0.94595,     0.94695,     0.94795,     0.94895,     0.94995,     0.95095,     0.95195,     0.95295,     0.95395,     0.95495,     0.95596,     0.95696,     0.95796,     0.95896,     0.95996,\n",
              "           0.96096,     0.96196,     0.96296,     0.96396,     0.96496,     0.96597,     0.96697,     0.96797,     0.96897,     0.96997,     0.97097,     0.97197,     0.97297,     0.97397,     0.97497,     0.97598,     0.97698,     0.97798,     0.97898,     0.97998,     0.98098,     0.98198,     0.98298,     0.98398,\n",
              "           0.98498,     0.98599,     0.98699,     0.98799,     0.98899,     0.98999,     0.99099,     0.99199,     0.99299,     0.99399,     0.99499,       0.996,       0.997,       0.998,       0.999,           1]), array([[   0.093569,    0.093569,     0.11123, ...,           0,           0,           0],\n",
              "       [          0,           0,           0, ...,           0,           0,           0],\n",
              "       [          0,           0,           0, ...,           0,           0,           0],\n",
              "       [   0.077908,    0.077908,    0.098775, ...,           0,           0,           0]]), 'Confidence', 'F1'], [array([          0,    0.001001,    0.002002,    0.003003,    0.004004,    0.005005,    0.006006,    0.007007,    0.008008,    0.009009,     0.01001,    0.011011,    0.012012,    0.013013,    0.014014,    0.015015,    0.016016,    0.017017,    0.018018,    0.019019,     0.02002,    0.021021,    0.022022,    0.023023,\n",
              "          0.024024,    0.025025,    0.026026,    0.027027,    0.028028,    0.029029,     0.03003,    0.031031,    0.032032,    0.033033,    0.034034,    0.035035,    0.036036,    0.037037,    0.038038,    0.039039,     0.04004,    0.041041,    0.042042,    0.043043,    0.044044,    0.045045,    0.046046,    0.047047,\n",
              "          0.048048,    0.049049,     0.05005,    0.051051,    0.052052,    0.053053,    0.054054,    0.055055,    0.056056,    0.057057,    0.058058,    0.059059,     0.06006,    0.061061,    0.062062,    0.063063,    0.064064,    0.065065,    0.066066,    0.067067,    0.068068,    0.069069,     0.07007,    0.071071,\n",
              "          0.072072,    0.073073,    0.074074,    0.075075,    0.076076,    0.077077,    0.078078,    0.079079,     0.08008,    0.081081,    0.082082,    0.083083,    0.084084,    0.085085,    0.086086,    0.087087,    0.088088,    0.089089,     0.09009,    0.091091,    0.092092,    0.093093,    0.094094,    0.095095,\n",
              "          0.096096,    0.097097,    0.098098,    0.099099,      0.1001,      0.1011,      0.1021,      0.1031,      0.1041,     0.10511,     0.10611,     0.10711,     0.10811,     0.10911,     0.11011,     0.11111,     0.11211,     0.11311,     0.11411,     0.11512,     0.11612,     0.11712,     0.11812,     0.11912,\n",
              "           0.12012,     0.12112,     0.12212,     0.12312,     0.12412,     0.12513,     0.12613,     0.12713,     0.12813,     0.12913,     0.13013,     0.13113,     0.13213,     0.13313,     0.13413,     0.13514,     0.13614,     0.13714,     0.13814,     0.13914,     0.14014,     0.14114,     0.14214,     0.14314,\n",
              "           0.14414,     0.14515,     0.14615,     0.14715,     0.14815,     0.14915,     0.15015,     0.15115,     0.15215,     0.15315,     0.15415,     0.15516,     0.15616,     0.15716,     0.15816,     0.15916,     0.16016,     0.16116,     0.16216,     0.16316,     0.16416,     0.16517,     0.16617,     0.16717,\n",
              "           0.16817,     0.16917,     0.17017,     0.17117,     0.17217,     0.17317,     0.17417,     0.17518,     0.17618,     0.17718,     0.17818,     0.17918,     0.18018,     0.18118,     0.18218,     0.18318,     0.18418,     0.18519,     0.18619,     0.18719,     0.18819,     0.18919,     0.19019,     0.19119,\n",
              "           0.19219,     0.19319,     0.19419,      0.1952,      0.1962,      0.1972,      0.1982,      0.1992,      0.2002,      0.2012,      0.2022,      0.2032,      0.2042,     0.20521,     0.20621,     0.20721,     0.20821,     0.20921,     0.21021,     0.21121,     0.21221,     0.21321,     0.21421,     0.21522,\n",
              "           0.21622,     0.21722,     0.21822,     0.21922,     0.22022,     0.22122,     0.22222,     0.22322,     0.22422,     0.22523,     0.22623,     0.22723,     0.22823,     0.22923,     0.23023,     0.23123,     0.23223,     0.23323,     0.23423,     0.23524,     0.23624,     0.23724,     0.23824,     0.23924,\n",
              "           0.24024,     0.24124,     0.24224,     0.24324,     0.24424,     0.24525,     0.24625,     0.24725,     0.24825,     0.24925,     0.25025,     0.25125,     0.25225,     0.25325,     0.25425,     0.25526,     0.25626,     0.25726,     0.25826,     0.25926,     0.26026,     0.26126,     0.26226,     0.26326,\n",
              "           0.26426,     0.26527,     0.26627,     0.26727,     0.26827,     0.26927,     0.27027,     0.27127,     0.27227,     0.27327,     0.27427,     0.27528,     0.27628,     0.27728,     0.27828,     0.27928,     0.28028,     0.28128,     0.28228,     0.28328,     0.28428,     0.28529,     0.28629,     0.28729,\n",
              "           0.28829,     0.28929,     0.29029,     0.29129,     0.29229,     0.29329,     0.29429,      0.2953,      0.2963,      0.2973,      0.2983,      0.2993,      0.3003,      0.3013,      0.3023,      0.3033,      0.3043,     0.30531,     0.30631,     0.30731,     0.30831,     0.30931,     0.31031,     0.31131,\n",
              "           0.31231,     0.31331,     0.31431,     0.31532,     0.31632,     0.31732,     0.31832,     0.31932,     0.32032,     0.32132,     0.32232,     0.32332,     0.32432,     0.32533,     0.32633,     0.32733,     0.32833,     0.32933,     0.33033,     0.33133,     0.33233,     0.33333,     0.33433,     0.33534,\n",
              "           0.33634,     0.33734,     0.33834,     0.33934,     0.34034,     0.34134,     0.34234,     0.34334,     0.34434,     0.34535,     0.34635,     0.34735,     0.34835,     0.34935,     0.35035,     0.35135,     0.35235,     0.35335,     0.35435,     0.35536,     0.35636,     0.35736,     0.35836,     0.35936,\n",
              "           0.36036,     0.36136,     0.36236,     0.36336,     0.36436,     0.36537,     0.36637,     0.36737,     0.36837,     0.36937,     0.37037,     0.37137,     0.37237,     0.37337,     0.37437,     0.37538,     0.37638,     0.37738,     0.37838,     0.37938,     0.38038,     0.38138,     0.38238,     0.38338,\n",
              "           0.38438,     0.38539,     0.38639,     0.38739,     0.38839,     0.38939,     0.39039,     0.39139,     0.39239,     0.39339,     0.39439,      0.3954,      0.3964,      0.3974,      0.3984,      0.3994,      0.4004,      0.4014,      0.4024,      0.4034,      0.4044,     0.40541,     0.40641,     0.40741,\n",
              "           0.40841,     0.40941,     0.41041,     0.41141,     0.41241,     0.41341,     0.41441,     0.41542,     0.41642,     0.41742,     0.41842,     0.41942,     0.42042,     0.42142,     0.42242,     0.42342,     0.42442,     0.42543,     0.42643,     0.42743,     0.42843,     0.42943,     0.43043,     0.43143,\n",
              "           0.43243,     0.43343,     0.43443,     0.43544,     0.43644,     0.43744,     0.43844,     0.43944,     0.44044,     0.44144,     0.44244,     0.44344,     0.44444,     0.44545,     0.44645,     0.44745,     0.44845,     0.44945,     0.45045,     0.45145,     0.45245,     0.45345,     0.45445,     0.45546,\n",
              "           0.45646,     0.45746,     0.45846,     0.45946,     0.46046,     0.46146,     0.46246,     0.46346,     0.46446,     0.46547,     0.46647,     0.46747,     0.46847,     0.46947,     0.47047,     0.47147,     0.47247,     0.47347,     0.47447,     0.47548,     0.47648,     0.47748,     0.47848,     0.47948,\n",
              "           0.48048,     0.48148,     0.48248,     0.48348,     0.48448,     0.48549,     0.48649,     0.48749,     0.48849,     0.48949,     0.49049,     0.49149,     0.49249,     0.49349,     0.49449,      0.4955,      0.4965,      0.4975,      0.4985,      0.4995,      0.5005,      0.5015,      0.5025,      0.5035,\n",
              "            0.5045,     0.50551,     0.50651,     0.50751,     0.50851,     0.50951,     0.51051,     0.51151,     0.51251,     0.51351,     0.51451,     0.51552,     0.51652,     0.51752,     0.51852,     0.51952,     0.52052,     0.52152,     0.52252,     0.52352,     0.52452,     0.52553,     0.52653,     0.52753,\n",
              "           0.52853,     0.52953,     0.53053,     0.53153,     0.53253,     0.53353,     0.53453,     0.53554,     0.53654,     0.53754,     0.53854,     0.53954,     0.54054,     0.54154,     0.54254,     0.54354,     0.54454,     0.54555,     0.54655,     0.54755,     0.54855,     0.54955,     0.55055,     0.55155,\n",
              "           0.55255,     0.55355,     0.55455,     0.55556,     0.55656,     0.55756,     0.55856,     0.55956,     0.56056,     0.56156,     0.56256,     0.56356,     0.56456,     0.56557,     0.56657,     0.56757,     0.56857,     0.56957,     0.57057,     0.57157,     0.57257,     0.57357,     0.57457,     0.57558,\n",
              "           0.57658,     0.57758,     0.57858,     0.57958,     0.58058,     0.58158,     0.58258,     0.58358,     0.58458,     0.58559,     0.58659,     0.58759,     0.58859,     0.58959,     0.59059,     0.59159,     0.59259,     0.59359,     0.59459,      0.5956,      0.5966,      0.5976,      0.5986,      0.5996,\n",
              "            0.6006,      0.6016,      0.6026,      0.6036,      0.6046,     0.60561,     0.60661,     0.60761,     0.60861,     0.60961,     0.61061,     0.61161,     0.61261,     0.61361,     0.61461,     0.61562,     0.61662,     0.61762,     0.61862,     0.61962,     0.62062,     0.62162,     0.62262,     0.62362,\n",
              "           0.62462,     0.62563,     0.62663,     0.62763,     0.62863,     0.62963,     0.63063,     0.63163,     0.63263,     0.63363,     0.63463,     0.63564,     0.63664,     0.63764,     0.63864,     0.63964,     0.64064,     0.64164,     0.64264,     0.64364,     0.64464,     0.64565,     0.64665,     0.64765,\n",
              "           0.64865,     0.64965,     0.65065,     0.65165,     0.65265,     0.65365,     0.65465,     0.65566,     0.65666,     0.65766,     0.65866,     0.65966,     0.66066,     0.66166,     0.66266,     0.66366,     0.66466,     0.66567,     0.66667,     0.66767,     0.66867,     0.66967,     0.67067,     0.67167,\n",
              "           0.67267,     0.67367,     0.67467,     0.67568,     0.67668,     0.67768,     0.67868,     0.67968,     0.68068,     0.68168,     0.68268,     0.68368,     0.68468,     0.68569,     0.68669,     0.68769,     0.68869,     0.68969,     0.69069,     0.69169,     0.69269,     0.69369,     0.69469,      0.6957,\n",
              "            0.6967,      0.6977,      0.6987,      0.6997,      0.7007,      0.7017,      0.7027,      0.7037,      0.7047,     0.70571,     0.70671,     0.70771,     0.70871,     0.70971,     0.71071,     0.71171,     0.71271,     0.71371,     0.71471,     0.71572,     0.71672,     0.71772,     0.71872,     0.71972,\n",
              "           0.72072,     0.72172,     0.72272,     0.72372,     0.72472,     0.72573,     0.72673,     0.72773,     0.72873,     0.72973,     0.73073,     0.73173,     0.73273,     0.73373,     0.73473,     0.73574,     0.73674,     0.73774,     0.73874,     0.73974,     0.74074,     0.74174,     0.74274,     0.74374,\n",
              "           0.74474,     0.74575,     0.74675,     0.74775,     0.74875,     0.74975,     0.75075,     0.75175,     0.75275,     0.75375,     0.75475,     0.75576,     0.75676,     0.75776,     0.75876,     0.75976,     0.76076,     0.76176,     0.76276,     0.76376,     0.76476,     0.76577,     0.76677,     0.76777,\n",
              "           0.76877,     0.76977,     0.77077,     0.77177,     0.77277,     0.77377,     0.77477,     0.77578,     0.77678,     0.77778,     0.77878,     0.77978,     0.78078,     0.78178,     0.78278,     0.78378,     0.78478,     0.78579,     0.78679,     0.78779,     0.78879,     0.78979,     0.79079,     0.79179,\n",
              "           0.79279,     0.79379,     0.79479,      0.7958,      0.7968,      0.7978,      0.7988,      0.7998,      0.8008,      0.8018,      0.8028,      0.8038,      0.8048,     0.80581,     0.80681,     0.80781,     0.80881,     0.80981,     0.81081,     0.81181,     0.81281,     0.81381,     0.81481,     0.81582,\n",
              "           0.81682,     0.81782,     0.81882,     0.81982,     0.82082,     0.82182,     0.82282,     0.82382,     0.82482,     0.82583,     0.82683,     0.82783,     0.82883,     0.82983,     0.83083,     0.83183,     0.83283,     0.83383,     0.83483,     0.83584,     0.83684,     0.83784,     0.83884,     0.83984,\n",
              "           0.84084,     0.84184,     0.84284,     0.84384,     0.84484,     0.84585,     0.84685,     0.84785,     0.84885,     0.84985,     0.85085,     0.85185,     0.85285,     0.85385,     0.85485,     0.85586,     0.85686,     0.85786,     0.85886,     0.85986,     0.86086,     0.86186,     0.86286,     0.86386,\n",
              "           0.86486,     0.86587,     0.86687,     0.86787,     0.86887,     0.86987,     0.87087,     0.87187,     0.87287,     0.87387,     0.87487,     0.87588,     0.87688,     0.87788,     0.87888,     0.87988,     0.88088,     0.88188,     0.88288,     0.88388,     0.88488,     0.88589,     0.88689,     0.88789,\n",
              "           0.88889,     0.88989,     0.89089,     0.89189,     0.89289,     0.89389,     0.89489,      0.8959,      0.8969,      0.8979,      0.8989,      0.8999,      0.9009,      0.9019,      0.9029,      0.9039,      0.9049,     0.90591,     0.90691,     0.90791,     0.90891,     0.90991,     0.91091,     0.91191,\n",
              "           0.91291,     0.91391,     0.91491,     0.91592,     0.91692,     0.91792,     0.91892,     0.91992,     0.92092,     0.92192,     0.92292,     0.92392,     0.92492,     0.92593,     0.92693,     0.92793,     0.92893,     0.92993,     0.93093,     0.93193,     0.93293,     0.93393,     0.93493,     0.93594,\n",
              "           0.93694,     0.93794,     0.93894,     0.93994,     0.94094,     0.94194,     0.94294,     0.94394,     0.94494,     0.94595,     0.94695,     0.94795,     0.94895,     0.94995,     0.95095,     0.95195,     0.95295,     0.95395,     0.95495,     0.95596,     0.95696,     0.95796,     0.95896,     0.95996,\n",
              "           0.96096,     0.96196,     0.96296,     0.96396,     0.96496,     0.96597,     0.96697,     0.96797,     0.96897,     0.96997,     0.97097,     0.97197,     0.97297,     0.97397,     0.97497,     0.97598,     0.97698,     0.97798,     0.97898,     0.97998,     0.98098,     0.98198,     0.98298,     0.98398,\n",
              "           0.98498,     0.98599,     0.98699,     0.98799,     0.98899,     0.98999,     0.99099,     0.99199,     0.99299,     0.99399,     0.99499,       0.996,       0.997,       0.998,       0.999,           1]), array([[   0.063246,    0.063246,    0.080824, ...,           1,           1,           1],\n",
              "       [          0,           0,           0, ...,           0,           0,           0],\n",
              "       [          0,           0,           0, ...,           0,           0,           0],\n",
              "       [   0.041866,    0.041866,    0.054266, ...,           1,           1,           1]]), 'Confidence', 'Precision'], [array([          0,    0.001001,    0.002002,    0.003003,    0.004004,    0.005005,    0.006006,    0.007007,    0.008008,    0.009009,     0.01001,    0.011011,    0.012012,    0.013013,    0.014014,    0.015015,    0.016016,    0.017017,    0.018018,    0.019019,     0.02002,    0.021021,    0.022022,    0.023023,\n",
              "          0.024024,    0.025025,    0.026026,    0.027027,    0.028028,    0.029029,     0.03003,    0.031031,    0.032032,    0.033033,    0.034034,    0.035035,    0.036036,    0.037037,    0.038038,    0.039039,     0.04004,    0.041041,    0.042042,    0.043043,    0.044044,    0.045045,    0.046046,    0.047047,\n",
              "          0.048048,    0.049049,     0.05005,    0.051051,    0.052052,    0.053053,    0.054054,    0.055055,    0.056056,    0.057057,    0.058058,    0.059059,     0.06006,    0.061061,    0.062062,    0.063063,    0.064064,    0.065065,    0.066066,    0.067067,    0.068068,    0.069069,     0.07007,    0.071071,\n",
              "          0.072072,    0.073073,    0.074074,    0.075075,    0.076076,    0.077077,    0.078078,    0.079079,     0.08008,    0.081081,    0.082082,    0.083083,    0.084084,    0.085085,    0.086086,    0.087087,    0.088088,    0.089089,     0.09009,    0.091091,    0.092092,    0.093093,    0.094094,    0.095095,\n",
              "          0.096096,    0.097097,    0.098098,    0.099099,      0.1001,      0.1011,      0.1021,      0.1031,      0.1041,     0.10511,     0.10611,     0.10711,     0.10811,     0.10911,     0.11011,     0.11111,     0.11211,     0.11311,     0.11411,     0.11512,     0.11612,     0.11712,     0.11812,     0.11912,\n",
              "           0.12012,     0.12112,     0.12212,     0.12312,     0.12412,     0.12513,     0.12613,     0.12713,     0.12813,     0.12913,     0.13013,     0.13113,     0.13213,     0.13313,     0.13413,     0.13514,     0.13614,     0.13714,     0.13814,     0.13914,     0.14014,     0.14114,     0.14214,     0.14314,\n",
              "           0.14414,     0.14515,     0.14615,     0.14715,     0.14815,     0.14915,     0.15015,     0.15115,     0.15215,     0.15315,     0.15415,     0.15516,     0.15616,     0.15716,     0.15816,     0.15916,     0.16016,     0.16116,     0.16216,     0.16316,     0.16416,     0.16517,     0.16617,     0.16717,\n",
              "           0.16817,     0.16917,     0.17017,     0.17117,     0.17217,     0.17317,     0.17417,     0.17518,     0.17618,     0.17718,     0.17818,     0.17918,     0.18018,     0.18118,     0.18218,     0.18318,     0.18418,     0.18519,     0.18619,     0.18719,     0.18819,     0.18919,     0.19019,     0.19119,\n",
              "           0.19219,     0.19319,     0.19419,      0.1952,      0.1962,      0.1972,      0.1982,      0.1992,      0.2002,      0.2012,      0.2022,      0.2032,      0.2042,     0.20521,     0.20621,     0.20721,     0.20821,     0.20921,     0.21021,     0.21121,     0.21221,     0.21321,     0.21421,     0.21522,\n",
              "           0.21622,     0.21722,     0.21822,     0.21922,     0.22022,     0.22122,     0.22222,     0.22322,     0.22422,     0.22523,     0.22623,     0.22723,     0.22823,     0.22923,     0.23023,     0.23123,     0.23223,     0.23323,     0.23423,     0.23524,     0.23624,     0.23724,     0.23824,     0.23924,\n",
              "           0.24024,     0.24124,     0.24224,     0.24324,     0.24424,     0.24525,     0.24625,     0.24725,     0.24825,     0.24925,     0.25025,     0.25125,     0.25225,     0.25325,     0.25425,     0.25526,     0.25626,     0.25726,     0.25826,     0.25926,     0.26026,     0.26126,     0.26226,     0.26326,\n",
              "           0.26426,     0.26527,     0.26627,     0.26727,     0.26827,     0.26927,     0.27027,     0.27127,     0.27227,     0.27327,     0.27427,     0.27528,     0.27628,     0.27728,     0.27828,     0.27928,     0.28028,     0.28128,     0.28228,     0.28328,     0.28428,     0.28529,     0.28629,     0.28729,\n",
              "           0.28829,     0.28929,     0.29029,     0.29129,     0.29229,     0.29329,     0.29429,      0.2953,      0.2963,      0.2973,      0.2983,      0.2993,      0.3003,      0.3013,      0.3023,      0.3033,      0.3043,     0.30531,     0.30631,     0.30731,     0.30831,     0.30931,     0.31031,     0.31131,\n",
              "           0.31231,     0.31331,     0.31431,     0.31532,     0.31632,     0.31732,     0.31832,     0.31932,     0.32032,     0.32132,     0.32232,     0.32332,     0.32432,     0.32533,     0.32633,     0.32733,     0.32833,     0.32933,     0.33033,     0.33133,     0.33233,     0.33333,     0.33433,     0.33534,\n",
              "           0.33634,     0.33734,     0.33834,     0.33934,     0.34034,     0.34134,     0.34234,     0.34334,     0.34434,     0.34535,     0.34635,     0.34735,     0.34835,     0.34935,     0.35035,     0.35135,     0.35235,     0.35335,     0.35435,     0.35536,     0.35636,     0.35736,     0.35836,     0.35936,\n",
              "           0.36036,     0.36136,     0.36236,     0.36336,     0.36436,     0.36537,     0.36637,     0.36737,     0.36837,     0.36937,     0.37037,     0.37137,     0.37237,     0.37337,     0.37437,     0.37538,     0.37638,     0.37738,     0.37838,     0.37938,     0.38038,     0.38138,     0.38238,     0.38338,\n",
              "           0.38438,     0.38539,     0.38639,     0.38739,     0.38839,     0.38939,     0.39039,     0.39139,     0.39239,     0.39339,     0.39439,      0.3954,      0.3964,      0.3974,      0.3984,      0.3994,      0.4004,      0.4014,      0.4024,      0.4034,      0.4044,     0.40541,     0.40641,     0.40741,\n",
              "           0.40841,     0.40941,     0.41041,     0.41141,     0.41241,     0.41341,     0.41441,     0.41542,     0.41642,     0.41742,     0.41842,     0.41942,     0.42042,     0.42142,     0.42242,     0.42342,     0.42442,     0.42543,     0.42643,     0.42743,     0.42843,     0.42943,     0.43043,     0.43143,\n",
              "           0.43243,     0.43343,     0.43443,     0.43544,     0.43644,     0.43744,     0.43844,     0.43944,     0.44044,     0.44144,     0.44244,     0.44344,     0.44444,     0.44545,     0.44645,     0.44745,     0.44845,     0.44945,     0.45045,     0.45145,     0.45245,     0.45345,     0.45445,     0.45546,\n",
              "           0.45646,     0.45746,     0.45846,     0.45946,     0.46046,     0.46146,     0.46246,     0.46346,     0.46446,     0.46547,     0.46647,     0.46747,     0.46847,     0.46947,     0.47047,     0.47147,     0.47247,     0.47347,     0.47447,     0.47548,     0.47648,     0.47748,     0.47848,     0.47948,\n",
              "           0.48048,     0.48148,     0.48248,     0.48348,     0.48448,     0.48549,     0.48649,     0.48749,     0.48849,     0.48949,     0.49049,     0.49149,     0.49249,     0.49349,     0.49449,      0.4955,      0.4965,      0.4975,      0.4985,      0.4995,      0.5005,      0.5015,      0.5025,      0.5035,\n",
              "            0.5045,     0.50551,     0.50651,     0.50751,     0.50851,     0.50951,     0.51051,     0.51151,     0.51251,     0.51351,     0.51451,     0.51552,     0.51652,     0.51752,     0.51852,     0.51952,     0.52052,     0.52152,     0.52252,     0.52352,     0.52452,     0.52553,     0.52653,     0.52753,\n",
              "           0.52853,     0.52953,     0.53053,     0.53153,     0.53253,     0.53353,     0.53453,     0.53554,     0.53654,     0.53754,     0.53854,     0.53954,     0.54054,     0.54154,     0.54254,     0.54354,     0.54454,     0.54555,     0.54655,     0.54755,     0.54855,     0.54955,     0.55055,     0.55155,\n",
              "           0.55255,     0.55355,     0.55455,     0.55556,     0.55656,     0.55756,     0.55856,     0.55956,     0.56056,     0.56156,     0.56256,     0.56356,     0.56456,     0.56557,     0.56657,     0.56757,     0.56857,     0.56957,     0.57057,     0.57157,     0.57257,     0.57357,     0.57457,     0.57558,\n",
              "           0.57658,     0.57758,     0.57858,     0.57958,     0.58058,     0.58158,     0.58258,     0.58358,     0.58458,     0.58559,     0.58659,     0.58759,     0.58859,     0.58959,     0.59059,     0.59159,     0.59259,     0.59359,     0.59459,      0.5956,      0.5966,      0.5976,      0.5986,      0.5996,\n",
              "            0.6006,      0.6016,      0.6026,      0.6036,      0.6046,     0.60561,     0.60661,     0.60761,     0.60861,     0.60961,     0.61061,     0.61161,     0.61261,     0.61361,     0.61461,     0.61562,     0.61662,     0.61762,     0.61862,     0.61962,     0.62062,     0.62162,     0.62262,     0.62362,\n",
              "           0.62462,     0.62563,     0.62663,     0.62763,     0.62863,     0.62963,     0.63063,     0.63163,     0.63263,     0.63363,     0.63463,     0.63564,     0.63664,     0.63764,     0.63864,     0.63964,     0.64064,     0.64164,     0.64264,     0.64364,     0.64464,     0.64565,     0.64665,     0.64765,\n",
              "           0.64865,     0.64965,     0.65065,     0.65165,     0.65265,     0.65365,     0.65465,     0.65566,     0.65666,     0.65766,     0.65866,     0.65966,     0.66066,     0.66166,     0.66266,     0.66366,     0.66466,     0.66567,     0.66667,     0.66767,     0.66867,     0.66967,     0.67067,     0.67167,\n",
              "           0.67267,     0.67367,     0.67467,     0.67568,     0.67668,     0.67768,     0.67868,     0.67968,     0.68068,     0.68168,     0.68268,     0.68368,     0.68468,     0.68569,     0.68669,     0.68769,     0.68869,     0.68969,     0.69069,     0.69169,     0.69269,     0.69369,     0.69469,      0.6957,\n",
              "            0.6967,      0.6977,      0.6987,      0.6997,      0.7007,      0.7017,      0.7027,      0.7037,      0.7047,     0.70571,     0.70671,     0.70771,     0.70871,     0.70971,     0.71071,     0.71171,     0.71271,     0.71371,     0.71471,     0.71572,     0.71672,     0.71772,     0.71872,     0.71972,\n",
              "           0.72072,     0.72172,     0.72272,     0.72372,     0.72472,     0.72573,     0.72673,     0.72773,     0.72873,     0.72973,     0.73073,     0.73173,     0.73273,     0.73373,     0.73473,     0.73574,     0.73674,     0.73774,     0.73874,     0.73974,     0.74074,     0.74174,     0.74274,     0.74374,\n",
              "           0.74474,     0.74575,     0.74675,     0.74775,     0.74875,     0.74975,     0.75075,     0.75175,     0.75275,     0.75375,     0.75475,     0.75576,     0.75676,     0.75776,     0.75876,     0.75976,     0.76076,     0.76176,     0.76276,     0.76376,     0.76476,     0.76577,     0.76677,     0.76777,\n",
              "           0.76877,     0.76977,     0.77077,     0.77177,     0.77277,     0.77377,     0.77477,     0.77578,     0.77678,     0.77778,     0.77878,     0.77978,     0.78078,     0.78178,     0.78278,     0.78378,     0.78478,     0.78579,     0.78679,     0.78779,     0.78879,     0.78979,     0.79079,     0.79179,\n",
              "           0.79279,     0.79379,     0.79479,      0.7958,      0.7968,      0.7978,      0.7988,      0.7998,      0.8008,      0.8018,      0.8028,      0.8038,      0.8048,     0.80581,     0.80681,     0.80781,     0.80881,     0.80981,     0.81081,     0.81181,     0.81281,     0.81381,     0.81481,     0.81582,\n",
              "           0.81682,     0.81782,     0.81882,     0.81982,     0.82082,     0.82182,     0.82282,     0.82382,     0.82482,     0.82583,     0.82683,     0.82783,     0.82883,     0.82983,     0.83083,     0.83183,     0.83283,     0.83383,     0.83483,     0.83584,     0.83684,     0.83784,     0.83884,     0.83984,\n",
              "           0.84084,     0.84184,     0.84284,     0.84384,     0.84484,     0.84585,     0.84685,     0.84785,     0.84885,     0.84985,     0.85085,     0.85185,     0.85285,     0.85385,     0.85485,     0.85586,     0.85686,     0.85786,     0.85886,     0.85986,     0.86086,     0.86186,     0.86286,     0.86386,\n",
              "           0.86486,     0.86587,     0.86687,     0.86787,     0.86887,     0.86987,     0.87087,     0.87187,     0.87287,     0.87387,     0.87487,     0.87588,     0.87688,     0.87788,     0.87888,     0.87988,     0.88088,     0.88188,     0.88288,     0.88388,     0.88488,     0.88589,     0.88689,     0.88789,\n",
              "           0.88889,     0.88989,     0.89089,     0.89189,     0.89289,     0.89389,     0.89489,      0.8959,      0.8969,      0.8979,      0.8989,      0.8999,      0.9009,      0.9019,      0.9029,      0.9039,      0.9049,     0.90591,     0.90691,     0.90791,     0.90891,     0.90991,     0.91091,     0.91191,\n",
              "           0.91291,     0.91391,     0.91491,     0.91592,     0.91692,     0.91792,     0.91892,     0.91992,     0.92092,     0.92192,     0.92292,     0.92392,     0.92492,     0.92593,     0.92693,     0.92793,     0.92893,     0.92993,     0.93093,     0.93193,     0.93293,     0.93393,     0.93493,     0.93594,\n",
              "           0.93694,     0.93794,     0.93894,     0.93994,     0.94094,     0.94194,     0.94294,     0.94394,     0.94494,     0.94595,     0.94695,     0.94795,     0.94895,     0.94995,     0.95095,     0.95195,     0.95295,     0.95395,     0.95495,     0.95596,     0.95696,     0.95796,     0.95896,     0.95996,\n",
              "           0.96096,     0.96196,     0.96296,     0.96396,     0.96496,     0.96597,     0.96697,     0.96797,     0.96897,     0.96997,     0.97097,     0.97197,     0.97297,     0.97397,     0.97497,     0.97598,     0.97698,     0.97798,     0.97898,     0.97998,     0.98098,     0.98198,     0.98298,     0.98398,\n",
              "           0.98498,     0.98599,     0.98699,     0.98799,     0.98899,     0.98999,     0.99099,     0.99199,     0.99299,     0.99399,     0.99499,       0.996,       0.997,       0.998,       0.999,           1]), array([[    0.17975,     0.17975,     0.17829, ...,           0,           0,           0],\n",
              "       [          0,           0,           0, ...,           0,           0,           0],\n",
              "       [          0,           0,           0, ...,           0,           0,           0],\n",
              "       [       0.56,        0.56,     0.54933, ...,           0,           0,           0]]), 'Confidence', 'Recall']]\n",
              "fitness: np.float64(0.046428614601459424)\n",
              "keys: ['metrics/precision(B)', 'metrics/recall(B)', 'metrics/mAP50(B)', 'metrics/mAP50-95(B)']\n",
              "maps: array([   0.038991,    0.053687,           0,           0,     0.10227])\n",
              "names: {0: 'corrosion', 1: 'lightning', 2: 'lightning_receptor', 3: 'missing_teeth', 4: 'patch'}\n",
              "plot: True\n",
              "results_dict: {'metrics/precision(B)': np.float64(0.21529322424259012), 'metrics/recall(B)': np.float64(0.11603682170542635), 'metrics/mAP50(B)': np.float64(0.11337158484946955), 'metrics/mAP50-95(B)': np.float64(0.03899050679612496), 'fitness': np.float64(0.046428614601459424)}\n",
              "save_dir: PosixPath('runs/detect/train')\n",
              "speed: {'preprocess': 0.2275101019561179, 'inference': 2.215948698044396, 'loss': 0.00037894509410298446, 'postprocess': 2.549919466664684}\n",
              "task: 'detect'"
            ]
          },
          "metadata": {},
          "execution_count": 18
        }
      ]
    },
    {
      "cell_type": "code",
      "source": [
        "import pandas as pd\n",
        "\n",
        "results = model.predict(source='datasets/wind-turbine-damage-challenges/images/test', save=False)\n",
        "\n",
        "rows = []\n",
        "for r in results:\n",
        "    image_id = os.path.basename(r.path)\n",
        "    for box in r.boxes:\n",
        "        class_id = int(box.cls)\n",
        "        conf = float(box.conf)\n",
        "        x1, y1, x2, y2 = box.xyxy[0].tolist()\n",
        "        rows.append([image_id, x1, y1, x2, y2, class_id, conf])\n",
        "\n",
        "df = pd.DataFrame(rows, columns=['image_id', 'x1', 'y1', 'x2', 'y2', 'class_id', 'confidence'])\n",
        "df.to_csv(\"submission.csv\", index=False)\n"
      ],
      "metadata": {
        "id": "cEpL4K_FFmQL"
      },
      "execution_count": null,
      "outputs": []
    },
    {
      "cell_type": "code",
      "source": [
        "!zip -r * content.zip"
      ],
      "metadata": {
        "id": "ofMqMnBNeIGX"
      },
      "execution_count": null,
      "outputs": []
    },
    {
      "cell_type": "code",
      "source": [
        "!cp datasets.zip drive/MyDrive"
      ],
      "metadata": {
        "id": "Elc-W7Hoyrpm"
      },
      "execution_count": null,
      "outputs": []
    },
    {
      "cell_type": "code",
      "source": [
        "import json\n",
        "import pandas as pd\n",
        "\n",
        "# Путь к файлу с результатами инференса\n",
        "results_path = \"farazlar.txt\"  # или .json, если вы сохраняете в этом формате\n",
        "output_csv = \"submission.csv\"\n",
        "\n",
        "# Загрузка результатов\n",
        "with open(results_path, \"r\", encoding=\"utf-8\") as f:\n",
        "    results = json.load(f)\n",
        "\n",
        "# Составляем submission\n",
        "submission_data = []\n",
        "\n",
        "i = 0\n",
        "\n",
        "for image_id, result in enumerate(results):\n",
        "    labels = result.get(\"labels\", [])\n",
        "    scores = result.get(\"scores\", [])\n",
        "    bboxes = result.get(\"bboxes\", [])\n",
        "\n",
        "    for label, score, bbox in zip(labels, scores, bboxes):\n",
        "        xmin, ymin, xmax, ymax = bbox\n",
        "        submission_data.append({\n",
        "            \"image_id\": image_id,\n",
        "            \"xmin\": round(xmin, 2),\n",
        "            \"ymin\": round(ymin, 2),\n",
        "            \"xmax\": round(xmax, 2),\n",
        "            \"ymax\": round(ymax, 2),\n",
        "            \"label\": label,\n",
        "            \"score\": round(score, 4)\n",
        "        })\n",
        "\n",
        "# Преобразуем в DataFrame и сохраняем\n",
        "df = pd.DataFrame(submission_data)\n",
        "df.to_csv(output_csv, index=False)\n",
        "\n",
        "print(f\"Сабмит сохранён в {output_csv}\")"
      ],
      "metadata": {
        "colab": {
          "base_uri": "https://localhost:8080/"
        },
        "id": "nFTA1PxHeIgv",
        "outputId": "8fb27bc1-5372-4f15-cd73-59be84695ea0"
      },
      "execution_count": null,
      "outputs": [
        {
          "output_type": "stream",
          "name": "stdout",
          "text": [
            "Сабмит сохранён в submission.csv\n"
          ]
        }
      ]
    },
    {
      "cell_type": "code",
      "source": [
        "len(results)"
      ],
      "metadata": {
        "colab": {
          "base_uri": "https://localhost:8080/"
        },
        "id": "rGAojn0jePxg",
        "outputId": "8f525a48-eb21-440b-a516-5ce21646a79b"
      },
      "execution_count": null,
      "outputs": [
        {
          "output_type": "execute_result",
          "data": {
            "text/plain": [
              "151"
            ]
          },
          "metadata": {},
          "execution_count": 7
        }
      ]
    }
  ]
}