{
  "cells": [
    {
      "cell_type": "code",
      "source": [
        "!ls -lha kaggle.json\n",
        "!pip install -q kaggle # installing the kaggle package\n",
        "!mkdir -p ~/.kaggle # creating .kaggle folder where the key should be placed\n",
        "!cp kaggle.json ~/.kaggle/ # move the key to the folder\n",
        "!pwd # checking the present working directory\n",
        "!chmod 600 ~/.kaggle/kaggle.json\n",
        "!kaggle competitions download -c wind-turbine-damage-challenges\n",
        "!unzip /content/wind-turbine-damage-challenges.zip"
      ],
      "metadata": {
        "id": "dw-8WbLl0uBI"
      },
      "id": "dw-8WbLl0uBI",
      "execution_count": null,
      "outputs": []
    },
    {
      "cell_type": "markdown",
      "id": "c5b21869",
      "metadata": {
        "papermill": {
          "duration": 0.027823,
          "end_time": "2022-01-24T17:28:38.411484",
          "exception": false,
          "start_time": "2022-01-24T17:28:38.383661",
          "status": "completed"
        },
        "tags": [],
        "id": "c5b21869"
      },
      "source": [
        "# Object Detection with Faster RCNN\n",
        "\n",
        "Code is for the following video: https://www.youtube.com/watch?v=Uc90rr5jbA4&t=71s\n",
        "\n",
        "Do give this notebook a thumbs-up if you liked it. Thanks!"
      ]
    },
    {
      "cell_type": "code",
      "execution_count": null,
      "id": "426252c5",
      "metadata": {
        "_cell_guid": "b1076dfc-b9ad-4769-8c92-a6c4dae69d19",
        "_uuid": "8f2839f25d086af736a60e9eeb907d3b93b6e0e5",
        "execution": {
          "iopub.execute_input": "2022-01-24T17:28:38.475849Z",
          "iopub.status.busy": "2022-01-24T17:28:38.474298Z",
          "iopub.status.idle": "2022-01-24T17:28:38.483266Z",
          "shell.execute_reply": "2022-01-24T17:28:38.483651Z",
          "shell.execute_reply.started": "2022-01-19T20:42:19.026643Z"
        },
        "papermill": {
          "duration": 0.043297,
          "end_time": "2022-01-24T17:28:38.483883",
          "exception": false,
          "start_time": "2022-01-24T17:28:38.440586",
          "status": "completed"
        },
        "tags": [],
        "id": "426252c5"
      },
      "outputs": [],
      "source": [
        "import numpy as np # linear algebra\n",
        "import pandas as pd # data processing, CSV file I/O (e.g. pd.read_csv)\n",
        "import os"
      ]
    },
    {
      "cell_type": "markdown",
      "id": "619ce77e",
      "metadata": {
        "papermill": {
          "duration": 0.027095,
          "end_time": "2022-01-24T17:28:38.538092",
          "exception": false,
          "start_time": "2022-01-24T17:28:38.510997",
          "status": "completed"
        },
        "tags": [],
        "id": "619ce77e"
      },
      "source": [
        "We require the latest version of torchvision"
      ]
    },
    {
      "cell_type": "code",
      "execution_count": null,
      "id": "2f00fada",
      "metadata": {
        "execution": {
          "iopub.execute_input": "2022-01-24T17:28:38.599119Z",
          "iopub.status.busy": "2022-01-24T17:28:38.598510Z",
          "iopub.status.idle": "2022-01-24T17:30:10.286087Z",
          "shell.execute_reply": "2022-01-24T17:30:10.285564Z",
          "shell.execute_reply.started": "2022-01-19T20:42:33.608429Z"
        },
        "papermill": {
          "duration": 91.720198,
          "end_time": "2022-01-24T17:30:10.286225",
          "exception": false,
          "start_time": "2022-01-24T17:28:38.566027",
          "status": "completed"
        },
        "tags": [],
        "collapsed": true,
        "id": "2f00fada"
      },
      "outputs": [],
      "source": [
        "# !pip install -U torchvision # We need a new versino of torchvision for this project"
      ]
    },
    {
      "cell_type": "markdown",
      "id": "24ff267d",
      "metadata": {
        "papermill": {
          "duration": 0.3151,
          "end_time": "2022-01-24T17:30:10.928193",
          "exception": false,
          "start_time": "2022-01-24T17:30:10.613093",
          "status": "completed"
        },
        "tags": [],
        "id": "24ff267d"
      },
      "source": [
        "Here are all the necessary libraries"
      ]
    },
    {
      "cell_type": "code",
      "execution_count": null,
      "id": "65ac85aa",
      "metadata": {
        "execution": {
          "iopub.execute_input": "2022-01-24T17:30:11.587977Z",
          "iopub.status.busy": "2022-01-24T17:30:11.587096Z",
          "iopub.status.idle": "2022-01-24T17:30:14.298829Z",
          "shell.execute_reply": "2022-01-24T17:30:14.297935Z",
          "shell.execute_reply.started": "2022-01-19T20:44:19.986322Z"
        },
        "papermill": {
          "duration": 3.053539,
          "end_time": "2022-01-24T17:30:14.298997",
          "exception": false,
          "start_time": "2022-01-24T17:30:11.245458",
          "status": "completed"
        },
        "tags": [],
        "id": "65ac85aa"
      },
      "outputs": [],
      "source": [
        "import torch\n",
        "import torchvision\n",
        "from torchvision import datasets, models\n",
        "from torchvision.transforms import functional as FT\n",
        "from torchvision import transforms as T\n",
        "from torch import nn, optim\n",
        "from torch.nn import functional as F\n",
        "from torch.utils.data import DataLoader, sampler, random_split, Dataset\n",
        "import copy\n",
        "import math\n",
        "from PIL import Image\n",
        "import cv2\n",
        "import albumentations as A  # our data augmentation library\n",
        "from tqdm import tqdm\n",
        "\n",
        "import matplotlib.pyplot as plt\n",
        "%matplotlib inline"
      ]
    },
    {
      "cell_type": "code",
      "execution_count": null,
      "id": "2a5cfa88",
      "metadata": {
        "execution": {
          "iopub.execute_input": "2022-01-24T17:30:14.969371Z",
          "iopub.status.busy": "2022-01-24T17:30:14.968472Z",
          "iopub.status.idle": "2022-01-24T17:30:14.970351Z",
          "shell.execute_reply": "2022-01-24T17:30:14.970748Z",
          "shell.execute_reply.started": "2022-01-19T20:45:20.528354Z"
        },
        "papermill": {
          "duration": 0.332311,
          "end_time": "2022-01-24T17:30:14.970878",
          "exception": false,
          "start_time": "2022-01-24T17:30:14.638567",
          "status": "completed"
        },
        "tags": [],
        "id": "2a5cfa88"
      },
      "outputs": [],
      "source": [
        "# remove arnings (optional)\n",
        "import warnings\n",
        "warnings.filterwarnings(\"ignore\")\n",
        "from collections import defaultdict, deque\n",
        "import datetime\n",
        "import time\n",
        "from tqdm import tqdm # progress bar\n",
        "from torchvision.utils import draw_bounding_boxes"
      ]
    },
    {
      "cell_type": "code",
      "execution_count": null,
      "id": "7daa2e58",
      "metadata": {
        "execution": {
          "iopub.execute_input": "2022-01-24T17:30:15.618933Z",
          "iopub.status.busy": "2022-01-24T17:30:15.618316Z",
          "iopub.status.idle": "2022-01-24T17:30:15.622211Z",
          "shell.execute_reply": "2022-01-24T17:30:15.621481Z",
          "shell.execute_reply.started": "2022-01-19T20:45:31.111053Z"
        },
        "papermill": {
          "duration": 0.330906,
          "end_time": "2022-01-24T17:30:15.622372",
          "exception": false,
          "start_time": "2022-01-24T17:30:15.291466",
          "status": "completed"
        },
        "tags": [],
        "colab": {
          "base_uri": "https://localhost:8080/"
        },
        "id": "7daa2e58",
        "outputId": "de004740-0afb-4cb2-9fa6-a0f2de3be930"
      },
      "outputs": [
        {
          "output_type": "stream",
          "name": "stdout",
          "text": [
            "2.6.0+cu124\n",
            "0.21.0+cu124\n"
          ]
        }
      ],
      "source": [
        "print(torch.__version__)\n",
        "print(torchvision.__version__)"
      ]
    },
    {
      "cell_type": "markdown",
      "id": "6211d13f",
      "metadata": {
        "papermill": {
          "duration": 0.324233,
          "end_time": "2022-01-24T17:30:16.283049",
          "exception": false,
          "start_time": "2022-01-24T17:30:15.958816",
          "status": "completed"
        },
        "tags": [],
        "id": "6211d13f"
      },
      "source": [
        "PyCOCOTools provides many utilities for dealing with datasets in the COCO format, and if you wanted, you could evaluate the model's performance on the dataset with some of the utilities provided with this library.\n",
        "\n",
        "That is out of scope for this notebook, however."
      ]
    },
    {
      "cell_type": "code",
      "execution_count": null,
      "id": "235caa0b",
      "metadata": {
        "execution": {
          "iopub.execute_input": "2022-01-24T17:30:16.929340Z",
          "iopub.status.busy": "2022-01-24T17:30:16.928581Z",
          "iopub.status.idle": "2022-01-24T17:30:47.930537Z",
          "shell.execute_reply": "2022-01-24T17:30:47.930060Z",
          "shell.execute_reply.started": "2022-01-19T20:45:56.724268Z"
        },
        "papermill": {
          "duration": 31.32777,
          "end_time": "2022-01-24T17:30:47.930664",
          "exception": false,
          "start_time": "2022-01-24T17:30:16.602894",
          "status": "completed"
        },
        "tags": [],
        "id": "235caa0b"
      },
      "outputs": [],
      "source": [
        "# our dataset is in cocoformat, we will need pypcoco tools\n",
        "# !pip install pycocotools\n",
        "from pycocotools.coco import COCO"
      ]
    },
    {
      "cell_type": "code",
      "execution_count": null,
      "id": "3f46612e",
      "metadata": {
        "execution": {
          "iopub.execute_input": "2022-01-24T17:30:48.583174Z",
          "iopub.status.busy": "2022-01-24T17:30:48.582354Z",
          "iopub.status.idle": "2022-01-24T17:30:48.587402Z",
          "shell.execute_reply": "2022-01-24T17:30:48.586899Z",
          "shell.execute_reply.started": "2022-01-19T20:46:26.594887Z"
        },
        "papermill": {
          "duration": 0.335021,
          "end_time": "2022-01-24T17:30:48.587521",
          "exception": false,
          "start_time": "2022-01-24T17:30:48.252500",
          "status": "completed"
        },
        "tags": [],
        "id": "3f46612e"
      },
      "outputs": [],
      "source": [
        "# Now, we will define our transforms\n",
        "from albumentations.pytorch import ToTensorV2"
      ]
    },
    {
      "cell_type": "markdown",
      "id": "42e357b7",
      "metadata": {
        "papermill": {
          "duration": 0.325704,
          "end_time": "2022-01-24T17:30:49.235380",
          "exception": false,
          "start_time": "2022-01-24T17:30:48.909676",
          "status": "completed"
        },
        "tags": [],
        "id": "42e357b7"
      },
      "source": [
        "We use albumentations as our data augmentation library due to its capability to deal with bounding boxes in multiple formats"
      ]
    },
    {
      "cell_type": "code",
      "execution_count": null,
      "id": "1a2f8eaf",
      "metadata": {
        "execution": {
          "iopub.execute_input": "2022-01-24T17:30:49.919031Z",
          "iopub.status.busy": "2022-01-24T17:30:49.917980Z",
          "iopub.status.idle": "2022-01-24T17:30:49.919758Z",
          "shell.execute_reply": "2022-01-24T17:30:49.920188Z",
          "shell.execute_reply.started": "2022-01-19T20:47:58.801183Z"
        },
        "papermill": {
          "duration": 0.342053,
          "end_time": "2022-01-24T17:30:49.920332",
          "exception": false,
          "start_time": "2022-01-24T17:30:49.578279",
          "status": "completed"
        },
        "tags": [],
        "id": "1a2f8eaf"
      },
      "outputs": [],
      "source": [
        "def get_transforms(train=False):\n",
        "    if train:\n",
        "        transform = A.Compose([\n",
        "            A.Resize(600, 600), # our input size can be 600px\n",
        "            A.HorizontalFlip(p=0.3),\n",
        "            # A.VerticalFlip(p=0.3),\n",
        "            A.RandomBrightnessContrast(p=0.1),\n",
        "            A.ColorJitter(p=0.1),\n",
        "            ToTensorV2(),\n",
        "\n",
        "        ], bbox_params=A.BboxParams(format='coco', clip=True))\n",
        "    else:\n",
        "        transform = A.Compose([\n",
        "            A.Resize(600, 600), # our input size can be 600px\n",
        "            ToTensorV2(),\n",
        "        ], bbox_params=A.BboxParams(format='coco', clip=True))\n",
        "    return transform"
      ]
    },
    {
      "cell_type": "markdown",
      "id": "c1004621",
      "metadata": {
        "papermill": {
          "duration": 0.332129,
          "end_time": "2022-01-24T17:30:50.591883",
          "exception": false,
          "start_time": "2022-01-24T17:30:50.259754",
          "status": "completed"
        },
        "tags": [],
        "id": "c1004621"
      },
      "source": [
        "## Dataset\n",
        "\n",
        "This is our dataset class. It loads all the necessary files and it processes the data so that it can be fed into the model."
      ]
    },
    {
      "cell_type": "code",
      "source": [
        "!python --version"
      ],
      "metadata": {
        "colab": {
          "base_uri": "https://localhost:8080/"
        },
        "id": "WUjOgaJ5H7N1",
        "outputId": "491fbaec-5585-4ef5-aa92-03dda4dfae53"
      },
      "id": "WUjOgaJ5H7N1",
      "execution_count": null,
      "outputs": [
        {
          "output_type": "stream",
          "name": "stdout",
          "text": [
            "Python 3.11.12\n"
          ]
        }
      ]
    },
    {
      "cell_type": "code",
      "execution_count": null,
      "id": "5f145641",
      "metadata": {
        "execution": {
          "iopub.execute_input": "2022-01-24T17:30:51.734778Z",
          "iopub.status.busy": "2022-01-24T17:30:51.733928Z",
          "iopub.status.idle": "2022-01-24T17:30:51.763968Z",
          "shell.execute_reply": "2022-01-24T17:30:51.764593Z",
          "shell.execute_reply.started": "2022-01-19T20:59:21.323926Z"
        },
        "papermill": {
          "duration": 0.703455,
          "end_time": "2022-01-24T17:30:51.764806",
          "exception": false,
          "start_time": "2022-01-24T17:30:51.061351",
          "status": "completed"
        },
        "tags": [],
        "id": "5f145641"
      },
      "outputs": [],
      "source": [
        "class AquariumDetection(datasets.VisionDataset):\n",
        "    def __init__(self, root, split='train', transform=None, target_transform=None, transforms=None):\n",
        "        # the 3 transform parameters are reuqired for datasets.VisionDataset\n",
        "        super().__init__(root, transforms, transform, target_transform)\n",
        "        self.split = split #train, valid, test\n",
        "        self.coco = COCO(os.path.join(root, split, \"_annotations.coco.json\")) # annotatiosn stored here\n",
        "        self.ids = list(sorted(self.coco.imgs.keys()))\n",
        "        self.ids = [id for id in self.ids if (len(self._load_target(id)) > 0)]\n",
        "\n",
        "    def _load_image(self, id: int):\n",
        "        path = self.coco.loadImgs(id)[0]['file_name']\n",
        "        # image = cv2.imread(os.path.join(self.root, self.split, path))\n",
        "        # image = cv2.cvtColor(image, cv2.COLOR_BGR2RGB)\n",
        "        image = Image.open(os.path.join(self.root, self.split, path))\n",
        "        return np.array(image)\n",
        "\n",
        "    def _load_target(self, id):\n",
        "        return self.coco.loadAnns(self.coco.getAnnIds(id))\n",
        "\n",
        "    def __getitem__(self, index):\n",
        "        id = self.ids[index]\n",
        "        image = self._load_image(id)\n",
        "        target = self._load_target(id)\n",
        "        target = copy.deepcopy(self._load_target(id))\n",
        "\n",
        "        boxes = [t['bbox'] + [t['category_id']] for t in target] # required annotation format for albumentations\n",
        "        if self.transforms is not None:\n",
        "\n",
        "            # boxes =  np.clip(boxes, 0.0, 1.0).tolist()\n",
        "            transformed = self.transforms(image=image, bboxes=boxes)\n",
        "\n",
        "            image = transformed['image']\n",
        "            boxes = transformed['bboxes']\n",
        "\n",
        "        new_boxes = [] # convert from xywh to xyxy\n",
        "        for box in boxes:\n",
        "            xmin = box[0]\n",
        "            xmax = xmin + box[2]\n",
        "            ymin = box[1]\n",
        "            ymax = ymin + box[3]\n",
        "            new_boxes.append([xmin, ymin, xmax, ymax])\n",
        "\n",
        "            # print(xmin, ymin, xmax, ymax)\n",
        "\n",
        "        boxes = torch.tensor(new_boxes, dtype=torch.float32)\n",
        "\n",
        "        targ = {} # here is our transformed target\n",
        "        targ['boxes'] = boxes\n",
        "        targ['labels'] = torch.tensor([t['category_id'] for t in target], dtype=torch.int64)\n",
        "        targ['image_id'] = torch.tensor([t['image_id'] for t in target])\n",
        "        targ['area'] = (boxes[:, 3] - boxes[:, 1]) * (boxes[:, 2] - boxes[:, 0]) # we have a different area\n",
        "        targ['iscrowd'] = torch.tensor([t['iscrowd'] for t in target], dtype=torch.int64)\n",
        "\n",
        "        image =  image.div(255) # scale images\n",
        "        # print(image)\n",
        "        # print(type(image))\n",
        "        # print(targ['boxes'])\n",
        "        return image, targ\n",
        "\n",
        "    def __len__(self):\n",
        "        return len(self.ids)"
      ]
    },
    {
      "cell_type": "code",
      "execution_count": null,
      "id": "d58fde75",
      "metadata": {
        "execution": {
          "iopub.execute_input": "2022-01-24T17:30:52.688233Z",
          "iopub.status.busy": "2022-01-24T17:30:52.687146Z",
          "iopub.status.idle": "2022-01-24T17:30:52.688790Z",
          "shell.execute_reply": "2022-01-24T17:30:52.689344Z",
          "shell.execute_reply.started": "2022-01-19T20:59:21.429272Z"
        },
        "papermill": {
          "duration": 0.336778,
          "end_time": "2022-01-24T17:30:52.689489",
          "exception": false,
          "start_time": "2022-01-24T17:30:52.352711",
          "status": "completed"
        },
        "tags": [],
        "id": "d58fde75"
      },
      "outputs": [],
      "source": [
        "# dataset_path = \"/kaggle/input/aquarium-dataset/Aquarium Combined/\"\n",
        "dataset_path = '/content/Wind Turbine damage'"
      ]
    },
    {
      "cell_type": "code",
      "execution_count": null,
      "id": "d657fd55",
      "metadata": {
        "execution": {
          "iopub.execute_input": "2022-01-24T17:30:53.429136Z",
          "iopub.status.busy": "2022-01-24T17:30:53.428557Z",
          "iopub.status.idle": "2022-01-24T17:30:53.479549Z",
          "shell.execute_reply": "2022-01-24T17:30:53.480278Z",
          "shell.execute_reply.started": "2022-01-19T20:59:21.562223Z"
        },
        "papermill": {
          "duration": 0.385897,
          "end_time": "2022-01-24T17:30:53.480486",
          "exception": false,
          "start_time": "2022-01-24T17:30:53.094589",
          "status": "completed"
        },
        "tags": [],
        "colab": {
          "base_uri": "https://localhost:8080/"
        },
        "id": "d657fd55",
        "outputId": "8645344e-63a7-4f9f-d7b4-1f4671ba5cb1"
      },
      "outputs": [
        {
          "output_type": "stream",
          "name": "stdout",
          "text": [
            "loading annotations into memory...\n",
            "Done (t=0.03s)\n",
            "creating index...\n",
            "index created!\n"
          ]
        },
        {
          "output_type": "execute_result",
          "data": {
            "text/plain": [
              "{0: {'id': 0, 'name': 'damage', 'supercategory': 'none'},\n",
              " 1: {'id': 1, 'name': 'corrosion', 'supercategory': 'damage'},\n",
              " 2: {'id': 2, 'name': 'lightning', 'supercategory': 'damage'},\n",
              " 3: {'id': 3, 'name': 'lightning receptor', 'supercategory': 'damage'},\n",
              " 4: {'id': 4, 'name': 'missing teeth', 'supercategory': 'damage'},\n",
              " 5: {'id': 5, 'name': 'patch', 'supercategory': 'damage'}}"
            ]
          },
          "metadata": {},
          "execution_count": 10
        }
      ],
      "source": [
        "#load classes\n",
        "coco = COCO(os.path.join(dataset_path, \"train\", \"_annotations.coco.json\"))\n",
        "categories = coco.cats\n",
        "n_classes = len(categories.keys())\n",
        "categories"
      ]
    },
    {
      "cell_type": "markdown",
      "id": "f5148041",
      "metadata": {
        "papermill": {
          "duration": 0.355239,
          "end_time": "2022-01-24T17:30:54.158391",
          "exception": false,
          "start_time": "2022-01-24T17:30:53.803152",
          "status": "completed"
        },
        "tags": [],
        "id": "f5148041"
      },
      "source": [
        "This code just gets a list of classes"
      ]
    },
    {
      "cell_type": "code",
      "execution_count": null,
      "id": "173c78f2",
      "metadata": {
        "execution": {
          "iopub.execute_input": "2022-01-24T17:30:54.836659Z",
          "iopub.status.busy": "2022-01-24T17:30:54.835693Z",
          "iopub.status.idle": "2022-01-24T17:30:54.838685Z",
          "shell.execute_reply": "2022-01-24T17:30:54.838235Z",
          "shell.execute_reply.started": "2022-01-19T20:59:21.694851Z"
        },
        "papermill": {
          "duration": 0.336091,
          "end_time": "2022-01-24T17:30:54.838811",
          "exception": false,
          "start_time": "2022-01-24T17:30:54.502720",
          "status": "completed"
        },
        "tags": [],
        "colab": {
          "base_uri": "https://localhost:8080/"
        },
        "id": "173c78f2",
        "outputId": "0c9ad77e-1ab0-4538-e87f-4e13798c0f45"
      },
      "outputs": [
        {
          "output_type": "execute_result",
          "data": {
            "text/plain": [
              "['damage',\n",
              " 'corrosion',\n",
              " 'lightning',\n",
              " 'lightning receptor',\n",
              " 'missing teeth',\n",
              " 'patch']"
            ]
          },
          "metadata": {},
          "execution_count": 15
        }
      ],
      "source": [
        "classes = [i[1]['name'] for i in categories.items()]\n",
        "classes"
      ]
    },
    {
      "cell_type": "code",
      "execution_count": null,
      "id": "4b06a085",
      "metadata": {
        "execution": {
          "iopub.execute_input": "2022-01-24T17:30:55.510368Z",
          "iopub.status.busy": "2022-01-24T17:30:55.509431Z",
          "iopub.status.idle": "2022-01-24T17:30:55.534317Z",
          "shell.execute_reply": "2022-01-24T17:30:55.533600Z",
          "shell.execute_reply.started": "2022-01-19T20:59:22.883345Z"
        },
        "papermill": {
          "duration": 0.373744,
          "end_time": "2022-01-24T17:30:55.534491",
          "exception": false,
          "start_time": "2022-01-24T17:30:55.160747",
          "status": "completed"
        },
        "tags": [],
        "colab": {
          "base_uri": "https://localhost:8080/"
        },
        "id": "4b06a085",
        "outputId": "a3171405-8d6c-4607-8d2b-8ebc6af800c3"
      },
      "outputs": [
        {
          "output_type": "stream",
          "name": "stdout",
          "text": [
            "loading annotations into memory...\n",
            "Done (t=0.03s)\n",
            "creating index...\n",
            "index created!\n",
            "loading annotations into memory...\n",
            "Done (t=0.01s)\n",
            "creating index...\n",
            "index created!\n"
          ]
        }
      ],
      "source": [
        "train_dataset = AquariumDetection(root=dataset_path, transforms=get_transforms(train=True))\n",
        "valid_dataset = AquariumDetection(root=dataset_path, split='valid', transforms=get_transforms(train=False))\n",
        "\n",
        "# train_dataset = AquariumDetection(root=dataset_path)"
      ]
    },
    {
      "cell_type": "markdown",
      "id": "64aabdae",
      "metadata": {
        "papermill": {
          "duration": 0.324323,
          "end_time": "2022-01-24T17:30:56.206744",
          "exception": false,
          "start_time": "2022-01-24T17:30:55.882421",
          "status": "completed"
        },
        "tags": [],
        "id": "64aabdae"
      },
      "source": [
        "This is a sample image and its bounding boxes, this code does not get the model's output"
      ]
    },
    {
      "cell_type": "code",
      "source": [
        "train_dataset"
      ],
      "metadata": {
        "colab": {
          "base_uri": "https://localhost:8080/"
        },
        "id": "IVilnFEj67KZ",
        "outputId": "97347e68-62e8-4735-a055-677ac9867925"
      },
      "id": "IVilnFEj67KZ",
      "execution_count": null,
      "outputs": [
        {
          "output_type": "execute_result",
          "data": {
            "text/plain": [
              "Dataset AquariumDetection\n",
              "    Number of datapoints: 754\n",
              "    Root location: /content/Wind Turbine damage\n",
              "    Compose([\n",
              "  Resize(p=1.0, height=600, interpolation=1, mask_interpolation=0, width=600),\n",
              "  ToTensorV2(p=1.0, transpose_mask=False),\n",
              "], p=1.0, bbox_params={'format': 'coco', 'label_fields': None, 'min_area': 0.0, 'min_visibility': 0.0, 'min_width': 0.0, 'min_height': 0.0, 'check_each_transform': True, 'clip': True, 'max_accept_ratio': None}, keypoint_params=None, additional_targets={}, is_check_shapes=True)"
            ]
          },
          "metadata": {},
          "execution_count": 17
        }
      ]
    },
    {
      "cell_type": "code",
      "execution_count": null,
      "id": "1f5eefe0",
      "metadata": {
        "execution": {
          "iopub.execute_input": "2022-01-24T17:30:56.869345Z",
          "iopub.status.busy": "2022-01-24T17:30:56.867783Z",
          "iopub.status.idle": "2022-01-24T17:30:57.234877Z",
          "shell.execute_reply": "2022-01-24T17:30:57.235326Z",
          "shell.execute_reply.started": "2022-01-19T20:59:30.028081Z"
        },
        "papermill": {
          "duration": 0.697999,
          "end_time": "2022-01-24T17:30:57.235485",
          "exception": false,
          "start_time": "2022-01-24T17:30:56.537486",
          "status": "completed"
        },
        "tags": [],
        "colab": {
          "base_uri": "https://localhost:8080/",
          "height": 453
        },
        "id": "1f5eefe0",
        "outputId": "311d45c7-4e61-4926-cb54-2dd32db384f3"
      },
      "outputs": [
        {
          "output_type": "execute_result",
          "data": {
            "text/plain": [
              "<matplotlib.image.AxesImage at 0x7a53a0e16550>"
            ]
          },
          "metadata": {},
          "execution_count": 47
        },
        {
          "output_type": "display_data",
          "data": {
            "text/plain": [
              "<Figure size 640x480 with 1 Axes>"
            ],
            "image/png": "[encoded data removed]"
          },
          "metadata": {}
        }
      ],
      "source": [
        "# Lets view a sample\n",
        "sample = train_dataset[5]\n",
        "img_int = torch.tensor(sample[0] * 255, dtype=torch.uint8)\n",
        "plt.imshow(draw_bounding_boxes(\n",
        "    img_int, sample[1]['boxes'], [classes[i] for i in sample[1]['labels']], width=4\n",
        ").permute(1, 2, 0))"
      ]
    },
    {
      "cell_type": "code",
      "execution_count": null,
      "id": "9438380f",
      "metadata": {
        "execution": {
          "iopub.execute_input": "2022-01-24T17:30:57.921725Z",
          "iopub.status.busy": "2022-01-24T17:30:57.920661Z",
          "iopub.status.idle": "2022-01-24T17:30:57.924541Z",
          "shell.execute_reply": "2022-01-24T17:30:57.924138Z",
          "shell.execute_reply.started": "2022-01-19T20:59:42.689795Z"
        },
        "papermill": {
          "duration": 0.341441,
          "end_time": "2022-01-24T17:30:57.924657",
          "exception": false,
          "start_time": "2022-01-24T17:30:57.583216",
          "status": "completed"
        },
        "tags": [],
        "colab": {
          "base_uri": "https://localhost:8080/"
        },
        "id": "9438380f",
        "outputId": "cf825b99-66e0-432f-80be-923132fed973"
      },
      "outputs": [
        {
          "output_type": "execute_result",
          "data": {
            "text/plain": [
              "754"
            ]
          },
          "metadata": {},
          "execution_count": 19
        }
      ],
      "source": [
        "len(train_dataset)"
      ]
    },
    {
      "cell_type": "markdown",
      "id": "f7a11e4b",
      "metadata": {
        "papermill": {
          "duration": 0.334692,
          "end_time": "2022-01-24T17:30:58.705959",
          "exception": false,
          "start_time": "2022-01-24T17:30:58.371267",
          "status": "completed"
        },
        "tags": [],
        "id": "f7a11e4b"
      },
      "source": [
        "## Model\n",
        "\n",
        "Our model is FasterRCNN with a backbone of `MobileNetV3-Large`. We need to change the output layers because we have just 7 classes but this model was trained on 90 classes."
      ]
    },
    {
      "cell_type": "code",
      "source": [
        "n_classes=5"
      ],
      "metadata": {
        "id": "x6Hg9xG1Hwv6"
      },
      "id": "x6Hg9xG1Hwv6",
      "execution_count": null,
      "outputs": []
    },
    {
      "cell_type": "code",
      "execution_count": null,
      "id": "8c5006a2",
      "metadata": {
        "execution": {
          "iopub.execute_input": "2022-01-24T17:30:59.378663Z",
          "iopub.status.busy": "2022-01-24T17:30:59.377686Z",
          "iopub.status.idle": "2022-01-24T17:31:00.265846Z",
          "shell.execute_reply": "2022-01-24T17:31:00.266289Z",
          "shell.execute_reply.started": "2022-01-19T21:16:42.698728Z"
        },
        "papermill": {
          "duration": 1.22997,
          "end_time": "2022-01-24T17:31:00.266453",
          "exception": false,
          "start_time": "2022-01-24T17:30:59.036483",
          "status": "completed"
        },
        "tags": [],
        "id": "8c5006a2",
        "colab": {
          "base_uri": "https://localhost:8080/"
        },
        "outputId": "34312c3c-1952-48cf-c312-f4e4c9f33237"
      },
      "outputs": [
        {
          "output_type": "stream",
          "name": "stderr",
          "text": [
            "/usr/local/lib/python3.11/dist-packages/torchvision/models/_utils.py:208: UserWarning: The parameter 'pretrained' is deprecated since 0.13 and may be removed in the future, please use 'weights' instead.\n",
            "  warnings.warn(\n",
            "/usr/local/lib/python3.11/dist-packages/torchvision/models/_utils.py:223: UserWarning: Arguments other than a weight enum or `None` for 'weights' are deprecated since 0.13 and may be removed in the future. The current behavior is equivalent to passing `weights=FasterRCNN_MobileNet_V3_Large_FPN_Weights.COCO_V1`. You can also use `weights=FasterRCNN_MobileNet_V3_Large_FPN_Weights.DEFAULT` to get the most up-to-date weights.\n",
            "  warnings.warn(msg)\n",
            "Downloading: \"https://download.pytorch.org/models/fasterrcnn_mobilenet_v3_large_fpn-fb6a3cc7.pth\" to /root/.cache/torch/hub/checkpoints/fasterrcnn_mobilenet_v3_large_fpn-fb6a3cc7.pth\n",
            "100%|██████████| 74.2M/74.2M [00:01<00:00, 76.2MB/s]\n"
          ]
        }
      ],
      "source": [
        "# lets load the faster rcnn model\n",
        "model = models.detection.fasterrcnn_mobilenet_v3_large_fpn(pretrained=True)\n",
        "in_features = model.roi_heads.box_predictor.cls_score.in_features # we need to change the head\n",
        "model.roi_heads.box_predictor = models.detection.faster_rcnn.FastRCNNPredictor(in_features, n_classes)"
      ]
    },
    {
      "cell_type": "code",
      "source": [
        "model"
      ],
      "metadata": {
        "colab": {
          "base_uri": "https://localhost:8080/"
        },
        "id": "Fi1v5E8SHo6S",
        "outputId": "6117eb05-80e8-46d8-c6b4-b04658546709"
      },
      "id": "Fi1v5E8SHo6S",
      "execution_count": null,
      "outputs": [
        {
          "output_type": "execute_result",
          "data": {
            "text/plain": [
              "FasterRCNN(\n",
              "  (transform): GeneralizedRCNNTransform(\n",
              "      Normalize(mean=[0.485, 0.456, 0.406], std=[0.229, 0.224, 0.225])\n",
              "      Resize(min_size=(800,), max_size=1333, mode='bilinear')\n",
              "  )\n",
              "  (backbone): BackboneWithFPN(\n",
              "    (body): IntermediateLayerGetter(\n",
              "      (0): Conv2dNormActivation(\n",
              "        (0): Conv2d(3, 16, kernel_size=(3, 3), stride=(2, 2), padding=(1, 1), bias=False)\n",
              "        (1): FrozenBatchNorm2d(16, eps=1e-05)\n",
              "        (2): Hardswish()\n",
              "      )\n",
              "      (1): InvertedResidual(\n",
              "        (block): Sequential(\n",
              "          (0): Conv2dNormActivation(\n",
              "            (0): Conv2d(16, 16, kernel_size=(3, 3), stride=(1, 1), padding=(1, 1), groups=16, bias=False)\n",
              "            (1): FrozenBatchNorm2d(16, eps=1e-05)\n",
              "            (2): ReLU(inplace=True)\n",
              "          )\n",
              "          (1): Conv2dNormActivation(\n",
              "            (0): Conv2d(16, 16, kernel_size=(1, 1), stride=(1, 1), bias=False)\n",
              "            (1): FrozenBatchNorm2d(16, eps=1e-05)\n",
              "          )\n",
              "        )\n",
              "      )\n",
              "      (2): InvertedResidual(\n",
              "        (block): Sequential(\n",
              "          (0): Conv2dNormActivation(\n",
              "            (0): Conv2d(16, 64, kernel_size=(1, 1), stride=(1, 1), bias=False)\n",
              "            (1): FrozenBatchNorm2d(64, eps=1e-05)\n",
              "            (2): ReLU(inplace=True)\n",
              "          )\n",
              "          (1): Conv2dNormActivation(\n",
              "            (0): Conv2d(64, 64, kernel_size=(3, 3), stride=(2, 2), padding=(1, 1), groups=64, bias=False)\n",
              "            (1): FrozenBatchNorm2d(64, eps=1e-05)\n",
              "            (2): ReLU(inplace=True)\n",
              "          )\n",
              "          (2): Conv2dNormActivation(\n",
              "            (0): Conv2d(64, 24, kernel_size=(1, 1), stride=(1, 1), bias=False)\n",
              "            (1): FrozenBatchNorm2d(24, eps=1e-05)\n",
              "          )\n",
              "        )\n",
              "      )\n",
              "      (3): InvertedResidual(\n",
              "        (block): Sequential(\n",
              "          (0): Conv2dNormActivation(\n",
              "            (0): Conv2d(24, 72, kernel_size=(1, 1), stride=(1, 1), bias=False)\n",
              "            (1): FrozenBatchNorm2d(72, eps=1e-05)\n",
              "            (2): ReLU(inplace=True)\n",
              "          )\n",
              "          (1): Conv2dNormActivation(\n",
              "            (0): Conv2d(72, 72, kernel_size=(3, 3), stride=(1, 1), padding=(1, 1), groups=72, bias=False)\n",
              "            (1): FrozenBatchNorm2d(72, eps=1e-05)\n",
              "            (2): ReLU(inplace=True)\n",
              "          )\n",
              "          (2): Conv2dNormActivation(\n",
              "            (0): Conv2d(72, 24, kernel_size=(1, 1), stride=(1, 1), bias=False)\n",
              "            (1): FrozenBatchNorm2d(24, eps=1e-05)\n",
              "          )\n",
              "        )\n",
              "      )\n",
              "      (4): InvertedResidual(\n",
              "        (block): Sequential(\n",
              "          (0): Conv2dNormActivation(\n",
              "            (0): Conv2d(24, 72, kernel_size=(1, 1), stride=(1, 1), bias=False)\n",
              "            (1): FrozenBatchNorm2d(72, eps=1e-05)\n",
              "            (2): ReLU(inplace=True)\n",
              "          )\n",
              "          (1): Conv2dNormActivation(\n",
              "            (0): Conv2d(72, 72, kernel_size=(5, 5), stride=(2, 2), padding=(2, 2), groups=72, bias=False)\n",
              "            (1): FrozenBatchNorm2d(72, eps=1e-05)\n",
              "            (2): ReLU(inplace=True)\n",
              "          )\n",
              "          (2): SqueezeExcitation(\n",
              "            (avgpool): AdaptiveAvgPool2d(output_size=1)\n",
              "            (fc1): Conv2d(72, 24, kernel_size=(1, 1), stride=(1, 1))\n",
              "            (fc2): Conv2d(24, 72, kernel_size=(1, 1), stride=(1, 1))\n",
              "            (activation): ReLU()\n",
              "            (scale_activation): Hardsigmoid()\n",
              "          )\n",
              "          (3): Conv2dNormActivation(\n",
              "            (0): Conv2d(72, 40, kernel_size=(1, 1), stride=(1, 1), bias=False)\n",
              "            (1): FrozenBatchNorm2d(40, eps=1e-05)\n",
              "          )\n",
              "        )\n",
              "      )\n",
              "      (5): InvertedResidual(\n",
              "        (block): Sequential(\n",
              "          (0): Conv2dNormActivation(\n",
              "            (0): Conv2d(40, 120, kernel_size=(1, 1), stride=(1, 1), bias=False)\n",
              "            (1): FrozenBatchNorm2d(120, eps=1e-05)\n",
              "            (2): ReLU(inplace=True)\n",
              "          )\n",
              "          (1): Conv2dNormActivation(\n",
              "            (0): Conv2d(120, 120, kernel_size=(5, 5), stride=(1, 1), padding=(2, 2), groups=120, bias=False)\n",
              "            (1): FrozenBatchNorm2d(120, eps=1e-05)\n",
              "            (2): ReLU(inplace=True)\n",
              "          )\n",
              "          (2): SqueezeExcitation(\n",
              "            (avgpool): AdaptiveAvgPool2d(output_size=1)\n",
              "            (fc1): Conv2d(120, 32, kernel_size=(1, 1), stride=(1, 1))\n",
              "            (fc2): Conv2d(32, 120, kernel_size=(1, 1), stride=(1, 1))\n",
              "            (activation): ReLU()\n",
              "            (scale_activation): Hardsigmoid()\n",
              "          )\n",
              "          (3): Conv2dNormActivation(\n",
              "            (0): Conv2d(120, 40, kernel_size=(1, 1), stride=(1, 1), bias=False)\n",
              "            (1): FrozenBatchNorm2d(40, eps=1e-05)\n",
              "          )\n",
              "        )\n",
              "      )\n",
              "      (6): InvertedResidual(\n",
              "        (block): Sequential(\n",
              "          (0): Conv2dNormActivation(\n",
              "            (0): Conv2d(40, 120, kernel_size=(1, 1), stride=(1, 1), bias=False)\n",
              "            (1): FrozenBatchNorm2d(120, eps=1e-05)\n",
              "            (2): ReLU(inplace=True)\n",
              "          )\n",
              "          (1): Conv2dNormActivation(\n",
              "            (0): Conv2d(120, 120, kernel_size=(5, 5), stride=(1, 1), padding=(2, 2), groups=120, bias=False)\n",
              "            (1): FrozenBatchNorm2d(120, eps=1e-05)\n",
              "            (2): ReLU(inplace=True)\n",
              "          )\n",
              "          (2): SqueezeExcitation(\n",
              "            (avgpool): AdaptiveAvgPool2d(output_size=1)\n",
              "            (fc1): Conv2d(120, 32, kernel_size=(1, 1), stride=(1, 1))\n",
              "            (fc2): Conv2d(32, 120, kernel_size=(1, 1), stride=(1, 1))\n",
              "            (activation): ReLU()\n",
              "            (scale_activation): Hardsigmoid()\n",
              "          )\n",
              "          (3): Conv2dNormActivation(\n",
              "            (0): Conv2d(120, 40, kernel_size=(1, 1), stride=(1, 1), bias=False)\n",
              "            (1): FrozenBatchNorm2d(40, eps=1e-05)\n",
              "          )\n",
              "        )\n",
              "      )\n",
              "      (7): InvertedResidual(\n",
              "        (block): Sequential(\n",
              "          (0): Conv2dNormActivation(\n",
              "            (0): Conv2d(40, 240, kernel_size=(1, 1), stride=(1, 1), bias=False)\n",
              "            (1): FrozenBatchNorm2d(240, eps=1e-05)\n",
              "            (2): Hardswish()\n",
              "          )\n",
              "          (1): Conv2dNormActivation(\n",
              "            (0): Conv2d(240, 240, kernel_size=(3, 3), stride=(2, 2), padding=(1, 1), groups=240, bias=False)\n",
              "            (1): FrozenBatchNorm2d(240, eps=1e-05)\n",
              "            (2): Hardswish()\n",
              "          )\n",
              "          (2): Conv2dNormActivation(\n",
              "            (0): Conv2d(240, 80, kernel_size=(1, 1), stride=(1, 1), bias=False)\n",
              "            (1): FrozenBatchNorm2d(80, eps=1e-05)\n",
              "          )\n",
              "        )\n",
              "      )\n",
              "      (8): InvertedResidual(\n",
              "        (block): Sequential(\n",
              "          (0): Conv2dNormActivation(\n",
              "            (0): Conv2d(80, 200, kernel_size=(1, 1), stride=(1, 1), bias=False)\n",
              "            (1): FrozenBatchNorm2d(200, eps=1e-05)\n",
              "            (2): Hardswish()\n",
              "          )\n",
              "          (1): Conv2dNormActivation(\n",
              "            (0): Conv2d(200, 200, kernel_size=(3, 3), stride=(1, 1), padding=(1, 1), groups=200, bias=False)\n",
              "            (1): FrozenBatchNorm2d(200, eps=1e-05)\n",
              "            (2): Hardswish()\n",
              "          )\n",
              "          (2): Conv2dNormActivation(\n",
              "            (0): Conv2d(200, 80, kernel_size=(1, 1), stride=(1, 1), bias=False)\n",
              "            (1): FrozenBatchNorm2d(80, eps=1e-05)\n",
              "          )\n",
              "        )\n",
              "      )\n",
              "      (9): InvertedResidual(\n",
              "        (block): Sequential(\n",
              "          (0): Conv2dNormActivation(\n",
              "            (0): Conv2d(80, 184, kernel_size=(1, 1), stride=(1, 1), bias=False)\n",
              "            (1): FrozenBatchNorm2d(184, eps=1e-05)\n",
              "            (2): Hardswish()\n",
              "          )\n",
              "          (1): Conv2dNormActivation(\n",
              "            (0): Conv2d(184, 184, kernel_size=(3, 3), stride=(1, 1), padding=(1, 1), groups=184, bias=False)\n",
              "            (1): FrozenBatchNorm2d(184, eps=1e-05)\n",
              "            (2): Hardswish()\n",
              "          )\n",
              "          (2): Conv2dNormActivation(\n",
              "            (0): Conv2d(184, 80, kernel_size=(1, 1), stride=(1, 1), bias=False)\n",
              "            (1): FrozenBatchNorm2d(80, eps=1e-05)\n",
              "          )\n",
              "        )\n",
              "      )\n",
              "      (10): InvertedResidual(\n",
              "        (block): Sequential(\n",
              "          (0): Conv2dNormActivation(\n",
              "            (0): Conv2d(80, 184, kernel_size=(1, 1), stride=(1, 1), bias=False)\n",
              "            (1): FrozenBatchNorm2d(184, eps=1e-05)\n",
              "            (2): Hardswish()\n",
              "          )\n",
              "          (1): Conv2dNormActivation(\n",
              "            (0): Conv2d(184, 184, kernel_size=(3, 3), stride=(1, 1), padding=(1, 1), groups=184, bias=False)\n",
              "            (1): FrozenBatchNorm2d(184, eps=1e-05)\n",
              "            (2): Hardswish()\n",
              "          )\n",
              "          (2): Conv2dNormActivation(\n",
              "            (0): Conv2d(184, 80, kernel_size=(1, 1), stride=(1, 1), bias=False)\n",
              "            (1): FrozenBatchNorm2d(80, eps=1e-05)\n",
              "          )\n",
              "        )\n",
              "      )\n",
              "      (11): InvertedResidual(\n",
              "        (block): Sequential(\n",
              "          (0): Conv2dNormActivation(\n",
              "            (0): Conv2d(80, 480, kernel_size=(1, 1), stride=(1, 1), bias=False)\n",
              "            (1): FrozenBatchNorm2d(480, eps=1e-05)\n",
              "            (2): Hardswish()\n",
              "          )\n",
              "          (1): Conv2dNormActivation(\n",
              "            (0): Conv2d(480, 480, kernel_size=(3, 3), stride=(1, 1), padding=(1, 1), groups=480, bias=False)\n",
              "            (1): FrozenBatchNorm2d(480, eps=1e-05)\n",
              "            (2): Hardswish()\n",
              "          )\n",
              "          (2): SqueezeExcitation(\n",
              "            (avgpool): AdaptiveAvgPool2d(output_size=1)\n",
              "            (fc1): Conv2d(480, 120, kernel_size=(1, 1), stride=(1, 1))\n",
              "            (fc2): Conv2d(120, 480, kernel_size=(1, 1), stride=(1, 1))\n",
              "            (activation): ReLU()\n",
              "            (scale_activation): Hardsigmoid()\n",
              "          )\n",
              "          (3): Conv2dNormActivation(\n",
              "            (0): Conv2d(480, 112, kernel_size=(1, 1), stride=(1, 1), bias=False)\n",
              "            (1): FrozenBatchNorm2d(112, eps=1e-05)\n",
              "          )\n",
              "        )\n",
              "      )\n",
              "      (12): InvertedResidual(\n",
              "        (block): Sequential(\n",
              "          (0): Conv2dNormActivation(\n",
              "            (0): Conv2d(112, 672, kernel_size=(1, 1), stride=(1, 1), bias=False)\n",
              "            (1): FrozenBatchNorm2d(672, eps=1e-05)\n",
              "            (2): Hardswish()\n",
              "          )\n",
              "          (1): Conv2dNormActivation(\n",
              "            (0): Conv2d(672, 672, kernel_size=(3, 3), stride=(1, 1), padding=(1, 1), groups=672, bias=False)\n",
              "            (1): FrozenBatchNorm2d(672, eps=1e-05)\n",
              "            (2): Hardswish()\n",
              "          )\n",
              "          (2): SqueezeExcitation(\n",
              "            (avgpool): AdaptiveAvgPool2d(output_size=1)\n",
              "            (fc1): Conv2d(672, 168, kernel_size=(1, 1), stride=(1, 1))\n",
              "            (fc2): Conv2d(168, 672, kernel_size=(1, 1), stride=(1, 1))\n",
              "            (activation): ReLU()\n",
              "            (scale_activation): Hardsigmoid()\n",
              "          )\n",
              "          (3): Conv2dNormActivation(\n",
              "            (0): Conv2d(672, 112, kernel_size=(1, 1), stride=(1, 1), bias=False)\n",
              "            (1): FrozenBatchNorm2d(112, eps=1e-05)\n",
              "          )\n",
              "        )\n",
              "      )\n",
              "      (13): InvertedResidual(\n",
              "        (block): Sequential(\n",
              "          (0): Conv2dNormActivation(\n",
              "            (0): Conv2d(112, 672, kernel_size=(1, 1), stride=(1, 1), bias=False)\n",
              "            (1): FrozenBatchNorm2d(672, eps=1e-05)\n",
              "            (2): Hardswish()\n",
              "          )\n",
              "          (1): Conv2dNormActivation(\n",
              "            (0): Conv2d(672, 672, kernel_size=(5, 5), stride=(2, 2), padding=(2, 2), groups=672, bias=False)\n",
              "            (1): FrozenBatchNorm2d(672, eps=1e-05)\n",
              "            (2): Hardswish()\n",
              "          )\n",
              "          (2): SqueezeExcitation(\n",
              "            (avgpool): AdaptiveAvgPool2d(output_size=1)\n",
              "            (fc1): Conv2d(672, 168, kernel_size=(1, 1), stride=(1, 1))\n",
              "            (fc2): Conv2d(168, 672, kernel_size=(1, 1), stride=(1, 1))\n",
              "            (activation): ReLU()\n",
              "            (scale_activation): Hardsigmoid()\n",
              "          )\n",
              "          (3): Conv2dNormActivation(\n",
              "            (0): Conv2d(672, 160, kernel_size=(1, 1), stride=(1, 1), bias=False)\n",
              "            (1): FrozenBatchNorm2d(160, eps=1e-05)\n",
              "          )\n",
              "        )\n",
              "      )\n",
              "      (14): InvertedResidual(\n",
              "        (block): Sequential(\n",
              "          (0): Conv2dNormActivation(\n",
              "            (0): Conv2d(160, 960, kernel_size=(1, 1), stride=(1, 1), bias=False)\n",
              "            (1): FrozenBatchNorm2d(960, eps=1e-05)\n",
              "            (2): Hardswish()\n",
              "          )\n",
              "          (1): Conv2dNormActivation(\n",
              "            (0): Conv2d(960, 960, kernel_size=(5, 5), stride=(1, 1), padding=(2, 2), groups=960, bias=False)\n",
              "            (1): FrozenBatchNorm2d(960, eps=1e-05)\n",
              "            (2): Hardswish()\n",
              "          )\n",
              "          (2): SqueezeExcitation(\n",
              "            (avgpool): AdaptiveAvgPool2d(output_size=1)\n",
              "            (fc1): Conv2d(960, 240, kernel_size=(1, 1), stride=(1, 1))\n",
              "            (fc2): Conv2d(240, 960, kernel_size=(1, 1), stride=(1, 1))\n",
              "            (activation): ReLU()\n",
              "            (scale_activation): Hardsigmoid()\n",
              "          )\n",
              "          (3): Conv2dNormActivation(\n",
              "            (0): Conv2d(960, 160, kernel_size=(1, 1), stride=(1, 1), bias=False)\n",
              "            (1): FrozenBatchNorm2d(160, eps=1e-05)\n",
              "          )\n",
              "        )\n",
              "      )\n",
              "      (15): InvertedResidual(\n",
              "        (block): Sequential(\n",
              "          (0): Conv2dNormActivation(\n",
              "            (0): Conv2d(160, 960, kernel_size=(1, 1), stride=(1, 1), bias=False)\n",
              "            (1): FrozenBatchNorm2d(960, eps=1e-05)\n",
              "            (2): Hardswish()\n",
              "          )\n",
              "          (1): Conv2dNormActivation(\n",
              "            (0): Conv2d(960, 960, kernel_size=(5, 5), stride=(1, 1), padding=(2, 2), groups=960, bias=False)\n",
              "            (1): FrozenBatchNorm2d(960, eps=1e-05)\n",
              "            (2): Hardswish()\n",
              "          )\n",
              "          (2): SqueezeExcitation(\n",
              "            (avgpool): AdaptiveAvgPool2d(output_size=1)\n",
              "            (fc1): Conv2d(960, 240, kernel_size=(1, 1), stride=(1, 1))\n",
              "            (fc2): Conv2d(240, 960, kernel_size=(1, 1), stride=(1, 1))\n",
              "            (activation): ReLU()\n",
              "            (scale_activation): Hardsigmoid()\n",
              "          )\n",
              "          (3): Conv2dNormActivation(\n",
              "            (0): Conv2d(960, 160, kernel_size=(1, 1), stride=(1, 1), bias=False)\n",
              "            (1): FrozenBatchNorm2d(160, eps=1e-05)\n",
              "          )\n",
              "        )\n",
              "      )\n",
              "      (16): Conv2dNormActivation(\n",
              "        (0): Conv2d(160, 960, kernel_size=(1, 1), stride=(1, 1), bias=False)\n",
              "        (1): FrozenBatchNorm2d(960, eps=1e-05)\n",
              "        (2): Hardswish()\n",
              "      )\n",
              "    )\n",
              "    (fpn): FeaturePyramidNetwork(\n",
              "      (inner_blocks): ModuleList(\n",
              "        (0): Conv2dNormActivation(\n",
              "          (0): Conv2d(160, 256, kernel_size=(1, 1), stride=(1, 1))\n",
              "        )\n",
              "        (1): Conv2dNormActivation(\n",
              "          (0): Conv2d(960, 256, kernel_size=(1, 1), stride=(1, 1))\n",
              "        )\n",
              "      )\n",
              "      (layer_blocks): ModuleList(\n",
              "        (0-1): 2 x Conv2dNormActivation(\n",
              "          (0): Conv2d(256, 256, kernel_size=(3, 3), stride=(1, 1), padding=(1, 1))\n",
              "        )\n",
              "      )\n",
              "      (extra_blocks): LastLevelMaxPool()\n",
              "    )\n",
              "  )\n",
              "  (rpn): RegionProposalNetwork(\n",
              "    (anchor_generator): AnchorGenerator()\n",
              "    (head): RPNHead(\n",
              "      (conv): Sequential(\n",
              "        (0): Conv2dNormActivation(\n",
              "          (0): Conv2d(256, 256, kernel_size=(3, 3), stride=(1, 1), padding=(1, 1))\n",
              "          (1): ReLU(inplace=True)\n",
              "        )\n",
              "      )\n",
              "      (cls_logits): Conv2d(256, 15, kernel_size=(1, 1), stride=(1, 1))\n",
              "      (bbox_pred): Conv2d(256, 60, kernel_size=(1, 1), stride=(1, 1))\n",
              "    )\n",
              "  )\n",
              "  (roi_heads): RoIHeads(\n",
              "    (box_roi_pool): MultiScaleRoIAlign(featmap_names=['0', '1', '2', '3'], output_size=(7, 7), sampling_ratio=2)\n",
              "    (box_head): TwoMLPHead(\n",
              "      (fc6): Linear(in_features=12544, out_features=1024, bias=True)\n",
              "      (fc7): Linear(in_features=1024, out_features=1024, bias=True)\n",
              "    )\n",
              "    (box_predictor): FastRCNNPredictor(\n",
              "      (cls_score): Linear(in_features=1024, out_features=5, bias=True)\n",
              "      (bbox_pred): Linear(in_features=1024, out_features=20, bias=True)\n",
              "    )\n",
              "  )\n",
              ")"
            ]
          },
          "metadata": {},
          "execution_count": 8
        }
      ]
    },
    {
      "cell_type": "markdown",
      "id": "10aac7cb",
      "metadata": {
        "papermill": {
          "duration": 0.328574,
          "end_time": "2022-01-24T17:31:00.925099",
          "exception": false,
          "start_time": "2022-01-24T17:31:00.596525",
          "status": "completed"
        },
        "tags": [],
        "id": "10aac7cb"
      },
      "source": [
        "This is our collating function for the train dataloader, it allows us to create batches of data that can be easily pass into the model"
      ]
    },
    {
      "cell_type": "code",
      "execution_count": null,
      "id": "ee7df4db",
      "metadata": {
        "execution": {
          "iopub.execute_input": "2022-01-24T17:31:01.676004Z",
          "iopub.status.busy": "2022-01-24T17:31:01.675239Z",
          "iopub.status.idle": "2022-01-24T17:31:01.676895Z",
          "shell.execute_reply": "2022-01-24T17:31:01.676474Z",
          "shell.execute_reply.started": "2022-01-19T21:16:45.876065Z"
        },
        "papermill": {
          "duration": 0.345662,
          "end_time": "2022-01-24T17:31:01.677020",
          "exception": false,
          "start_time": "2022-01-24T17:31:01.331358",
          "status": "completed"
        },
        "tags": [],
        "id": "ee7df4db"
      },
      "outputs": [],
      "source": [
        "def collate_fn(batch):\n",
        "    return tuple(zip(*batch))"
      ]
    },
    {
      "cell_type": "code",
      "execution_count": null,
      "id": "a2e2a99b",
      "metadata": {
        "execution": {
          "iopub.execute_input": "2022-01-24T17:31:02.340920Z",
          "iopub.status.busy": "2022-01-24T17:31:02.340238Z",
          "iopub.status.idle": "2022-01-24T17:31:02.341957Z",
          "shell.execute_reply": "2022-01-24T17:31:02.341468Z",
          "shell.execute_reply.started": "2022-01-19T21:16:45.99376Z"
        },
        "papermill": {
          "duration": 0.338944,
          "end_time": "2022-01-24T17:31:02.342079",
          "exception": false,
          "start_time": "2022-01-24T17:31:02.003135",
          "status": "completed"
        },
        "tags": [],
        "id": "a2e2a99b"
      },
      "outputs": [],
      "source": [
        "train_loader = DataLoader(train_dataset, batch_size=4, shuffle=True, collate_fn=collate_fn)\n",
        "valid_loader = DataLoader(valid_dataset, batch_size=4, shuffle=True, collate_fn=collate_fn)\n",
        "\n",
        "\n",
        "loaders = {\n",
        "    'train': train_loader,\n",
        "    'valid': valid_loader\n",
        "}"
      ]
    },
    {
      "cell_type": "markdown",
      "id": "c0d8edc9",
      "metadata": {
        "papermill": {
          "duration": 0.424029,
          "end_time": "2022-01-24T17:31:03.251649",
          "exception": false,
          "start_time": "2022-01-24T17:31:02.827620",
          "status": "completed"
        },
        "tags": [],
        "id": "c0d8edc9"
      },
      "source": [
        "The following blocks ensures that the model can take in the data and that it will not crash during training"
      ]
    },
    {
      "cell_type": "code",
      "execution_count": null,
      "id": "05e5ea86",
      "metadata": {
        "execution": {
          "iopub.execute_input": "2022-01-24T17:31:04.288061Z",
          "iopub.status.busy": "2022-01-24T17:31:04.287179Z",
          "iopub.status.idle": "2022-01-24T17:31:08.301902Z",
          "shell.execute_reply": "2022-01-24T17:31:08.301431Z",
          "shell.execute_reply.started": "2022-01-19T21:16:47.32738Z"
        },
        "papermill": {
          "duration": 4.351228,
          "end_time": "2022-01-24T17:31:08.302066",
          "exception": false,
          "start_time": "2022-01-24T17:31:03.950838",
          "status": "completed"
        },
        "tags": [],
        "id": "05e5ea86"
      },
      "outputs": [],
      "source": [
        "images,targets = next(iter(train_loader))\n",
        "images = list(image for image in images)\n",
        "targets = [{k:v for k, v in t.items()} for t in targets]\n",
        "output = model(images, targets) # just make sure this runs without error"
      ]
    },
    {
      "cell_type": "code",
      "execution_count": null,
      "id": "22c4e788",
      "metadata": {
        "execution": {
          "iopub.execute_input": "2022-01-24T17:31:09.009628Z",
          "iopub.status.busy": "2022-01-24T17:31:09.008766Z",
          "iopub.status.idle": "2022-01-24T17:31:09.010617Z",
          "shell.execute_reply": "2022-01-24T17:31:09.011032Z",
          "shell.execute_reply.started": "2022-01-19T21:16:51.529527Z"
        },
        "papermill": {
          "duration": 0.336734,
          "end_time": "2022-01-24T17:31:09.011174",
          "exception": false,
          "start_time": "2022-01-24T17:31:08.674440",
          "status": "completed"
        },
        "tags": [],
        "id": "22c4e788"
      },
      "outputs": [],
      "source": [
        "device = torch.device('cuda') if torch.cuda.is_available() else torch.device('cpu')"
      ]
    },
    {
      "cell_type": "markdown",
      "id": "d0fdd838",
      "metadata": {
        "papermill": {
          "duration": 0.325872,
          "end_time": "2022-01-24T17:31:13.142573",
          "exception": false,
          "start_time": "2022-01-24T17:31:12.816701",
          "status": "completed"
        },
        "tags": [],
        "id": "d0fdd838"
      },
      "source": [
        "## Optimizer\n",
        "\n",
        "Here, we define the optimizer. If you wish, you can also define the LR Scheduler, but it is not necessary for this notebook since our dataset is so small.\n",
        "\n",
        "> Note, there are a few bugs with the current way `lr_scheduler` is implemented. If you wish to use the scheduler, you will have to fix those bugs"
      ]
    },
    {
      "cell_type": "markdown",
      "id": "ae0beee2",
      "metadata": {
        "papermill": {
          "duration": 0.356549,
          "end_time": "2022-01-24T17:31:15.469287",
          "exception": false,
          "start_time": "2022-01-24T17:31:15.112738",
          "status": "completed"
        },
        "tags": [],
        "id": "ae0beee2"
      },
      "source": [
        "## Training\n",
        "\n",
        "The following is a function that will train the model for one epoch. Torchvision Object Detections models have a loss function built in, and it will calculate the loss automatically if you pass in the `inputs` and `targets`"
      ]
    },
    {
      "cell_type": "code",
      "source": [
        "import sys"
      ],
      "metadata": {
        "id": "SAIhyZsYyefo"
      },
      "id": "SAIhyZsYyefo",
      "execution_count": null,
      "outputs": []
    },
    {
      "cell_type": "code",
      "execution_count": null,
      "id": "f14b2849",
      "metadata": {
        "execution": {
          "iopub.execute_input": "2022-01-24T17:31:16.165136Z",
          "iopub.status.busy": "2022-01-24T17:31:16.164404Z",
          "iopub.status.idle": "2022-01-24T17:31:16.167068Z",
          "shell.execute_reply": "2022-01-24T17:31:16.166576Z",
          "shell.execute_reply.started": "2022-01-19T21:17:07.899043Z"
        },
        "papermill": {
          "duration": 0.347589,
          "end_time": "2022-01-24T17:31:16.167249",
          "exception": false,
          "start_time": "2022-01-24T17:31:15.819660",
          "status": "completed"
        },
        "tags": [],
        "id": "f14b2849"
      },
      "outputs": [],
      "source": [
        "def train(model, optimizer, loaders, device, epochs, scheduler=None):\n",
        "\n",
        "    model.to(device)\n",
        "    model.train()\n",
        "\n",
        "    history_losses = {'train': [], 'valid': []}\n",
        "    for e in range(epochs):\n",
        "        for stage, cur_loader in loaders.items():\n",
        "\n",
        "            all_losses = []\n",
        "            all_losses_dict = []\n",
        "\n",
        "            for images, targets in tqdm(cur_loader):\n",
        "                images = list(image.to(device) for image in images)\n",
        "                targets = [{k: torch.tensor(v).to(device) for k, v in t.items()} for t in targets]\n",
        "\n",
        "                if stage == 'train':\n",
        "                    loss_dict = model(images, targets) # the model computes the loss automatically if we pass in targets\n",
        "\n",
        "                    losses = sum(loss for loss in loss_dict.values())\n",
        "                    loss_dict_append = {k: v.item() for k, v in loss_dict.items()}\n",
        "                    loss_value = losses.item()\n",
        "\n",
        "                    all_losses.append(loss_value)\n",
        "                    all_losses_dict.append(loss_dict_append)\n",
        "                    if not math.isfinite(loss_value):\n",
        "                          print(f\"Loss is {loss_value}, stopping trainig\") # train if loss becomes infinity\n",
        "                          print(loss_dict)\n",
        "                          sys.exit(1)\n",
        "\n",
        "                    optimizer.zero_grad()\n",
        "                    losses.backward()\n",
        "                    optimizer.step()\n",
        "                else:\n",
        "                    with torch.no_grad():\n",
        "                        preds = model(images)\n",
        "\n",
        "\n",
        "\n",
        "\n",
        "                        loss_dict = model(images, targets) # the model computes the loss automatically if we pass in targets\n",
        "                        losses = sum(loss for loss in loss_dict.values())\n",
        "                        loss_dict_append = {k: v.item() for k, v in loss_dict.items()}\n",
        "                        loss_value = losses.item()\n",
        "\n",
        "                        all_losses.append(loss_value)\n",
        "                        all_losses_dict.append(loss_dict_append)\n",
        "                        if scheduler:\n",
        "                            scheduler.step(losses)\n",
        "                        if not math.isfinite(loss_value):\n",
        "                              print(f\"Loss is {loss_value}, stopping trainig\") # train if loss becomes infinity\n",
        "                              print(loss_dict)\n",
        "                              sys.exit(1)\n",
        "\n",
        "\n",
        "            cur_mean_loss = np.mean(all_losses)/len(loss_dict)\n",
        "            all_losses_dict = pd.DataFrame(all_losses_dict)\n",
        "            loss_cl = all_losses_dict['loss_classifier'].mean()\n",
        "            loss_box = all_losses_dict['loss_box_reg'].mean()\n",
        "            loss_rgn_box = all_losses_dict['loss_rpn_box_reg'].mean()\n",
        "            loss_obj = all_losses_dict['loss_objectness'].mean()\n",
        "\n",
        "            history_losses[stage].append([cur_mean_loss, loss_cl, loss_box, loss_rgn_box, loss_obj])\n",
        "\n",
        "            if stage == 'valid':\n",
        "                print(\"Epoch {}, lr: {:.6f}, mean_loss: {:.6f}, loss_classifier: {:.6f}, loss_box: {:.6f}, loss_rpn_box: {:.6f}, loss_object: {:.6f}\".format(\n",
        "                    e, optimizer.param_groups[0]['lr'], cur_mean_loss, loss_cl, loss_box, loss_rgn_box, loss_obj\n",
        "                ))\n",
        "    return losses"
      ]
    },
    {
      "cell_type": "code",
      "source": [
        "def calculate_metrics(pred_boxes, true_boxes, iou_threshold=0.5):\n",
        "    \"\"\"Calculate Precision, Recall for single IoU threshold\"\"\"\n",
        "    tp, fp, fn = 0, 0, 0\n",
        "\n",
        "    for pred_box in pred_boxes:\n",
        "        max_iou = 0.0\n",
        "        for true_box in true_boxes:\n",
        "            iou = calculate_iou(pred_box, true_box)\n",
        "            max_iou = max(max_iou, iou)\n",
        "\n",
        "        if max_iou >= iou_threshold:\n",
        "            tp += 1\n",
        "        else:\n",
        "            fp += 1\n",
        "\n",
        "    fn = len(true_boxes) - tp\n",
        "    precision = tp / (tp + fp + 1e-6)\n",
        "    recall = tp / (tp + fn + 1e-6)\n",
        "    return precision, recall\n",
        "\n",
        "def calculate_iou(boxA, boxB):\n",
        "    \"\"\"Calculate Intersection over Union (IoU)\"\"\"\n",
        "    xA = max(boxA[0], boxB[0])\n",
        "    yA = max(boxA[1], boxB[1])\n",
        "    xB = min(boxA[2], boxB[2])\n",
        "    yB = min(boxA[3], boxB[3])\n",
        "\n",
        "    inter_area = max(0, xB - xA) * max(0, yB - yA)\n",
        "    boxA_area = (boxA[2] - boxA[0]) * (boxA[3] - boxA[1])\n",
        "    boxB_area = (boxB[2] - boxB[0]) * (boxB[3] - boxB[1])\n",
        "\n",
        "    return inter_area / (boxA_area + boxB_area - inter_area + 1e-6)"
      ],
      "metadata": {
        "id": "5VxYd1qPHNSS"
      },
      "id": "5VxYd1qPHNSS",
      "execution_count": null,
      "outputs": []
    },
    {
      "cell_type": "markdown",
      "id": "59aab39a",
      "metadata": {
        "papermill": {
          "duration": 0.328716,
          "end_time": "2022-01-24T17:31:16.821063",
          "exception": false,
          "start_time": "2022-01-24T17:31:16.492347",
          "status": "completed"
        },
        "tags": [],
        "id": "59aab39a"
      },
      "source": [
        "10 Epochs should be enough to train this model for a high accuracy"
      ]
    },
    {
      "cell_type": "code",
      "execution_count": null,
      "id": "1d0a17b2",
      "metadata": {
        "execution": {
          "iopub.execute_input": "2022-01-24T17:31:14.094748Z",
          "iopub.status.busy": "2022-01-24T17:31:14.092985Z",
          "iopub.status.idle": "2022-01-24T17:31:14.095428Z",
          "shell.execute_reply": "2022-01-24T17:31:14.095829Z",
          "shell.execute_reply.started": "2022-01-19T21:16:51.573954Z"
        },
        "papermill": {
          "duration": 0.607491,
          "end_time": "2022-01-24T17:31:14.095997",
          "exception": false,
          "start_time": "2022-01-24T17:31:13.488506",
          "status": "completed"
        },
        "tags": [],
        "id": "1d0a17b2"
      },
      "outputs": [],
      "source": [
        "model = models.detection.fasterrcnn_mobilenet_v3_large_fpn(pretrained=True)\n",
        "in_features = model.roi_heads.box_predictor.cls_score.in_features # we need to change the head\n",
        "model.roi_heads.box_predictor = models.detection.faster_rcnn.FastRCNNPredictor(in_features, n_classes)\n",
        "\n",
        "params = [p for p in model.parameters() if p.requires_grad]"
      ]
    },
    {
      "cell_type": "code",
      "source": [
        "optimizer = torch.optim.Adam(params, lr=1e-2)\n",
        "# optimizer = torch.optim.SGD(params, lr=0.01, momentum=0.9, nesterov=True, weight_decay=1e-4)\n",
        "\n",
        "# scheduler = torch.optim.lr_scheduler.ReduceLROnPlateau(optimizer, 'min')\n",
        "# lr_scheduler = torch.optim.lr_scheduler.MultiStepLR(optimizer, milestones=[16, 22], gamma=0.1) # lr scheduler"
      ],
      "metadata": {
        "id": "gVRbeEbTLcME"
      },
      "id": "gVRbeEbTLcME",
      "execution_count": null,
      "outputs": []
    },
    {
      "cell_type": "code",
      "execution_count": null,
      "id": "88c0da70",
      "metadata": {
        "execution": {
          "iopub.execute_input": "2022-01-24T17:31:17.500893Z",
          "iopub.status.busy": "2022-01-24T17:31:17.499656Z",
          "iopub.status.idle": "2022-01-24T17:34:19.828669Z",
          "shell.execute_reply": "2022-01-24T17:34:19.828199Z",
          "shell.execute_reply.started": "2022-01-19T21:17:09.340804Z"
        },
        "papermill": {
          "duration": 182.678117,
          "end_time": "2022-01-24T17:34:19.828802",
          "exception": false,
          "start_time": "2022-01-24T17:31:17.150685",
          "status": "completed"
        },
        "tags": [],
        "colab": {
          "base_uri": "https://localhost:8080/"
        },
        "id": "88c0da70",
        "outputId": "f891e08b-4807-496b-e08e-1ca163119233"
      },
      "outputs": [
        {
          "output_type": "stream",
          "name": "stderr",
          "text": [
            " 24%|██▍       | 45/189 [00:28<01:33,  1.54it/s]"
          ]
        }
      ],
      "source": [
        "num_epochs=50\n",
        "\n",
        "losses = train(model, optimizer, loaders, device, num_epochs)"
      ]
    },
    {
      "cell_type": "code",
      "source": [
        "torch.save(model.state_dict(), '/content/ws.pth')"
      ],
      "metadata": {
        "id": "blGkJWpuX3Oe"
      },
      "id": "blGkJWpuX3Oe",
      "execution_count": null,
      "outputs": []
    },
    {
      "cell_type": "markdown",
      "id": "2b9075bb",
      "metadata": {
        "papermill": {
          "duration": 0.636954,
          "end_time": "2022-01-24T17:34:22.674593",
          "exception": false,
          "start_time": "2022-01-24T17:34:22.037639",
          "status": "completed"
        },
        "tags": [],
        "id": "2b9075bb"
      },
      "source": [
        "## Trying on sample Images\n",
        "\n",
        "This is the inference code for the model. First, we set the model to evaluation mode and clear the GPU Cache. We also load a test dataset, so that we can use fresh images that the model hasn't seen."
      ]
    },
    {
      "cell_type": "code",
      "source": [
        "load_path = '/content/ws_200_epochs.pth'\n",
        "model.load_state_dict(torch.load(load_path, weights_only=True, map_location=torch.device('cpu')))"
      ],
      "metadata": {
        "colab": {
          "base_uri": "https://localhost:8080/"
        },
        "id": "SxHknXYti6kg",
        "outputId": "db0251ef-981b-4c29-e80f-db559778db11"
      },
      "id": "SxHknXYti6kg",
      "execution_count": null,
      "outputs": [
        {
          "output_type": "execute_result",
          "data": {
            "text/plain": [
              "<All keys matched successfully>"
            ]
          },
          "metadata": {},
          "execution_count": 14
        }
      ]
    },
    {
      "cell_type": "code",
      "source": [
        "def test_transform():\n",
        "    transform = A.Compose([\n",
        "            A.Resize(600, 600),\n",
        "            ToTensorV2(),\n",
        "    ])\n",
        "    return transform"
      ],
      "metadata": {
        "id": "p6Dr-_ctZDZf"
      },
      "id": "p6Dr-_ctZDZf",
      "execution_count": null,
      "outputs": []
    },
    {
      "cell_type": "code",
      "source": [
        "def predict_image(model, image_path, confidence_threshold=0.3):\n",
        "    model.eval()\n",
        "    image = cv2.imread(image_path)\n",
        "    image = cv2.cvtColor(image, cv2.COLOR_BGR2RGB)\n",
        "    tr = test_transform()\n",
        "    image = tr(image=np.array(image))\n",
        "\n",
        "    image = image['image']\n",
        "    image = image.div(255)\n",
        "    with torch.no_grad():\n",
        "        predictions = model([image])\n",
        "\n",
        "\n",
        "    boxes = predictions[0]['boxes'].cpu().numpy()\n",
        "    scores = predictions[0]['scores'].cpu().numpy()\n",
        "    labels = predictions[0]['labels'].cpu().numpy()\n",
        "\n",
        "    keep = scores >= confidence_threshold\n",
        "    return boxes[keep], scores[keep], labels[keep]"
      ],
      "metadata": {
        "id": "sPUrzJJ1VgAa"
      },
      "id": "sPUrzJJ1VgAa",
      "execution_count": null,
      "outputs": []
    },
    {
      "cell_type": "code",
      "source": [
        "def plot_predictions(image_path, boxes, scores, labels, class_names):\n",
        "    image = cv2.imread(image_path)\n",
        "    image = cv2.cvtColor(image, cv2.COLOR_BGR2RGB)\n",
        "\n",
        "    for box, score, label in zip(boxes, scores, labels):\n",
        "        if score < 0.5:\n",
        "            continue\n",
        "\n",
        "        xmin, ymin, xmax, ymax = map(int, box)\n",
        "        cv2.rectangle(image, (xmin, ymin), (xmax, ymax), (0, 255, 0), 2)\n",
        "        text = f\"{class_names[label]}: {score:.2f}\"\n",
        "        cv2.putText(image, text, (xmin, ymin-10),\n",
        "                   cv2.FONT_HERSHEY_SIMPLEX, 0.5, (255,0,0), 2)\n",
        "\n",
        "    plt.figure(figsize=(12, 8))\n",
        "    plt.imshow(image)\n",
        "    plt.axis('off')\n",
        "    plt.show()"
      ],
      "metadata": {
        "id": "HAj0dz4cViIl"
      },
      "id": "HAj0dz4cViIl",
      "execution_count": null,
      "outputs": []
    },
    {
      "cell_type": "code",
      "source": [
        "TEST_FOLDER = \"/content/Wind Turbine damage/test\"\n",
        "CLASS_NAMES = [\"corrosion\", \"lightning\", \"lightning receptor\", \"missing teeth\", \"patch\"]  # классы\n",
        "\n",
        "\n",
        "dic_pred = {}\n",
        "\n",
        "for filename in tqdm(os.listdir(TEST_FOLDER)):\n",
        "    if filename.lower().endswith(('.png', '.jpg', '.jpeg')):\n",
        "        image_path = os.path.join(TEST_FOLDER, filename)\n",
        "\n",
        "        boxes, scores, labels = predict_image(model, image_path)\n",
        "\n",
        "        cur_pred = []\n",
        "\n",
        "        for i in range(len(boxes)):\n",
        "            # print(labels[i])\n",
        "            label = CLASS_NAMES[labels[i]-1]\n",
        "            x_min = float(boxes[i][0])\n",
        "            y_min = float(boxes[i][1])\n",
        "            width = float(boxes[i][2] - x_min)\n",
        "            height = float(boxes[i][3] - y_min)\n",
        "            score = float(scores[i])\n",
        "\n",
        "            cur_pred.append([label, x_min, y_min, width, height, score])\n",
        "\n",
        "        dic_pred[filename] = cur_pred\n",
        "\n",
        "        # plot_predictions(image_path, boxes, scores, labels, CLASS_NAMES)\n",
        "\n",
        "        # if SAVE_RESULTS:\n",
        "        #     result_image = cv2.cvtColor(plt.gcf().canvas.renderer.buffer_rgba(), cv2.COLOR_RGBA2BGR)\n",
        "        #     cv2.imwrite(f\"results/{filename}\", result_image)"
      ],
      "metadata": {
        "colab": {
          "base_uri": "https://localhost:8080/"
        },
        "id": "bLa6rYQIVk11",
        "outputId": "59aeb206-fc11-410c-a470-c94c0dcc713b"
      },
      "id": "bLa6rYQIVk11",
      "execution_count": null,
      "outputs": [
        {
          "output_type": "stream",
          "name": "stderr",
          "text": [
            "100%|██████████| 151/151 [03:43<00:00,  1.48s/it]\n"
          ]
        }
      ]
    },
    {
      "cell_type": "code",
      "source": [
        "ex_sub = pd.read_csv('/content/sample_submission_with_errors.csv')\n",
        "df_submit = ex_sub.copy()\n",
        "\n",
        "for i, row in df_submit.iterrows():\n",
        "    cur_name = row['image_id']\n",
        "    upd_val = dic_pred[cur_name]\n",
        "    df_submit.at[i, 'objects'] = upd_val\n",
        "\n",
        "df_submit.to_csv('submit___200___epochs.csv', index=False, )"
      ],
      "metadata": {
        "id": "k8phIWLoliFE"
      },
      "id": "k8phIWLoliFE",
      "execution_count": null,
      "outputs": []
    },
    {
      "cell_type": "code",
      "execution_count": null,
      "id": "76454ced",
      "metadata": {
        "execution": {
          "iopub.execute_input": "2022-01-24T17:34:29.373107Z",
          "iopub.status.busy": "2022-01-24T17:34:29.372195Z",
          "iopub.status.idle": "2022-01-24T17:34:29.840156Z",
          "shell.execute_reply": "2022-01-24T17:34:29.840579Z",
          "shell.execute_reply.started": "2022-01-19T21:21:13.850307Z"
        },
        "papermill": {
          "duration": 1.169655,
          "end_time": "2022-01-24T17:34:29.840728",
          "exception": false,
          "start_time": "2022-01-24T17:34:28.671073",
          "status": "completed"
        },
        "tags": [],
        "id": "76454ced"
      },
      "outputs": [],
      "source": [
        "fig = plt.figure(figsize=(14, 10))\n",
        "plt.imshow(draw_bounding_boxes(img_int,\n",
        "    pred['boxes'][pred['scores'] > 0.8],\n",
        "    [classes[i] for i in pred['labels'][pred['scores'] > 0.8].tolist()], width=4\n",
        ").permute(1, 2, 0))"
      ]
    }
  ],
  "metadata": {
    "kernelspec": {
      "display_name": "Python 3",
      "name": "python3"
    },
    "language_info": {
      "codemirror_mode": {
        "name": "ipython",
        "version": 3
      },
      "file_extension": ".py",
      "mimetype": "text/x-python",
      "name": "python",
      "nbconvert_exporter": "python",
      "pygments_lexer": "ipython3",
      "version": "3.7.12"
    },
    "papermill": {
      "default_parameters": {},
      "duration": 361.810684,
      "end_time": "2022-01-24T17:34:31.817483",
      "environment_variables": {},
      "exception": null,
      "input_path": "__notebook__.ipynb",
      "output_path": "__notebook__.ipynb",
      "parameters": {},
      "start_time": "2022-01-24T17:28:30.006799",
      "version": "2.3.3"
    },
    "colab": {
      "provenance": []
    }
  },
  "nbformat": 4,
  "nbformat_minor": 5
}
